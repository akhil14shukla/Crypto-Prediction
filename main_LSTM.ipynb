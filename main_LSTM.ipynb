{
  "nbformat": 4,
  "nbformat_minor": 5,
  "metadata": {
    "kernelspec": {
      "name": "python3",
      "display_name": "Python 3.8.10 64-bit"
    },
    "language_info": {
      "codemirror_mode": {
        "name": "ipython",
        "version": 3
      },
      "file_extension": ".py",
      "mimetype": "text/x-python",
      "name": "python",
      "nbconvert_exporter": "python",
      "pygments_lexer": "ipython3",
      "version": "3.8.10"
    },
    "interpreter": {
      "hash": "916dbcbb3f70747c44a77c7bcd40155683ae19c65e1c03b4aa3499c5328201f1"
    },
    "colab": {
      "name": "main_LSTM.ipynb",
      "provenance": []
    },
    "accelerator": "TPU"
  },
  "cells": [
    {
      "cell_type": "markdown",
      "metadata": {
        "id": "WrjMMA2H-CNJ"
      },
      "source": [
        "# Crypto-currency Price Prediction using LSTM (Long-Short Term Memory) Model\n",
        "\n",
        "We will **predict the price of the next day using the data of past few days**(exact number of past few days depends on the data). <br>Suppose we find that our price is highly correlated to the prices of last 7 days. Then, we will use the price of last 7 days to predict the price of tomorrow/next day.<br>\n",
        "But for predicting the price of day after tomorrow, we will be needing the price of tomorrow. This problem is not considered in this notebook, cause this notebook was created with the aim to predict the price of tomorrow.<br><br>\n",
        "But we can still solve this problem using two ways:<br><br>\n",
        "1. Directly training the model to predict the price of day after tomorrow rather than tomorrow, using the past data. <br><br>\n",
        "2. Using the predicted price of tomorrow as historical data, and using it to predict the price of day after tomorrow, and adding this to historical dataset, to predict the price of next day, and so on.<br><br>\n",
        "\n",
        "_Notes - _<br>\n",
        "_1. The error will be a bit greater in the above methods_<br>\n",
        "_2. Past data and historical data are used synonymously_\n"
      ],
      "id": "WrjMMA2H-CNJ"
    },
    {
      "cell_type": "markdown",
      "metadata": {
        "id": "LMUsqt_X-CNK"
      },
      "source": [
        "Notebook is divided into Sections :<br>\n",
        "1. Data Import<br>\n",
        "2. Understanding the distribution of the data<br>\n",
        "3. Data Transformation<br>\n",
        "4. Model Building and Training<br>\n",
        "6. Cross-Validating the model<br><br>\n",
        "7. Notes<br>\n",
        "8. Playground"
      ],
      "id": "LMUsqt_X-CNK"
    },
    {
      "cell_type": "code",
      "metadata": {
        "id": "d62efca1",
        "colab": {
          "base_uri": "https://localhost:8080/"
        },
        "outputId": "f072f18b-17bb-4da5-9af0-6274eb9697a9"
      },
      "source": [
        "# Importing the required libraries\n",
        "import pandas  as pd \n",
        "import numpy as np\n",
        "import matplotlib.pyplot as plt \n",
        "import pandas_datareader as web\n",
        "import datetime as dt \n",
        "!pip install yfinance\n",
        "import yfinance as yf\n",
        "!pip install sktime\n",
        "import sktime\n",
        "import pandas_datareader.data as pdr\n",
        "import tensorflow as tf\n",
        "from sklearn.preprocessing import MinMaxScaler, PowerTransformer\n",
        "from tensorflow.keras.layers import Dense, Dropout, LSTM, LayerNormalization,Activation, BatchNormalization\n",
        "from tensorflow.keras.models import Sequential\n",
        "from statsmodels.tsa.stattools import adfuller\n",
        "from tensorflow.keras import backend\n",
        "# from pycaret.regression import *"
      ],
      "id": "d62efca1",
      "execution_count": 61,
      "outputs": [
        {
          "output_type": "stream",
          "text": [
            "Requirement already satisfied: yfinance in /usr/local/lib/python3.7/dist-packages (0.1.63)\n",
            "Requirement already satisfied: numpy>=1.15 in /usr/local/lib/python3.7/dist-packages (from yfinance) (1.19.5)\n",
            "Requirement already satisfied: multitasking>=0.0.7 in /usr/local/lib/python3.7/dist-packages (from yfinance) (0.0.9)\n",
            "Requirement already satisfied: pandas>=0.24 in /usr/local/lib/python3.7/dist-packages (from yfinance) (1.1.5)\n",
            "Requirement already satisfied: lxml>=4.5.1 in /usr/local/lib/python3.7/dist-packages (from yfinance) (4.6.3)\n",
            "Requirement already satisfied: requests>=2.20 in /usr/local/lib/python3.7/dist-packages (from yfinance) (2.23.0)\n",
            "Requirement already satisfied: pytz>=2017.2 in /usr/local/lib/python3.7/dist-packages (from pandas>=0.24->yfinance) (2018.9)\n",
            "Requirement already satisfied: python-dateutil>=2.7.3 in /usr/local/lib/python3.7/dist-packages (from pandas>=0.24->yfinance) (2.8.1)\n",
            "Requirement already satisfied: idna<3,>=2.5 in /usr/local/lib/python3.7/dist-packages (from requests>=2.20->yfinance) (2.10)\n",
            "Requirement already satisfied: chardet<4,>=3.0.2 in /usr/local/lib/python3.7/dist-packages (from requests>=2.20->yfinance) (3.0.4)\n",
            "Requirement already satisfied: certifi>=2017.4.17 in /usr/local/lib/python3.7/dist-packages (from requests>=2.20->yfinance) (2021.5.30)\n",
            "Requirement already satisfied: urllib3!=1.25.0,!=1.25.1,<1.26,>=1.21.1 in /usr/local/lib/python3.7/dist-packages (from requests>=2.20->yfinance) (1.24.3)\n",
            "Requirement already satisfied: six>=1.5 in /usr/local/lib/python3.7/dist-packages (from python-dateutil>=2.7.3->pandas>=0.24->yfinance) (1.15.0)\n",
            "Requirement already satisfied: sktime in /usr/local/lib/python3.7/dist-packages (0.7.0)\n",
            "Requirement already satisfied: numba>=0.50 in /usr/local/lib/python3.7/dist-packages (from sktime) (0.51.2)\n",
            "Requirement already satisfied: pandas>=1.1.0 in /usr/local/lib/python3.7/dist-packages (from sktime) (1.1.5)\n",
            "Requirement already satisfied: wheel in /usr/local/lib/python3.7/dist-packages (from sktime) (0.36.2)\n",
            "Requirement already satisfied: statsmodels>=0.12.1 in /usr/local/lib/python3.7/dist-packages (from sktime) (0.12.2)\n",
            "Requirement already satisfied: numpy>=1.19.0 in /usr/local/lib/python3.7/dist-packages (from sktime) (1.19.5)\n",
            "Requirement already satisfied: scikit-learn>=0.24.0 in /usr/local/lib/python3.7/dist-packages (from sktime) (0.24.2)\n",
            "Requirement already satisfied: setuptools in /usr/local/lib/python3.7/dist-packages (from numba>=0.50->sktime) (57.2.0)\n",
            "Requirement already satisfied: llvmlite<0.35,>=0.34.0.dev0 in /usr/local/lib/python3.7/dist-packages (from numba>=0.50->sktime) (0.34.0)\n",
            "Requirement already satisfied: pytz>=2017.2 in /usr/local/lib/python3.7/dist-packages (from pandas>=1.1.0->sktime) (2018.9)\n",
            "Requirement already satisfied: python-dateutil>=2.7.3 in /usr/local/lib/python3.7/dist-packages (from pandas>=1.1.0->sktime) (2.8.1)\n",
            "Requirement already satisfied: scipy>=1.1 in /usr/local/lib/python3.7/dist-packages (from statsmodels>=0.12.1->sktime) (1.4.1)\n",
            "Requirement already satisfied: patsy>=0.5 in /usr/local/lib/python3.7/dist-packages (from statsmodels>=0.12.1->sktime) (0.5.1)\n",
            "Requirement already satisfied: joblib>=0.11 in /usr/local/lib/python3.7/dist-packages (from scikit-learn>=0.24.0->sktime) (1.0.1)\n",
            "Requirement already satisfied: threadpoolctl>=2.0.0 in /usr/local/lib/python3.7/dist-packages (from scikit-learn>=0.24.0->sktime) (2.2.0)\n",
            "Requirement already satisfied: six>=1.5 in /usr/local/lib/python3.7/dist-packages (from python-dateutil>=2.7.3->pandas>=1.1.0->sktime) (1.15.0)\n"
          ],
          "name": "stdout"
        }
      ]
    },
    {
      "cell_type": "markdown",
      "metadata": {
        "id": "Adg3eNPA-CNL"
      },
      "source": [
        "## Data Import"
      ],
      "id": "Adg3eNPA-CNL"
    },
    {
      "cell_type": "markdown",
      "metadata": {
        "id": "YvDLCQVW-CNL"
      },
      "source": [
        "Choose the cryptocurrency we want to predict, and the period of time whose data we want to collect."
      ],
      "id": "YvDLCQVW-CNL"
    },
    {
      "cell_type": "code",
      "metadata": {
        "id": "S8S2ir7j-CNM"
      },
      "source": [
        "crypto_currency = 'BNB'\n",
        "against_currency ='USD'\n",
        "start = dt.datetime(2021,1,1)\n",
        "end = dt.datetime.now()-dt.timedelta(days=50)"
      ],
      "id": "S8S2ir7j-CNM",
      "execution_count": 62,
      "outputs": []
    },
    {
      "cell_type": "markdown",
      "metadata": {
        "id": "mktQL7eJ-CNM"
      },
      "source": [
        "Extracting the above chosen data using Yahoo-Finance API"
      ],
      "id": "mktQL7eJ-CNM"
    },
    {
      "cell_type": "code",
      "metadata": {
        "id": "wuJNGma5-CNM",
        "colab": {
          "base_uri": "https://localhost:8080/"
        },
        "outputId": "6d93ffc5-76b9-4510-9f22-043f984c76bf"
      },
      "source": [
        "yf.pdr_override()\n",
        "data = pdr.get_data_yahoo(\"BNB-USD\", start, end)\n",
        "# Importing the extracted data in PyCaret\n",
        "# df = setup(data,target = \"Close\",ignore_features=[\"Volume\",\"Adj Close\"], use_gpu=True,imputation_type='iterative', feature_ratio=True, feature_interaction=True, normalize=True, transform_target=True)           "
      ],
      "id": "wuJNGma5-CNM",
      "execution_count": 63,
      "outputs": [
        {
          "output_type": "stream",
          "text": [
            "\r[*********************100%***********************]  1 of 1 completed\n"
          ],
          "name": "stdout"
        }
      ]
    },
    {
      "cell_type": "markdown",
      "metadata": {
        "id": "PzaBlzG1-CNN"
      },
      "source": [
        "## Understaning the distribution of the data"
      ],
      "id": "PzaBlzG1-CNN"
    },
    {
      "cell_type": "code",
      "metadata": {
        "id": "M8IFUrUg-CNN"
      },
      "source": [
        "# Distribution of our target variable -> Close\n",
        "# from scipy.special import boxcox1p\n",
        "# plt.plot(np.array(final_data[\"Close\"]))"
      ],
      "id": "M8IFUrUg-CNN",
      "execution_count": 64,
      "outputs": []
    },
    {
      "cell_type": "markdown",
      "metadata": {
        "id": "jCWLAMq8-CNN"
      },
      "source": [
        "### Checking if our series is affected by past values"
      ],
      "id": "jCWLAMq8-CNN"
    },
    {
      "cell_type": "code",
      "metadata": {
        "id": "iHdeLaPl-CNO",
        "colab": {
          "base_uri": "https://localhost:8080/",
          "height": 809
        },
        "outputId": "1dc5cfe6-7d44-41a7-85d9-d0a21bc8c74b"
      },
      "source": [
        "\n",
        "from statsmodels.graphics.tsaplots import plot_acf, plot_pacf\n",
        "plot_acf(data['Close'], lags=20)\n",
        "plot_pacf(data['Close'], lags=20)"
      ],
      "id": "iHdeLaPl-CNO",
      "execution_count": 65,
      "outputs": [
        {
          "output_type": "execute_result",
          "data": {
            "image/png": "[encoded data removed]",
            "text/plain": [
              "<Figure size 432x288 with 1 Axes>"
            ]
          },
          "metadata": {
            "tags": []
          },
          "execution_count": 65
        },
        {
          "output_type": "display_data",
          "data": {
            "image/png": "[encoded data removed]",
            "text/plain": [
              "<Figure size 432x288 with 1 Axes>"
            ]
          },
          "metadata": {
            "tags": [],
            "needs_background": "light"
          }
        },
        {
          "output_type": "display_data",
          "data": {
            "image/png": "[encoded data removed]",
            "text/plain": [
              "<Figure size 432x288 with 1 Axes>"
            ]
          },
          "metadata": {
            "tags": [],
            "needs_background": "light"
          }
        }
      ]
    },
    {
      "cell_type": "markdown",
      "metadata": {
        "id": "XDap_pnA-CNO"
      },
      "source": [
        "From the above plots, lags are highly correlated to the value at hand. This will be useful while preparing the data for the model, and we will pass tha value, based on the above Observation."
      ],
      "id": "XDap_pnA-CNO"
    },
    {
      "cell_type": "markdown",
      "metadata": {
        "id": "hCtcelem-CNO"
      },
      "source": [
        "From here, I tried various plots of interactions and transformations of the attributes."
      ],
      "id": "hCtcelem-CNO"
    },
    {
      "cell_type": "code",
      "metadata": {
        "id": "TVKk6AXh-CNO",
        "colab": {
          "base_uri": "https://localhost:8080/",
          "height": 789
        },
        "outputId": "684ae256-ea46-4248-e485-6737e91069ed"
      },
      "source": [
        "plt.figure() \n",
        "plt.plot(data[\"High\"]/data[\"Low\"])\n",
        "plt.figure()\n",
        "plt.plot((np.power(data[\"High\"]-data[\"Low\"],3)))\n",
        "plt.figure()\n",
        "plt.plot(data[\"Open\"]-data[\"Close\"])"
      ],
      "id": "TVKk6AXh-CNO",
      "execution_count": 66,
      "outputs": [
        {
          "output_type": "execute_result",
          "data": {
            "text/plain": [
              "[<matplotlib.lines.Line2D at 0x7fe860970e50>]"
            ]
          },
          "metadata": {
            "tags": []
          },
          "execution_count": 66
        },
        {
          "output_type": "display_data",
          "data": {
            "image/png": "[encoded data removed]",
            "text/plain": [
              "<Figure size 432x288 with 1 Axes>"
            ]
          },
          "metadata": {
            "tags": [],
            "needs_background": "light"
          }
        },
        {
          "output_type": "display_data",
          "data": {
            "image/png": "[encoded data removed]",
            "text/plain": [
              "<Figure size 432x288 with 1 Axes>"
            ]
          },
          "metadata": {
            "tags": [],
            "needs_background": "light"
          }
        },
        {
          "output_type": "display_data",
          "data": {
            "image/png": "[encoded data removed]",
            "text/plain": [
              "<Figure size 432x288 with 1 Axes>"
            ]
          },
          "metadata": {
            "tags": [],
            "needs_background": "light"
          }
        }
      ]
    },
    {
      "cell_type": "markdown",
      "metadata": {
        "id": "NPYBQxKM-CNO"
      },
      "source": [
        "## Data Cleaning and Transformation"
      ],
      "id": "NPYBQxKM-CNO"
    },
    {
      "cell_type": "code",
      "metadata": {
        "id": "w38l_MW0-CNP",
        "colab": {
          "base_uri": "https://localhost:8080/"
        },
        "outputId": "6373f953-78f3-4a40-eaa3-28a5ef40724d"
      },
      "source": [
        "print(data.isnull().sum())     # checking for missing values"
      ],
      "id": "w38l_MW0-CNP",
      "execution_count": 67,
      "outputs": [
        {
          "output_type": "stream",
          "text": [
            "Open         0\n",
            "High         0\n",
            "Low          0\n",
            "Close        0\n",
            "Adj Close    0\n",
            "Volume       0\n",
            "dtype: int64\n"
          ],
          "name": "stdout"
        }
      ]
    },
    {
      "cell_type": "markdown",
      "metadata": {
        "id": "PdXXn006-CNR"
      },
      "source": [
        "Section for trying sktime library, if it can help us transform the Time-Series"
      ],
      "id": "PdXXn006-CNR"
    },
    {
      "cell_type": "code",
      "metadata": {
        "id": "8BI6lKiM-CNR"
      },
      "source": [
        "# from sktime.utils.plotting import plot_series\n",
        "# from sktime.transformations.panel.rocket import Rocket\n",
        "# y = data[\"Close\"]\n",
        "# x = data[data.columns]\n",
        "# x.drop([\"Close\",\"Volume\"],axis=1,inplace=True)\n",
        "# plot_series(data[\"Close\"])\n",
        "# rocket = Rocket()\n",
        "# rocket.fit(np.array(x))\n",
        "# x_t = rocket.transform(np.array(x))"
      ],
      "id": "8BI6lKiM-CNR",
      "execution_count": 68,
      "outputs": []
    },
    {
      "cell_type": "markdown",
      "metadata": {
        "id": "09MXr2vV-CNR"
      },
      "source": [
        "### Defining methods for transforming time-series data"
      ],
      "id": "09MXr2vV-CNR"
    },
    {
      "cell_type": "code",
      "metadata": {
        "id": "glkhiEkd-CNR"
      },
      "source": [
        "def difference(data, interval=1):\n",
        "\treturn [data[i] - data[i - interval] for i in range(interval, len(data))]\n",
        "def invert_difference(orig_data, diff_data, interval=1):\n",
        "\treturn [diff_data[i-interval] + orig_data[i-interval] for i in range(interval, len(orig_data))]\n",
        "\n",
        "from scipy.stats import boxcox\n",
        "# fd =(boxcox1p(final_data[\"Close\"]))#*np.log(boxcox1p(final_data[\"Close\"],-1))\n",
        "# plt.plot(fd)"
      ],
      "id": "glkhiEkd-CNR",
      "execution_count": 79,
      "outputs": []
    },
    {
      "cell_type": "markdown",
      "metadata": {
        "id": "RnzHbY43-CNR"
      },
      "source": [
        "The idea here is to store the data at each step, without losing/replacing it. <br>Thus, creating new variables wherever required to store the new/transformed data in the new variable."
      ],
      "id": "RnzHbY43-CNR"
    },
    {
      "cell_type": "markdown",
      "metadata": {
        "id": "CG4rosEn-CNS"
      },
      "source": [
        "Adding new Attributes to the dataset, based on the plots and Observations of the previous section.<br>Some Transformations are commented, cause they were not a suitable fit, but might be useful later."
      ],
      "id": "CG4rosEn-CNS"
    },
    {
      "cell_type": "code",
      "metadata": {
        "id": "Oqx1wMIQ-CNS"
      },
      "source": [
        "final_data = pd.DataFrame()\n",
        "final_data[\"Close_Open\"] = data['Close']-data['Open']\n",
        "final_data[\"High_Low\"] = data['High']-data['Low']\n",
        "final_data['t1'] = (np.power(data[\"High\"]-data[\"Low\"],3))\n",
        "final_data['Close'] = data['Close']\n",
        "\n",
        "final_data.head()\n",
        "# scaler = PowerTransformer(method=\"yeo-johnson\", standardize=True)\n",
        "scaler = MinMaxScaler(feature_range=(0,1))\n",
        "scaler_close = MinMaxScaler(feature_range=(0,1))\n",
        "scaled_data = scaler.fit_transform(final_data.iloc[:,:3])\n",
        "scaled_close = scaler_close.fit_transform(final_data.iloc[:,3:4])\n",
        "scaled_data = np.concatenate((scaled_data,scaled_close),axis=1)\n",
        "# logged_data = np.log10(data['Close'])\n",
        "# scaled_data, lambda_data = (boxcox(data['Close']))#difference(logged_data).to_numpy()\n",
        "# new = difference((data['Close'],1)\n",
        "# scaled_data = pd.Series(scaled_data)"
      ],
      "id": "Oqx1wMIQ-CNS",
      "execution_count": 70,
      "outputs": []
    },
    {
      "cell_type": "code",
      "metadata": {
        "id": "jzM9cHA78IhZ",
        "colab": {
          "base_uri": "https://localhost:8080/"
        },
        "outputId": "0a000db6-6a60-4707-9050-274263f748c4"
      },
      "source": [
        "np.array(difference(scaled_data)).shape"
      ],
      "id": "jzM9cHA78IhZ",
      "execution_count": 71,
      "outputs": [
        {
          "output_type": "execute_result",
          "data": {
            "text/plain": [
              "(147, 4)"
            ]
          },
          "metadata": {
            "tags": []
          },
          "execution_count": 71
        }
      ]
    },
    {
      "cell_type": "markdown",
      "metadata": {
        "id": "tjD9TwKV-CNS"
      },
      "source": [
        "### Preparing the data"
      ],
      "id": "tjD9TwKV-CNS"
    },
    {
      "cell_type": "markdown",
      "metadata": {
        "id": "AcQVjWik-CNS"
      },
      "source": [
        "The data is in 3 dimensions.<br> <br>First Dimension - It denotes the number of observations. Each value of this dimension (the values are in 2-dimension) is the input to our model, corresponding to which we have final value.<br> <br>Second Dimension - It denotes the past values, which we will be using to predict. The length of this dimension, shows how many past values/observations we will be feeding to our model.<br> <br>Third Dimension - It shows the attributes that we think affect our future value or might increase the performance of our model.<br><br> Suppose _i_,_j_,_k_ as indices and _data_ as our final 3-Dimensional Dataset. Then _data\\[i\\]_ , denotes a single 2-D observation consisting of values of previous days. Then, _data\\[i\\]\\[j\\]_ denotes a 1-D value of one of the previous days from our previous  2-D _data\\[i\\]_. _data\\[i\\]\\[j\\]\\[k\\]_ denotes value of one attribute from our previous 1-D _data\\[i\\]\\[j\\]_ which denoted all the attributes of one of the past days. \n",
        "\n",
        "**_Note to self : Might upload a image for better understanding of the readers._**"
      ],
      "id": "AcQVjWik-CNS"
    },
    {
      "cell_type": "code",
      "metadata": {
        "id": "OtJu3EeT-CNT",
        "colab": {
          "base_uri": "https://localhost:8080/"
        },
        "outputId": "d9e9a6fb-5744-4552-f9f8-7491c30b94d3"
      },
      "source": [
        "# Preparing the Data\n",
        "prediction_days = 7\n",
        "future_days=0\n",
        "store = scaled_data\n",
        "scaled_data = np.array(difference(scaled_data))\n",
        "x_train, y_train = [], []\n",
        "\n",
        "for x in range(prediction_days, len(scaled_data)-future_days):\n",
        "    x_train.append(scaled_data[x-prediction_days:x])\n",
        "    y_train.append(scaled_data[x+future_days,scaled_data.shape[1]-1])\n",
        "x_train, y_train = np.array(x_train), np.array(y_train)\n",
        "# x_train = np.reshape(x_train, (x_train.shape[0], x_train.shape[1],1))\n",
        "# y_train = np.reshape(y_train, (y_train.shape[0], y_train.shape[1],1))\n",
        "# range(prediction_days, len(scaled_data))x_train\n",
        "x_train.shape"
      ],
      "id": "OtJu3EeT-CNT",
      "execution_count": 72,
      "outputs": [
        {
          "output_type": "execute_result",
          "data": {
            "text/plain": [
              "(140, 7, 4)"
            ]
          },
          "metadata": {
            "tags": []
          },
          "execution_count": 72
        }
      ]
    },
    {
      "cell_type": "markdown",
      "metadata": {
        "id": "9fGIplwr-CNT"
      },
      "source": [
        "## Model Building and Training"
      ],
      "id": "9fGIplwr-CNT"
    },
    {
      "cell_type": "code",
      "metadata": {
        "id": "qRnJiqjY-CNT"
      },
      "source": [
        "# custom metric for our model, only to monitor our model while training\n",
        "def rmse(y_true, y_pred):\n",
        "\treturn backend.sqrt(backend.mean(backend.square(y_pred - y_true), axis=-1))"
      ],
      "id": "qRnJiqjY-CNT",
      "execution_count": 73,
      "outputs": []
    },
    {
      "cell_type": "markdown",
      "metadata": {
        "id": "uoF6vIea-CNT"
      },
      "source": [
        "Building LSTM using TensorFlow. At the end compiling and training the model. <br><br>\n",
        "The hyperparameters need to be more precisely tuned, but so far they seem to work fine. We can add more layers to improve the model, and this is an **endless process**."
      ],
      "id": "uoF6vIea-CNT"
    },
    {
      "cell_type": "code",
      "metadata": {
        "tags": [
          "outputPrepend"
        ],
        "id": "f7-Rref6-CNT",
        "colab": {
          "base_uri": "https://localhost:8080/"
        },
        "outputId": "a10b8d19-9649-4ebd-bfbf-a7978123d445"
      },
      "source": [
        "#creating neural netowrk\n",
        "# from attention_decoder import AttentionDecoder\n",
        "\n",
        "model = Sequential()                # could make units 50, for better prediction\n",
        "# model.add(LayerNormalization())     # Normalizing the input data \n",
        "# First LSTM layer\n",
        "model.add(LSTM(units=50,return_sequences=True,input_shape=(x_train.shape[1],x_train.shape[2]),activation=\"relu\",unroll=True))\n",
        "# model.add(Dropout(0.1))    # Removing some of the data from the previous layer to avoid overfitting\n",
        "model.add(BatchNormalization())\n",
        "model.add(LSTM(units=50, activation=\"relu\",unroll=True,return_sequences=True))#, return_sequences=True))    # Second LSTM Layer\n",
        "# model.add(Dropout(0.1))\n",
        "model.add(Activation(activation=\"relu\"))\n",
        "model.add(BatchNormalization())\n",
        "model.add(LSTM(units=50, return_sequences=True))\n",
        "# model.add(Dropout(0.1))\n",
        "model.add(BatchNormalization())\n",
        "model.add(LSTM(units=50, return_sequences=True))\n",
        "# model.add(Dropout(0.1))\n",
        "model.add(BatchNormalization())\n",
        "model.add(LSTM(units=50, return_sequences=True))\n",
        "# model.add(Dropout(0.1))\n",
        "model.add(BatchNormalization())\n",
        "model.add(LSTM(units=50, return_sequences=True))\n",
        "# model.add(Dropout(0.1))\n",
        "# model.add(LSTM(units=50, return_sequences=True))\n",
        "# model.add(Dropout(0.1))\n",
        "# model.add(LSTM(units=50, return_sequences=True))\n",
        "# model.add(Dropout(0.1))\n",
        "# model.add(LSTM(units=50, return_sequences=True))\n",
        "# model.add(Dropout(0.1))\n",
        "model.add(Activation(activation=\"relu\"))\n",
        "model.add(BatchNormalization())\n",
        "model.add(LSTM(units=50))\n",
        "# model.add(Dropout(0.1))\n",
        "model.add(BatchNormalization())\n",
        "## \n",
        "# model.add(Dropout(0.1))\n",
        "# model.add(LSTM(units=50,activation=\"relu\"))\n",
        "# model.add(Dense(units=500, activation=\"relu\"))\n",
        "# model.add(Dropout(0.2))\n",
        "\n",
        "model.add(Dense(units=1,activation='linear'))  # Final LSTM Layer of unit=1, cause we have just one Output, that is, Closing Price\n",
        "model.compile(optimizer='adam', loss=tf.keras.losses.Huber(delta=1),metrics=[rmse])   # Compiling, optimizer and loss can be changed to optimize the model for our specific purpose\n",
        "model.fit(x_train,y_train, epochs=500, batch_size=10)"
      ],
      "id": "f7-Rref6-CNT",
      "execution_count": 74,
      "outputs": [
        {
          "output_type": "stream",
          "text": [
            "Epoch 1/500\n",
            "14/14 [==============================] - 9s 20ms/step - loss: 0.2857 - rmse: 0.6378\n",
            "Epoch 2/500\n",
            "14/14 [==============================] - 0s 19ms/step - loss: 0.1814 - rmse: 0.4931\n",
            "Epoch 3/500\n",
            "14/14 [==============================] - 0s 20ms/step - loss: 0.1674 - rmse: 0.4603\n",
            "Epoch 4/500\n",
            "14/14 [==============================] - 0s 19ms/step - loss: 0.0988 - rmse: 0.3541\n",
            "Epoch 5/500\n",
            "14/14 [==============================] - 0s 19ms/step - loss: 0.0696 - rmse: 0.2991\n",
            "Epoch 6/500\n",
            "14/14 [==============================] - 0s 19ms/step - loss: 0.0559 - rmse: 0.2666\n",
            "Epoch 7/500\n",
            "14/14 [==============================] - 0s 20ms/step - loss: 0.0653 - rmse: 0.2772\n",
            "Epoch 8/500\n",
            "14/14 [==============================] - 0s 20ms/step - loss: 0.0515 - rmse: 0.2464\n",
            "Epoch 9/500\n",
            "14/14 [==============================] - 0s 19ms/step - loss: 0.0409 - rmse: 0.2243\n",
            "Epoch 10/500\n",
            "14/14 [==============================] - 0s 20ms/step - loss: 0.0323 - rmse: 0.1931\n",
            "Epoch 11/500\n",
            "14/14 [==============================] - 0s 23ms/step - loss: 0.0362 - rmse: 0.2180\n",
            "Epoch 12/500\n",
            "14/14 [==============================] - 0s 19ms/step - loss: 0.0279 - rmse: 0.1802\n",
            "Epoch 13/500\n",
            "14/14 [==============================] - 0s 19ms/step - loss: 0.0180 - rmse: 0.1507\n",
            "Epoch 14/500\n",
            "14/14 [==============================] - 0s 20ms/step - loss: 0.0175 - rmse: 0.1316\n",
            "Epoch 15/500\n",
            "14/14 [==============================] - 0s 20ms/step - loss: 0.0146 - rmse: 0.1329\n",
            "Epoch 16/500\n",
            "14/14 [==============================] - 0s 19ms/step - loss: 0.0189 - rmse: 0.1478\n",
            "Epoch 17/500\n",
            "14/14 [==============================] - 0s 19ms/step - loss: 0.0200 - rmse: 0.1528\n",
            "Epoch 18/500\n",
            "14/14 [==============================] - 0s 20ms/step - loss: 0.0152 - rmse: 0.1311\n",
            "Epoch 19/500\n",
            "14/14 [==============================] - 0s 19ms/step - loss: 0.0170 - rmse: 0.1398\n",
            "Epoch 20/500\n",
            "14/14 [==============================] - 0s 19ms/step - loss: 0.0149 - rmse: 0.1348\n",
            "Epoch 21/500\n",
            "14/14 [==============================] - 0s 20ms/step - loss: 0.0110 - rmse: 0.1157\n",
            "Epoch 22/500\n",
            "14/14 [==============================] - 0s 19ms/step - loss: 0.0103 - rmse: 0.1121\n",
            "Epoch 23/500\n",
            "14/14 [==============================] - 0s 19ms/step - loss: 0.0091 - rmse: 0.1100\n",
            "Epoch 24/500\n",
            "14/14 [==============================] - 0s 19ms/step - loss: 0.0069 - rmse: 0.0889\n",
            "Epoch 25/500\n",
            "14/14 [==============================] - 0s 21ms/step - loss: 0.0081 - rmse: 0.0967\n",
            "Epoch 26/500\n",
            "14/14 [==============================] - 0s 19ms/step - loss: 0.0087 - rmse: 0.0960\n",
            "Epoch 27/500\n",
            "14/14 [==============================] - 0s 20ms/step - loss: 0.0068 - rmse: 0.0915\n",
            "Epoch 28/500\n",
            "14/14 [==============================] - 0s 20ms/step - loss: 0.0085 - rmse: 0.0990\n",
            "Epoch 29/500\n",
            "14/14 [==============================] - 0s 19ms/step - loss: 0.0077 - rmse: 0.0900\n",
            "Epoch 30/500\n",
            "14/14 [==============================] - 0s 19ms/step - loss: 0.0072 - rmse: 0.0925\n",
            "Epoch 31/500\n",
            "14/14 [==============================] - 0s 20ms/step - loss: 0.0054 - rmse: 0.0849\n",
            "Epoch 32/500\n",
            "14/14 [==============================] - 0s 19ms/step - loss: 0.0067 - rmse: 0.0876\n",
            "Epoch 33/500\n",
            "14/14 [==============================] - 0s 19ms/step - loss: 0.0063 - rmse: 0.0873\n",
            "Epoch 34/500\n",
            "14/14 [==============================] - 0s 19ms/step - loss: 0.0065 - rmse: 0.0854\n",
            "Epoch 35/500\n",
            "14/14 [==============================] - 0s 19ms/step - loss: 0.0060 - rmse: 0.0805\n",
            "Epoch 36/500\n",
            "14/14 [==============================] - 0s 20ms/step - loss: 0.0041 - rmse: 0.0708\n",
            "Epoch 37/500\n",
            "14/14 [==============================] - 0s 18ms/step - loss: 0.0064 - rmse: 0.0849\n",
            "Epoch 38/500\n",
            "14/14 [==============================] - 0s 19ms/step - loss: 0.0047 - rmse: 0.0744\n",
            "Epoch 39/500\n",
            "14/14 [==============================] - 0s 20ms/step - loss: 0.0043 - rmse: 0.0714\n",
            "Epoch 40/500\n",
            "14/14 [==============================] - 0s 20ms/step - loss: 0.0042 - rmse: 0.0657\n",
            "Epoch 41/500\n",
            "14/14 [==============================] - 0s 19ms/step - loss: 0.0051 - rmse: 0.0785\n",
            "Epoch 42/500\n",
            "14/14 [==============================] - 0s 20ms/step - loss: 0.0035 - rmse: 0.0643\n",
            "Epoch 43/500\n",
            "14/14 [==============================] - 0s 20ms/step - loss: 0.0037 - rmse: 0.0665\n",
            "Epoch 44/500\n",
            "14/14 [==============================] - 0s 21ms/step - loss: 0.0046 - rmse: 0.0727\n",
            "Epoch 45/500\n",
            "14/14 [==============================] - 0s 20ms/step - loss: 0.0041 - rmse: 0.0695\n",
            "Epoch 46/500\n",
            "14/14 [==============================] - 0s 26ms/step - loss: 0.0035 - rmse: 0.0648\n",
            "Epoch 47/500\n",
            "14/14 [==============================] - 0s 21ms/step - loss: 0.0039 - rmse: 0.0691\n",
            "Epoch 48/500\n",
            "14/14 [==============================] - 0s 21ms/step - loss: 0.0050 - rmse: 0.0791\n",
            "Epoch 49/500\n",
            "14/14 [==============================] - 0s 20ms/step - loss: 0.0038 - rmse: 0.0695\n",
            "Epoch 50/500\n",
            "14/14 [==============================] - 0s 20ms/step - loss: 0.0045 - rmse: 0.0723\n",
            "Epoch 51/500\n",
            "14/14 [==============================] - 0s 19ms/step - loss: 0.0035 - rmse: 0.0586\n",
            "Epoch 52/500\n",
            "14/14 [==============================] - 0s 19ms/step - loss: 0.0044 - rmse: 0.0671\n",
            "Epoch 53/500\n",
            "14/14 [==============================] - 0s 19ms/step - loss: 0.0038 - rmse: 0.0698\n",
            "Epoch 54/500\n",
            "14/14 [==============================] - 0s 19ms/step - loss: 0.0047 - rmse: 0.0744\n",
            "Epoch 55/500\n",
            "14/14 [==============================] - 0s 19ms/step - loss: 0.0034 - rmse: 0.0623\n",
            "Epoch 56/500\n",
            "14/14 [==============================] - 0s 20ms/step - loss: 0.0043 - rmse: 0.0693\n",
            "Epoch 57/500\n",
            "14/14 [==============================] - 0s 23ms/step - loss: 0.0033 - rmse: 0.0633\n",
            "Epoch 58/500\n",
            "14/14 [==============================] - 0s 20ms/step - loss: 0.0042 - rmse: 0.0705\n",
            "Epoch 59/500\n",
            "14/14 [==============================] - 0s 19ms/step - loss: 0.0029 - rmse: 0.0543\n",
            "Epoch 60/500\n",
            "14/14 [==============================] - 0s 19ms/step - loss: 0.0042 - rmse: 0.0680\n",
            "Epoch 61/500\n",
            "14/14 [==============================] - 0s 19ms/step - loss: 0.0027 - rmse: 0.0516\n",
            "Epoch 62/500\n",
            "14/14 [==============================] - 0s 19ms/step - loss: 0.0027 - rmse: 0.0546\n",
            "Epoch 63/500\n",
            "14/14 [==============================] - 0s 20ms/step - loss: 0.0036 - rmse: 0.0645\n",
            "Epoch 64/500\n",
            "14/14 [==============================] - 0s 21ms/step - loss: 0.0027 - rmse: 0.0563\n",
            "Epoch 65/500\n",
            "14/14 [==============================] - 0s 20ms/step - loss: 0.0019 - rmse: 0.0467\n",
            "Epoch 66/500\n",
            "14/14 [==============================] - 0s 20ms/step - loss: 0.0027 - rmse: 0.0563\n",
            "Epoch 67/500\n",
            "14/14 [==============================] - 0s 20ms/step - loss: 0.0027 - rmse: 0.0535\n",
            "Epoch 68/500\n",
            "14/14 [==============================] - 0s 20ms/step - loss: 0.0036 - rmse: 0.0628\n",
            "Epoch 69/500\n",
            "14/14 [==============================] - 0s 19ms/step - loss: 0.0027 - rmse: 0.0551\n",
            "Epoch 70/500\n",
            "14/14 [==============================] - 0s 20ms/step - loss: 0.0032 - rmse: 0.0589\n",
            "Epoch 71/500\n",
            "14/14 [==============================] - 0s 20ms/step - loss: 0.0046 - rmse: 0.0729\n",
            "Epoch 72/500\n",
            "14/14 [==============================] - 0s 21ms/step - loss: 0.0035 - rmse: 0.0615\n",
            "Epoch 73/500\n",
            "14/14 [==============================] - 0s 19ms/step - loss: 0.0031 - rmse: 0.0601\n",
            "Epoch 74/500\n",
            "14/14 [==============================] - 0s 19ms/step - loss: 0.0033 - rmse: 0.0595\n",
            "Epoch 75/500\n",
            "14/14 [==============================] - 0s 20ms/step - loss: 0.0025 - rmse: 0.0518\n",
            "Epoch 76/500\n",
            "14/14 [==============================] - 0s 19ms/step - loss: 0.0027 - rmse: 0.0558\n",
            "Epoch 77/500\n",
            "14/14 [==============================] - 0s 20ms/step - loss: 0.0027 - rmse: 0.0560\n",
            "Epoch 78/500\n",
            "14/14 [==============================] - 0s 20ms/step - loss: 0.0026 - rmse: 0.0557\n",
            "Epoch 79/500\n",
            "14/14 [==============================] - 0s 19ms/step - loss: 0.0023 - rmse: 0.0492\n",
            "Epoch 80/500\n",
            "14/14 [==============================] - 0s 20ms/step - loss: 0.0030 - rmse: 0.0562\n",
            "Epoch 81/500\n",
            "14/14 [==============================] - 0s 21ms/step - loss: 0.0021 - rmse: 0.0493\n",
            "Epoch 82/500\n",
            "14/14 [==============================] - 0s 21ms/step - loss: 0.0022 - rmse: 0.0505\n",
            "Epoch 83/500\n",
            "14/14 [==============================] - 0s 20ms/step - loss: 0.0026 - rmse: 0.0523\n",
            "Epoch 84/500\n",
            "14/14 [==============================] - 0s 19ms/step - loss: 0.0028 - rmse: 0.0561\n",
            "Epoch 85/500\n",
            "14/14 [==============================] - 0s 21ms/step - loss: 0.0027 - rmse: 0.0585\n",
            "Epoch 86/500\n",
            "14/14 [==============================] - 0s 21ms/step - loss: 0.0026 - rmse: 0.0565\n",
            "Epoch 87/500\n",
            "14/14 [==============================] - 0s 19ms/step - loss: 0.0028 - rmse: 0.0552\n",
            "Epoch 88/500\n",
            "14/14 [==============================] - 0s 21ms/step - loss: 0.0031 - rmse: 0.0557\n",
            "Epoch 89/500\n",
            "14/14 [==============================] - 0s 21ms/step - loss: 0.0024 - rmse: 0.0519\n",
            "Epoch 90/500\n",
            "14/14 [==============================] - 0s 19ms/step - loss: 0.0023 - rmse: 0.0528\n",
            "Epoch 91/500\n",
            "14/14 [==============================] - 0s 20ms/step - loss: 0.0020 - rmse: 0.0472\n",
            "Epoch 92/500\n",
            "14/14 [==============================] - 0s 20ms/step - loss: 0.0027 - rmse: 0.0581\n",
            "Epoch 93/500\n",
            "14/14 [==============================] - 0s 21ms/step - loss: 0.0023 - rmse: 0.0519\n",
            "Epoch 94/500\n",
            "14/14 [==============================] - 0s 20ms/step - loss: 0.0021 - rmse: 0.0476\n",
            "Epoch 95/500\n",
            "14/14 [==============================] - 0s 20ms/step - loss: 0.0022 - rmse: 0.0463\n",
            "Epoch 96/500\n",
            "14/14 [==============================] - 0s 20ms/step - loss: 0.0028 - rmse: 0.0561\n",
            "Epoch 97/500\n",
            "14/14 [==============================] - 0s 20ms/step - loss: 0.0020 - rmse: 0.0492\n",
            "Epoch 98/500\n",
            "14/14 [==============================] - 0s 20ms/step - loss: 0.0028 - rmse: 0.0554\n",
            "Epoch 99/500\n",
            "14/14 [==============================] - 0s 21ms/step - loss: 0.0024 - rmse: 0.0551\n",
            "Epoch 100/500\n",
            "14/14 [==============================] - 0s 20ms/step - loss: 0.0021 - rmse: 0.0484\n",
            "Epoch 101/500\n",
            "14/14 [==============================] - 0s 20ms/step - loss: 0.0022 - rmse: 0.0482\n",
            "Epoch 102/500\n",
            "14/14 [==============================] - 0s 19ms/step - loss: 0.0018 - rmse: 0.0432\n",
            "Epoch 103/500\n",
            "14/14 [==============================] - 0s 20ms/step - loss: 0.0020 - rmse: 0.0458\n",
            "Epoch 104/500\n",
            "14/14 [==============================] - 0s 19ms/step - loss: 0.0024 - rmse: 0.0539\n",
            "Epoch 105/500\n",
            "14/14 [==============================] - 0s 20ms/step - loss: 0.0020 - rmse: 0.0461\n",
            "Epoch 106/500\n",
            "14/14 [==============================] - 0s 19ms/step - loss: 0.0018 - rmse: 0.0451\n",
            "Epoch 107/500\n",
            "14/14 [==============================] - 0s 21ms/step - loss: 0.0027 - rmse: 0.0574\n",
            "Epoch 108/500\n",
            "14/14 [==============================] - 0s 20ms/step - loss: 0.0027 - rmse: 0.0564\n",
            "Epoch 109/500\n",
            "14/14 [==============================] - 0s 20ms/step - loss: 0.0023 - rmse: 0.0512\n",
            "Epoch 110/500\n",
            "14/14 [==============================] - 0s 20ms/step - loss: 0.0023 - rmse: 0.0505\n",
            "Epoch 111/500\n",
            "14/14 [==============================] - 0s 20ms/step - loss: 0.0024 - rmse: 0.0523\n",
            "Epoch 112/500\n",
            "14/14 [==============================] - 0s 19ms/step - loss: 0.0020 - rmse: 0.0487\n",
            "Epoch 113/500\n",
            "14/14 [==============================] - 0s 19ms/step - loss: 0.0028 - rmse: 0.0519\n",
            "Epoch 114/500\n",
            "14/14 [==============================] - 0s 19ms/step - loss: 0.0029 - rmse: 0.0547\n",
            "Epoch 115/500\n",
            "14/14 [==============================] - 0s 20ms/step - loss: 0.0020 - rmse: 0.0456\n",
            "Epoch 116/500\n",
            "14/14 [==============================] - 0s 21ms/step - loss: 0.0022 - rmse: 0.0494\n",
            "Epoch 117/500\n",
            "14/14 [==============================] - 0s 21ms/step - loss: 0.0021 - rmse: 0.0457\n",
            "Epoch 118/500\n",
            "14/14 [==============================] - 0s 20ms/step - loss: 0.0018 - rmse: 0.0461\n",
            "Epoch 119/500\n",
            "14/14 [==============================] - 0s 20ms/step - loss: 0.0016 - rmse: 0.0421\n",
            "Epoch 120/500\n",
            "14/14 [==============================] - 0s 20ms/step - loss: 0.0022 - rmse: 0.0496\n",
            "Epoch 121/500\n",
            "14/14 [==============================] - 0s 20ms/step - loss: 0.0025 - rmse: 0.0534\n",
            "Epoch 122/500\n",
            "14/14 [==============================] - 0s 22ms/step - loss: 0.0023 - rmse: 0.0485\n",
            "Epoch 123/500\n",
            "14/14 [==============================] - 0s 20ms/step - loss: 0.0018 - rmse: 0.0443\n",
            "Epoch 124/500\n",
            "14/14 [==============================] - 0s 20ms/step - loss: 0.0015 - rmse: 0.0413\n",
            "Epoch 125/500\n",
            "14/14 [==============================] - 0s 19ms/step - loss: 0.0016 - rmse: 0.0434\n",
            "Epoch 126/500\n",
            "14/14 [==============================] - 0s 20ms/step - loss: 0.0023 - rmse: 0.0514\n",
            "Epoch 127/500\n",
            "14/14 [==============================] - 0s 19ms/step - loss: 0.0016 - rmse: 0.0414\n",
            "Epoch 128/500\n",
            "14/14 [==============================] - 0s 21ms/step - loss: 0.0021 - rmse: 0.0483\n",
            "Epoch 129/500\n",
            "14/14 [==============================] - 0s 20ms/step - loss: 0.0015 - rmse: 0.0427\n",
            "Epoch 130/500\n",
            "14/14 [==============================] - 0s 20ms/step - loss: 0.0026 - rmse: 0.0518\n",
            "Epoch 131/500\n",
            "14/14 [==============================] - 0s 20ms/step - loss: 0.0021 - rmse: 0.0491\n",
            "Epoch 132/500\n",
            "14/14 [==============================] - 0s 20ms/step - loss: 0.0025 - rmse: 0.0530\n",
            "Epoch 133/500\n",
            "14/14 [==============================] - 0s 21ms/step - loss: 0.0023 - rmse: 0.0494\n",
            "Epoch 134/500\n",
            "14/14 [==============================] - 0s 21ms/step - loss: 0.0021 - rmse: 0.0473\n",
            "Epoch 135/500\n",
            "14/14 [==============================] - 0s 21ms/step - loss: 0.0020 - rmse: 0.0467\n",
            "Epoch 136/500\n",
            "14/14 [==============================] - 0s 20ms/step - loss: 0.0019 - rmse: 0.0454\n",
            "Epoch 137/500\n",
            "14/14 [==============================] - 0s 21ms/step - loss: 0.0015 - rmse: 0.0419\n",
            "Epoch 138/500\n",
            "14/14 [==============================] - 0s 20ms/step - loss: 0.0014 - rmse: 0.0419\n",
            "Epoch 139/500\n",
            "14/14 [==============================] - 0s 22ms/step - loss: 0.0015 - rmse: 0.0408\n",
            "Epoch 140/500\n",
            "14/14 [==============================] - 0s 28ms/step - loss: 0.0019 - rmse: 0.0489\n",
            "Epoch 141/500\n",
            "14/14 [==============================] - 0s 20ms/step - loss: 0.0019 - rmse: 0.0502\n",
            "Epoch 142/500\n",
            "14/14 [==============================] - 0s 21ms/step - loss: 0.0019 - rmse: 0.0447\n",
            "Epoch 143/500\n",
            "14/14 [==============================] - 0s 21ms/step - loss: 0.0015 - rmse: 0.0411\n",
            "Epoch 144/500\n",
            "14/14 [==============================] - 0s 19ms/step - loss: 0.0016 - rmse: 0.0436\n",
            "Epoch 145/500\n",
            "14/14 [==============================] - 0s 20ms/step - loss: 0.0015 - rmse: 0.0395\n",
            "Epoch 146/500\n",
            "14/14 [==============================] - 0s 20ms/step - loss: 0.0018 - rmse: 0.0442\n",
            "Epoch 147/500\n",
            "14/14 [==============================] - 0s 20ms/step - loss: 0.0019 - rmse: 0.0461\n",
            "Epoch 148/500\n",
            "14/14 [==============================] - 0s 20ms/step - loss: 0.0019 - rmse: 0.0458\n",
            "Epoch 149/500\n",
            "14/14 [==============================] - 0s 20ms/step - loss: 0.0014 - rmse: 0.0400\n",
            "Epoch 150/500\n",
            "14/14 [==============================] - 0s 23ms/step - loss: 0.0018 - rmse: 0.0465\n",
            "Epoch 151/500\n",
            "14/14 [==============================] - 0s 21ms/step - loss: 0.0024 - rmse: 0.0524\n",
            "Epoch 152/500\n",
            "14/14 [==============================] - 0s 20ms/step - loss: 0.0022 - rmse: 0.0460\n",
            "Epoch 153/500\n",
            "14/14 [==============================] - 0s 20ms/step - loss: 0.0019 - rmse: 0.0463\n",
            "Epoch 154/500\n",
            "14/14 [==============================] - 0s 20ms/step - loss: 0.0017 - rmse: 0.0426\n",
            "Epoch 155/500\n",
            "14/14 [==============================] - 0s 20ms/step - loss: 0.0023 - rmse: 0.0502\n",
            "Epoch 156/500\n",
            "14/14 [==============================] - 0s 21ms/step - loss: 0.0019 - rmse: 0.0469\n",
            "Epoch 157/500\n",
            "14/14 [==============================] - 0s 21ms/step - loss: 0.0017 - rmse: 0.0459\n",
            "Epoch 158/500\n",
            "14/14 [==============================] - 0s 20ms/step - loss: 0.0016 - rmse: 0.0427\n",
            "Epoch 159/500\n",
            "14/14 [==============================] - 0s 21ms/step - loss: 0.0018 - rmse: 0.0440\n",
            "Epoch 160/500\n",
            "14/14 [==============================] - 0s 21ms/step - loss: 0.0023 - rmse: 0.0500\n",
            "Epoch 161/500\n",
            "14/14 [==============================] - 0s 20ms/step - loss: 0.0017 - rmse: 0.0443\n",
            "Epoch 162/500\n",
            "14/14 [==============================] - 0s 21ms/step - loss: 0.0021 - rmse: 0.0471\n",
            "Epoch 163/500\n",
            "14/14 [==============================] - 0s 20ms/step - loss: 0.0017 - rmse: 0.0457\n",
            "Epoch 164/500\n",
            "14/14 [==============================] - 0s 20ms/step - loss: 0.0014 - rmse: 0.0410\n",
            "Epoch 165/500\n",
            "14/14 [==============================] - 0s 19ms/step - loss: 0.0019 - rmse: 0.0457\n",
            "Epoch 166/500\n",
            "14/14 [==============================] - 0s 20ms/step - loss: 0.0018 - rmse: 0.0461\n",
            "Epoch 167/500\n",
            "14/14 [==============================] - 0s 20ms/step - loss: 0.0017 - rmse: 0.0435\n",
            "Epoch 168/500\n",
            "14/14 [==============================] - 0s 19ms/step - loss: 0.0012 - rmse: 0.0372\n",
            "Epoch 169/500\n",
            "14/14 [==============================] - 0s 20ms/step - loss: 0.0019 - rmse: 0.0455\n",
            "Epoch 170/500\n",
            "14/14 [==============================] - 0s 19ms/step - loss: 0.0013 - rmse: 0.0401\n",
            "Epoch 171/500\n",
            "14/14 [==============================] - 0s 20ms/step - loss: 0.0012 - rmse: 0.0377\n",
            "Epoch 172/500\n",
            "14/14 [==============================] - 0s 19ms/step - loss: 0.0018 - rmse: 0.0457\n",
            "Epoch 173/500\n",
            "14/14 [==============================] - 0s 21ms/step - loss: 0.0020 - rmse: 0.0487\n",
            "Epoch 174/500\n",
            "14/14 [==============================] - 0s 20ms/step - loss: 0.0014 - rmse: 0.0413\n",
            "Epoch 175/500\n",
            "14/14 [==============================] - 0s 20ms/step - loss: 0.0018 - rmse: 0.0459\n",
            "Epoch 176/500\n",
            "14/14 [==============================] - 0s 20ms/step - loss: 0.0025 - rmse: 0.0528\n",
            "Epoch 177/500\n",
            "14/14 [==============================] - 0s 20ms/step - loss: 0.0034 - rmse: 0.0621\n",
            "Epoch 178/500\n",
            "14/14 [==============================] - 0s 20ms/step - loss: 0.0022 - rmse: 0.0501\n",
            "Epoch 179/500\n",
            "14/14 [==============================] - 0s 19ms/step - loss: 0.0022 - rmse: 0.0526\n",
            "Epoch 180/500\n",
            "14/14 [==============================] - 0s 21ms/step - loss: 0.0015 - rmse: 0.0412\n",
            "Epoch 181/500\n",
            "14/14 [==============================] - 0s 19ms/step - loss: 0.0016 - rmse: 0.0410\n",
            "Epoch 182/500\n",
            "14/14 [==============================] - 0s 21ms/step - loss: 0.0018 - rmse: 0.0433\n",
            "Epoch 183/500\n",
            "14/14 [==============================] - 0s 20ms/step - loss: 0.0012 - rmse: 0.0375\n",
            "Epoch 184/500\n",
            "14/14 [==============================] - 0s 20ms/step - loss: 0.0019 - rmse: 0.0461\n",
            "Epoch 185/500\n",
            "14/14 [==============================] - 0s 20ms/step - loss: 0.0016 - rmse: 0.0403\n",
            "Epoch 186/500\n",
            "14/14 [==============================] - 0s 20ms/step - loss: 0.0016 - rmse: 0.0416\n",
            "Epoch 187/500\n",
            "14/14 [==============================] - 0s 22ms/step - loss: 0.0019 - rmse: 0.0467\n",
            "Epoch 188/500\n",
            "14/14 [==============================] - 0s 22ms/step - loss: 0.0019 - rmse: 0.0493\n",
            "Epoch 189/500\n",
            "14/14 [==============================] - 0s 20ms/step - loss: 0.0018 - rmse: 0.0433\n",
            "Epoch 190/500\n",
            "14/14 [==============================] - 0s 22ms/step - loss: 0.0016 - rmse: 0.0410\n",
            "Epoch 191/500\n",
            "14/14 [==============================] - 0s 20ms/step - loss: 0.0019 - rmse: 0.0440\n",
            "Epoch 192/500\n",
            "14/14 [==============================] - 0s 21ms/step - loss: 0.0015 - rmse: 0.0408\n",
            "Epoch 193/500\n",
            "14/14 [==============================] - 0s 20ms/step - loss: 0.0014 - rmse: 0.0407\n",
            "Epoch 194/500\n",
            "14/14 [==============================] - 0s 21ms/step - loss: 0.0017 - rmse: 0.0467\n",
            "Epoch 195/500\n",
            "14/14 [==============================] - 0s 19ms/step - loss: 0.0019 - rmse: 0.0455\n",
            "Epoch 196/500\n",
            "14/14 [==============================] - 0s 20ms/step - loss: 0.0019 - rmse: 0.0432\n",
            "Epoch 197/500\n",
            "14/14 [==============================] - 0s 21ms/step - loss: 0.0017 - rmse: 0.0433\n",
            "Epoch 198/500\n",
            "14/14 [==============================] - 0s 23ms/step - loss: 0.0013 - rmse: 0.0382\n",
            "Epoch 199/500\n",
            "14/14 [==============================] - 0s 20ms/step - loss: 0.0026 - rmse: 0.0547\n",
            "Epoch 200/500\n",
            "14/14 [==============================] - 0s 21ms/step - loss: 0.0017 - rmse: 0.0448\n",
            "Epoch 201/500\n",
            "14/14 [==============================] - 0s 21ms/step - loss: 0.0015 - rmse: 0.0427\n",
            "Epoch 202/500\n",
            "14/14 [==============================] - 0s 23ms/step - loss: 0.0014 - rmse: 0.0412\n",
            "Epoch 203/500\n",
            "14/14 [==============================] - 0s 19ms/step - loss: 0.0019 - rmse: 0.0449\n",
            "Epoch 204/500\n",
            "14/14 [==============================] - 0s 21ms/step - loss: 0.0018 - rmse: 0.0436\n",
            "Epoch 205/500\n",
            "14/14 [==============================] - 0s 20ms/step - loss: 0.0015 - rmse: 0.0409\n",
            "Epoch 206/500\n",
            "14/14 [==============================] - 0s 20ms/step - loss: 0.0021 - rmse: 0.0466\n",
            "Epoch 207/500\n",
            "14/14 [==============================] - 0s 19ms/step - loss: 0.0017 - rmse: 0.0428\n",
            "Epoch 208/500\n",
            "14/14 [==============================] - 0s 20ms/step - loss: 0.0013 - rmse: 0.0352\n",
            "Epoch 209/500\n",
            "14/14 [==============================] - 0s 20ms/step - loss: 0.0021 - rmse: 0.0463\n",
            "Epoch 210/500\n",
            "14/14 [==============================] - 0s 20ms/step - loss: 0.0019 - rmse: 0.0449\n",
            "Epoch 211/500\n",
            "14/14 [==============================] - 0s 20ms/step - loss: 0.0027 - rmse: 0.0541\n",
            "Epoch 212/500\n",
            "14/14 [==============================] - 0s 20ms/step - loss: 0.0014 - rmse: 0.0418\n",
            "Epoch 213/500\n",
            "14/14 [==============================] - 0s 20ms/step - loss: 0.0020 - rmse: 0.0455\n",
            "Epoch 214/500\n",
            "14/14 [==============================] - 0s 21ms/step - loss: 0.0014 - rmse: 0.0415\n",
            "Epoch 215/500\n",
            "14/14 [==============================] - 0s 20ms/step - loss: 0.0018 - rmse: 0.0452\n",
            "Epoch 216/500\n",
            "14/14 [==============================] - 0s 20ms/step - loss: 0.0018 - rmse: 0.0402\n",
            "Epoch 217/500\n",
            "14/14 [==============================] - 0s 21ms/step - loss: 0.0016 - rmse: 0.0437\n",
            "Epoch 218/500\n",
            "14/14 [==============================] - 0s 20ms/step - loss: 0.0021 - rmse: 0.0495\n",
            "Epoch 219/500\n",
            "14/14 [==============================] - 0s 20ms/step - loss: 0.0016 - rmse: 0.0432\n",
            "Epoch 220/500\n",
            "14/14 [==============================] - 0s 20ms/step - loss: 0.0015 - rmse: 0.0440\n",
            "Epoch 221/500\n",
            "14/14 [==============================] - 0s 20ms/step - loss: 0.0016 - rmse: 0.0444\n",
            "Epoch 222/500\n",
            "14/14 [==============================] - 0s 21ms/step - loss: 0.0018 - rmse: 0.0454\n",
            "Epoch 223/500\n",
            "14/14 [==============================] - 0s 19ms/step - loss: 0.0015 - rmse: 0.0404\n",
            "Epoch 224/500\n",
            "14/14 [==============================] - 0s 19ms/step - loss: 0.0011 - rmse: 0.0358\n",
            "Epoch 225/500\n",
            "14/14 [==============================] - 0s 22ms/step - loss: 0.0014 - rmse: 0.0398\n",
            "Epoch 226/500\n",
            "14/14 [==============================] - 0s 20ms/step - loss: 0.0017 - rmse: 0.0446\n",
            "Epoch 227/500\n",
            "14/14 [==============================] - 0s 19ms/step - loss: 0.0015 - rmse: 0.0417\n",
            "Epoch 228/500\n",
            "14/14 [==============================] - 0s 20ms/step - loss: 0.0013 - rmse: 0.0384\n",
            "Epoch 229/500\n",
            "14/14 [==============================] - 0s 21ms/step - loss: 0.0022 - rmse: 0.0495\n",
            "Epoch 230/500\n",
            "14/14 [==============================] - 0s 20ms/step - loss: 0.0022 - rmse: 0.0522\n",
            "Epoch 231/500\n",
            "14/14 [==============================] - 0s 19ms/step - loss: 0.0027 - rmse: 0.0598\n",
            "Epoch 232/500\n",
            "14/14 [==============================] - 0s 21ms/step - loss: 0.0018 - rmse: 0.0472\n",
            "Epoch 233/500\n",
            "14/14 [==============================] - 0s 21ms/step - loss: 0.0026 - rmse: 0.0530\n",
            "Epoch 234/500\n",
            "14/14 [==============================] - 0s 20ms/step - loss: 0.0014 - rmse: 0.0381\n",
            "Epoch 235/500\n",
            "14/14 [==============================] - 0s 20ms/step - loss: 0.0017 - rmse: 0.0431\n",
            "Epoch 236/500\n",
            "14/14 [==============================] - 0s 21ms/step - loss: 0.0021 - rmse: 0.0484\n",
            "Epoch 237/500\n",
            "14/14 [==============================] - 0s 20ms/step - loss: 0.0017 - rmse: 0.0440\n",
            "Epoch 238/500\n",
            "14/14 [==============================] - 0s 20ms/step - loss: 0.0017 - rmse: 0.0443\n",
            "Epoch 239/500\n",
            "14/14 [==============================] - 0s 21ms/step - loss: 0.0019 - rmse: 0.0473\n",
            "Epoch 240/500\n",
            "14/14 [==============================] - 0s 20ms/step - loss: 0.0020 - rmse: 0.0450\n",
            "Epoch 241/500\n",
            "14/14 [==============================] - 0s 20ms/step - loss: 0.0014 - rmse: 0.0402\n",
            "Epoch 242/500\n",
            "14/14 [==============================] - 0s 19ms/step - loss: 0.0013 - rmse: 0.0371\n",
            "Epoch 243/500\n",
            "14/14 [==============================] - 0s 20ms/step - loss: 0.0016 - rmse: 0.0441\n",
            "Epoch 244/500\n",
            "14/14 [==============================] - 0s 20ms/step - loss: 0.0014 - rmse: 0.0401\n",
            "Epoch 245/500\n",
            "14/14 [==============================] - 0s 20ms/step - loss: 0.0012 - rmse: 0.0355\n",
            "Epoch 246/500\n",
            "14/14 [==============================] - 0s 23ms/step - loss: 0.0015 - rmse: 0.0396\n",
            "Epoch 247/500\n",
            "14/14 [==============================] - 0s 20ms/step - loss: 0.0017 - rmse: 0.0439\n",
            "Epoch 248/500\n",
            "14/14 [==============================] - 0s 21ms/step - loss: 0.0017 - rmse: 0.0440\n",
            "Epoch 249/500\n",
            "14/14 [==============================] - 0s 22ms/step - loss: 0.0010 - rmse: 0.0344\n",
            "Epoch 250/500\n",
            "14/14 [==============================] - 0s 21ms/step - loss: 0.0014 - rmse: 0.0383\n",
            "Epoch 251/500\n",
            "14/14 [==============================] - 0s 21ms/step - loss: 0.0017 - rmse: 0.0458\n",
            "Epoch 252/500\n",
            "14/14 [==============================] - 0s 24ms/step - loss: 0.0014 - rmse: 0.0373\n",
            "Epoch 253/500\n",
            "14/14 [==============================] - 0s 23ms/step - loss: 0.0016 - rmse: 0.0405\n",
            "Epoch 254/500\n",
            "14/14 [==============================] - 0s 21ms/step - loss: 0.0018 - rmse: 0.0435\n",
            "Epoch 255/500\n",
            "14/14 [==============================] - 0s 21ms/step - loss: 0.0017 - rmse: 0.0432\n",
            "Epoch 256/500\n",
            "14/14 [==============================] - 0s 21ms/step - loss: 0.0011 - rmse: 0.0351\n",
            "Epoch 257/500\n",
            "14/14 [==============================] - 0s 20ms/step - loss: 0.0016 - rmse: 0.0397\n",
            "Epoch 258/500\n",
            "14/14 [==============================] - 0s 20ms/step - loss: 0.0019 - rmse: 0.0454\n",
            "Epoch 259/500\n",
            "14/14 [==============================] - 0s 21ms/step - loss: 0.0018 - rmse: 0.0443\n",
            "Epoch 260/500\n",
            "14/14 [==============================] - 0s 20ms/step - loss: 0.0013 - rmse: 0.0376\n",
            "Epoch 261/500\n",
            "14/14 [==============================] - 0s 21ms/step - loss: 0.0026 - rmse: 0.0538\n",
            "Epoch 262/500\n",
            "14/14 [==============================] - 0s 23ms/step - loss: 0.0018 - rmse: 0.0439\n",
            "Epoch 263/500\n",
            "14/14 [==============================] - 0s 21ms/step - loss: 0.0013 - rmse: 0.0346\n",
            "Epoch 264/500\n",
            "14/14 [==============================] - 0s 21ms/step - loss: 0.0013 - rmse: 0.0357\n",
            "Epoch 265/500\n",
            "14/14 [==============================] - 0s 21ms/step - loss: 0.0016 - rmse: 0.0425\n",
            "Epoch 266/500\n",
            "14/14 [==============================] - 0s 21ms/step - loss: 0.0020 - rmse: 0.0462\n",
            "Epoch 267/500\n",
            "14/14 [==============================] - 0s 19ms/step - loss: 0.0013 - rmse: 0.0372\n",
            "Epoch 268/500\n",
            "14/14 [==============================] - 0s 22ms/step - loss: 0.0013 - rmse: 0.0376\n",
            "Epoch 269/500\n",
            "14/14 [==============================] - 0s 21ms/step - loss: 0.0017 - rmse: 0.0428\n",
            "Epoch 270/500\n",
            "14/14 [==============================] - 0s 20ms/step - loss: 0.0015 - rmse: 0.0401\n",
            "Epoch 271/500\n",
            "14/14 [==============================] - 0s 20ms/step - loss: 9.8786e-04 - rmse: 0.0334\n",
            "Epoch 272/500\n",
            "14/14 [==============================] - 0s 21ms/step - loss: 0.0014 - rmse: 0.0407\n",
            "Epoch 273/500\n",
            "14/14 [==============================] - 0s 21ms/step - loss: 0.0014 - rmse: 0.0364\n",
            "Epoch 274/500\n",
            "14/14 [==============================] - 0s 21ms/step - loss: 0.0018 - rmse: 0.0435\n",
            "Epoch 275/500\n",
            "14/14 [==============================] - 0s 21ms/step - loss: 0.0018 - rmse: 0.0435\n",
            "Epoch 276/500\n",
            "14/14 [==============================] - 0s 22ms/step - loss: 0.0022 - rmse: 0.0470\n",
            "Epoch 277/500\n",
            "14/14 [==============================] - 0s 20ms/step - loss: 0.0013 - rmse: 0.0373\n",
            "Epoch 278/500\n",
            "14/14 [==============================] - 0s 20ms/step - loss: 0.0015 - rmse: 0.0403\n",
            "Epoch 279/500\n",
            "14/14 [==============================] - 0s 21ms/step - loss: 0.0015 - rmse: 0.0408\n",
            "Epoch 280/500\n",
            "14/14 [==============================] - 0s 21ms/step - loss: 0.0017 - rmse: 0.0422\n",
            "Epoch 281/500\n",
            "14/14 [==============================] - 0s 20ms/step - loss: 0.0015 - rmse: 0.0406\n",
            "Epoch 282/500\n",
            "14/14 [==============================] - 0s 22ms/step - loss: 0.0014 - rmse: 0.0417\n",
            "Epoch 283/500\n",
            "14/14 [==============================] - 0s 20ms/step - loss: 0.0011 - rmse: 0.0339\n",
            "Epoch 284/500\n",
            "14/14 [==============================] - 0s 21ms/step - loss: 0.0014 - rmse: 0.0389\n",
            "Epoch 285/500\n",
            "14/14 [==============================] - 0s 20ms/step - loss: 0.0011 - rmse: 0.0355\n",
            "Epoch 286/500\n",
            "14/14 [==============================] - 0s 20ms/step - loss: 0.0011 - rmse: 0.0363\n",
            "Epoch 287/500\n",
            "14/14 [==============================] - 0s 22ms/step - loss: 0.0013 - rmse: 0.0358\n",
            "Epoch 288/500\n",
            "14/14 [==============================] - 0s 21ms/step - loss: 0.0018 - rmse: 0.0424\n",
            "Epoch 289/500\n",
            "14/14 [==============================] - 0s 20ms/step - loss: 0.0012 - rmse: 0.0376\n",
            "Epoch 290/500\n",
            "14/14 [==============================] - 0s 22ms/step - loss: 0.0012 - rmse: 0.0352\n",
            "Epoch 291/500\n",
            "14/14 [==============================] - 0s 20ms/step - loss: 0.0013 - rmse: 0.0365\n",
            "Epoch 292/500\n",
            "14/14 [==============================] - 0s 22ms/step - loss: 0.0018 - rmse: 0.0428\n",
            "Epoch 293/500\n",
            "14/14 [==============================] - 0s 19ms/step - loss: 0.0012 - rmse: 0.0368\n",
            "Epoch 294/500\n",
            "14/14 [==============================] - 0s 21ms/step - loss: 0.0013 - rmse: 0.0360\n",
            "Epoch 295/500\n",
            "14/14 [==============================] - 0s 20ms/step - loss: 0.0013 - rmse: 0.0382\n",
            "Epoch 296/500\n",
            "14/14 [==============================] - 0s 22ms/step - loss: 0.0013 - rmse: 0.0386\n",
            "Epoch 297/500\n",
            "14/14 [==============================] - 0s 23ms/step - loss: 0.0011 - rmse: 0.0363\n",
            "Epoch 298/500\n",
            "14/14 [==============================] - 0s 21ms/step - loss: 0.0013 - rmse: 0.0357\n",
            "Epoch 299/500\n",
            "14/14 [==============================] - 0s 22ms/step - loss: 0.0014 - rmse: 0.0380\n",
            "Epoch 300/500\n",
            "14/14 [==============================] - 0s 21ms/step - loss: 0.0011 - rmse: 0.0345\n",
            "Epoch 301/500\n",
            "14/14 [==============================] - 0s 20ms/step - loss: 0.0017 - rmse: 0.0436\n",
            "Epoch 302/500\n",
            "14/14 [==============================] - 0s 21ms/step - loss: 0.0015 - rmse: 0.0435\n",
            "Epoch 303/500\n",
            "14/14 [==============================] - 0s 22ms/step - loss: 0.0020 - rmse: 0.0439\n",
            "Epoch 304/500\n",
            "14/14 [==============================] - 0s 21ms/step - loss: 0.0014 - rmse: 0.0405\n",
            "Epoch 305/500\n",
            "14/14 [==============================] - 0s 21ms/step - loss: 0.0011 - rmse: 0.0344\n",
            "Epoch 306/500\n",
            "14/14 [==============================] - 0s 20ms/step - loss: 0.0015 - rmse: 0.0413\n",
            "Epoch 307/500\n",
            "14/14 [==============================] - 0s 21ms/step - loss: 0.0014 - rmse: 0.0392\n",
            "Epoch 308/500\n",
            "14/14 [==============================] - 0s 20ms/step - loss: 0.0015 - rmse: 0.0433\n",
            "Epoch 309/500\n",
            "14/14 [==============================] - 0s 20ms/step - loss: 0.0011 - rmse: 0.0347\n",
            "Epoch 310/500\n",
            "14/14 [==============================] - 0s 22ms/step - loss: 0.0013 - rmse: 0.0371\n",
            "Epoch 311/500\n",
            "14/14 [==============================] - 0s 19ms/step - loss: 9.9027e-04 - rmse: 0.0337\n",
            "Epoch 312/500\n",
            "14/14 [==============================] - 0s 20ms/step - loss: 9.6741e-04 - rmse: 0.0326\n",
            "Epoch 313/500\n",
            "14/14 [==============================] - 0s 21ms/step - loss: 0.0017 - rmse: 0.0419\n",
            "Epoch 314/500\n",
            "14/14 [==============================] - 0s 20ms/step - loss: 0.0013 - rmse: 0.0391\n",
            "Epoch 315/500\n",
            "14/14 [==============================] - 0s 20ms/step - loss: 0.0015 - rmse: 0.0404\n",
            "Epoch 316/500\n",
            "14/14 [==============================] - 0s 20ms/step - loss: 0.0017 - rmse: 0.0424\n",
            "Epoch 317/500\n",
            "14/14 [==============================] - 0s 21ms/step - loss: 0.0016 - rmse: 0.0426\n",
            "Epoch 318/500\n",
            "14/14 [==============================] - 0s 21ms/step - loss: 0.0014 - rmse: 0.0383\n",
            "Epoch 319/500\n",
            "14/14 [==============================] - 0s 20ms/step - loss: 0.0013 - rmse: 0.0385\n",
            "Epoch 320/500\n",
            "14/14 [==============================] - 0s 20ms/step - loss: 0.0014 - rmse: 0.0384\n",
            "Epoch 321/500\n",
            "14/14 [==============================] - 0s 21ms/step - loss: 0.0014 - rmse: 0.0377\n",
            "Epoch 322/500\n",
            "14/14 [==============================] - 0s 22ms/step - loss: 0.0017 - rmse: 0.0415\n",
            "Epoch 323/500\n",
            "14/14 [==============================] - 0s 22ms/step - loss: 0.0013 - rmse: 0.0376\n",
            "Epoch 324/500\n",
            "14/14 [==============================] - 0s 21ms/step - loss: 9.7777e-04 - rmse: 0.0333\n",
            "Epoch 325/500\n",
            "14/14 [==============================] - 0s 20ms/step - loss: 0.0011 - rmse: 0.0349\n",
            "Epoch 326/500\n",
            "14/14 [==============================] - 0s 20ms/step - loss: 0.0013 - rmse: 0.0372\n",
            "Epoch 327/500\n",
            "14/14 [==============================] - 0s 20ms/step - loss: 0.0012 - rmse: 0.0380\n",
            "Epoch 328/500\n",
            "14/14 [==============================] - 0s 20ms/step - loss: 0.0011 - rmse: 0.0349\n",
            "Epoch 329/500\n",
            "14/14 [==============================] - 0s 20ms/step - loss: 0.0020 - rmse: 0.0472\n",
            "Epoch 330/500\n",
            "14/14 [==============================] - 0s 22ms/step - loss: 0.0019 - rmse: 0.0446\n",
            "Epoch 331/500\n",
            "14/14 [==============================] - 0s 20ms/step - loss: 0.0020 - rmse: 0.0451\n",
            "Epoch 332/500\n",
            "14/14 [==============================] - 0s 22ms/step - loss: 0.0015 - rmse: 0.0423\n",
            "Epoch 333/500\n",
            "14/14 [==============================] - 0s 21ms/step - loss: 0.0022 - rmse: 0.0482\n",
            "Epoch 334/500\n",
            "14/14 [==============================] - 0s 24ms/step - loss: 0.0018 - rmse: 0.0447\n",
            "Epoch 335/500\n",
            "14/14 [==============================] - 0s 22ms/step - loss: 0.0020 - rmse: 0.0467\n",
            "Epoch 336/500\n",
            "14/14 [==============================] - 0s 21ms/step - loss: 0.0015 - rmse: 0.0405\n",
            "Epoch 337/500\n",
            "14/14 [==============================] - 0s 21ms/step - loss: 0.0017 - rmse: 0.0438\n",
            "Epoch 338/500\n",
            "14/14 [==============================] - 0s 20ms/step - loss: 0.0015 - rmse: 0.0400\n",
            "Epoch 339/500\n",
            "14/14 [==============================] - 0s 21ms/step - loss: 8.9737e-04 - rmse: 0.0330\n",
            "Epoch 340/500\n",
            "14/14 [==============================] - 0s 20ms/step - loss: 0.0015 - rmse: 0.0415\n",
            "Epoch 341/500\n",
            "14/14 [==============================] - 0s 22ms/step - loss: 0.0017 - rmse: 0.0457\n",
            "Epoch 342/500\n",
            "14/14 [==============================] - 0s 20ms/step - loss: 0.0014 - rmse: 0.0396\n",
            "Epoch 343/500\n",
            "14/14 [==============================] - 0s 22ms/step - loss: 0.0013 - rmse: 0.0381\n",
            "Epoch 344/500\n",
            "14/14 [==============================] - 0s 20ms/step - loss: 0.0015 - rmse: 0.0412\n",
            "Epoch 345/500\n",
            "14/14 [==============================] - 0s 21ms/step - loss: 0.0011 - rmse: 0.0370\n",
            "Epoch 346/500\n",
            "14/14 [==============================] - 0s 22ms/step - loss: 0.0019 - rmse: 0.0447\n",
            "Epoch 347/500\n",
            "14/14 [==============================] - 0s 21ms/step - loss: 0.0017 - rmse: 0.0442\n",
            "Epoch 348/500\n",
            "14/14 [==============================] - 0s 22ms/step - loss: 0.0019 - rmse: 0.0490\n",
            "Epoch 349/500\n",
            "14/14 [==============================] - 0s 22ms/step - loss: 0.0015 - rmse: 0.0418\n",
            "Epoch 350/500\n",
            "14/14 [==============================] - 0s 20ms/step - loss: 0.0020 - rmse: 0.0476\n",
            "Epoch 351/500\n",
            "14/14 [==============================] - 0s 21ms/step - loss: 0.0014 - rmse: 0.0409\n",
            "Epoch 352/500\n",
            "14/14 [==============================] - 0s 22ms/step - loss: 0.0012 - rmse: 0.0362\n",
            "Epoch 353/500\n",
            "14/14 [==============================] - 0s 22ms/step - loss: 0.0019 - rmse: 0.0445\n",
            "Epoch 354/500\n",
            "14/14 [==============================] - 0s 21ms/step - loss: 0.0018 - rmse: 0.0450\n",
            "Epoch 355/500\n",
            "14/14 [==============================] - 0s 23ms/step - loss: 0.0014 - rmse: 0.0380\n",
            "Epoch 356/500\n",
            "14/14 [==============================] - 0s 24ms/step - loss: 9.4436e-04 - rmse: 0.0324\n",
            "Epoch 357/500\n",
            "14/14 [==============================] - 0s 20ms/step - loss: 0.0011 - rmse: 0.0358\n",
            "Epoch 358/500\n",
            "14/14 [==============================] - 0s 21ms/step - loss: 0.0014 - rmse: 0.0380\n",
            "Epoch 359/500\n",
            "14/14 [==============================] - 0s 23ms/step - loss: 0.0011 - rmse: 0.0340\n",
            "Epoch 360/500\n",
            "14/14 [==============================] - 0s 22ms/step - loss: 0.0013 - rmse: 0.0372\n",
            "Epoch 361/500\n",
            "14/14 [==============================] - 0s 21ms/step - loss: 0.0013 - rmse: 0.0382\n",
            "Epoch 362/500\n",
            "14/14 [==============================] - 0s 21ms/step - loss: 0.0012 - rmse: 0.0394\n",
            "Epoch 363/500\n",
            "14/14 [==============================] - 0s 23ms/step - loss: 0.0014 - rmse: 0.0404\n",
            "Epoch 364/500\n",
            "14/14 [==============================] - 0s 21ms/step - loss: 0.0014 - rmse: 0.0403\n",
            "Epoch 365/500\n",
            "14/14 [==============================] - 0s 21ms/step - loss: 0.0014 - rmse: 0.0401\n",
            "Epoch 366/500\n",
            "14/14 [==============================] - 0s 21ms/step - loss: 0.0012 - rmse: 0.0325\n",
            "Epoch 367/500\n",
            "14/14 [==============================] - 0s 21ms/step - loss: 0.0015 - rmse: 0.0397\n",
            "Epoch 368/500\n",
            "14/14 [==============================] - 0s 22ms/step - loss: 0.0015 - rmse: 0.0425\n",
            "Epoch 369/500\n",
            "14/14 [==============================] - 0s 21ms/step - loss: 0.0015 - rmse: 0.0381\n",
            "Epoch 370/500\n",
            "14/14 [==============================] - 0s 21ms/step - loss: 0.0019 - rmse: 0.0425\n",
            "Epoch 371/500\n",
            "14/14 [==============================] - 0s 22ms/step - loss: 0.0015 - rmse: 0.0397\n",
            "Epoch 372/500\n",
            "14/14 [==============================] - 0s 21ms/step - loss: 0.0011 - rmse: 0.0336\n",
            "Epoch 373/500\n",
            "14/14 [==============================] - 0s 21ms/step - loss: 9.5234e-04 - rmse: 0.0321\n",
            "Epoch 374/500\n",
            "14/14 [==============================] - 0s 20ms/step - loss: 0.0014 - rmse: 0.0375\n",
            "Epoch 375/500\n",
            "14/14 [==============================] - 0s 21ms/step - loss: 0.0011 - rmse: 0.0331\n",
            "Epoch 376/500\n",
            "14/14 [==============================] - 0s 23ms/step - loss: 0.0017 - rmse: 0.0425\n",
            "Epoch 377/500\n",
            "14/14 [==============================] - 0s 21ms/step - loss: 0.0014 - rmse: 0.0394\n",
            "Epoch 378/500\n",
            "14/14 [==============================] - 0s 21ms/step - loss: 0.0012 - rmse: 0.0364\n",
            "Epoch 379/500\n",
            "14/14 [==============================] - 0s 21ms/step - loss: 0.0015 - rmse: 0.0391\n",
            "Epoch 380/500\n",
            "14/14 [==============================] - 0s 21ms/step - loss: 0.0012 - rmse: 0.0372\n",
            "Epoch 381/500\n",
            "14/14 [==============================] - 0s 21ms/step - loss: 0.0014 - rmse: 0.0384\n",
            "Epoch 382/500\n",
            "14/14 [==============================] - 0s 23ms/step - loss: 0.0015 - rmse: 0.0412\n",
            "Epoch 383/500\n",
            "14/14 [==============================] - 0s 21ms/step - loss: 0.0014 - rmse: 0.0407\n",
            "Epoch 384/500\n",
            "14/14 [==============================] - 0s 20ms/step - loss: 0.0011 - rmse: 0.0353\n",
            "Epoch 385/500\n",
            "14/14 [==============================] - 0s 22ms/step - loss: 0.0019 - rmse: 0.0437\n",
            "Epoch 386/500\n",
            "14/14 [==============================] - 0s 21ms/step - loss: 0.0020 - rmse: 0.0459\n",
            "Epoch 387/500\n",
            "14/14 [==============================] - 0s 22ms/step - loss: 0.0016 - rmse: 0.0432\n",
            "Epoch 388/500\n",
            "14/14 [==============================] - 0s 23ms/step - loss: 0.0016 - rmse: 0.0429\n",
            "Epoch 389/500\n",
            "14/14 [==============================] - 0s 23ms/step - loss: 0.0017 - rmse: 0.0447\n",
            "Epoch 390/500\n",
            "14/14 [==============================] - 0s 23ms/step - loss: 0.0018 - rmse: 0.0448\n",
            "Epoch 391/500\n",
            "14/14 [==============================] - 0s 22ms/step - loss: 0.0019 - rmse: 0.0460\n",
            "Epoch 392/500\n",
            "14/14 [==============================] - 0s 22ms/step - loss: 0.0017 - rmse: 0.0431\n",
            "Epoch 393/500\n",
            "14/14 [==============================] - 0s 22ms/step - loss: 0.0013 - rmse: 0.0368\n",
            "Epoch 394/500\n",
            "14/14 [==============================] - 0s 23ms/step - loss: 0.0012 - rmse: 0.0368\n",
            "Epoch 395/500\n",
            "14/14 [==============================] - 0s 22ms/step - loss: 0.0012 - rmse: 0.0356\n",
            "Epoch 396/500\n",
            "14/14 [==============================] - 0s 21ms/step - loss: 0.0010 - rmse: 0.0316\n",
            "Epoch 397/500\n",
            "14/14 [==============================] - 0s 23ms/step - loss: 0.0012 - rmse: 0.0350\n",
            "Epoch 398/500\n",
            "14/14 [==============================] - 0s 23ms/step - loss: 0.0013 - rmse: 0.0365\n",
            "Epoch 399/500\n",
            "14/14 [==============================] - 0s 20ms/step - loss: 0.0015 - rmse: 0.0410\n",
            "Epoch 400/500\n",
            "14/14 [==============================] - 0s 24ms/step - loss: 0.0014 - rmse: 0.0402\n",
            "Epoch 401/500\n",
            "14/14 [==============================] - 0s 24ms/step - loss: 0.0012 - rmse: 0.0377\n",
            "Epoch 402/500\n",
            "14/14 [==============================] - 0s 22ms/step - loss: 0.0014 - rmse: 0.0402\n",
            "Epoch 403/500\n",
            "14/14 [==============================] - 0s 22ms/step - loss: 0.0012 - rmse: 0.0355\n",
            "Epoch 404/500\n",
            "14/14 [==============================] - 0s 22ms/step - loss: 0.0015 - rmse: 0.0367\n",
            "Epoch 405/500\n",
            "14/14 [==============================] - 0s 20ms/step - loss: 0.0013 - rmse: 0.0367\n",
            "Epoch 406/500\n",
            "14/14 [==============================] - 0s 21ms/step - loss: 0.0020 - rmse: 0.0444\n",
            "Epoch 407/500\n",
            "14/14 [==============================] - 0s 23ms/step - loss: 0.0024 - rmse: 0.0432\n",
            "Epoch 408/500\n",
            "14/14 [==============================] - 0s 25ms/step - loss: 0.0017 - rmse: 0.0418\n",
            "Epoch 409/500\n",
            "14/14 [==============================] - 0s 22ms/step - loss: 0.0018 - rmse: 0.0420\n",
            "Epoch 410/500\n",
            "14/14 [==============================] - 0s 21ms/step - loss: 0.0020 - rmse: 0.0447\n",
            "Epoch 411/500\n",
            "14/14 [==============================] - 0s 21ms/step - loss: 0.0013 - rmse: 0.0352\n",
            "Epoch 412/500\n",
            "14/14 [==============================] - 0s 22ms/step - loss: 0.0014 - rmse: 0.0371\n",
            "Epoch 413/500\n",
            "14/14 [==============================] - 0s 22ms/step - loss: 0.0014 - rmse: 0.0375\n",
            "Epoch 414/500\n",
            "14/14 [==============================] - 0s 22ms/step - loss: 0.0015 - rmse: 0.0401\n",
            "Epoch 415/500\n",
            "14/14 [==============================] - 0s 20ms/step - loss: 0.0016 - rmse: 0.0387\n",
            "Epoch 416/500\n",
            "14/14 [==============================] - 0s 21ms/step - loss: 0.0012 - rmse: 0.0338\n",
            "Epoch 417/500\n",
            "14/14 [==============================] - 0s 22ms/step - loss: 0.0015 - rmse: 0.0401\n",
            "Epoch 418/500\n",
            "14/14 [==============================] - 0s 21ms/step - loss: 0.0014 - rmse: 0.0370\n",
            "Epoch 419/500\n",
            "14/14 [==============================] - 0s 21ms/step - loss: 0.0013 - rmse: 0.0330\n",
            "Epoch 420/500\n",
            "14/14 [==============================] - 0s 23ms/step - loss: 0.0014 - rmse: 0.0394\n",
            "Epoch 421/500\n",
            "14/14 [==============================] - 0s 22ms/step - loss: 0.0014 - rmse: 0.0367\n",
            "Epoch 422/500\n",
            "14/14 [==============================] - 0s 21ms/step - loss: 0.0014 - rmse: 0.0401\n",
            "Epoch 423/500\n",
            "14/14 [==============================] - 0s 21ms/step - loss: 0.0013 - rmse: 0.0387\n",
            "Epoch 424/500\n",
            "14/14 [==============================] - 0s 21ms/step - loss: 0.0012 - rmse: 0.0349\n",
            "Epoch 425/500\n",
            "14/14 [==============================] - 0s 20ms/step - loss: 0.0016 - rmse: 0.0399\n",
            "Epoch 426/500\n",
            "14/14 [==============================] - 0s 20ms/step - loss: 0.0014 - rmse: 0.0389\n",
            "Epoch 427/500\n",
            "14/14 [==============================] - 0s 21ms/step - loss: 0.0012 - rmse: 0.0367\n",
            "Epoch 428/500\n",
            "14/14 [==============================] - 0s 21ms/step - loss: 0.0013 - rmse: 0.0336\n",
            "Epoch 429/500\n",
            "14/14 [==============================] - 0s 21ms/step - loss: 0.0012 - rmse: 0.0367\n",
            "Epoch 430/500\n",
            "14/14 [==============================] - 0s 22ms/step - loss: 0.0017 - rmse: 0.0434\n",
            "Epoch 431/500\n",
            "14/14 [==============================] - 0s 21ms/step - loss: 0.0014 - rmse: 0.0390\n",
            "Epoch 432/500\n",
            "14/14 [==============================] - 0s 21ms/step - loss: 0.0018 - rmse: 0.0434\n",
            "Epoch 433/500\n",
            "14/14 [==============================] - 0s 23ms/step - loss: 0.0026 - rmse: 0.0483\n",
            "Epoch 434/500\n",
            "14/14 [==============================] - 0s 21ms/step - loss: 0.0018 - rmse: 0.0469\n",
            "Epoch 435/500\n",
            "14/14 [==============================] - 0s 20ms/step - loss: 0.0016 - rmse: 0.0436\n",
            "Epoch 436/500\n",
            "14/14 [==============================] - 0s 24ms/step - loss: 0.0013 - rmse: 0.0362\n",
            "Epoch 437/500\n",
            "14/14 [==============================] - 0s 22ms/step - loss: 0.0013 - rmse: 0.0366\n",
            "Epoch 438/500\n",
            "14/14 [==============================] - 0s 23ms/step - loss: 0.0012 - rmse: 0.0346\n",
            "Epoch 439/500\n",
            "14/14 [==============================] - 0s 22ms/step - loss: 0.0011 - rmse: 0.0346\n",
            "Epoch 440/500\n",
            "14/14 [==============================] - 0s 21ms/step - loss: 0.0011 - rmse: 0.0339\n",
            "Epoch 441/500\n",
            "14/14 [==============================] - 0s 22ms/step - loss: 0.0013 - rmse: 0.0354\n",
            "Epoch 442/500\n",
            "14/14 [==============================] - 0s 21ms/step - loss: 0.0012 - rmse: 0.0352\n",
            "Epoch 443/500\n",
            "14/14 [==============================] - 0s 23ms/step - loss: 0.0012 - rmse: 0.0360\n",
            "Epoch 444/500\n",
            "14/14 [==============================] - 0s 21ms/step - loss: 0.0011 - rmse: 0.0330\n",
            "Epoch 445/500\n",
            "14/14 [==============================] - 0s 21ms/step - loss: 0.0012 - rmse: 0.0360\n",
            "Epoch 446/500\n",
            "14/14 [==============================] - 0s 22ms/step - loss: 0.0011 - rmse: 0.0338\n",
            "Epoch 447/500\n",
            "14/14 [==============================] - 0s 22ms/step - loss: 0.0010 - rmse: 0.0339\n",
            "Epoch 448/500\n",
            "14/14 [==============================] - 0s 24ms/step - loss: 0.0013 - rmse: 0.0373\n",
            "Epoch 449/500\n",
            "14/14 [==============================] - 0s 26ms/step - loss: 0.0015 - rmse: 0.0441\n",
            "Epoch 450/500\n",
            "14/14 [==============================] - 0s 22ms/step - loss: 0.0016 - rmse: 0.0437\n",
            "Epoch 451/500\n",
            "14/14 [==============================] - 0s 21ms/step - loss: 0.0013 - rmse: 0.0362\n",
            "Epoch 452/500\n",
            "14/14 [==============================] - 0s 24ms/step - loss: 0.0011 - rmse: 0.0361\n",
            "Epoch 453/500\n",
            "14/14 [==============================] - 0s 22ms/step - loss: 0.0010 - rmse: 0.0314\n",
            "Epoch 454/500\n",
            "14/14 [==============================] - 0s 21ms/step - loss: 0.0012 - rmse: 0.0344\n",
            "Epoch 455/500\n",
            "14/14 [==============================] - 0s 22ms/step - loss: 7.7671e-04 - rmse: 0.0293\n",
            "Epoch 456/500\n",
            "14/14 [==============================] - 0s 21ms/step - loss: 0.0016 - rmse: 0.0399\n",
            "Epoch 457/500\n",
            "14/14 [==============================] - 0s 22ms/step - loss: 0.0016 - rmse: 0.0412\n",
            "Epoch 458/500\n",
            "14/14 [==============================] - 0s 22ms/step - loss: 0.0014 - rmse: 0.0379\n",
            "Epoch 459/500\n",
            "14/14 [==============================] - 0s 23ms/step - loss: 0.0035 - rmse: 0.0511\n",
            "Epoch 460/500\n",
            "14/14 [==============================] - 0s 21ms/step - loss: 0.0015 - rmse: 0.0376\n",
            "Epoch 461/500\n",
            "14/14 [==============================] - 0s 21ms/step - loss: 0.0015 - rmse: 0.0387\n",
            "Epoch 462/500\n",
            "14/14 [==============================] - 0s 21ms/step - loss: 0.0016 - rmse: 0.0430\n",
            "Epoch 463/500\n",
            "14/14 [==============================] - 0s 21ms/step - loss: 0.0015 - rmse: 0.0391\n",
            "Epoch 464/500\n",
            "14/14 [==============================] - 0s 22ms/step - loss: 0.0012 - rmse: 0.0340\n",
            "Epoch 465/500\n",
            "14/14 [==============================] - 0s 20ms/step - loss: 0.0015 - rmse: 0.0393\n",
            "Epoch 466/500\n",
            "14/14 [==============================] - 0s 21ms/step - loss: 0.0017 - rmse: 0.0400\n",
            "Epoch 467/500\n",
            "14/14 [==============================] - 0s 21ms/step - loss: 0.0022 - rmse: 0.0465\n",
            "Epoch 468/500\n",
            "14/14 [==============================] - 0s 22ms/step - loss: 0.0026 - rmse: 0.0484\n",
            "Epoch 469/500\n",
            "14/14 [==============================] - 0s 21ms/step - loss: 0.0018 - rmse: 0.0400\n",
            "Epoch 470/500\n",
            "14/14 [==============================] - 0s 21ms/step - loss: 0.0017 - rmse: 0.0410\n",
            "Epoch 471/500\n",
            "14/14 [==============================] - 0s 21ms/step - loss: 0.0018 - rmse: 0.0437\n",
            "Epoch 472/500\n",
            "14/14 [==============================] - 0s 21ms/step - loss: 0.0017 - rmse: 0.0416\n",
            "Epoch 473/500\n",
            "14/14 [==============================] - 0s 21ms/step - loss: 0.0022 - rmse: 0.0487\n",
            "Epoch 474/500\n",
            "14/14 [==============================] - 0s 20ms/step - loss: 0.0031 - rmse: 0.0501\n",
            "Epoch 475/500\n",
            "14/14 [==============================] - 0s 21ms/step - loss: 0.0023 - rmse: 0.0483\n",
            "Epoch 476/500\n",
            "14/14 [==============================] - 0s 21ms/step - loss: 0.0019 - rmse: 0.0449\n",
            "Epoch 477/500\n",
            "14/14 [==============================] - 0s 21ms/step - loss: 0.0015 - rmse: 0.0405\n",
            "Epoch 478/500\n",
            "14/14 [==============================] - 0s 22ms/step - loss: 0.0017 - rmse: 0.0445\n",
            "Epoch 479/500\n",
            "14/14 [==============================] - 0s 21ms/step - loss: 0.0017 - rmse: 0.0434\n",
            "Epoch 480/500\n",
            "14/14 [==============================] - 0s 22ms/step - loss: 0.0022 - rmse: 0.0509\n",
            "Epoch 481/500\n",
            "14/14 [==============================] - 0s 21ms/step - loss: 0.0020 - rmse: 0.0467\n",
            "Epoch 482/500\n",
            "14/14 [==============================] - 0s 22ms/step - loss: 0.0015 - rmse: 0.0426\n",
            "Epoch 483/500\n",
            "14/14 [==============================] - 0s 21ms/step - loss: 0.0016 - rmse: 0.0431\n",
            "Epoch 484/500\n",
            "14/14 [==============================] - 0s 21ms/step - loss: 0.0014 - rmse: 0.0392\n",
            "Epoch 485/500\n",
            "14/14 [==============================] - 0s 21ms/step - loss: 0.0013 - rmse: 0.0373\n",
            "Epoch 486/500\n",
            "14/14 [==============================] - 0s 22ms/step - loss: 0.0015 - rmse: 0.0399\n",
            "Epoch 487/500\n",
            "14/14 [==============================] - 0s 23ms/step - loss: 0.0014 - rmse: 0.0384\n",
            "Epoch 488/500\n",
            "14/14 [==============================] - 0s 21ms/step - loss: 0.0017 - rmse: 0.0429\n",
            "Epoch 489/500\n",
            "14/14 [==============================] - 0s 22ms/step - loss: 0.0015 - rmse: 0.0425\n",
            "Epoch 490/500\n",
            "14/14 [==============================] - 0s 21ms/step - loss: 0.0016 - rmse: 0.0444\n",
            "Epoch 491/500\n",
            "14/14 [==============================] - 0s 22ms/step - loss: 0.0012 - rmse: 0.0360\n",
            "Epoch 492/500\n",
            "14/14 [==============================] - 0s 22ms/step - loss: 9.8561e-04 - rmse: 0.0316\n",
            "Epoch 493/500\n",
            "14/14 [==============================] - 0s 22ms/step - loss: 0.0011 - rmse: 0.0336\n",
            "Epoch 494/500\n",
            "14/14 [==============================] - 0s 21ms/step - loss: 0.0011 - rmse: 0.0353\n",
            "Epoch 495/500\n",
            "14/14 [==============================] - 0s 22ms/step - loss: 0.0010 - rmse: 0.0342\n",
            "Epoch 496/500\n",
            "14/14 [==============================] - 0s 21ms/step - loss: 0.0011 - rmse: 0.0319\n",
            "Epoch 497/500\n",
            "14/14 [==============================] - 0s 22ms/step - loss: 0.0011 - rmse: 0.0347\n",
            "Epoch 498/500\n",
            "14/14 [==============================] - 0s 24ms/step - loss: 9.5375e-04 - rmse: 0.0313\n",
            "Epoch 499/500\n",
            "14/14 [==============================] - 0s 21ms/step - loss: 0.0011 - rmse: 0.0346\n",
            "Epoch 500/500\n",
            "14/14 [==============================] - 0s 22ms/step - loss: 0.0011 - rmse: 0.0325\n"
          ],
          "name": "stdout"
        },
        {
          "output_type": "execute_result",
          "data": {
            "text/plain": [
              "<tensorflow.python.keras.callbacks.History at 0x7fe860592090>"
            ]
          },
          "metadata": {
            "tags": []
          },
          "execution_count": 74
        }
      ]
    },
    {
      "cell_type": "markdown",
      "metadata": {
        "id": "QY5hIdSi-CNU"
      },
      "source": [
        "## Cross-Validating the model"
      ],
      "id": "QY5hIdSi-CNU"
    },
    {
      "cell_type": "markdown",
      "metadata": {
        "id": "FhHsXaiF-CNU"
      },
      "source": [
        "Extracting the data for test dataset, and performing the same operation as performed on training data. And, combining the dataset, and from this combined dataset extracting the data which will be given as input to the model.<br><br>\n",
        "The reason for the above process is, to predict the first few predictions, we also need past data that is available in training dataset, so we combine that required data with our test data and then pass it to the model.\n",
        "         "
      ],
      "id": "FhHsXaiF-CNU"
    },
    {
      "cell_type": "code",
      "metadata": {
        "id": "dpPyE0L7-CNU",
        "colab": {
          "base_uri": "https://localhost:8080/"
        },
        "outputId": "85d914ff-0a17-4c37-fe5d-4b0b19a11494"
      },
      "source": [
        "test_start = dt.datetime.now()-dt.timedelta(days=50)\n",
        "test_end = dt.datetime.now()\n",
        "\n",
        "test_data = pdr.get_data_yahoo(\"BNB-USD\", test_start, test_end)\n",
        "\n",
        "final_test = pd.DataFrame()\n",
        "final_test['Close_Open'] = test_data['Close'] - test_data['Open']\n",
        "final_test['High_Low'] = test_data['High'] - test_data['Low']\n",
        "final_test['t1'] = np.power(test_data[\"High\"]-test_data[\"Low\"],3)\n",
        "final_test['Close'] = test_data['Close']\n",
        "\n",
        "total_dataset = pd.concat((final_data,final_test),axis=0)\n",
        "model_inputs = np.array(total_dataset[len(total_dataset) - len(test_data)-prediction_days-1:])\n",
        "# model_inputs=difference(np.log10((model_inputs))).to_numpy()\n",
        "# model_inputs = model_inputs\n",
        "\n",
        "store_model_inputs = (model_inputs)\n",
        "model_inputs = np.array(difference(model_inputs))\n",
        "\n",
        "model_inputs = np.concatenate((scaler.transform(model_inputs[:,:3]), scaler_close.transform(model_inputs[:,3:4])),axis=1)\n",
        "actual_prices = (store_model_inputs[prediction_days+1:,3].reshape(-1,1))# difference(np.log10((test_data['Close']))).to_numpy()\n",
        "orig_recover_data = np.concatenate((np.array(store_model_inputs[prediction_days, store_model_inputs.shape[1]-1]).reshape(-1,1),actual_prices),axis=0)\n",
        "\n",
        "\n",
        "x_test = []\n",
        "for x in range(prediction_days, len(model_inputs)):\n",
        "    x_test.append(model_inputs[x-prediction_days:x])\n",
        "x_test = np.array(x_test)\n",
        "# x_test = np.reshape(x_test, (x_test.shape[0], x_test.shape[1],1))"
      ],
      "id": "dpPyE0L7-CNU",
      "execution_count": 117,
      "outputs": [
        {
          "output_type": "stream",
          "text": [
            "\r[*********************100%***********************]  1 of 1 completed\n"
          ],
          "name": "stdout"
        }
      ]
    },
    {
      "cell_type": "code",
      "metadata": {
        "id": "74FcVBkxbJPY",
        "outputId": "67a32e5b-55dd-47de-9822-c10d7b556ca3",
        "colab": {
          "base_uri": "https://localhost:8080/"
        }
      },
      "source": [
        "np.array(prediction_prices).shape\n",
        "a = (1,2,3)\n",
        "a[3:]\n",
        "# np.array(store_model_inputs[prediction_days, store_model_inputs.shape[1]-1]).reshape(-1,1)"
      ],
      "id": "74FcVBkxbJPY",
      "execution_count": 122,
      "outputs": [
        {
          "output_type": "execute_result",
          "data": {
            "text/plain": [
              "()"
            ]
          },
          "metadata": {
            "tags": []
          },
          "execution_count": 122
        }
      ]
    },
    {
      "cell_type": "markdown",
      "metadata": {
        "id": "Ie4oSryn-CNU"
      },
      "source": [
        "Predicting the prices using x_test, and comparing it with the actual prices"
      ],
      "id": "Ie4oSryn-CNU"
    },
    {
      "cell_type": "code",
      "metadata": {
        "id": "PdJvzBnJ-CNV",
        "colab": {
          "base_uri": "https://localhost:8080/",
          "height": 295
        },
        "outputId": "311758be-62f8-45f0-e49b-9e931931e93c"
      },
      "source": [
        "prediction_prices = model.predict(x_test)\n",
        "prediction_prices = scaler_close.inverse_transform(prediction_prices)\n",
        "prediction_prices = invert_difference(orig_recover_data,prediction_prices)\n",
        "\n",
        "# prediction_prices = scaler.inverse_transform(prediction_prices)\n",
        "# prediction_prices = scaler.inverse_transform(prediction_prices) \n",
        "plt.plot(actual_prices,color='black', label='Actual Prices')\n",
        "plt.plot(prediction_prices, color='green', label='Predicted Prices')\n",
        "plt.title(f'{crypto_currency} price prediction')\n",
        "plt.xlabel('Time')\n",
        "plt.ylabel('Price')\n",
        "# plt.legend(loc='lower left')\n",
        "plt.show()"
      ],
      "id": "PdJvzBnJ-CNV",
      "execution_count": 119,
      "outputs": [
        {
          "output_type": "display_data",
          "data": {
            "image/png": "[encoded data removed]",
            "text/plain": [
              "<Figure size 432x288 with 1 Axes>"
            ]
          },
          "metadata": {
            "tags": [],
            "needs_background": "light"
          }
        }
      ]
    },
    {
      "cell_type": "code",
      "metadata": {
        "id": "ebN4Kf_ssMYJ",
        "outputId": "3fd87186-fd61-491c-b4d1-bc0183ce790c",
        "colab": {
          "base_uri": "https://localhost:8080/",
          "height": 282
        }
      },
      "source": [
        "plt.plot(model.predict(x_test))"
      ],
      "id": "ebN4Kf_ssMYJ",
      "execution_count": 116,
      "outputs": [
        {
          "output_type": "execute_result",
          "data": {
            "text/plain": [
              "[<matplotlib.lines.Line2D at 0x7fe85c25a510>]"
            ]
          },
          "metadata": {
            "tags": []
          },
          "execution_count": 116
        },
        {
          "output_type": "display_data",
          "data": {
            "image/png": "[encoded data removed]",
            "text/plain": [
              "<Figure size 432x288 with 1 Axes>"
            ]
          },
          "metadata": {
            "tags": [],
            "needs_background": "light"
          }
        }
      ]
    },
    {
      "cell_type": "markdown",
      "metadata": {
        "id": "siAvsr4X-CNV"
      },
      "source": [
        "Comparing the RMSE scores of predicting on Training dataset vs Test Dataset.This will help us to check overfitting and improving our models."
      ],
      "id": "siAvsr4X-CNV"
    },
    {
      "cell_type": "code",
      "metadata": {
        "id": "2r0S-HxI-CNV",
        "colab": {
          "base_uri": "https://localhost:8080/",
          "height": 315
        },
        "outputId": "94aa71de-e371-464a-efaa-6fc5118001bd"
      },
      "source": [
        "# # Predict Next Day\n",
        "# real_data = [model_inputs[len(model_inputs) +1 - prediction_days: len(model_inputs) + 1,0]]\n",
        "# real_data = np.reshape(real_data,-1)\n",
        "# real_data = np.reshape(real_data, (real_data.shape))\n",
        "# prediction = model.predict(real_data)\n",
        "# prediction = scaler.inverse_transform(prediction)\n",
        "# print()\n",
        "# (prediction_prices)\n",
        "# plottiong training dataset  \n",
        "test = model.evaluate(x_test,actual_prices,verbose=0)[1];\n",
        "train = model.evaluate(x_train,y_train,verbose=0)[1];\n",
        "print(\"Test Data (RMSE) : \", test);\n",
        "print(\"Train Data (RMSE) : \", train);\n",
        "plt.plot(model.predict(x_train))\n",
        "plt.plot(y_train)"
      ],
      "id": "2r0S-HxI-CNV",
      "execution_count": 94,
      "outputs": [
        {
          "output_type": "stream",
          "text": [
            "Test Data (RMSE) :  328.7375183105469\n",
            "Train Data (RMSE) :  0.028071990236639977\n"
          ],
          "name": "stdout"
        },
        {
          "output_type": "execute_result",
          "data": {
            "text/plain": [
              "[<matplotlib.lines.Line2D at 0x7fe85c652d90>]"
            ]
          },
          "metadata": {
            "tags": []
          },
          "execution_count": 94
        },
        {
          "output_type": "display_data",
          "data": {
            "image/png": "[encoded data removed]",
            "text/plain": [
              "<Figure size 432x288 with 1 Axes>"
            ]
          },
          "metadata": {
            "tags": [],
            "needs_background": "light"
          }
        }
      ]
    },
    {
      "cell_type": "markdown",
      "metadata": {
        "id": "pZNBmgTn-CNV"
      },
      "source": [
        "## Notes\n",
        "for 1000 epochs, model is overfitting, 500 seems fine to me. Might decrease the epochs from 500\n",
        "Optimizer and loss are alright to i guess.\n",
        "activation function is next (marked in to-do in github projects)"
      ],
      "id": "pZNBmgTn-CNV"
    },
    {
      "cell_type": "markdown",
      "metadata": {
        "id": "KvW_5BWE-CNV"
      },
      "source": [
        "## Playground for trying various combination before they are finally incorporated into the notebook"
      ],
      "id": "KvW_5BWE-CNV"
    },
    {
      "cell_type": "code",
      "metadata": {
        "id": "hBDsoDPg-CNW"
      },
      "source": [
        "re = data['Close']).reshape(-1,1)\n",
        "data2 = scaler.fit_transform(re)\n",
        "# data2[3:]\n",
        "plt.plot(difference(np.log10((data2))).to_numpy(),color='black', label='Actual Prices')"
      ],
      "id": "hBDsoDPg-CNW",
      "execution_count": null,
      "outputs": []
    },
    {
      "cell_type": "code",
      "metadata": {
        "id": "4p_TDNQr-CNW"
      },
      "source": [
        "pd.Series(np.array(boxcox(data['Close'])))"
      ],
      "id": "4p_TDNQr-CNW",
      "execution_count": null,
      "outputs": []
    },
    {
      "cell_type": "code",
      "metadata": {
        "id": "IRmHp72D-CNW"
      },
      "source": [
        "# plt.plot(data['Open'])\n",
        "# plt.plot(data['Close'])\n",
        "plt.plot(data['High'] - data['Low'])\n",
        "plt.plot(data['Close'] - data['Open'])\n",
        "# plt.plot(data['Close'] - data['High'])\n",
        "# plt.plot(data['Close'] - data['Low'])\n",
        "# plt.plot(data['Low'])"
      ],
      "id": "IRmHp72D-CNW",
      "execution_count": null,
      "outputs": []
    },
    {
      "cell_type": "code",
      "metadata": {
        "id": "mB-m3grs-CNW"
      },
      "source": [
        "# #creating neural netowrk  Good Model\n",
        "# model = Sequential()                # could make units 50, for better prediction\n",
        "# model.add(LSTM(units=500, return_sequences=True, input_shape=(x_train.shape[1],x_train.shape[2]), activation=\"relu\" ))\n",
        "# # model.add(Dropout(0.2))\n",
        "# model.add(LSTM(units=500, activation=\"relu\"))\n",
        "# # model.add(Dropout(0.2))\n",
        "# # model.add(LSTM(units=50,activation=\"relu\"))\n",
        "# # model.add(Dense(units=100, activation=\"relu\"))\n",
        "# # model.add(Dropout(0.2))\n",
        "\n",
        "# model.add(Dense(units=1,activation=\"relu\"))\n",
        "# model.compile(optimizer='adam', loss='mean_squared_error',metrics=[rmse])\n",
        "# model.fit(x_train,y_train, epochs=100, batch_size=10)"
      ],
      "id": "mB-m3grs-CNW",
      "execution_count": null,
      "outputs": []
    },
    {
      "cell_type": "code",
      "metadata": {
        "id": "EW7kQPzD-CNW"
      },
      "source": [
        "# best model till now\n",
        "model = Sequential()                # could make units 50, for better prediction\n",
        "# model.add(LayerNormalization())     # Normalizing the input data \n",
        "# First LSTM layer\n",
        "model.add(LSTM(units=50,return_sequences=True,input_shape=(x_train.shape[1],x_train.shape[2]),activation=\"relu\",unroll=True))\n",
        "# model.add(Dropout(0.1))    # Removing some of the data from the previous layer to avoid overfitting\n",
        "model.add(BatchNormalization())\n",
        "model.add(LSTM(units=50, activation=\"relu\",unroll=True,return_sequences=True))#, return_sequences=True))    # Second LSTM Layer\n",
        "# model.add(Dropout(0.1))\n",
        "model.add(BatchNormalization())\n",
        "model.add(LSTM(units=50, return_sequences=True))\n",
        "# model.add(Dropout(0.1))\n",
        "model.add(BatchNormalization())\n",
        "model.add(LSTM(units=50, return_sequences=True))\n",
        "# model.add(Dropout(0.1))\n",
        "model.add(BatchNormalization())\n",
        "model.add(LSTM(units=50, return_sequences=True))\n",
        "# model.add(Dropout(0.1))\n",
        "model.add(BatchNormalization())\n",
        "model.add(LSTM(units=50, return_sequences=True))\n",
        "# model.add(Dropout(0.1))\n",
        "# model.add(LSTM(units=50, return_sequences=True))\n",
        "# model.add(Dropout(0.1))\n",
        "# model.add(LSTM(units=50, return_sequences=True))\n",
        "# model.add(Dropout(0.1))\n",
        "# model.add(LSTM(units=50, return_sequences=True))\n",
        "# model.add(Dropout(0.1))\n",
        "model.add(BatchNormalization())\n",
        "model.add(LSTM(units=50))\n",
        "# model.add(Dropout(0.1))\n",
        "model.add(BatchNormalization())\n",
        "## \n",
        "# model.add(Dropout(0.1))\n",
        "# model.add(LSTM(units=50,activation=\"relu\"))\n",
        "# model.add(Dense(units=500, activation=\"relu\"))\n",
        "# model.add(Dropout(0.2))\n",
        "\n",
        "model.add(Dense(units=1))  # Final LSTM Layer of unit=1, cause we have just one Output, that is, Closing Price\n",
        "model.compile(optimizer='adam', loss=tf.keras.losses.Huber(delta=1),metrics=[rmse])   # Compiling, optimizer and loss can be changed to optimize the model for our specific purpose\n",
        "model.fit(x_train,y_train, epochs=80, batch_size=10)"
      ],
      "id": "EW7kQPzD-CNW",
      "execution_count": null,
      "outputs": []
    },
    {
      "cell_type": "code",
      "metadata": {
        "id": "bzh0X95ypoMr"
      },
      "source": [
        ""
      ],
      "id": "bzh0X95ypoMr",
      "execution_count": null,
      "outputs": []
    }
  ]
}