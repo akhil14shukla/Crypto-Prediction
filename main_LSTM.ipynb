{
  "nbformat": 4,
  "nbformat_minor": 5,
  "metadata": {
    "kernelspec": {
      "name": "python3",
      "display_name": "Python 3.8.10 64-bit"
    },
    "language_info": {
      "codemirror_mode": {
        "name": "ipython",
        "version": 3
      },
      "file_extension": ".py",
      "mimetype": "text/x-python",
      "name": "python",
      "nbconvert_exporter": "python",
      "pygments_lexer": "ipython3",
      "version": "3.8.10"
    },
    "interpreter": {
      "hash": "916dbcbb3f70747c44a77c7bcd40155683ae19c65e1c03b4aa3499c5328201f1"
    },
    "colab": {
      "name": "Copy of main_LSTM.ipynb",
      "provenance": [],
      "collapsed_sections": [],
      "include_colab_link": true
    },
    "accelerator": "TPU"
  },
  "cells": [
    {
      "cell_type": "markdown",
      "metadata": {
        "id": "view-in-github",
        "colab_type": "text"
      },
      "source": [
        "<a href=\"https://colab.research.google.com/github/akhil14shukla/Crypto-Prediction/blob/master/main_LSTM.ipynb\" target=\"_parent\"><img src=\"https://colab.research.google.com/assets/colab-badge.svg\" alt=\"Open In Colab\"/></a>"
      ]
    },
    {
      "cell_type": "markdown",
      "metadata": {
        "id": "WrjMMA2H-CNJ"
      },
      "source": [
        "# Crypto-currency Price Prediction using LSTM (Long-Short Term Memory) Model\n",
        "\n",
        "We will **predict the price of the next day using the data of past few days**(exact number of past few days depends on the data). <br>Suppose we find that our price is highly correlated to the prices of last 7 days. Then, we will use the price of last 7 days to predict the price of tomorrow/next day.<br>\n",
        "But for predicting the price of day after tomorrow, we will be needing the price of tomorrow. This problem is not considered in this notebook, cause this notebook was created with the aim to predict the price of tomorrow.<br><br>\n",
        "But we can still solve this problem using two ways:<br><br>\n",
        "1. Directly training the model to predict the price of day after tomorrow rather than tomorrow, using the past data. <br><br>\n",
        "2. Using the predicted price of tomorrow as historical data, and using it to predict the price of day after tomorrow, and adding this to historical dataset, to predict the price of next day, and so on.<br><br>\n",
        "\n",
        "_Notes - _<br>\n",
        "_1. The error will be a bit greater in the above methods_<br>\n",
        "_2. Past data and historical data are used synonymously_\n"
      ],
      "id": "WrjMMA2H-CNJ"
    },
    {
      "cell_type": "markdown",
      "metadata": {
        "id": "LMUsqt_X-CNK"
      },
      "source": [
        "Notebook is divided into Sections :<br>\n",
        "1. Data Import<br>\n",
        "2. Understanding the distribution of the data<br>\n",
        "3. Data Transformation<br>\n",
        "4. Model Building and Training<br>\n",
        "6. Cross-Validating the model<br><br>\n",
        "7. Notes<br>\n",
        "8. Playground"
      ],
      "id": "LMUsqt_X-CNK"
    },
    {
      "cell_type": "code",
      "metadata": {
        "id": "d62efca1",
        "colab": {
          "base_uri": "https://localhost:8080/"
        },
        "outputId": "7112ceed-e31c-428d-9ae0-2a30e3702a7e"
      },
      "source": [
        "# Importing the required libraries\n",
        "import pandas  as pd \n",
        "import numpy as np\n",
        "import matplotlib.pyplot as plt \n",
        "import seaborn as sns\n",
        "import pandas_datareader as web\n",
        "import datetime as dt \n",
        "!pip install yfinance\n",
        "import yfinance as yf\n",
        "!pip install sktime\n",
        "import sktime\n",
        "import pandas_datareader.data as pdr\n",
        "import tensorflow as tf\n",
        "from sklearn.preprocessing import MinMaxScaler, PowerTransformer\n",
        "from tensorflow.keras.layers import Dense, Dropout, LSTM, LayerNormalization,Activation, BatchNormalization\n",
        "from tensorflow.keras.models import Sequential\n",
        "from statsmodels.tsa.stattools import adfuller\n",
        "from tensorflow.keras import backend\n",
        "from sklearn.metrics import mean_squared_error\n",
        "# from pycaret.regression import *"
      ],
      "id": "d62efca1",
      "execution_count": 1,
      "outputs": [
        {
          "output_type": "stream",
          "text": [
            "Requirement already satisfied: yfinance in /usr/local/lib/python3.7/dist-packages (0.1.63)\n",
            "Requirement already satisfied: pandas>=0.24 in /usr/local/lib/python3.7/dist-packages (from yfinance) (1.1.5)\n",
            "Requirement already satisfied: multitasking>=0.0.7 in /usr/local/lib/python3.7/dist-packages (from yfinance) (0.0.9)\n",
            "Requirement already satisfied: requests>=2.20 in /usr/local/lib/python3.7/dist-packages (from yfinance) (2.23.0)\n",
            "Requirement already satisfied: numpy>=1.15 in /usr/local/lib/python3.7/dist-packages (from yfinance) (1.19.5)\n",
            "Requirement already satisfied: lxml>=4.5.1 in /usr/local/lib/python3.7/dist-packages (from yfinance) (4.6.3)\n",
            "Requirement already satisfied: pytz>=2017.2 in /usr/local/lib/python3.7/dist-packages (from pandas>=0.24->yfinance) (2018.9)\n",
            "Requirement already satisfied: python-dateutil>=2.7.3 in /usr/local/lib/python3.7/dist-packages (from pandas>=0.24->yfinance) (2.8.1)\n",
            "Requirement already satisfied: idna<3,>=2.5 in /usr/local/lib/python3.7/dist-packages (from requests>=2.20->yfinance) (2.10)\n",
            "Requirement already satisfied: chardet<4,>=3.0.2 in /usr/local/lib/python3.7/dist-packages (from requests>=2.20->yfinance) (3.0.4)\n",
            "Requirement already satisfied: certifi>=2017.4.17 in /usr/local/lib/python3.7/dist-packages (from requests>=2.20->yfinance) (2021.5.30)\n",
            "Requirement already satisfied: urllib3!=1.25.0,!=1.25.1,<1.26,>=1.21.1 in /usr/local/lib/python3.7/dist-packages (from requests>=2.20->yfinance) (1.24.3)\n",
            "Requirement already satisfied: six>=1.5 in /usr/local/lib/python3.7/dist-packages (from python-dateutil>=2.7.3->pandas>=0.24->yfinance) (1.15.0)\n",
            "Requirement already satisfied: sktime in /usr/local/lib/python3.7/dist-packages (0.7.0)\n",
            "Requirement already satisfied: numba>=0.50 in /usr/local/lib/python3.7/dist-packages (from sktime) (0.51.2)\n",
            "Requirement already satisfied: statsmodels>=0.12.1 in /usr/local/lib/python3.7/dist-packages (from sktime) (0.12.2)\n",
            "Requirement already satisfied: scikit-learn>=0.24.0 in /usr/local/lib/python3.7/dist-packages (from sktime) (0.24.2)\n",
            "Requirement already satisfied: pandas>=1.1.0 in /usr/local/lib/python3.7/dist-packages (from sktime) (1.1.5)\n",
            "Requirement already satisfied: numpy>=1.19.0 in /usr/local/lib/python3.7/dist-packages (from sktime) (1.19.5)\n",
            "Requirement already satisfied: wheel in /usr/local/lib/python3.7/dist-packages (from sktime) (0.36.2)\n",
            "Requirement already satisfied: setuptools in /usr/local/lib/python3.7/dist-packages (from numba>=0.50->sktime) (57.2.0)\n",
            "Requirement already satisfied: llvmlite<0.35,>=0.34.0.dev0 in /usr/local/lib/python3.7/dist-packages (from numba>=0.50->sktime) (0.34.0)\n",
            "Requirement already satisfied: patsy>=0.5 in /usr/local/lib/python3.7/dist-packages (from statsmodels>=0.12.1->sktime) (0.5.1)\n",
            "Requirement already satisfied: scipy>=1.1 in /usr/local/lib/python3.7/dist-packages (from statsmodels>=0.12.1->sktime) (1.4.1)\n",
            "Requirement already satisfied: joblib>=0.11 in /usr/local/lib/python3.7/dist-packages (from scikit-learn>=0.24.0->sktime) (1.0.1)\n",
            "Requirement already satisfied: threadpoolctl>=2.0.0 in /usr/local/lib/python3.7/dist-packages (from scikit-learn>=0.24.0->sktime) (2.2.0)\n",
            "Requirement already satisfied: python-dateutil>=2.7.3 in /usr/local/lib/python3.7/dist-packages (from pandas>=1.1.0->sktime) (2.8.1)\n",
            "Requirement already satisfied: pytz>=2017.2 in /usr/local/lib/python3.7/dist-packages (from pandas>=1.1.0->sktime) (2018.9)\n",
            "Requirement already satisfied: six in /usr/local/lib/python3.7/dist-packages (from patsy>=0.5->statsmodels>=0.12.1->sktime) (1.15.0)\n"
          ],
          "name": "stdout"
        }
      ]
    },
    {
      "cell_type": "markdown",
      "metadata": {
        "id": "Adg3eNPA-CNL"
      },
      "source": [
        "## Data Import"
      ],
      "id": "Adg3eNPA-CNL"
    },
    {
      "cell_type": "markdown",
      "metadata": {
        "id": "YvDLCQVW-CNL"
      },
      "source": [
        "Choose the cryptocurrency we want to predict, and the period of time whose data we want to collect."
      ],
      "id": "YvDLCQVW-CNL"
    },
    {
      "cell_type": "code",
      "metadata": {
        "id": "S8S2ir7j-CNM"
      },
      "source": [
        "crypto_currency = 'BNB'\n",
        "against_currency ='USD'\n",
        "start = dt.datetime(2021,1,1)\n",
        "end = dt.datetime.now()-dt.timedelta(days=50)"
      ],
      "id": "S8S2ir7j-CNM",
      "execution_count": 2,
      "outputs": []
    },
    {
      "cell_type": "markdown",
      "metadata": {
        "id": "mktQL7eJ-CNM"
      },
      "source": [
        "Extracting the above chosen data using Yahoo-Finance API"
      ],
      "id": "mktQL7eJ-CNM"
    },
    {
      "cell_type": "code",
      "metadata": {
        "id": "wuJNGma5-CNM",
        "colab": {
          "base_uri": "https://localhost:8080/"
        },
        "outputId": "b72fdc7d-21de-4a9e-a184-1f5f5905f612"
      },
      "source": [
        "yf.pdr_override()\n",
        "data = pdr.get_data_yahoo(\"BNB-USD\", start, end)\n",
        "# Importing the extracted data in PyCaret\n",
        "# df = setup(data,target = \"Close\",ignore_features=[\"Volume\",\"Adj Close\"], use_gpu=True,imputation_type='iterative', feature_ratio=True, feature_interaction=True, normalize=True, transform_target=True)           "
      ],
      "id": "wuJNGma5-CNM",
      "execution_count": 3,
      "outputs": [
        {
          "output_type": "stream",
          "text": [
            "\r[*********************100%***********************]  1 of 1 completed\n"
          ],
          "name": "stdout"
        }
      ]
    },
    {
      "cell_type": "markdown",
      "metadata": {
        "id": "PzaBlzG1-CNN"
      },
      "source": [
        "## Understaning the distribution of the data"
      ],
      "id": "PzaBlzG1-CNN"
    },
    {
      "cell_type": "code",
      "metadata": {
        "colab": {
          "base_uri": "https://localhost:8080/",
          "height": 373
        },
        "id": "05ukpEoPO28Y",
        "outputId": "febb5c6e-b06e-41b6-d7f3-50ada5f71b00"
      },
      "source": [
        "data.head(10)"
      ],
      "id": "05ukpEoPO28Y",
      "execution_count": 4,
      "outputs": [
        {
          "output_type": "execute_result",
          "data": {
            "text/html": [
              "<div>\n",
              "<style scoped>\n",
              "    .dataframe tbody tr th:only-of-type {\n",
              "        vertical-align: middle;\n",
              "    }\n",
              "\n",
              "    .dataframe tbody tr th {\n",
              "        vertical-align: top;\n",
              "    }\n",
              "\n",
              "    .dataframe thead th {\n",
              "        text-align: right;\n",
              "    }\n",
              "</style>\n",
              "<table border=\"1\" class=\"dataframe\">\n",
              "  <thead>\n",
              "    <tr style=\"text-align: right;\">\n",
              "      <th></th>\n",
              "      <th>Open</th>\n",
              "      <th>High</th>\n",
              "      <th>Low</th>\n",
              "      <th>Close</th>\n",
              "      <th>Adj Close</th>\n",
              "      <th>Volume</th>\n",
              "    </tr>\n",
              "    <tr>\n",
              "      <th>Date</th>\n",
              "      <th></th>\n",
              "      <th></th>\n",
              "      <th></th>\n",
              "      <th></th>\n",
              "      <th></th>\n",
              "      <th></th>\n",
              "    </tr>\n",
              "  </thead>\n",
              "  <tbody>\n",
              "    <tr>\n",
              "      <th>2021-01-01</th>\n",
              "      <td>37.374573</td>\n",
              "      <td>38.928177</td>\n",
              "      <td>37.046307</td>\n",
              "      <td>37.905010</td>\n",
              "      <td>37.905010</td>\n",
              "      <td>459165743</td>\n",
              "    </tr>\n",
              "    <tr>\n",
              "      <th>2021-01-02</th>\n",
              "      <td>37.917107</td>\n",
              "      <td>38.836254</td>\n",
              "      <td>36.925602</td>\n",
              "      <td>38.241592</td>\n",
              "      <td>38.241592</td>\n",
              "      <td>521965394</td>\n",
              "    </tr>\n",
              "    <tr>\n",
              "      <th>2021-01-03</th>\n",
              "      <td>38.253727</td>\n",
              "      <td>41.606323</td>\n",
              "      <td>37.818104</td>\n",
              "      <td>41.148979</td>\n",
              "      <td>41.148979</td>\n",
              "      <td>758008613</td>\n",
              "    </tr>\n",
              "    <tr>\n",
              "      <th>2021-01-04</th>\n",
              "      <td>41.198280</td>\n",
              "      <td>43.132122</td>\n",
              "      <td>38.143982</td>\n",
              "      <td>40.926353</td>\n",
              "      <td>40.926353</td>\n",
              "      <td>807877171</td>\n",
              "    </tr>\n",
              "    <tr>\n",
              "      <th>2021-01-05</th>\n",
              "      <td>40.937279</td>\n",
              "      <td>41.734600</td>\n",
              "      <td>38.978954</td>\n",
              "      <td>41.734600</td>\n",
              "      <td>41.734600</td>\n",
              "      <td>644270927</td>\n",
              "    </tr>\n",
              "    <tr>\n",
              "      <th>2021-01-06</th>\n",
              "      <td>41.775536</td>\n",
              "      <td>42.192703</td>\n",
              "      <td>40.592529</td>\n",
              "      <td>42.165955</td>\n",
              "      <td>42.165955</td>\n",
              "      <td>641021601</td>\n",
              "    </tr>\n",
              "    <tr>\n",
              "      <th>2021-01-07</th>\n",
              "      <td>42.196625</td>\n",
              "      <td>44.470036</td>\n",
              "      <td>41.495869</td>\n",
              "      <td>43.449490</td>\n",
              "      <td>43.449490</td>\n",
              "      <td>829964770</td>\n",
              "    </tr>\n",
              "    <tr>\n",
              "      <th>2021-01-08</th>\n",
              "      <td>43.568687</td>\n",
              "      <td>43.590466</td>\n",
              "      <td>40.534481</td>\n",
              "      <td>42.395317</td>\n",
              "      <td>42.395317</td>\n",
              "      <td>650561500</td>\n",
              "    </tr>\n",
              "    <tr>\n",
              "      <th>2021-01-09</th>\n",
              "      <td>42.373695</td>\n",
              "      <td>44.119743</td>\n",
              "      <td>41.590103</td>\n",
              "      <td>43.932854</td>\n",
              "      <td>43.932854</td>\n",
              "      <td>590039660</td>\n",
              "    </tr>\n",
              "    <tr>\n",
              "      <th>2021-01-10</th>\n",
              "      <td>43.944122</td>\n",
              "      <td>45.155418</td>\n",
              "      <td>40.594864</td>\n",
              "      <td>42.448475</td>\n",
              "      <td>42.448475</td>\n",
              "      <td>701488832</td>\n",
              "    </tr>\n",
              "  </tbody>\n",
              "</table>\n",
              "</div>"
            ],
            "text/plain": [
              "                 Open       High        Low      Close  Adj Close     Volume\n",
              "Date                                                                        \n",
              "2021-01-01  37.374573  38.928177  37.046307  37.905010  37.905010  459165743\n",
              "2021-01-02  37.917107  38.836254  36.925602  38.241592  38.241592  521965394\n",
              "2021-01-03  38.253727  41.606323  37.818104  41.148979  41.148979  758008613\n",
              "2021-01-04  41.198280  43.132122  38.143982  40.926353  40.926353  807877171\n",
              "2021-01-05  40.937279  41.734600  38.978954  41.734600  41.734600  644270927\n",
              "2021-01-06  41.775536  42.192703  40.592529  42.165955  42.165955  641021601\n",
              "2021-01-07  42.196625  44.470036  41.495869  43.449490  43.449490  829964770\n",
              "2021-01-08  43.568687  43.590466  40.534481  42.395317  42.395317  650561500\n",
              "2021-01-09  42.373695  44.119743  41.590103  43.932854  43.932854  590039660\n",
              "2021-01-10  43.944122  45.155418  40.594864  42.448475  42.448475  701488832"
            ]
          },
          "metadata": {
            "tags": []
          },
          "execution_count": 4
        }
      ]
    },
    {
      "cell_type": "markdown",
      "metadata": {
        "id": "RJhqjw2BM-sK"
      },
      "source": [
        "Plotting Closing price of the cryptocurrency"
      ],
      "id": "RJhqjw2BM-sK"
    },
    {
      "cell_type": "code",
      "metadata": {
        "colab": {
          "base_uri": "https://localhost:8080/",
          "height": 688
        },
        "id": "xepNXH57M5KH",
        "outputId": "e9e3e17d-6ac5-4e20-ad31-ee56d05a48aa"
      },
      "source": [
        "sns.set(palette=sns.color_palette(\"Blues_r\"),style=\"whitegrid\",context=\"poster\", font_scale=1.4)\n",
        "fig, ax = plt.subplots(figsize=(20,10))\n",
        "plt.plot(data[\"Close\"])\n",
        "sns.despine(top=True,right=True,bottom=False, left=False)\n",
        "plt.xlabel(\"Timeline\")\n",
        "plt.ylabel(\"Prices in USD\")\n",
        "plt.title(\"Closing Price Distribution\")\n",
        "plt.show()\n"
      ],
      "id": "xepNXH57M5KH",
      "execution_count": 5,
      "outputs": [
        {
          "output_type": "display_data",
          "data": {
            "image/png": "[encoded data removed]",
            "text/plain": [
              "<Figure size 1440x720 with 1 Axes>"
            ]
          },
          "metadata": {
            "tags": []
          }
        }
      ]
    },
    {
      "cell_type": "markdown",
      "metadata": {
        "id": "Stsu8YglV5Kf"
      },
      "source": [
        "Doing ADF test on the original series"
      ],
      "id": "Stsu8YglV5Kf"
    },
    {
      "cell_type": "code",
      "metadata": {
        "colab": {
          "base_uri": "https://localhost:8080/"
        },
        "id": "6_uWq4zfV3kb",
        "outputId": "eb2baddb-726d-48e2-8e7b-09b015135dd8"
      },
      "source": [
        "adf_orig = adfuller(data[\"Close\"])\n",
        "print('ADF Statistic: %f' % adf_orig[0])\n",
        "print('p-value: %f' % adf_orig[1])"
      ],
      "id": "6_uWq4zfV3kb",
      "execution_count": 6,
      "outputs": [
        {
          "output_type": "stream",
          "text": [
            "ADF Statistic: -1.338654\n",
            "p-value: 0.611308\n"
          ],
          "name": "stdout"
        }
      ]
    },
    {
      "cell_type": "code",
      "metadata": {
        "id": "M8IFUrUg-CNN"
      },
      "source": [
        "# Distribution of our target variable -> Close\n",
        "# from scipy.special import boxcox1p\n",
        "# plt.plot(np.array(final_data[\"Close\"]))"
      ],
      "id": "M8IFUrUg-CNN",
      "execution_count": 7,
      "outputs": []
    },
    {
      "cell_type": "markdown",
      "metadata": {
        "id": "jCWLAMq8-CNN"
      },
      "source": [
        "### Checking if our series is affected by past values"
      ],
      "id": "jCWLAMq8-CNN"
    },
    {
      "cell_type": "code",
      "metadata": {
        "id": "iHdeLaPl-CNO",
        "colab": {
          "base_uri": "https://localhost:8080/",
          "height": 642
        },
        "outputId": "329e3bb2-83e6-4319-dd2f-a289462ba982"
      },
      "source": [
        "sns.set(palette=sns.color_palette(\"Blues_r\"),style=\"whitegrid\",context=\"talk\")\n",
        "from statsmodels.graphics.tsaplots import plot_acf, plot_pacf\n",
        "plot_acf(data['Close'], lags=20)\n",
        "plt.xlabel(\"Lags\")\n",
        "plt.ylabel(\"Correlation\")\n",
        "plot_pacf(data['Close'], lags=20)\n",
        "plt.xlabel(\"Lags\")\n",
        "plt.ylabel(\"Correlation\")"
      ],
      "id": "iHdeLaPl-CNO",
      "execution_count": 40,
      "outputs": [
        {
          "output_type": "execute_result",
          "data": {
            "text/plain": [
              "Text(0, 0.5, 'Correlation')"
            ]
          },
          "metadata": {
            "tags": []
          },
          "execution_count": 40
        },
        {
          "output_type": "display_data",
          "data": {
            "image/png": "[encoded data removed]",
            "text/plain": [
              "<Figure size 432x288 with 1 Axes>"
            ]
          },
          "metadata": {
            "tags": []
          }
        },
        {
          "output_type": "display_data",
          "data": {
            "image/png": "[encoded data removed]",
            "text/plain": [
              "<Figure size 432x288 with 1 Axes>"
            ]
          },
          "metadata": {
            "tags": []
          }
        }
      ]
    },
    {
      "cell_type": "markdown",
      "metadata": {
        "id": "XDap_pnA-CNO"
      },
      "source": [
        "From the above plots, lags are highly correlated to the value at hand. This will be useful while preparing the data for the model, and we will pass tha value, based on the above Observation."
      ],
      "id": "XDap_pnA-CNO"
    },
    {
      "cell_type": "code",
      "metadata": {
        "colab": {
          "base_uri": "https://localhost:8080/",
          "height": 402
        },
        "id": "_1dRBSCGm7bL",
        "outputId": "b35189de-40bd-4b48-b351-50f8540d7d85"
      },
      "source": [
        "final_data"
      ],
      "id": "_1dRBSCGm7bL",
      "execution_count": 41,
      "outputs": [
        {
          "output_type": "execute_result",
          "data": {
            "text/html": [
              "<div>\n",
              "<style scoped>\n",
              "    .dataframe tbody tr th:only-of-type {\n",
              "        vertical-align: middle;\n",
              "    }\n",
              "\n",
              "    .dataframe tbody tr th {\n",
              "        vertical-align: top;\n",
              "    }\n",
              "\n",
              "    .dataframe thead th {\n",
              "        text-align: right;\n",
              "    }\n",
              "</style>\n",
              "<table border=\"1\" class=\"dataframe\">\n",
              "  <thead>\n",
              "    <tr style=\"text-align: right;\">\n",
              "      <th></th>\n",
              "      <th>0</th>\n",
              "      <th>1</th>\n",
              "      <th>2</th>\n",
              "      <th>3</th>\n",
              "    </tr>\n",
              "  </thead>\n",
              "  <tbody>\n",
              "    <tr>\n",
              "      <th>0</th>\n",
              "      <td>-0.205952</td>\n",
              "      <td>0.028782</td>\n",
              "      <td>0.310488</td>\n",
              "      <td>0.336582</td>\n",
              "    </tr>\n",
              "    <tr>\n",
              "      <th>1</th>\n",
              "      <td>2.570766</td>\n",
              "      <td>1.877567</td>\n",
              "      <td>47.388236</td>\n",
              "      <td>2.907387</td>\n",
              "    </tr>\n",
              "    <tr>\n",
              "      <th>2</th>\n",
              "      <td>-3.167179</td>\n",
              "      <td>1.199921</td>\n",
              "      <td>69.749369</td>\n",
              "      <td>-0.222626</td>\n",
              "    </tr>\n",
              "    <tr>\n",
              "      <th>3</th>\n",
              "      <td>1.069248</td>\n",
              "      <td>-2.232494</td>\n",
              "      <td>-103.187390</td>\n",
              "      <td>0.808247</td>\n",
              "    </tr>\n",
              "    <tr>\n",
              "      <th>4</th>\n",
              "      <td>-0.406902</td>\n",
              "      <td>-1.155472</td>\n",
              "      <td>-16.827890</td>\n",
              "      <td>0.431355</td>\n",
              "    </tr>\n",
              "    <tr>\n",
              "      <th>...</th>\n",
              "      <td>...</td>\n",
              "      <td>...</td>\n",
              "      <td>...</td>\n",
              "      <td>...</td>\n",
              "    </tr>\n",
              "    <tr>\n",
              "      <th>144</th>\n",
              "      <td>37.698181</td>\n",
              "      <td>-16.159515</td>\n",
              "      <td>-168598.072961</td>\n",
              "      <td>35.740326</td>\n",
              "    </tr>\n",
              "    <tr>\n",
              "      <th>145</th>\n",
              "      <td>-48.360016</td>\n",
              "      <td>-4.108978</td>\n",
              "      <td>-29197.487099</td>\n",
              "      <td>-12.198517</td>\n",
              "    </tr>\n",
              "    <tr>\n",
              "      <th>146</th>\n",
              "      <td>-27.918091</td>\n",
              "      <td>12.990967</td>\n",
              "      <td>110414.660245</td>\n",
              "      <td>-37.775879</td>\n",
              "    </tr>\n",
              "    <tr>\n",
              "      <th>147</th>\n",
              "      <td>16.021088</td>\n",
              "      <td>-9.237000</td>\n",
              "      <td>-83936.589703</td>\n",
              "      <td>-24.827759</td>\n",
              "    </tr>\n",
              "    <tr>\n",
              "      <th>148</th>\n",
              "      <td>44.676147</td>\n",
              "      <td>-5.463196</td>\n",
              "      <td>-37209.365354</td>\n",
              "      <td>20.731873</td>\n",
              "    </tr>\n",
              "  </tbody>\n",
              "</table>\n",
              "<p>149 rows × 4 columns</p>\n",
              "</div>"
            ],
            "text/plain": [
              "             0          1              2          3\n",
              "0    -0.205952   0.028782       0.310488   0.336582\n",
              "1     2.570766   1.877567      47.388236   2.907387\n",
              "2    -3.167179   1.199921      69.749369  -0.222626\n",
              "3     1.069248  -2.232494    -103.187390   0.808247\n",
              "4    -0.406902  -1.155472     -16.827890   0.431355\n",
              "..         ...        ...            ...        ...\n",
              "144  37.698181 -16.159515 -168598.072961  35.740326\n",
              "145 -48.360016  -4.108978  -29197.487099 -12.198517\n",
              "146 -27.918091  12.990967  110414.660245 -37.775879\n",
              "147  16.021088  -9.237000  -83936.589703 -24.827759\n",
              "148  44.676147  -5.463196  -37209.365354  20.731873\n",
              "\n",
              "[149 rows x 4 columns]"
            ]
          },
          "metadata": {
            "tags": []
          },
          "execution_count": 41
        }
      ]
    },
    {
      "cell_type": "markdown",
      "metadata": {
        "id": "hCtcelem-CNO"
      },
      "source": [
        "From here, I tried various plots of interactions and transformations of the attributes."
      ],
      "id": "hCtcelem-CNO"
    },
    {
      "cell_type": "code",
      "metadata": {
        "id": "TVKk6AXh-CNO",
        "colab": {
          "base_uri": "https://localhost:8080/",
          "height": 798
        },
        "outputId": "44233edb-e612-42d0-cd37-d0a34bcd0666"
      },
      "source": [
        "plt.figure() \n",
        "sns.set()\n",
        "plt.plot(data[\"High\"]/data[\"Low\"])\n",
        "plt.figure()\n",
        "plt.plot((np.power(data[\"High\"]-data[\"Low\"],3)))\n",
        "plt.figure()\n",
        "plt.plot(data[\"Open\"]-data[\"Close\"])"
      ],
      "id": "TVKk6AXh-CNO",
      "execution_count": 43,
      "outputs": [
        {
          "output_type": "execute_result",
          "data": {
            "text/plain": [
              "[<matplotlib.lines.Line2D at 0x7f1e23477ed0>]"
            ]
          },
          "metadata": {
            "tags": []
          },
          "execution_count": 43
        },
        {
          "output_type": "display_data",
          "data": {
            "image/png": "[encoded data removed]",
            "text/plain": [
              "<Figure size 432x288 with 1 Axes>"
            ]
          },
          "metadata": {
            "tags": []
          }
        },
        {
          "output_type": "display_data",
          "data": {
            "image/png": "[encoded data removed]",
            "text/plain": [
              "<Figure size 432x288 with 1 Axes>"
            ]
          },
          "metadata": {
            "tags": []
          }
        },
        {
          "output_type": "display_data",
          "data": {
            "image/png": "[encoded data removed]",
            "text/plain": [
              "<Figure size 432x288 with 1 Axes>"
            ]
          },
          "metadata": {
            "tags": []
          }
        }
      ]
    },
    {
      "cell_type": "markdown",
      "metadata": {
        "id": "NPYBQxKM-CNO"
      },
      "source": [
        "## Data Cleaning and Transformation"
      ],
      "id": "NPYBQxKM-CNO"
    },
    {
      "cell_type": "code",
      "metadata": {
        "id": "w38l_MW0-CNP",
        "colab": {
          "base_uri": "https://localhost:8080/"
        },
        "outputId": "d23d18e7-4222-447e-a4a1-e330e9934652"
      },
      "source": [
        "print(data.isnull().sum())     # checking for missing values"
      ],
      "id": "w38l_MW0-CNP",
      "execution_count": 10,
      "outputs": [
        {
          "output_type": "stream",
          "text": [
            "Open         0\n",
            "High         0\n",
            "Low          0\n",
            "Close        0\n",
            "Adj Close    0\n",
            "Volume       0\n",
            "dtype: int64\n"
          ],
          "name": "stdout"
        }
      ]
    },
    {
      "cell_type": "markdown",
      "metadata": {
        "id": "PdXXn006-CNR"
      },
      "source": [
        "Section for trying sktime library, if it can help us transform the Time-Series"
      ],
      "id": "PdXXn006-CNR"
    },
    {
      "cell_type": "code",
      "metadata": {
        "id": "8BI6lKiM-CNR"
      },
      "source": [
        "# from sktime.utils.plotting import plot_series\n",
        "# from sktime.transformations.panel.rocket import Rocket\n",
        "# y = data[\"Close\"]\n",
        "# x = data[data.columns]\n",
        "# x.drop([\"Close\",\"Volume\"],axis=1,inplace=True)\n",
        "# plot_series(data[\"Close\"])\n",
        "# rocket = Rocket()\n",
        "# rocket.fit(np.array(x))\n",
        "# x_t = rocket.transform(np.array(x))"
      ],
      "id": "8BI6lKiM-CNR",
      "execution_count": 11,
      "outputs": []
    },
    {
      "cell_type": "markdown",
      "metadata": {
        "id": "09MXr2vV-CNR"
      },
      "source": [
        "### Defining methods for transforming time-series data"
      ],
      "id": "09MXr2vV-CNR"
    },
    {
      "cell_type": "code",
      "metadata": {
        "id": "glkhiEkd-CNR"
      },
      "source": [
        "def difference(data, interval=1):\n",
        "\treturn [data[i] - data[i - interval] for i in range(interval, len(data))]\n",
        "def invert_difference(orig_data, diff_data, interval=1):\n",
        "\treturn [diff_data[i-interval] + orig_data[i-interval] for i in range(interval, len(orig_data))]\n",
        "\n",
        "from scipy.stats import boxcox\n",
        "# fd =(boxcox1p(final_data[\"Close\"]))#*np.log(boxcox1p(final_data[\"Close\"],-1))\n",
        "# plt.plot(fd)"
      ],
      "id": "glkhiEkd-CNR",
      "execution_count": 12,
      "outputs": []
    },
    {
      "cell_type": "markdown",
      "metadata": {
        "id": "RnzHbY43-CNR"
      },
      "source": [
        "The idea here is to store the data at each step, without losing/replacing it. <br>Thus, creating new variables wherever required to store the new/transformed data in the new variable."
      ],
      "id": "RnzHbY43-CNR"
    },
    {
      "cell_type": "markdown",
      "metadata": {
        "id": "CG4rosEn-CNS"
      },
      "source": [
        "Adding new Attributes to the dataset, based on the plots and Observations of the previous section.<br>Some Transformations are commented, cause they were not a suitable fit, but might be useful later."
      ],
      "id": "CG4rosEn-CNS"
    },
    {
      "cell_type": "code",
      "metadata": {
        "id": "Oqx1wMIQ-CNS"
      },
      "source": [
        "final_data = pd.DataFrame()\n",
        "final_data[\"Close_Open\"] = data['Close']-data['Open']\n",
        "final_data[\"High_Low\"] = data['High']-data['Low']\n",
        "final_data['t1'] = (np.power(data[\"High\"]-data[\"Low\"],3))\n",
        "final_data['Close'] = data['Close']\n",
        "store = final_data\n",
        "final_data = pd.DataFrame(difference(np.array(final_data)))\n",
        "final_data.head()\n",
        "# scaler = PowerTransformer(method=\"yeo-johnson\", standardize=True)\n",
        "scaler = MinMaxScaler(feature_range=(0,1))\n",
        "scaler_close = MinMaxScaler(feature_range=(0,1))\n",
        "scaled_data = scaler.fit_transform(final_data.iloc[:,:3])\n",
        "scaled_close = scaler_close.fit_transform(final_data.iloc[:,3:4])\n",
        "scaled_data = np.concatenate((scaled_data,scaled_close),axis=1)\n",
        "# logged_data = np.log10(data['Close'])\n",
        "# scaled_data, lambda_data = (boxcox(data['Close']))#difference(logged_data).to_numpy()\n",
        "# new = difference((data['Close'],1)\n",
        "# scaled_data = pd.Series(scaled_data)"
      ],
      "id": "Oqx1wMIQ-CNS",
      "execution_count": 14,
      "outputs": []
    },
    {
      "cell_type": "code",
      "metadata": {
        "colab": {
          "base_uri": "https://localhost:8080/",
          "height": 941
        },
        "id": "BlF-7xQsobyG",
        "outputId": "50a44da0-fc30-4e48-e97d-b6be35f64d20"
      },
      "source": [
        "plot_acf(final_data[3], lags=20)\n",
        "plot_pacf(final_data[3], lags=20)"
      ],
      "id": "BlF-7xQsobyG",
      "execution_count": 34,
      "outputs": [
        {
          "output_type": "execute_result",
          "data": {
            "image/png": "[encoded data removed]",
            "text/plain": [
              "<Figure size 432x288 with 1 Axes>"
            ]
          },
          "metadata": {
            "tags": []
          },
          "execution_count": 34
        },
        {
          "output_type": "display_data",
          "data": {
            "image/png": "[encoded data removed]",
            "text/plain": [
              "<Figure size 432x288 with 1 Axes>"
            ]
          },
          "metadata": {
            "tags": []
          }
        },
        {
          "output_type": "display_data",
          "data": {
            "image/png": "[encoded data removed]",
            "text/plain": [
              "<Figure size 432x288 with 1 Axes>"
            ]
          },
          "metadata": {
            "tags": []
          }
        }
      ]
    },
    {
      "cell_type": "code",
      "metadata": {
        "id": "jzM9cHA78IhZ",
        "colab": {
          "base_uri": "https://localhost:8080/"
        },
        "outputId": "4625baaa-6ba0-4875-8a3a-c0b98f2cfd4d"
      },
      "source": [
        "np.array(difference(scaled_data)).shape"
      ],
      "id": "jzM9cHA78IhZ",
      "execution_count": 15,
      "outputs": [
        {
          "output_type": "execute_result",
          "data": {
            "text/plain": [
              "(148, 4)"
            ]
          },
          "metadata": {
            "tags": []
          },
          "execution_count": 15
        }
      ]
    },
    {
      "cell_type": "markdown",
      "metadata": {
        "id": "tjD9TwKV-CNS"
      },
      "source": [
        "### Preparing the data"
      ],
      "id": "tjD9TwKV-CNS"
    },
    {
      "cell_type": "markdown",
      "metadata": {
        "id": "AcQVjWik-CNS"
      },
      "source": [
        "The data is in 3 dimensions.<br> <br>First Dimension - It denotes the number of observations. Each value of this dimension (the values are in 2-dimension) is the input to our model, corresponding to which we have final value.<br> <br>Second Dimension - It denotes the past values, which we will be using to predict. The length of this dimension, shows how many past values/observations we will be feeding to our model.<br> <br>Third Dimension - It shows the attributes that we think affect our future value or might increase the performance of our model.<br><br> Suppose _i_,_j_,_k_ as indices and _data_ as our final 3-Dimensional Dataset. Then _data\\[i\\]_ , denotes a single 2-D observation consisting of values of previous days. Then, _data\\[i\\]\\[j\\]_ denotes a 1-D value of one of the previous days from our previous  2-D _data\\[i\\]_. _data\\[i\\]\\[j\\]\\[k\\]_ denotes value of one attribute from our previous 1-D _data\\[i\\]\\[j\\]_ which denoted all the attributes of one of the past days. \n",
        "\n",
        "**_Note to self : Might upload a image for better understanding of the readers._**"
      ],
      "id": "AcQVjWik-CNS"
    },
    {
      "cell_type": "code",
      "metadata": {
        "id": "OtJu3EeT-CNT",
        "colab": {
          "base_uri": "https://localhost:8080/"
        },
        "outputId": "bfb3033a-73b3-4fea-f7f2-01dc749bd96f"
      },
      "source": [
        "# Preparing the Data\n",
        "prediction_days = 7\n",
        "future_days=0\n",
        "# store = scaled_data\n",
        "# scaled_data = np.array(difference(scaled_data))\n",
        "x_train, y_train = [], []\n",
        "\n",
        "for x in range(prediction_days, len(scaled_data)-future_days):\n",
        "    x_train.append(scaled_data[x-prediction_days:x])\n",
        "    y_train.append(scaled_data[x+future_days,scaled_data.shape[1]-1])\n",
        "x_train, y_train = np.array(x_train), np.array(y_train)\n",
        "# x_train = np.reshape(x_train, (x_train.shape[0], x_train.shape[1],1))\n",
        "# y_train = np.reshape(y_train, (y_train.shape[0], y_train.shape[1],1))\n",
        "# range(prediction_days, len(scaled_data))x_train\n",
        "x_train.shape"
      ],
      "id": "OtJu3EeT-CNT",
      "execution_count": 16,
      "outputs": [
        {
          "output_type": "execute_result",
          "data": {
            "text/plain": [
              "(142, 7, 4)"
            ]
          },
          "metadata": {
            "tags": []
          },
          "execution_count": 16
        }
      ]
    },
    {
      "cell_type": "code",
      "metadata": {
        "id": "kDBqY9m1kCIb"
      },
      "source": [
        ""
      ],
      "id": "kDBqY9m1kCIb",
      "execution_count": 16,
      "outputs": []
    },
    {
      "cell_type": "markdown",
      "metadata": {
        "id": "9fGIplwr-CNT"
      },
      "source": [
        "## Model Building and Training"
      ],
      "id": "9fGIplwr-CNT"
    },
    {
      "cell_type": "code",
      "metadata": {
        "id": "qRnJiqjY-CNT"
      },
      "source": [
        "# custom metric for our model, only to monitor our model while training\n",
        "def rmse(y_true, y_pred):\n",
        "\treturn backend.sqrt(backend.mean(backend.square(y_pred - y_true), axis=-1))"
      ],
      "id": "qRnJiqjY-CNT",
      "execution_count": 17,
      "outputs": []
    },
    {
      "cell_type": "markdown",
      "metadata": {
        "id": "uoF6vIea-CNT"
      },
      "source": [
        "Building LSTM using TensorFlow. At the end compiling and training the model. <br><br>\n",
        "The hyperparameters need to be more precisely tuned, but so far they seem to work fine. We can add more layers to improve the model, and this is an **endless process**."
      ],
      "id": "uoF6vIea-CNT"
    },
    {
      "cell_type": "code",
      "metadata": {
        "tags": [
          "outputPrepend"
        ],
        "id": "f7-Rref6-CNT",
        "colab": {
          "base_uri": "https://localhost:8080/"
        },
        "outputId": "43b6ced6-1742-4055-c36c-ddc9aa7c5a98"
      },
      "source": [
        "#creating neural netowrk\n",
        "# from attention_decoder import AttentionDecoder\n",
        "\n",
        "model = Sequential()                # could make units 50, for better prediction\n",
        "# model.add(LayerNormalization())     # Normalizing the input data \n",
        "# First LSTM layer\n",
        "model.add(LSTM(units=50,return_sequences=True,input_shape=(x_train.shape[1],x_train.shape[2]),activation=\"relu\",unroll=True))\n",
        "# model.add(Dropout(0.1))    # Removing some of the data from the previous layer to avoid overfitting\n",
        "model.add(BatchNormalization())\n",
        "model.add(LSTM(units=50, activation=\"relu\",unroll=True,return_sequences=True))#, return_sequences=True))    # Second LSTM Layer\n",
        "# model.add(Dropout(0.1))\n",
        "model.add(Activation(activation=\"relu\"))\n",
        "model.add(BatchNormalization())\n",
        "model.add(LSTM(units=50, return_sequences=True))\n",
        "# model.add(Dropout(0.1))\n",
        "model.add(BatchNormalization())\n",
        "model.add(LSTM(units=50, return_sequences=True))\n",
        "# model.add(Dropout(0.1))\n",
        "model.add(BatchNormalization())\n",
        "model.add(LSTM(units=50, return_sequences=True))\n",
        "# model.add(Dropout(0.1))\n",
        "model.add(BatchNormalization())\n",
        "model.add(LSTM(units=50, return_sequences=True))\n",
        "# model.add(Dropout(0.1))\n",
        "# model.add(LSTM(units=50, return_sequences=True))\n",
        "# model.add(Dropout(0.1))\n",
        "# model.add(LSTM(units=50, return_sequences=True))\n",
        "# model.add(Dropout(0.1))\n",
        "# model.add(LSTM(units=50, return_sequences=True))\n",
        "# model.add(Dropout(0.1))\n",
        "model.add(Activation(activation=\"relu\"))\n",
        "model.add(BatchNormalization())\n",
        "model.add(LSTM(units=50))\n",
        "# model.add(Dropout(0.1))\n",
        "model.add(BatchNormalization())\n",
        "## \n",
        "# model.add(Dropout(0.1))\n",
        "# model.add(LSTM(units=50,activation=\"relu\"))\n",
        "# model.add(Dense(units=500, activation=\"relu\"))\n",
        "# model.add(Dropout(0.2))\n",
        "\n",
        "model.add(Dense(units=1,activation='linear'))  # Final LSTM Layer of unit=1, cause we have just one Output, that is, Closing Price\n",
        "model.compile(optimizer='adam', loss=tf.keras.losses.Huber(delta=1),metrics=[rmse])   # Compiling, optimizer and loss can be changed to optimize the model for our specific purpose\n",
        "model.fit(x_train,y_train, epochs=500, batch_size=10)"
      ],
      "id": "f7-Rref6-CNT",
      "execution_count": 18,
      "outputs": [
        {
          "output_type": "stream",
          "text": [
            "Epoch 1/500\n",
            "15/15 [==============================] - 12s 22ms/step - loss: 0.3988 - rmse: 0.7828\n",
            "Epoch 2/500\n",
            "15/15 [==============================] - 0s 23ms/step - loss: 0.2671 - rmse: 0.6094\n",
            "Epoch 3/500\n",
            "15/15 [==============================] - 0s 24ms/step - loss: 0.1511 - rmse: 0.4267\n",
            "Epoch 4/500\n",
            "15/15 [==============================] - 0s 24ms/step - loss: 0.0864 - rmse: 0.3419\n",
            "Epoch 5/500\n",
            "15/15 [==============================] - 0s 24ms/step - loss: 0.0589 - rmse: 0.2589\n",
            "Epoch 6/500\n",
            "15/15 [==============================] - 0s 23ms/step - loss: 0.0749 - rmse: 0.2935\n",
            "Epoch 7/500\n",
            "15/15 [==============================] - 0s 24ms/step - loss: 0.0600 - rmse: 0.2598\n",
            "Epoch 8/500\n",
            "15/15 [==============================] - 0s 24ms/step - loss: 0.0564 - rmse: 0.2569\n",
            "Epoch 9/500\n",
            "15/15 [==============================] - 0s 24ms/step - loss: 0.0419 - rmse: 0.2276\n",
            "Epoch 10/500\n",
            "15/15 [==============================] - 0s 24ms/step - loss: 0.0546 - rmse: 0.2605\n",
            "Epoch 11/500\n",
            "15/15 [==============================] - 0s 27ms/step - loss: 0.0473 - rmse: 0.2349\n",
            "Epoch 12/500\n",
            "15/15 [==============================] - 0s 24ms/step - loss: 0.0490 - rmse: 0.2380\n",
            "Epoch 13/500\n",
            "15/15 [==============================] - 0s 25ms/step - loss: 0.0315 - rmse: 0.1920\n",
            "Epoch 14/500\n",
            "15/15 [==============================] - 0s 23ms/step - loss: 0.0339 - rmse: 0.2127\n",
            "Epoch 15/500\n",
            "15/15 [==============================] - 0s 24ms/step - loss: 0.0309 - rmse: 0.1779\n",
            "Epoch 16/500\n",
            "15/15 [==============================] - 0s 24ms/step - loss: 0.0259 - rmse: 0.1726\n",
            "Epoch 17/500\n",
            "15/15 [==============================] - 0s 23ms/step - loss: 0.0218 - rmse: 0.1574\n",
            "Epoch 18/500\n",
            "15/15 [==============================] - 0s 24ms/step - loss: 0.0163 - rmse: 0.1361\n",
            "Epoch 19/500\n",
            "15/15 [==============================] - 0s 23ms/step - loss: 0.0366 - rmse: 0.2045\n",
            "Epoch 20/500\n",
            "15/15 [==============================] - 0s 23ms/step - loss: 0.0429 - rmse: 0.2214\n",
            "Epoch 21/500\n",
            "15/15 [==============================] - 0s 24ms/step - loss: 0.0669 - rmse: 0.2854\n",
            "Epoch 22/500\n",
            "15/15 [==============================] - 0s 24ms/step - loss: 0.0258 - rmse: 0.1804\n",
            "Epoch 23/500\n",
            "15/15 [==============================] - 0s 23ms/step - loss: 0.0207 - rmse: 0.1574\n",
            "Epoch 24/500\n",
            "15/15 [==============================] - 0s 25ms/step - loss: 0.0217 - rmse: 0.1541\n",
            "Epoch 25/500\n",
            "15/15 [==============================] - 0s 24ms/step - loss: 0.0219 - rmse: 0.1652\n",
            "Epoch 26/500\n",
            "15/15 [==============================] - 0s 24ms/step - loss: 0.0212 - rmse: 0.1588\n",
            "Epoch 27/500\n",
            "15/15 [==============================] - 0s 22ms/step - loss: 0.0232 - rmse: 0.1624\n",
            "Epoch 28/500\n",
            "15/15 [==============================] - 0s 23ms/step - loss: 0.0238 - rmse: 0.1572\n",
            "Epoch 29/500\n",
            "15/15 [==============================] - 0s 24ms/step - loss: 0.0225 - rmse: 0.1654\n",
            "Epoch 30/500\n",
            "15/15 [==============================] - 0s 24ms/step - loss: 0.0179 - rmse: 0.1512\n",
            "Epoch 31/500\n",
            "15/15 [==============================] - 0s 23ms/step - loss: 0.0144 - rmse: 0.1289\n",
            "Epoch 32/500\n",
            "15/15 [==============================] - 0s 24ms/step - loss: 0.0157 - rmse: 0.1368\n",
            "Epoch 33/500\n",
            "15/15 [==============================] - 0s 23ms/step - loss: 0.0218 - rmse: 0.1559\n",
            "Epoch 34/500\n",
            "15/15 [==============================] - 0s 23ms/step - loss: 0.0142 - rmse: 0.1319\n",
            "Epoch 35/500\n",
            "15/15 [==============================] - 0s 24ms/step - loss: 0.0128 - rmse: 0.1194\n",
            "Epoch 36/500\n",
            "15/15 [==============================] - 0s 24ms/step - loss: 0.0101 - rmse: 0.1057\n",
            "Epoch 37/500\n",
            "15/15 [==============================] - 0s 24ms/step - loss: 0.0141 - rmse: 0.1283\n",
            "Epoch 38/500\n",
            "15/15 [==============================] - 0s 24ms/step - loss: 0.0099 - rmse: 0.1034\n",
            "Epoch 39/500\n",
            "15/15 [==============================] - 0s 23ms/step - loss: 0.0104 - rmse: 0.1026\n",
            "Epoch 40/500\n",
            "15/15 [==============================] - 0s 23ms/step - loss: 0.0222 - rmse: 0.1617\n",
            "Epoch 41/500\n",
            "15/15 [==============================] - 0s 24ms/step - loss: 0.0170 - rmse: 0.1477\n",
            "Epoch 42/500\n",
            "15/15 [==============================] - 0s 26ms/step - loss: 0.0106 - rmse: 0.1138\n",
            "Epoch 43/500\n",
            "15/15 [==============================] - 0s 24ms/step - loss: 0.0109 - rmse: 0.1145\n",
            "Epoch 44/500\n",
            "15/15 [==============================] - 0s 24ms/step - loss: 0.0081 - rmse: 0.1004\n",
            "Epoch 45/500\n",
            "15/15 [==============================] - 0s 23ms/step - loss: 0.0068 - rmse: 0.0873\n",
            "Epoch 46/500\n",
            "15/15 [==============================] - 0s 24ms/step - loss: 0.0095 - rmse: 0.0993\n",
            "Epoch 47/500\n",
            "15/15 [==============================] - 0s 24ms/step - loss: 0.0073 - rmse: 0.0960\n",
            "Epoch 48/500\n",
            "15/15 [==============================] - 0s 23ms/step - loss: 0.0095 - rmse: 0.0961\n",
            "Epoch 49/500\n",
            "15/15 [==============================] - 0s 24ms/step - loss: 0.0126 - rmse: 0.1223\n",
            "Epoch 50/500\n",
            "15/15 [==============================] - 0s 24ms/step - loss: 0.0076 - rmse: 0.0917\n",
            "Epoch 51/500\n",
            "15/15 [==============================] - 0s 24ms/step - loss: 0.0072 - rmse: 0.0875\n",
            "Epoch 52/500\n",
            "15/15 [==============================] - 0s 24ms/step - loss: 0.0089 - rmse: 0.0996\n",
            "Epoch 53/500\n",
            "15/15 [==============================] - 0s 23ms/step - loss: 0.0076 - rmse: 0.0930\n",
            "Epoch 54/500\n",
            "15/15 [==============================] - 0s 22ms/step - loss: 0.0089 - rmse: 0.0969\n",
            "Epoch 55/500\n",
            "15/15 [==============================] - 0s 24ms/step - loss: 0.0077 - rmse: 0.0853\n",
            "Epoch 56/500\n",
            "15/15 [==============================] - 0s 23ms/step - loss: 0.0115 - rmse: 0.1187\n",
            "Epoch 57/500\n",
            "15/15 [==============================] - 0s 24ms/step - loss: 0.0140 - rmse: 0.1256\n",
            "Epoch 58/500\n",
            "15/15 [==============================] - 0s 24ms/step - loss: 0.0204 - rmse: 0.1512\n",
            "Epoch 59/500\n",
            "15/15 [==============================] - 0s 24ms/step - loss: 0.0115 - rmse: 0.1125\n",
            "Epoch 60/500\n",
            "15/15 [==============================] - 0s 25ms/step - loss: 0.0080 - rmse: 0.0935\n",
            "Epoch 61/500\n",
            "15/15 [==============================] - 0s 24ms/step - loss: 0.0094 - rmse: 0.1041\n",
            "Epoch 62/500\n",
            "15/15 [==============================] - 0s 23ms/step - loss: 0.0080 - rmse: 0.0958\n",
            "Epoch 63/500\n",
            "15/15 [==============================] - 0s 25ms/step - loss: 0.0073 - rmse: 0.0878\n",
            "Epoch 64/500\n",
            "15/15 [==============================] - 0s 24ms/step - loss: 0.0079 - rmse: 0.0884\n",
            "Epoch 65/500\n",
            "15/15 [==============================] - 0s 24ms/step - loss: 0.0078 - rmse: 0.0929\n",
            "Epoch 66/500\n",
            "15/15 [==============================] - 0s 25ms/step - loss: 0.0074 - rmse: 0.0887\n",
            "Epoch 67/500\n",
            "15/15 [==============================] - 0s 23ms/step - loss: 0.0076 - rmse: 0.0881\n",
            "Epoch 68/500\n",
            "15/15 [==============================] - 0s 26ms/step - loss: 0.0088 - rmse: 0.0967\n",
            "Epoch 69/500\n",
            "15/15 [==============================] - 0s 25ms/step - loss: 0.0058 - rmse: 0.0760\n",
            "Epoch 70/500\n",
            "15/15 [==============================] - 0s 23ms/step - loss: 0.0070 - rmse: 0.0881\n",
            "Epoch 71/500\n",
            "15/15 [==============================] - 0s 25ms/step - loss: 0.0081 - rmse: 0.0937\n",
            "Epoch 72/500\n",
            "15/15 [==============================] - 0s 24ms/step - loss: 0.0067 - rmse: 0.0867\n",
            "Epoch 73/500\n",
            "15/15 [==============================] - 0s 24ms/step - loss: 0.0064 - rmse: 0.0835\n",
            "Epoch 74/500\n",
            "15/15 [==============================] - 0s 25ms/step - loss: 0.0071 - rmse: 0.0827\n",
            "Epoch 75/500\n",
            "15/15 [==============================] - 0s 23ms/step - loss: 0.0065 - rmse: 0.0806\n",
            "Epoch 76/500\n",
            "15/15 [==============================] - 0s 24ms/step - loss: 0.0064 - rmse: 0.0813\n",
            "Epoch 77/500\n",
            "15/15 [==============================] - 0s 27ms/step - loss: 0.0060 - rmse: 0.0785\n",
            "Epoch 78/500\n",
            "15/15 [==============================] - 0s 23ms/step - loss: 0.0064 - rmse: 0.0829\n",
            "Epoch 79/500\n",
            "15/15 [==============================] - 0s 25ms/step - loss: 0.0061 - rmse: 0.0768\n",
            "Epoch 80/500\n",
            "15/15 [==============================] - 0s 25ms/step - loss: 0.0064 - rmse: 0.0854\n",
            "Epoch 81/500\n",
            "15/15 [==============================] - 0s 24ms/step - loss: 0.0059 - rmse: 0.0760\n",
            "Epoch 82/500\n",
            "15/15 [==============================] - 0s 27ms/step - loss: 0.0057 - rmse: 0.0761\n",
            "Epoch 83/500\n",
            "15/15 [==============================] - 0s 24ms/step - loss: 0.0063 - rmse: 0.0825\n",
            "Epoch 84/500\n",
            "15/15 [==============================] - 0s 24ms/step - loss: 0.0055 - rmse: 0.0770\n",
            "Epoch 85/500\n",
            "15/15 [==============================] - 0s 25ms/step - loss: 0.0052 - rmse: 0.0719\n",
            "Epoch 86/500\n",
            "15/15 [==============================] - 0s 23ms/step - loss: 0.0062 - rmse: 0.0850\n",
            "Epoch 87/500\n",
            "15/15 [==============================] - 0s 25ms/step - loss: 0.0057 - rmse: 0.0830\n",
            "Epoch 88/500\n",
            "15/15 [==============================] - 0s 25ms/step - loss: 0.0065 - rmse: 0.0855\n",
            "Epoch 89/500\n",
            "15/15 [==============================] - 0s 25ms/step - loss: 0.0067 - rmse: 0.0872\n",
            "Epoch 90/500\n",
            "15/15 [==============================] - 0s 25ms/step - loss: 0.0056 - rmse: 0.0740\n",
            "Epoch 91/500\n",
            "15/15 [==============================] - 0s 25ms/step - loss: 0.0052 - rmse: 0.0750\n",
            "Epoch 92/500\n",
            "15/15 [==============================] - 0s 24ms/step - loss: 0.0060 - rmse: 0.0819\n",
            "Epoch 93/500\n",
            "15/15 [==============================] - 0s 25ms/step - loss: 0.0065 - rmse: 0.0853\n",
            "Epoch 94/500\n",
            "15/15 [==============================] - 0s 24ms/step - loss: 0.0070 - rmse: 0.0858\n",
            "Epoch 95/500\n",
            "15/15 [==============================] - 0s 25ms/step - loss: 0.0061 - rmse: 0.0812\n",
            "Epoch 96/500\n",
            "15/15 [==============================] - 0s 27ms/step - loss: 0.0061 - rmse: 0.0819\n",
            "Epoch 97/500\n",
            "15/15 [==============================] - 0s 24ms/step - loss: 0.0060 - rmse: 0.0792\n",
            "Epoch 98/500\n",
            "15/15 [==============================] - 0s 25ms/step - loss: 0.0064 - rmse: 0.0830\n",
            "Epoch 99/500\n",
            "15/15 [==============================] - 0s 25ms/step - loss: 0.0064 - rmse: 0.0864\n",
            "Epoch 100/500\n",
            "15/15 [==============================] - 0s 26ms/step - loss: 0.0060 - rmse: 0.0808\n",
            "Epoch 101/500\n",
            "15/15 [==============================] - 0s 24ms/step - loss: 0.0064 - rmse: 0.0797\n",
            "Epoch 102/500\n",
            "15/15 [==============================] - 0s 24ms/step - loss: 0.0082 - rmse: 0.0922\n",
            "Epoch 103/500\n",
            "15/15 [==============================] - 0s 24ms/step - loss: 0.0073 - rmse: 0.0879\n",
            "Epoch 104/500\n",
            "15/15 [==============================] - 0s 24ms/step - loss: 0.0082 - rmse: 0.0908\n",
            "Epoch 105/500\n",
            "15/15 [==============================] - 0s 23ms/step - loss: 0.0061 - rmse: 0.0848\n",
            "Epoch 106/500\n",
            "15/15 [==============================] - 0s 25ms/step - loss: 0.0067 - rmse: 0.0866\n",
            "Epoch 107/500\n",
            "15/15 [==============================] - 0s 23ms/step - loss: 0.0108 - rmse: 0.0999\n",
            "Epoch 108/500\n",
            "15/15 [==============================] - 0s 25ms/step - loss: 0.0200 - rmse: 0.1466\n",
            "Epoch 109/500\n",
            "15/15 [==============================] - 0s 25ms/step - loss: 0.0101 - rmse: 0.1059\n",
            "Epoch 110/500\n",
            "15/15 [==============================] - 0s 24ms/step - loss: 0.0098 - rmse: 0.1050\n",
            "Epoch 111/500\n",
            "15/15 [==============================] - 0s 24ms/step - loss: 0.0081 - rmse: 0.0953\n",
            "Epoch 112/500\n",
            "15/15 [==============================] - 0s 25ms/step - loss: 0.0086 - rmse: 0.1024\n",
            "Epoch 113/500\n",
            "15/15 [==============================] - 0s 23ms/step - loss: 0.0080 - rmse: 0.0915\n",
            "Epoch 114/500\n",
            "15/15 [==============================] - 0s 25ms/step - loss: 0.0072 - rmse: 0.0854\n",
            "Epoch 115/500\n",
            "15/15 [==============================] - 0s 24ms/step - loss: 0.0065 - rmse: 0.0832\n",
            "Epoch 116/500\n",
            "15/15 [==============================] - 0s 26ms/step - loss: 0.0063 - rmse: 0.0822\n",
            "Epoch 117/500\n",
            "15/15 [==============================] - 0s 25ms/step - loss: 0.0074 - rmse: 0.0932\n",
            "Epoch 118/500\n",
            "15/15 [==============================] - 0s 25ms/step - loss: 0.0063 - rmse: 0.0862\n",
            "Epoch 119/500\n",
            "15/15 [==============================] - 0s 24ms/step - loss: 0.0061 - rmse: 0.0801\n",
            "Epoch 120/500\n",
            "15/15 [==============================] - 0s 26ms/step - loss: 0.0060 - rmse: 0.0828\n",
            "Epoch 121/500\n",
            "15/15 [==============================] - 0s 23ms/step - loss: 0.0060 - rmse: 0.0762\n",
            "Epoch 122/500\n",
            "15/15 [==============================] - 0s 25ms/step - loss: 0.0058 - rmse: 0.0830\n",
            "Epoch 123/500\n",
            "15/15 [==============================] - 0s 26ms/step - loss: 0.0068 - rmse: 0.0860\n",
            "Epoch 124/500\n",
            "15/15 [==============================] - 0s 24ms/step - loss: 0.0062 - rmse: 0.0840\n",
            "Epoch 125/500\n",
            "15/15 [==============================] - 0s 24ms/step - loss: 0.0063 - rmse: 0.0850\n",
            "Epoch 126/500\n",
            "15/15 [==============================] - 0s 23ms/step - loss: 0.0059 - rmse: 0.0774\n",
            "Epoch 127/500\n",
            "15/15 [==============================] - 0s 25ms/step - loss: 0.0049 - rmse: 0.0713\n",
            "Epoch 128/500\n",
            "15/15 [==============================] - 0s 25ms/step - loss: 0.0059 - rmse: 0.0758\n",
            "Epoch 129/500\n",
            "15/15 [==============================] - 0s 24ms/step - loss: 0.0054 - rmse: 0.0767\n",
            "Epoch 130/500\n",
            "15/15 [==============================] - 0s 25ms/step - loss: 0.0051 - rmse: 0.0716\n",
            "Epoch 131/500\n",
            "15/15 [==============================] - 0s 26ms/step - loss: 0.0055 - rmse: 0.0749\n",
            "Epoch 132/500\n",
            "15/15 [==============================] - 0s 24ms/step - loss: 0.0058 - rmse: 0.0772\n",
            "Epoch 133/500\n",
            "15/15 [==============================] - 0s 24ms/step - loss: 0.0062 - rmse: 0.0800\n",
            "Epoch 134/500\n",
            "15/15 [==============================] - 0s 24ms/step - loss: 0.0068 - rmse: 0.0817\n",
            "Epoch 135/500\n",
            "15/15 [==============================] - 0s 24ms/step - loss: 0.0059 - rmse: 0.0777\n",
            "Epoch 136/500\n",
            "15/15 [==============================] - 0s 25ms/step - loss: 0.0067 - rmse: 0.0834\n",
            "Epoch 137/500\n",
            "15/15 [==============================] - 0s 24ms/step - loss: 0.0077 - rmse: 0.0888\n",
            "Epoch 138/500\n",
            "15/15 [==============================] - 0s 24ms/step - loss: 0.0062 - rmse: 0.0826\n",
            "Epoch 139/500\n",
            "15/15 [==============================] - 0s 26ms/step - loss: 0.0060 - rmse: 0.0783\n",
            "Epoch 140/500\n",
            "15/15 [==============================] - 0s 24ms/step - loss: 0.0060 - rmse: 0.0766\n",
            "Epoch 141/500\n",
            "15/15 [==============================] - 0s 24ms/step - loss: 0.0058 - rmse: 0.0789\n",
            "Epoch 142/500\n",
            "15/15 [==============================] - 0s 24ms/step - loss: 0.0062 - rmse: 0.0786\n",
            "Epoch 143/500\n",
            "15/15 [==============================] - 0s 25ms/step - loss: 0.0058 - rmse: 0.0780\n",
            "Epoch 144/500\n",
            "15/15 [==============================] - 0s 25ms/step - loss: 0.0060 - rmse: 0.0761\n",
            "Epoch 145/500\n",
            "15/15 [==============================] - 0s 24ms/step - loss: 0.0050 - rmse: 0.0700\n",
            "Epoch 146/500\n",
            "15/15 [==============================] - 0s 24ms/step - loss: 0.0057 - rmse: 0.0783\n",
            "Epoch 147/500\n",
            "15/15 [==============================] - 0s 24ms/step - loss: 0.0060 - rmse: 0.0777\n",
            "Epoch 148/500\n",
            "15/15 [==============================] - 0s 26ms/step - loss: 0.0052 - rmse: 0.0712\n",
            "Epoch 149/500\n",
            "15/15 [==============================] - 0s 26ms/step - loss: 0.0057 - rmse: 0.0803\n",
            "Epoch 150/500\n",
            "15/15 [==============================] - 0s 26ms/step - loss: 0.0063 - rmse: 0.0790\n",
            "Epoch 151/500\n",
            "15/15 [==============================] - 0s 25ms/step - loss: 0.0065 - rmse: 0.0881\n",
            "Epoch 152/500\n",
            "15/15 [==============================] - 0s 26ms/step - loss: 0.0057 - rmse: 0.0737\n",
            "Epoch 153/500\n",
            "15/15 [==============================] - 0s 24ms/step - loss: 0.0052 - rmse: 0.0731\n",
            "Epoch 154/500\n",
            "15/15 [==============================] - 0s 25ms/step - loss: 0.0048 - rmse: 0.0731\n",
            "Epoch 155/500\n",
            "15/15 [==============================] - 0s 27ms/step - loss: 0.0058 - rmse: 0.0793\n",
            "Epoch 156/500\n",
            "15/15 [==============================] - 0s 25ms/step - loss: 0.0053 - rmse: 0.0767\n",
            "Epoch 157/500\n",
            "15/15 [==============================] - 0s 26ms/step - loss: 0.0051 - rmse: 0.0754\n",
            "Epoch 158/500\n",
            "15/15 [==============================] - 0s 28ms/step - loss: 0.0046 - rmse: 0.0698\n",
            "Epoch 159/500\n",
            "15/15 [==============================] - 0s 25ms/step - loss: 0.0050 - rmse: 0.0721\n",
            "Epoch 160/500\n",
            "15/15 [==============================] - 0s 25ms/step - loss: 0.0046 - rmse: 0.0710\n",
            "Epoch 161/500\n",
            "15/15 [==============================] - 0s 24ms/step - loss: 0.0050 - rmse: 0.0749\n",
            "Epoch 162/500\n",
            "15/15 [==============================] - 0s 27ms/step - loss: 0.0058 - rmse: 0.0812\n",
            "Epoch 163/500\n",
            "15/15 [==============================] - 0s 25ms/step - loss: 0.0065 - rmse: 0.0826\n",
            "Epoch 164/500\n",
            "15/15 [==============================] - 0s 25ms/step - loss: 0.0072 - rmse: 0.0882\n",
            "Epoch 165/500\n",
            "15/15 [==============================] - 0s 25ms/step - loss: 0.0058 - rmse: 0.0818\n",
            "Epoch 166/500\n",
            "15/15 [==============================] - 0s 24ms/step - loss: 0.0056 - rmse: 0.0764\n",
            "Epoch 167/500\n",
            "15/15 [==============================] - 0s 25ms/step - loss: 0.0048 - rmse: 0.0668\n",
            "Epoch 168/500\n",
            "15/15 [==============================] - 0s 26ms/step - loss: 0.0050 - rmse: 0.0755\n",
            "Epoch 169/500\n",
            "15/15 [==============================] - 0s 24ms/step - loss: 0.0062 - rmse: 0.0826\n",
            "Epoch 170/500\n",
            "15/15 [==============================] - 0s 26ms/step - loss: 0.0049 - rmse: 0.0709\n",
            "Epoch 171/500\n",
            "15/15 [==============================] - 0s 25ms/step - loss: 0.0049 - rmse: 0.0695\n",
            "Epoch 172/500\n",
            "15/15 [==============================] - 0s 24ms/step - loss: 0.0054 - rmse: 0.0761\n",
            "Epoch 173/500\n",
            "15/15 [==============================] - 0s 26ms/step - loss: 0.0052 - rmse: 0.0728\n",
            "Epoch 174/500\n",
            "15/15 [==============================] - 0s 25ms/step - loss: 0.0046 - rmse: 0.0658\n",
            "Epoch 175/500\n",
            "15/15 [==============================] - 0s 24ms/step - loss: 0.0052 - rmse: 0.0732\n",
            "Epoch 176/500\n",
            "15/15 [==============================] - 0s 26ms/step - loss: 0.0052 - rmse: 0.0769\n",
            "Epoch 177/500\n",
            "15/15 [==============================] - 0s 25ms/step - loss: 0.0056 - rmse: 0.0811\n",
            "Epoch 178/500\n",
            "15/15 [==============================] - 0s 24ms/step - loss: 0.0051 - rmse: 0.0683\n",
            "Epoch 179/500\n",
            "15/15 [==============================] - 0s 25ms/step - loss: 0.0057 - rmse: 0.0815\n",
            "Epoch 180/500\n",
            "15/15 [==============================] - 0s 25ms/step - loss: 0.0062 - rmse: 0.0821\n",
            "Epoch 181/500\n",
            "15/15 [==============================] - 0s 25ms/step - loss: 0.0093 - rmse: 0.0884\n",
            "Epoch 182/500\n",
            "15/15 [==============================] - 0s 26ms/step - loss: 0.0078 - rmse: 0.0907\n",
            "Epoch 183/500\n",
            "15/15 [==============================] - 0s 23ms/step - loss: 0.0088 - rmse: 0.0833\n",
            "Epoch 184/500\n",
            "15/15 [==============================] - 0s 25ms/step - loss: 0.0069 - rmse: 0.0828\n",
            "Epoch 185/500\n",
            "15/15 [==============================] - 0s 25ms/step - loss: 0.0065 - rmse: 0.0814\n",
            "Epoch 186/500\n",
            "15/15 [==============================] - 0s 27ms/step - loss: 0.0057 - rmse: 0.0780\n",
            "Epoch 187/500\n",
            "15/15 [==============================] - 0s 24ms/step - loss: 0.0070 - rmse: 0.0896\n",
            "Epoch 188/500\n",
            "15/15 [==============================] - 0s 26ms/step - loss: 0.0079 - rmse: 0.0927\n",
            "Epoch 189/500\n",
            "15/15 [==============================] - 0s 26ms/step - loss: 0.0071 - rmse: 0.0905\n",
            "Epoch 190/500\n",
            "15/15 [==============================] - 0s 26ms/step - loss: 0.0074 - rmse: 0.0891\n",
            "Epoch 191/500\n",
            "15/15 [==============================] - 0s 26ms/step - loss: 0.0062 - rmse: 0.0849\n",
            "Epoch 192/500\n",
            "15/15 [==============================] - 0s 24ms/step - loss: 0.0072 - rmse: 0.0887\n",
            "Epoch 193/500\n",
            "15/15 [==============================] - 0s 26ms/step - loss: 0.0059 - rmse: 0.0777\n",
            "Epoch 194/500\n",
            "15/15 [==============================] - 0s 24ms/step - loss: 0.0055 - rmse: 0.0778\n",
            "Epoch 195/500\n",
            "15/15 [==============================] - 0s 25ms/step - loss: 0.0054 - rmse: 0.0760\n",
            "Epoch 196/500\n",
            "15/15 [==============================] - 0s 26ms/step - loss: 0.0068 - rmse: 0.0873\n",
            "Epoch 197/500\n",
            "15/15 [==============================] - 0s 26ms/step - loss: 0.0075 - rmse: 0.0907\n",
            "Epoch 198/500\n",
            "15/15 [==============================] - 0s 25ms/step - loss: 0.0055 - rmse: 0.0762\n",
            "Epoch 199/500\n",
            "15/15 [==============================] - 0s 25ms/step - loss: 0.0056 - rmse: 0.0790\n",
            "Epoch 200/500\n",
            "15/15 [==============================] - 0s 25ms/step - loss: 0.0056 - rmse: 0.0778\n",
            "Epoch 201/500\n",
            "15/15 [==============================] - 0s 26ms/step - loss: 0.0058 - rmse: 0.0798\n",
            "Epoch 202/500\n",
            "15/15 [==============================] - 0s 26ms/step - loss: 0.0060 - rmse: 0.0805\n",
            "Epoch 203/500\n",
            "15/15 [==============================] - 0s 24ms/step - loss: 0.0063 - rmse: 0.0870\n",
            "Epoch 204/500\n",
            "15/15 [==============================] - 0s 24ms/step - loss: 0.0085 - rmse: 0.0927\n",
            "Epoch 205/500\n",
            "15/15 [==============================] - 0s 26ms/step - loss: 0.0065 - rmse: 0.0832\n",
            "Epoch 206/500\n",
            "15/15 [==============================] - 0s 25ms/step - loss: 0.0062 - rmse: 0.0812\n",
            "Epoch 207/500\n",
            "15/15 [==============================] - 0s 23ms/step - loss: 0.0058 - rmse: 0.0818\n",
            "Epoch 208/500\n",
            "15/15 [==============================] - 0s 24ms/step - loss: 0.0063 - rmse: 0.0871\n",
            "Epoch 209/500\n",
            "15/15 [==============================] - 0s 26ms/step - loss: 0.0052 - rmse: 0.0752\n",
            "Epoch 210/500\n",
            "15/15 [==============================] - 0s 25ms/step - loss: 0.0061 - rmse: 0.0798\n",
            "Epoch 211/500\n",
            "15/15 [==============================] - 0s 25ms/step - loss: 0.0067 - rmse: 0.0861\n",
            "Epoch 212/500\n",
            "15/15 [==============================] - 0s 25ms/step - loss: 0.0057 - rmse: 0.0777\n",
            "Epoch 213/500\n",
            "15/15 [==============================] - 0s 24ms/step - loss: 0.0052 - rmse: 0.0725\n",
            "Epoch 214/500\n",
            "15/15 [==============================] - 0s 24ms/step - loss: 0.0055 - rmse: 0.0802\n",
            "Epoch 215/500\n",
            "15/15 [==============================] - 0s 25ms/step - loss: 0.0070 - rmse: 0.0860\n",
            "Epoch 216/500\n",
            "15/15 [==============================] - 0s 24ms/step - loss: 0.0054 - rmse: 0.0754\n",
            "Epoch 217/500\n",
            "15/15 [==============================] - 0s 24ms/step - loss: 0.0052 - rmse: 0.0731\n",
            "Epoch 218/500\n",
            "15/15 [==============================] - 0s 25ms/step - loss: 0.0055 - rmse: 0.0762\n",
            "Epoch 219/500\n",
            "15/15 [==============================] - 0s 24ms/step - loss: 0.0052 - rmse: 0.0742\n",
            "Epoch 220/500\n",
            "15/15 [==============================] - 0s 24ms/step - loss: 0.0069 - rmse: 0.0898\n",
            "Epoch 221/500\n",
            "15/15 [==============================] - 0s 24ms/step - loss: 0.0075 - rmse: 0.0891\n",
            "Epoch 222/500\n",
            "15/15 [==============================] - 0s 24ms/step - loss: 0.0067 - rmse: 0.0928\n",
            "Epoch 223/500\n",
            "15/15 [==============================] - 0s 24ms/step - loss: 0.0069 - rmse: 0.0902\n",
            "Epoch 224/500\n",
            "15/15 [==============================] - 0s 25ms/step - loss: 0.0062 - rmse: 0.0818\n",
            "Epoch 225/500\n",
            "15/15 [==============================] - 0s 25ms/step - loss: 0.0051 - rmse: 0.0716\n",
            "Epoch 226/500\n",
            "15/15 [==============================] - 0s 25ms/step - loss: 0.0065 - rmse: 0.0811\n",
            "Epoch 227/500\n",
            "15/15 [==============================] - 0s 24ms/step - loss: 0.0053 - rmse: 0.0769\n",
            "Epoch 228/500\n",
            "15/15 [==============================] - 0s 26ms/step - loss: 0.0052 - rmse: 0.0727\n",
            "Epoch 229/500\n",
            "15/15 [==============================] - 0s 25ms/step - loss: 0.0048 - rmse: 0.0702\n",
            "Epoch 230/500\n",
            "15/15 [==============================] - 0s 25ms/step - loss: 0.0061 - rmse: 0.0755\n",
            "Epoch 231/500\n",
            "15/15 [==============================] - 0s 26ms/step - loss: 0.0085 - rmse: 0.0932\n",
            "Epoch 232/500\n",
            "15/15 [==============================] - 0s 27ms/step - loss: 0.0072 - rmse: 0.0848\n",
            "Epoch 233/500\n",
            "15/15 [==============================] - 0s 24ms/step - loss: 0.0073 - rmse: 0.0880\n",
            "Epoch 234/500\n",
            "15/15 [==============================] - 0s 25ms/step - loss: 0.0075 - rmse: 0.0901\n",
            "Epoch 235/500\n",
            "15/15 [==============================] - 0s 26ms/step - loss: 0.0061 - rmse: 0.0822\n",
            "Epoch 236/500\n",
            "15/15 [==============================] - 0s 24ms/step - loss: 0.0063 - rmse: 0.0765\n",
            "Epoch 237/500\n",
            "15/15 [==============================] - 0s 26ms/step - loss: 0.0078 - rmse: 0.0920\n",
            "Epoch 238/500\n",
            "15/15 [==============================] - 0s 25ms/step - loss: 0.0052 - rmse: 0.0728\n",
            "Epoch 239/500\n",
            "15/15 [==============================] - 0s 24ms/step - loss: 0.0077 - rmse: 0.0889\n",
            "Epoch 240/500\n",
            "15/15 [==============================] - 0s 24ms/step - loss: 0.0054 - rmse: 0.0745\n",
            "Epoch 241/500\n",
            "15/15 [==============================] - 1s 40ms/step - loss: 0.0065 - rmse: 0.0821\n",
            "Epoch 242/500\n",
            "15/15 [==============================] - 1s 35ms/step - loss: 0.0079 - rmse: 0.0897\n",
            "Epoch 243/500\n",
            "15/15 [==============================] - 0s 26ms/step - loss: 0.0061 - rmse: 0.0747\n",
            "Epoch 244/500\n",
            "15/15 [==============================] - 0s 25ms/step - loss: 0.0060 - rmse: 0.0720\n",
            "Epoch 245/500\n",
            "15/15 [==============================] - 0s 23ms/step - loss: 0.0062 - rmse: 0.0775\n",
            "Epoch 246/500\n",
            "15/15 [==============================] - 0s 24ms/step - loss: 0.0065 - rmse: 0.0776\n",
            "Epoch 247/500\n",
            "15/15 [==============================] - 0s 26ms/step - loss: 0.0061 - rmse: 0.0789\n",
            "Epoch 248/500\n",
            "15/15 [==============================] - 0s 24ms/step - loss: 0.0061 - rmse: 0.0752\n",
            "Epoch 249/500\n",
            "15/15 [==============================] - 0s 24ms/step - loss: 0.0059 - rmse: 0.0743\n",
            "Epoch 250/500\n",
            "15/15 [==============================] - 0s 24ms/step - loss: 0.0066 - rmse: 0.0793\n",
            "Epoch 251/500\n",
            "15/15 [==============================] - 0s 23ms/step - loss: 0.0061 - rmse: 0.0744\n",
            "Epoch 252/500\n",
            "15/15 [==============================] - 0s 25ms/step - loss: 0.0060 - rmse: 0.0795\n",
            "Epoch 253/500\n",
            "15/15 [==============================] - 0s 25ms/step - loss: 0.0070 - rmse: 0.0808\n",
            "Epoch 254/500\n",
            "15/15 [==============================] - 0s 24ms/step - loss: 0.0059 - rmse: 0.0747\n",
            "Epoch 255/500\n",
            "15/15 [==============================] - 0s 24ms/step - loss: 0.0056 - rmse: 0.0753\n",
            "Epoch 256/500\n",
            "15/15 [==============================] - 0s 24ms/step - loss: 0.0059 - rmse: 0.0738\n",
            "Epoch 257/500\n",
            "15/15 [==============================] - 0s 24ms/step - loss: 0.0058 - rmse: 0.0733\n",
            "Epoch 258/500\n",
            "15/15 [==============================] - 0s 24ms/step - loss: 0.0063 - rmse: 0.0813\n",
            "Epoch 259/500\n",
            "15/15 [==============================] - 0s 25ms/step - loss: 0.0057 - rmse: 0.0757\n",
            "Epoch 260/500\n",
            "15/15 [==============================] - 0s 26ms/step - loss: 0.0055 - rmse: 0.0729\n",
            "Epoch 261/500\n",
            "15/15 [==============================] - 0s 24ms/step - loss: 0.0061 - rmse: 0.0781\n",
            "Epoch 262/500\n",
            "15/15 [==============================] - 0s 24ms/step - loss: 0.0061 - rmse: 0.0803\n",
            "Epoch 263/500\n",
            "15/15 [==============================] - 0s 26ms/step - loss: 0.0055 - rmse: 0.0748\n",
            "Epoch 264/500\n",
            "15/15 [==============================] - 0s 25ms/step - loss: 0.0054 - rmse: 0.0715\n",
            "Epoch 265/500\n",
            "15/15 [==============================] - 0s 23ms/step - loss: 0.0061 - rmse: 0.0827\n",
            "Epoch 266/500\n",
            "15/15 [==============================] - 0s 25ms/step - loss: 0.0061 - rmse: 0.0827\n",
            "Epoch 267/500\n",
            "15/15 [==============================] - 0s 24ms/step - loss: 0.0055 - rmse: 0.0719\n",
            "Epoch 268/500\n",
            "15/15 [==============================] - 0s 24ms/step - loss: 0.0057 - rmse: 0.0772\n",
            "Epoch 269/500\n",
            "15/15 [==============================] - 0s 25ms/step - loss: 0.0058 - rmse: 0.0745\n",
            "Epoch 270/500\n",
            "15/15 [==============================] - 0s 24ms/step - loss: 0.0054 - rmse: 0.0715\n",
            "Epoch 271/500\n",
            "15/15 [==============================] - 0s 26ms/step - loss: 0.0056 - rmse: 0.0740\n",
            "Epoch 272/500\n",
            "15/15 [==============================] - 0s 23ms/step - loss: 0.0058 - rmse: 0.0799\n",
            "Epoch 273/500\n",
            "15/15 [==============================] - 0s 24ms/step - loss: 0.0051 - rmse: 0.0708\n",
            "Epoch 274/500\n",
            "15/15 [==============================] - 0s 26ms/step - loss: 0.0054 - rmse: 0.0722\n",
            "Epoch 275/500\n",
            "15/15 [==============================] - 0s 25ms/step - loss: 0.0051 - rmse: 0.0748\n",
            "Epoch 276/500\n",
            "15/15 [==============================] - 0s 26ms/step - loss: 0.0050 - rmse: 0.0679\n",
            "Epoch 277/500\n",
            "15/15 [==============================] - 0s 25ms/step - loss: 0.0053 - rmse: 0.0720\n",
            "Epoch 278/500\n",
            "15/15 [==============================] - 0s 25ms/step - loss: 0.0052 - rmse: 0.0726\n",
            "Epoch 279/500\n",
            "15/15 [==============================] - 0s 26ms/step - loss: 0.0055 - rmse: 0.0772\n",
            "Epoch 280/500\n",
            "15/15 [==============================] - 0s 25ms/step - loss: 0.0048 - rmse: 0.0683\n",
            "Epoch 281/500\n",
            "15/15 [==============================] - 0s 24ms/step - loss: 0.0057 - rmse: 0.0748\n",
            "Epoch 282/500\n",
            "15/15 [==============================] - 0s 26ms/step - loss: 0.0052 - rmse: 0.0694\n",
            "Epoch 283/500\n",
            "15/15 [==============================] - 0s 25ms/step - loss: 0.0050 - rmse: 0.0733\n",
            "Epoch 284/500\n",
            "15/15 [==============================] - 0s 28ms/step - loss: 0.0050 - rmse: 0.0733\n",
            "Epoch 285/500\n",
            "15/15 [==============================] - 0s 25ms/step - loss: 0.0046 - rmse: 0.0718\n",
            "Epoch 286/500\n",
            "15/15 [==============================] - 0s 26ms/step - loss: 0.0056 - rmse: 0.0769\n",
            "Epoch 287/500\n",
            "15/15 [==============================] - 0s 26ms/step - loss: 0.0047 - rmse: 0.0704\n",
            "Epoch 288/500\n",
            "15/15 [==============================] - 0s 25ms/step - loss: 0.0054 - rmse: 0.0758\n",
            "Epoch 289/500\n",
            "15/15 [==============================] - 0s 24ms/step - loss: 0.0051 - rmse: 0.0739\n",
            "Epoch 290/500\n",
            "15/15 [==============================] - 0s 26ms/step - loss: 0.0047 - rmse: 0.0671\n",
            "Epoch 291/500\n",
            "15/15 [==============================] - 0s 24ms/step - loss: 0.0052 - rmse: 0.0728\n",
            "Epoch 292/500\n",
            "15/15 [==============================] - 0s 28ms/step - loss: 0.0053 - rmse: 0.0735\n",
            "Epoch 293/500\n",
            "15/15 [==============================] - 0s 26ms/step - loss: 0.0043 - rmse: 0.0672\n",
            "Epoch 294/500\n",
            "15/15 [==============================] - 0s 26ms/step - loss: 0.0046 - rmse: 0.0680\n",
            "Epoch 295/500\n",
            "15/15 [==============================] - 0s 25ms/step - loss: 0.0054 - rmse: 0.0715\n",
            "Epoch 296/500\n",
            "15/15 [==============================] - 0s 25ms/step - loss: 0.0053 - rmse: 0.0768\n",
            "Epoch 297/500\n",
            "15/15 [==============================] - 0s 26ms/step - loss: 0.0047 - rmse: 0.0705\n",
            "Epoch 298/500\n",
            "15/15 [==============================] - 0s 24ms/step - loss: 0.0050 - rmse: 0.0705\n",
            "Epoch 299/500\n",
            "15/15 [==============================] - 0s 24ms/step - loss: 0.0049 - rmse: 0.0695\n",
            "Epoch 300/500\n",
            "15/15 [==============================] - 0s 25ms/step - loss: 0.0038 - rmse: 0.0623\n",
            "Epoch 301/500\n",
            "15/15 [==============================] - 0s 25ms/step - loss: 0.0048 - rmse: 0.0690\n",
            "Epoch 302/500\n",
            "15/15 [==============================] - 0s 25ms/step - loss: 0.0048 - rmse: 0.0683\n",
            "Epoch 303/500\n",
            "15/15 [==============================] - 0s 25ms/step - loss: 0.0047 - rmse: 0.0708\n",
            "Epoch 304/500\n",
            "15/15 [==============================] - 0s 24ms/step - loss: 0.0050 - rmse: 0.0718\n",
            "Epoch 305/500\n",
            "15/15 [==============================] - 0s 25ms/step - loss: 0.0049 - rmse: 0.0724\n",
            "Epoch 306/500\n",
            "15/15 [==============================] - 0s 25ms/step - loss: 0.0051 - rmse: 0.0752\n",
            "Epoch 307/500\n",
            "15/15 [==============================] - 0s 25ms/step - loss: 0.0042 - rmse: 0.0650\n",
            "Epoch 308/500\n",
            "15/15 [==============================] - 0s 26ms/step - loss: 0.0043 - rmse: 0.0659\n",
            "Epoch 309/500\n",
            "15/15 [==============================] - 0s 24ms/step - loss: 0.0051 - rmse: 0.0740\n",
            "Epoch 310/500\n",
            "15/15 [==============================] - 0s 24ms/step - loss: 0.0044 - rmse: 0.0703\n",
            "Epoch 311/500\n",
            "15/15 [==============================] - 0s 27ms/step - loss: 0.0039 - rmse: 0.0639\n",
            "Epoch 312/500\n",
            "15/15 [==============================] - 0s 26ms/step - loss: 0.0039 - rmse: 0.0642\n",
            "Epoch 313/500\n",
            "15/15 [==============================] - 0s 26ms/step - loss: 0.0039 - rmse: 0.0624\n",
            "Epoch 314/500\n",
            "15/15 [==============================] - 0s 25ms/step - loss: 0.0035 - rmse: 0.0606\n",
            "Epoch 315/500\n",
            "15/15 [==============================] - 0s 26ms/step - loss: 0.0047 - rmse: 0.0692\n",
            "Epoch 316/500\n",
            "15/15 [==============================] - 0s 26ms/step - loss: 0.0037 - rmse: 0.0607\n",
            "Epoch 317/500\n",
            "15/15 [==============================] - 0s 26ms/step - loss: 0.0054 - rmse: 0.0809\n",
            "Epoch 318/500\n",
            "15/15 [==============================] - 0s 27ms/step - loss: 0.0038 - rmse: 0.0639\n",
            "Epoch 319/500\n",
            "15/15 [==============================] - 0s 24ms/step - loss: 0.0054 - rmse: 0.0715\n",
            "Epoch 320/500\n",
            "15/15 [==============================] - 0s 29ms/step - loss: 0.0048 - rmse: 0.0730\n",
            "Epoch 321/500\n",
            "15/15 [==============================] - 0s 26ms/step - loss: 0.0040 - rmse: 0.0644\n",
            "Epoch 322/500\n",
            "15/15 [==============================] - 0s 24ms/step - loss: 0.0042 - rmse: 0.0646\n",
            "Epoch 323/500\n",
            "15/15 [==============================] - 0s 26ms/step - loss: 0.0038 - rmse: 0.0684\n",
            "Epoch 324/500\n",
            "15/15 [==============================] - 0s 26ms/step - loss: 0.0050 - rmse: 0.0697\n",
            "Epoch 325/500\n",
            "15/15 [==============================] - 0s 25ms/step - loss: 0.0051 - rmse: 0.0798\n",
            "Epoch 326/500\n",
            "15/15 [==============================] - 0s 26ms/step - loss: 0.0042 - rmse: 0.0689\n",
            "Epoch 327/500\n",
            "15/15 [==============================] - 0s 25ms/step - loss: 0.0042 - rmse: 0.0648\n",
            "Epoch 328/500\n",
            "15/15 [==============================] - 0s 24ms/step - loss: 0.0043 - rmse: 0.0654\n",
            "Epoch 329/500\n",
            "15/15 [==============================] - 0s 24ms/step - loss: 0.0047 - rmse: 0.0664\n",
            "Epoch 330/500\n",
            "15/15 [==============================] - 0s 25ms/step - loss: 0.0056 - rmse: 0.0784\n",
            "Epoch 331/500\n",
            "15/15 [==============================] - 0s 26ms/step - loss: 0.0059 - rmse: 0.0788\n",
            "Epoch 332/500\n",
            "15/15 [==============================] - 0s 26ms/step - loss: 0.0063 - rmse: 0.0879\n",
            "Epoch 333/500\n",
            "15/15 [==============================] - 0s 25ms/step - loss: 0.0057 - rmse: 0.0799\n",
            "Epoch 334/500\n",
            "15/15 [==============================] - 0s 27ms/step - loss: 0.0036 - rmse: 0.0606\n",
            "Epoch 335/500\n",
            "15/15 [==============================] - 0s 26ms/step - loss: 0.0051 - rmse: 0.0700\n",
            "Epoch 336/500\n",
            "15/15 [==============================] - 0s 28ms/step - loss: 0.0057 - rmse: 0.0818\n",
            "Epoch 337/500\n",
            "15/15 [==============================] - 0s 25ms/step - loss: 0.0037 - rmse: 0.0614\n",
            "Epoch 338/500\n",
            "15/15 [==============================] - 0s 26ms/step - loss: 0.0058 - rmse: 0.0677\n",
            "Epoch 339/500\n",
            "15/15 [==============================] - 0s 28ms/step - loss: 0.0116 - rmse: 0.1119\n",
            "Epoch 340/500\n",
            "15/15 [==============================] - 0s 26ms/step - loss: 0.0099 - rmse: 0.1008\n",
            "Epoch 341/500\n",
            "15/15 [==============================] - 0s 27ms/step - loss: 0.0089 - rmse: 0.0940\n",
            "Epoch 342/500\n",
            "15/15 [==============================] - 0s 26ms/step - loss: 0.0075 - rmse: 0.0870\n",
            "Epoch 343/500\n",
            "15/15 [==============================] - 0s 26ms/step - loss: 0.0074 - rmse: 0.0830\n",
            "Epoch 344/500\n",
            "15/15 [==============================] - 0s 25ms/step - loss: 0.0089 - rmse: 0.0987\n",
            "Epoch 345/500\n",
            "15/15 [==============================] - 0s 27ms/step - loss: 0.0074 - rmse: 0.0869\n",
            "Epoch 346/500\n",
            "15/15 [==============================] - 0s 27ms/step - loss: 0.0066 - rmse: 0.0805\n",
            "Epoch 347/500\n",
            "15/15 [==============================] - 0s 25ms/step - loss: 0.0058 - rmse: 0.0788\n",
            "Epoch 348/500\n",
            "15/15 [==============================] - 0s 27ms/step - loss: 0.0091 - rmse: 0.0985\n",
            "Epoch 349/500\n",
            "15/15 [==============================] - 0s 28ms/step - loss: 0.0106 - rmse: 0.1014\n",
            "Epoch 350/500\n",
            "15/15 [==============================] - 0s 26ms/step - loss: 0.0079 - rmse: 0.0916\n",
            "Epoch 351/500\n",
            "15/15 [==============================] - 0s 25ms/step - loss: 0.0065 - rmse: 0.0814\n",
            "Epoch 352/500\n",
            "15/15 [==============================] - 0s 26ms/step - loss: 0.0063 - rmse: 0.0794\n",
            "Epoch 353/500\n",
            "15/15 [==============================] - 0s 27ms/step - loss: 0.0068 - rmse: 0.0837\n",
            "Epoch 354/500\n",
            "15/15 [==============================] - 0s 28ms/step - loss: 0.0061 - rmse: 0.0786\n",
            "Epoch 355/500\n",
            "15/15 [==============================] - 0s 27ms/step - loss: 0.0072 - rmse: 0.0875\n",
            "Epoch 356/500\n",
            "15/15 [==============================] - 0s 28ms/step - loss: 0.0063 - rmse: 0.0795\n",
            "Epoch 357/500\n",
            "15/15 [==============================] - 0s 26ms/step - loss: 0.0069 - rmse: 0.0887\n",
            "Epoch 358/500\n",
            "15/15 [==============================] - 0s 25ms/step - loss: 0.0059 - rmse: 0.0756\n",
            "Epoch 359/500\n",
            "15/15 [==============================] - 0s 27ms/step - loss: 0.0070 - rmse: 0.0890\n",
            "Epoch 360/500\n",
            "15/15 [==============================] - 0s 26ms/step - loss: 0.0071 - rmse: 0.0903\n",
            "Epoch 361/500\n",
            "15/15 [==============================] - 0s 28ms/step - loss: 0.0061 - rmse: 0.0819\n",
            "Epoch 362/500\n",
            "15/15 [==============================] - 0s 25ms/step - loss: 0.0059 - rmse: 0.0774\n",
            "Epoch 363/500\n",
            "15/15 [==============================] - 0s 27ms/step - loss: 0.0054 - rmse: 0.0736\n",
            "Epoch 364/500\n",
            "15/15 [==============================] - 0s 28ms/step - loss: 0.0061 - rmse: 0.0816\n",
            "Epoch 365/500\n",
            "15/15 [==============================] - 0s 28ms/step - loss: 0.0052 - rmse: 0.0704\n",
            "Epoch 366/500\n",
            "15/15 [==============================] - 0s 27ms/step - loss: 0.0061 - rmse: 0.0783\n",
            "Epoch 367/500\n",
            "15/15 [==============================] - 0s 26ms/step - loss: 0.0047 - rmse: 0.0674\n",
            "Epoch 368/500\n",
            "15/15 [==============================] - 0s 28ms/step - loss: 0.0054 - rmse: 0.0718\n",
            "Epoch 369/500\n",
            "15/15 [==============================] - 0s 27ms/step - loss: 0.0051 - rmse: 0.0702\n",
            "Epoch 370/500\n",
            "15/15 [==============================] - 0s 27ms/step - loss: 0.0047 - rmse: 0.0697\n",
            "Epoch 371/500\n",
            "15/15 [==============================] - 0s 27ms/step - loss: 0.0052 - rmse: 0.0761\n",
            "Epoch 372/500\n",
            "15/15 [==============================] - 0s 25ms/step - loss: 0.0045 - rmse: 0.0718\n",
            "Epoch 373/500\n",
            "15/15 [==============================] - 0s 27ms/step - loss: 0.0055 - rmse: 0.0766\n",
            "Epoch 374/500\n",
            "15/15 [==============================] - 0s 27ms/step - loss: 0.0050 - rmse: 0.0716\n",
            "Epoch 375/500\n",
            "15/15 [==============================] - 0s 25ms/step - loss: 0.0047 - rmse: 0.0734\n",
            "Epoch 376/500\n",
            "15/15 [==============================] - 0s 26ms/step - loss: 0.0052 - rmse: 0.0761\n",
            "Epoch 377/500\n",
            "15/15 [==============================] - 0s 26ms/step - loss: 0.0043 - rmse: 0.0667\n",
            "Epoch 378/500\n",
            "15/15 [==============================] - 0s 26ms/step - loss: 0.0046 - rmse: 0.0690\n",
            "Epoch 379/500\n",
            "15/15 [==============================] - 0s 27ms/step - loss: 0.0042 - rmse: 0.0684\n",
            "Epoch 380/500\n",
            "15/15 [==============================] - 0s 26ms/step - loss: 0.0043 - rmse: 0.0696\n",
            "Epoch 381/500\n",
            "15/15 [==============================] - 0s 27ms/step - loss: 0.0058 - rmse: 0.0776\n",
            "Epoch 382/500\n",
            "15/15 [==============================] - 0s 25ms/step - loss: 0.0048 - rmse: 0.0727\n",
            "Epoch 383/500\n",
            "15/15 [==============================] - 0s 26ms/step - loss: 0.0049 - rmse: 0.0728\n",
            "Epoch 384/500\n",
            "15/15 [==============================] - 0s 26ms/step - loss: 0.0039 - rmse: 0.0671\n",
            "Epoch 385/500\n",
            "15/15 [==============================] - 0s 27ms/step - loss: 0.0044 - rmse: 0.0651\n",
            "Epoch 386/500\n",
            "15/15 [==============================] - 0s 27ms/step - loss: 0.0041 - rmse: 0.0652\n",
            "Epoch 387/500\n",
            "15/15 [==============================] - 0s 29ms/step - loss: 0.0060 - rmse: 0.0797\n",
            "Epoch 388/500\n",
            "15/15 [==============================] - 0s 27ms/step - loss: 0.0046 - rmse: 0.0687\n",
            "Epoch 389/500\n",
            "15/15 [==============================] - 0s 27ms/step - loss: 0.0048 - rmse: 0.0717\n",
            "Epoch 390/500\n",
            "15/15 [==============================] - 0s 27ms/step - loss: 0.0051 - rmse: 0.0740\n",
            "Epoch 391/500\n",
            "15/15 [==============================] - 0s 27ms/step - loss: 0.0043 - rmse: 0.0684\n",
            "Epoch 392/500\n",
            "15/15 [==============================] - 0s 27ms/step - loss: 0.0047 - rmse: 0.0736\n",
            "Epoch 393/500\n",
            "15/15 [==============================] - 0s 25ms/step - loss: 0.0054 - rmse: 0.0767\n",
            "Epoch 394/500\n",
            "15/15 [==============================] - 0s 26ms/step - loss: 0.0053 - rmse: 0.0776\n",
            "Epoch 395/500\n",
            "15/15 [==============================] - 0s 24ms/step - loss: 0.0044 - rmse: 0.0715\n",
            "Epoch 396/500\n",
            "15/15 [==============================] - 0s 26ms/step - loss: 0.0046 - rmse: 0.0685\n",
            "Epoch 397/500\n",
            "15/15 [==============================] - 0s 26ms/step - loss: 0.0039 - rmse: 0.0671\n",
            "Epoch 398/500\n",
            "15/15 [==============================] - 0s 25ms/step - loss: 0.0036 - rmse: 0.0636\n",
            "Epoch 399/500\n",
            "15/15 [==============================] - 0s 26ms/step - loss: 0.0045 - rmse: 0.0686\n",
            "Epoch 400/500\n",
            "15/15 [==============================] - 0s 25ms/step - loss: 0.0042 - rmse: 0.0697\n",
            "Epoch 401/500\n",
            "15/15 [==============================] - 0s 25ms/step - loss: 0.0055 - rmse: 0.0784\n",
            "Epoch 402/500\n",
            "15/15 [==============================] - 0s 26ms/step - loss: 0.0047 - rmse: 0.0730\n",
            "Epoch 403/500\n",
            "15/15 [==============================] - 0s 25ms/step - loss: 0.0048 - rmse: 0.0674\n",
            "Epoch 404/500\n",
            "15/15 [==============================] - 0s 26ms/step - loss: 0.0043 - rmse: 0.0696\n",
            "Epoch 405/500\n",
            "15/15 [==============================] - 0s 24ms/step - loss: 0.0044 - rmse: 0.0673\n",
            "Epoch 406/500\n",
            "15/15 [==============================] - 0s 27ms/step - loss: 0.0038 - rmse: 0.0636\n",
            "Epoch 407/500\n",
            "15/15 [==============================] - 0s 26ms/step - loss: 0.0043 - rmse: 0.0696\n",
            "Epoch 408/500\n",
            "15/15 [==============================] - 0s 26ms/step - loss: 0.0042 - rmse: 0.0692\n",
            "Epoch 409/500\n",
            "15/15 [==============================] - 0s 26ms/step - loss: 0.0043 - rmse: 0.0706\n",
            "Epoch 410/500\n",
            "15/15 [==============================] - 0s 27ms/step - loss: 0.0043 - rmse: 0.0678\n",
            "Epoch 411/500\n",
            "15/15 [==============================] - 0s 24ms/step - loss: 0.0032 - rmse: 0.0610\n",
            "Epoch 412/500\n",
            "15/15 [==============================] - 0s 25ms/step - loss: 0.0039 - rmse: 0.0676\n",
            "Epoch 413/500\n",
            "15/15 [==============================] - 0s 26ms/step - loss: 0.0044 - rmse: 0.0685\n",
            "Epoch 414/500\n",
            "15/15 [==============================] - 0s 25ms/step - loss: 0.0051 - rmse: 0.0744\n",
            "Epoch 415/500\n",
            "15/15 [==============================] - 0s 26ms/step - loss: 0.0038 - rmse: 0.0666\n",
            "Epoch 416/500\n",
            "15/15 [==============================] - 0s 26ms/step - loss: 0.0045 - rmse: 0.0713\n",
            "Epoch 417/500\n",
            "15/15 [==============================] - 0s 26ms/step - loss: 0.0040 - rmse: 0.0645\n",
            "Epoch 418/500\n",
            "15/15 [==============================] - 0s 25ms/step - loss: 0.0041 - rmse: 0.0682\n",
            "Epoch 419/500\n",
            "15/15 [==============================] - 0s 25ms/step - loss: 0.0038 - rmse: 0.0634\n",
            "Epoch 420/500\n",
            "15/15 [==============================] - 0s 26ms/step - loss: 0.0031 - rmse: 0.0626\n",
            "Epoch 421/500\n",
            "15/15 [==============================] - 0s 26ms/step - loss: 0.0035 - rmse: 0.0604\n",
            "Epoch 422/500\n",
            "15/15 [==============================] - 0s 25ms/step - loss: 0.0039 - rmse: 0.0662\n",
            "Epoch 423/500\n",
            "15/15 [==============================] - 0s 27ms/step - loss: 0.0039 - rmse: 0.0631\n",
            "Epoch 424/500\n",
            "15/15 [==============================] - 0s 26ms/step - loss: 0.0038 - rmse: 0.0649\n",
            "Epoch 425/500\n",
            "15/15 [==============================] - 0s 27ms/step - loss: 0.0028 - rmse: 0.0557\n",
            "Epoch 426/500\n",
            "15/15 [==============================] - 0s 26ms/step - loss: 0.0035 - rmse: 0.0633\n",
            "Epoch 427/500\n",
            "15/15 [==============================] - 0s 27ms/step - loss: 0.0043 - rmse: 0.0693\n",
            "Epoch 428/500\n",
            "15/15 [==============================] - 0s 28ms/step - loss: 0.0033 - rmse: 0.0637\n",
            "Epoch 429/500\n",
            "15/15 [==============================] - 0s 27ms/step - loss: 0.0039 - rmse: 0.0723\n",
            "Epoch 430/500\n",
            "15/15 [==============================] - 0s 27ms/step - loss: 0.0033 - rmse: 0.0568\n",
            "Epoch 431/500\n",
            "15/15 [==============================] - 0s 26ms/step - loss: 0.0052 - rmse: 0.0727\n",
            "Epoch 432/500\n",
            "15/15 [==============================] - 0s 28ms/step - loss: 0.0040 - rmse: 0.0699\n",
            "Epoch 433/500\n",
            "15/15 [==============================] - 0s 26ms/step - loss: 0.0052 - rmse: 0.0796\n",
            "Epoch 434/500\n",
            "15/15 [==============================] - 0s 26ms/step - loss: 0.0052 - rmse: 0.0759\n",
            "Epoch 435/500\n",
            "15/15 [==============================] - 0s 27ms/step - loss: 0.0055 - rmse: 0.0783\n",
            "Epoch 436/500\n",
            "15/15 [==============================] - 0s 25ms/step - loss: 0.0045 - rmse: 0.0702\n",
            "Epoch 437/500\n",
            "15/15 [==============================] - 0s 26ms/step - loss: 0.0039 - rmse: 0.0695\n",
            "Epoch 438/500\n",
            "15/15 [==============================] - 0s 26ms/step - loss: 0.0058 - rmse: 0.0857\n",
            "Epoch 439/500\n",
            "15/15 [==============================] - 0s 26ms/step - loss: 0.0078 - rmse: 0.0946\n",
            "Epoch 440/500\n",
            "15/15 [==============================] - 0s 28ms/step - loss: 0.0070 - rmse: 0.0829\n",
            "Epoch 441/500\n",
            "15/15 [==============================] - 0s 26ms/step - loss: 0.0076 - rmse: 0.0852\n",
            "Epoch 442/500\n",
            "15/15 [==============================] - 0s 25ms/step - loss: 0.0074 - rmse: 0.0814\n",
            "Epoch 443/500\n",
            "15/15 [==============================] - 0s 27ms/step - loss: 0.0064 - rmse: 0.0756\n",
            "Epoch 444/500\n",
            "15/15 [==============================] - 0s 27ms/step - loss: 0.0064 - rmse: 0.0834\n",
            "Epoch 445/500\n",
            "15/15 [==============================] - 0s 27ms/step - loss: 0.0070 - rmse: 0.0799\n",
            "Epoch 446/500\n",
            "15/15 [==============================] - 0s 27ms/step - loss: 0.0052 - rmse: 0.0701\n",
            "Epoch 447/500\n",
            "15/15 [==============================] - 0s 26ms/step - loss: 0.0059 - rmse: 0.0804\n",
            "Epoch 448/500\n",
            "15/15 [==============================] - 0s 27ms/step - loss: 0.0066 - rmse: 0.0855\n",
            "Epoch 449/500\n",
            "15/15 [==============================] - 0s 27ms/step - loss: 0.0069 - rmse: 0.0885\n",
            "Epoch 450/500\n",
            "15/15 [==============================] - 0s 27ms/step - loss: 0.0076 - rmse: 0.0870\n",
            "Epoch 451/500\n",
            "15/15 [==============================] - 0s 25ms/step - loss: 0.0058 - rmse: 0.0773\n",
            "Epoch 452/500\n",
            "15/15 [==============================] - 0s 25ms/step - loss: 0.0060 - rmse: 0.0779\n",
            "Epoch 453/500\n",
            "15/15 [==============================] - 0s 27ms/step - loss: 0.0056 - rmse: 0.0804\n",
            "Epoch 454/500\n",
            "15/15 [==============================] - 0s 27ms/step - loss: 0.0050 - rmse: 0.0707\n",
            "Epoch 455/500\n",
            "15/15 [==============================] - 0s 29ms/step - loss: 0.0055 - rmse: 0.0755\n",
            "Epoch 456/500\n",
            "15/15 [==============================] - 0s 26ms/step - loss: 0.0050 - rmse: 0.0718\n",
            "Epoch 457/500\n",
            "15/15 [==============================] - 0s 27ms/step - loss: 0.0050 - rmse: 0.0682\n",
            "Epoch 458/500\n",
            "15/15 [==============================] - 0s 25ms/step - loss: 0.0052 - rmse: 0.0730\n",
            "Epoch 459/500\n",
            "15/15 [==============================] - 0s 26ms/step - loss: 0.0049 - rmse: 0.0695\n",
            "Epoch 460/500\n",
            "15/15 [==============================] - 0s 26ms/step - loss: 0.0056 - rmse: 0.0776\n",
            "Epoch 461/500\n",
            "15/15 [==============================] - 0s 25ms/step - loss: 0.0055 - rmse: 0.0761\n",
            "Epoch 462/500\n",
            "15/15 [==============================] - 0s 27ms/step - loss: 0.0049 - rmse: 0.0700\n",
            "Epoch 463/500\n",
            "15/15 [==============================] - 0s 25ms/step - loss: 0.0045 - rmse: 0.0728\n",
            "Epoch 464/500\n",
            "15/15 [==============================] - 0s 27ms/step - loss: 0.0046 - rmse: 0.0693\n",
            "Epoch 465/500\n",
            "15/15 [==============================] - 0s 28ms/step - loss: 0.0052 - rmse: 0.0759\n",
            "Epoch 466/500\n",
            "15/15 [==============================] - 0s 27ms/step - loss: 0.0054 - rmse: 0.0747\n",
            "Epoch 467/500\n",
            "15/15 [==============================] - 0s 27ms/step - loss: 0.0048 - rmse: 0.0644\n",
            "Epoch 468/500\n",
            "15/15 [==============================] - 0s 27ms/step - loss: 0.0047 - rmse: 0.0686\n",
            "Epoch 469/500\n",
            "15/15 [==============================] - 0s 25ms/step - loss: 0.0080 - rmse: 0.0898\n",
            "Epoch 470/500\n",
            "15/15 [==============================] - 0s 26ms/step - loss: 0.0074 - rmse: 0.0884\n",
            "Epoch 471/500\n",
            "15/15 [==============================] - 0s 25ms/step - loss: 0.0063 - rmse: 0.0820\n",
            "Epoch 472/500\n",
            "15/15 [==============================] - 0s 27ms/step - loss: 0.0081 - rmse: 0.0874\n",
            "Epoch 473/500\n",
            "15/15 [==============================] - 0s 27ms/step - loss: 0.0153 - rmse: 0.1199\n",
            "Epoch 474/500\n",
            "15/15 [==============================] - 0s 26ms/step - loss: 0.0128 - rmse: 0.1207\n",
            "Epoch 475/500\n",
            "15/15 [==============================] - 0s 26ms/step - loss: 0.0101 - rmse: 0.1007\n",
            "Epoch 476/500\n",
            "15/15 [==============================] - 0s 26ms/step - loss: 0.0079 - rmse: 0.0915\n",
            "Epoch 477/500\n",
            "15/15 [==============================] - 0s 26ms/step - loss: 0.0083 - rmse: 0.0979\n",
            "Epoch 478/500\n",
            "15/15 [==============================] - 0s 26ms/step - loss: 0.0091 - rmse: 0.1032\n",
            "Epoch 479/500\n",
            "15/15 [==============================] - 0s 26ms/step - loss: 0.0075 - rmse: 0.0863\n",
            "Epoch 480/500\n",
            "15/15 [==============================] - 0s 27ms/step - loss: 0.0080 - rmse: 0.0867\n",
            "Epoch 481/500\n",
            "15/15 [==============================] - 0s 27ms/step - loss: 0.0064 - rmse: 0.0818\n",
            "Epoch 482/500\n",
            "15/15 [==============================] - 0s 27ms/step - loss: 0.0084 - rmse: 0.0939\n",
            "Epoch 483/500\n",
            "15/15 [==============================] - 0s 27ms/step - loss: 0.0071 - rmse: 0.0828\n",
            "Epoch 484/500\n",
            "15/15 [==============================] - 0s 27ms/step - loss: 0.0065 - rmse: 0.0766\n",
            "Epoch 485/500\n",
            "15/15 [==============================] - 0s 27ms/step - loss: 0.0069 - rmse: 0.0818\n",
            "Epoch 486/500\n",
            "15/15 [==============================] - 0s 27ms/step - loss: 0.0060 - rmse: 0.0739\n",
            "Epoch 487/500\n",
            "15/15 [==============================] - 0s 27ms/step - loss: 0.0062 - rmse: 0.0756\n",
            "Epoch 488/500\n",
            "15/15 [==============================] - 0s 26ms/step - loss: 0.0063 - rmse: 0.0767\n",
            "Epoch 489/500\n",
            "15/15 [==============================] - 0s 25ms/step - loss: 0.0058 - rmse: 0.0702\n",
            "Epoch 490/500\n",
            "15/15 [==============================] - 0s 28ms/step - loss: 0.0058 - rmse: 0.0715\n",
            "Epoch 491/500\n",
            "15/15 [==============================] - 0s 27ms/step - loss: 0.0058 - rmse: 0.0698\n",
            "Epoch 492/500\n",
            "15/15 [==============================] - 0s 28ms/step - loss: 0.0067 - rmse: 0.0772\n",
            "Epoch 493/500\n",
            "15/15 [==============================] - 0s 26ms/step - loss: 0.0060 - rmse: 0.0738\n",
            "Epoch 494/500\n",
            "15/15 [==============================] - 0s 27ms/step - loss: 0.0062 - rmse: 0.0766\n",
            "Epoch 495/500\n",
            "15/15 [==============================] - 0s 27ms/step - loss: 0.0063 - rmse: 0.0732\n",
            "Epoch 496/500\n",
            "15/15 [==============================] - 0s 27ms/step - loss: 0.0066 - rmse: 0.0792\n",
            "Epoch 497/500\n",
            "15/15 [==============================] - 0s 27ms/step - loss: 0.0062 - rmse: 0.0786\n",
            "Epoch 498/500\n",
            "15/15 [==============================] - 0s 27ms/step - loss: 0.0081 - rmse: 0.0915\n",
            "Epoch 499/500\n",
            "15/15 [==============================] - 0s 26ms/step - loss: 0.0065 - rmse: 0.0809\n",
            "Epoch 500/500\n",
            "15/15 [==============================] - 0s 26ms/step - loss: 0.0061 - rmse: 0.0746\n"
          ],
          "name": "stdout"
        },
        {
          "output_type": "execute_result",
          "data": {
            "text/plain": [
              "<tensorflow.python.keras.callbacks.History at 0x7f1e2bba88d0>"
            ]
          },
          "metadata": {
            "tags": []
          },
          "execution_count": 18
        }
      ]
    },
    {
      "cell_type": "markdown",
      "metadata": {
        "id": "QY5hIdSi-CNU"
      },
      "source": [
        "## Cross-Validating the model"
      ],
      "id": "QY5hIdSi-CNU"
    },
    {
      "cell_type": "markdown",
      "metadata": {
        "id": "FhHsXaiF-CNU"
      },
      "source": [
        "Extracting the data for test dataset, and performing the same operation as performed on training data. And, combining the dataset, and from this combined dataset extracting the data which will be given as input to the model.<br><br>\n",
        "The reason for the above process is, to predict the first few predictions, we also need past data that is available in training dataset, so we combine that required data with our test data and then pass it to the model.\n",
        "         "
      ],
      "id": "FhHsXaiF-CNU"
    },
    {
      "cell_type": "code",
      "metadata": {
        "id": "dpPyE0L7-CNU",
        "colab": {
          "base_uri": "https://localhost:8080/"
        },
        "outputId": "d5747b49-8509-4aeb-e660-c782c1c95cac"
      },
      "source": [
        "test_start = dt.datetime.now()-dt.timedelta(days=50)\n",
        "test_end = dt.datetime.now()\n",
        "\n",
        "test_data = pdr.get_data_yahoo(\"BNB-USD\", test_start, test_end)\n",
        "\n",
        "final_test = pd.DataFrame()\n",
        "final_test['Close_Open'] = test_data['Close'] - test_data['Open']\n",
        "final_test['High_Low'] = test_data['High'] - test_data['Low']\n",
        "final_test['t1'] = np.power(test_data[\"High\"]-test_data[\"Low\"],3)\n",
        "final_test['Close'] = test_data['Close']\n",
        "\n",
        "total_dataset = pd.concat((store,final_test),axis=0)\n",
        "model_inputs = np.array(total_dataset[len(total_dataset) - len(test_data)-prediction_days-1:])\n",
        "# model_inputs=difference(np.log10((model_inputs))).to_numpy()\n",
        "# model_inputs = model_inputs\n",
        "\n",
        "store_model_inputs = (model_inputs)\n",
        "model_inputs = np.array(difference(model_inputs))\n",
        "\n",
        "model_inputs = np.concatenate((scaler.transform(model_inputs[:,:3]), scaler_close.transform(model_inputs[:,3:4])),axis=1)\n",
        "actual_prices = (store_model_inputs[prediction_days+1:,3].reshape(-1,1))# difference(np.log10((test_data['Close']))).to_numpy()\n",
        "orig_recover_data = np.concatenate((np.array(store_model_inputs[prediction_days, store_model_inputs.shape[1]-1]).reshape(-1,1),actual_prices),axis=0)\n",
        "\n",
        "\n",
        "x_test = []\n",
        "for x in range(prediction_days, len(model_inputs)):\n",
        "    x_test.append(model_inputs[x-prediction_days:x])\n",
        "x_test = np.array(x_test)\n",
        "# x_test = np.reshape(x_test, (x_test.shape[0], x_test.shape[1],1))"
      ],
      "id": "dpPyE0L7-CNU",
      "execution_count": 19,
      "outputs": [
        {
          "output_type": "stream",
          "text": [
            "\r[*********************100%***********************]  1 of 1 completed\n"
          ],
          "name": "stdout"
        }
      ]
    },
    {
      "cell_type": "code",
      "metadata": {
        "colab": {
          "base_uri": "https://localhost:8080/",
          "height": 212
        },
        "id": "74FcVBkxbJPY",
        "outputId": "35810b4b-fae6-4078-dca2-6b24e6f54383"
      },
      "source": [
        "np.array(prediction_prices).shape\n",
        "a = (1,2,3)\n",
        "a[3:]\n",
        "# np.array(store_model_inputs[prediction_days, store_model_inputs.shape[1]-1]).reshape(-1,1)"
      ],
      "id": "74FcVBkxbJPY",
      "execution_count": 20,
      "outputs": [
        {
          "output_type": "error",
          "ename": "NameError",
          "evalue": "ignored",
          "traceback": [
            "\u001b[0;31m---------------------------------------------------------------------------\u001b[0m",
            "\u001b[0;31mNameError\u001b[0m                                 Traceback (most recent call last)",
            "\u001b[0;32m<ipython-input-20-86d0569fcc1f>\u001b[0m in \u001b[0;36m<module>\u001b[0;34m()\u001b[0m\n\u001b[0;32m----> 1\u001b[0;31m \u001b[0mnp\u001b[0m\u001b[0;34m.\u001b[0m\u001b[0marray\u001b[0m\u001b[0;34m(\u001b[0m\u001b[0mprediction_prices\u001b[0m\u001b[0;34m)\u001b[0m\u001b[0;34m.\u001b[0m\u001b[0mshape\u001b[0m\u001b[0;34m\u001b[0m\u001b[0;34m\u001b[0m\u001b[0m\n\u001b[0m\u001b[1;32m      2\u001b[0m \u001b[0ma\u001b[0m \u001b[0;34m=\u001b[0m \u001b[0;34m(\u001b[0m\u001b[0;36m1\u001b[0m\u001b[0;34m,\u001b[0m\u001b[0;36m2\u001b[0m\u001b[0;34m,\u001b[0m\u001b[0;36m3\u001b[0m\u001b[0;34m)\u001b[0m\u001b[0;34m\u001b[0m\u001b[0;34m\u001b[0m\u001b[0m\n\u001b[1;32m      3\u001b[0m \u001b[0ma\u001b[0m\u001b[0;34m[\u001b[0m\u001b[0;36m3\u001b[0m\u001b[0;34m:\u001b[0m\u001b[0;34m]\u001b[0m\u001b[0;34m\u001b[0m\u001b[0;34m\u001b[0m\u001b[0m\n\u001b[1;32m      4\u001b[0m \u001b[0;31m# np.array(store_model_inputs[prediction_days, store_model_inputs.shape[1]-1]).reshape(-1,1)\u001b[0m\u001b[0;34m\u001b[0m\u001b[0;34m\u001b[0m\u001b[0;34m\u001b[0m\u001b[0m\n",
            "\u001b[0;31mNameError\u001b[0m: name 'prediction_prices' is not defined"
          ]
        }
      ]
    },
    {
      "cell_type": "markdown",
      "metadata": {
        "id": "Ie4oSryn-CNU"
      },
      "source": [
        "Predicting the prices using x_test, and comparing it with the actual prices"
      ],
      "id": "Ie4oSryn-CNU"
    },
    {
      "cell_type": "code",
      "metadata": {
        "id": "PdJvzBnJ-CNV",
        "colab": {
          "base_uri": "https://localhost:8080/",
          "height": 362
        },
        "outputId": "68fd1493-b300-4620-8ef5-898941044027"
      },
      "source": [
        "prediction_prices = model.predict(x_test)\n",
        "prediction_prices = scaler_close.inverse_transform(prediction_prices)\n",
        "prediction_prices = invert_difference(orig_recover_data,prediction_prices)\n",
        "\n",
        "# prediction_prices = scaler.inverse_transform(prediction_prices)\n",
        "# prediction_prices = scaler.inverse_transform(prediction_prices) \n",
        "plt.plot(actual_prices,color='black', label='Actual Prices')\n",
        "plt.plot(prediction_prices, color='green', label='Predicted Prices')\n",
        "plt.title(f'{crypto_currency} price prediction')\n",
        "plt.xlabel('Time')\n",
        "plt.ylabel('Price')\n",
        "# plt.legend(loc='lower left')\n",
        "plt.show()"
      ],
      "id": "PdJvzBnJ-CNV",
      "execution_count": 21,
      "outputs": [
        {
          "output_type": "display_data",
          "data": {
            "image/png": "[encoded data removed]",
            "text/plain": [
              "<Figure size 432x288 with 1 Axes>"
            ]
          },
          "metadata": {
            "tags": []
          }
        }
      ]
    },
    {
      "cell_type": "code",
      "metadata": {
        "colab": {
          "base_uri": "https://localhost:8080/",
          "height": 310
        },
        "id": "ebN4Kf_ssMYJ",
        "outputId": "db7582fd-fa8d-45c0-dbf9-49a482730fd9"
      },
      "source": [
        "plt.plot(model.predict(x_test))"
      ],
      "id": "ebN4Kf_ssMYJ",
      "execution_count": 22,
      "outputs": [
        {
          "output_type": "execute_result",
          "data": {
            "text/plain": [
              "[<matplotlib.lines.Line2D at 0x7f1e26f37650>]"
            ]
          },
          "metadata": {
            "tags": []
          },
          "execution_count": 22
        },
        {
          "output_type": "display_data",
          "data": {
            "image/png": "[encoded data removed]",
            "text/plain": [
              "<Figure size 432x288 with 1 Axes>"
            ]
          },
          "metadata": {
            "tags": []
          }
        }
      ]
    },
    {
      "cell_type": "markdown",
      "metadata": {
        "id": "siAvsr4X-CNV"
      },
      "source": [
        "Comparing the RMSE scores of predicting on Training dataset vs Test Dataset.This will help us to check overfitting and improving our models."
      ],
      "id": "siAvsr4X-CNV"
    },
    {
      "cell_type": "code",
      "metadata": {
        "id": "2r0S-HxI-CNV",
        "colab": {
          "base_uri": "https://localhost:8080/",
          "height": 326
        },
        "outputId": "61c4e984-f229-4bcd-eaf5-a199edbd13fe"
      },
      "source": [
        "# # Predict Next Day\n",
        "# real_data = [model_inputs[len(model_inputs) +1 - prediction_days: len(model_inputs) + 1,0]]\n",
        "# real_data = np.reshape(real_data,-1)\n",
        "# real_data = np.reshape(real_data, (real_data.shape))\n",
        "# prediction = model.predict(real_data)\n",
        "# prediction = scaler.inverse_transform(prediction)\n",
        "# print()\n",
        "# (prediction_prices)\n",
        "# plottiong training dataset  \n",
        "\n",
        "plt.plot(invert_difference(np.array(store)[:-7,3],scaler_close.inverse_transform(model.predict(x_train))))\n",
        "plt.plot(invert_difference(np.array(store)[:-7,3],scaler_close.inverse_transform(y_train.reshape(-1,1))))\n",
        "train = mean_squared_error(invert_difference(np.array(store)[:-7,3],scaler_close.inverse_transform(model.predict(x_train))),invert_difference(np.array(store)[:-7,3],scaler_close.inverse_transform(y_train.reshape(-1,1))), squared=False )\n",
        "test = mean_squared_error(invert_difference(orig_recover_data,scaler_close.inverse_transform(model.predict(x_test))),actual_prices,squared=False)\n",
        "print(\"Test Data (RMSE) : \", test);\n",
        "print(\"Train Data (RMSE) : \", train);\n",
        "# plt.plot(model.predict(x_train))\n",
        "# plt.plot(y_train)"
      ],
      "id": "2r0S-HxI-CNV",
      "execution_count": 26,
      "outputs": [
        {
          "output_type": "stream",
          "text": [
            "Test Data (RMSE) :  53.445275796461225\n",
            "Train Data (RMSE) :  61.413258294189795\n"
          ],
          "name": "stdout"
        },
        {
          "output_type": "display_data",
          "data": {
            "image/png": "[encoded data removed]",
            "text/plain": [
              "<Figure size 432x288 with 1 Axes>"
            ]
          },
          "metadata": {
            "tags": []
          }
        }
      ]
    },
    {
      "cell_type": "code",
      "metadata": {
        "colab": {
          "base_uri": "https://localhost:8080/"
        },
        "id": "zQZrtpBpSGU-",
        "outputId": "bda56a6e-9dae-44ce-9d80-eada54da6680"
      },
      "source": [
        "store[:-7,3]"
      ],
      "id": "zQZrtpBpSGU-",
      "execution_count": null,
      "outputs": [
        {
          "output_type": "execute_result",
          "data": {
            "text/plain": [
              "array([0.00000000e+00, 5.27741029e-04, 5.08635217e-03, 4.73728814e-03,\n",
              "       6.00457120e-03, 6.68090967e-03, 8.69341691e-03, 7.04053653e-03,\n",
              "       9.45130335e-03, 7.12388484e-03, 7.31210189e-04, 3.23936922e-04,\n",
              "       3.49795532e-03, 6.09720834e-03, 4.72572644e-03, 8.25805584e-03,\n",
              "       1.21979576e-02, 1.16782792e-02, 7.65237352e-03, 7.37228493e-03,\n",
              "       1.16157695e-03, 4.62944075e-03, 4.56344396e-03, 6.23506949e-03,\n",
              "       5.83069113e-03, 5.94206744e-03, 4.84472880e-03, 7.28788392e-03,\n",
              "       7.75713460e-03, 1.07674709e-02, 9.98932609e-03, 2.14850046e-02,\n",
              "       2.06206106e-02, 2.24805549e-02, 2.82544782e-02, 4.69450267e-02,\n",
              "       5.46091713e-02, 4.81130754e-02, 6.57383326e-02, 1.09746885e-01,\n",
              "       1.43987387e-01, 1.35672761e-01, 1.55294190e-01, 1.49813119e-01,\n",
              "       1.54475911e-01, 1.43721988e-01, 1.44488350e-01, 1.98760198e-01,\n",
              "       2.47777999e-01, 4.62089508e-01, 3.41887551e-01, 4.01422036e-01,\n",
              "       3.60006774e-01, 3.02752545e-01, 3.39387305e-01, 3.07286573e-01,\n",
              "       2.88149036e-01, 2.93745018e-01, 2.69167490e-01, 3.39811900e-01,\n",
              "       3.16124401e-01, 3.18584238e-01, 3.01107494e-01, 2.95506009e-01,\n",
              "       2.95967449e-01, 3.17154032e-01, 3.17372682e-01, 4.00700223e-01,\n",
              "       3.78584110e-01, 3.94942078e-01, 3.54011007e-01, 3.73483085e-01,\n",
              "       3.55502005e-01, 3.39860348e-01, 3.45253830e-01, 3.63683693e-01,\n",
              "       3.50904887e-01, 3.54593673e-01, 3.55666513e-01, 3.55893082e-01,\n",
              "       3.41803599e-01, 3.41473507e-01, 3.32319417e-01, 3.08853701e-01,\n",
              "       3.40556108e-01, 3.62503766e-01, 3.62643248e-01, 3.72087499e-01,\n",
              "       4.28865551e-01, 4.14184860e-01, 4.66161236e-01, 4.72111306e-01,\n",
              "       4.47221486e-01, 4.91893499e-01, 5.17212771e-01, 5.73373704e-01,\n",
              "       5.28010118e-01, 5.96026740e-01, 6.51124308e-01, 6.81513932e-01,\n",
              "       7.64340773e-01, 8.79329020e-01, 8.02286497e-01, 8.02294823e-01,\n",
              "       7.91382302e-01, 7.40562359e-01, 7.56549970e-01, 6.94800520e-01,\n",
              "       7.32523120e-01, 8.60994234e-01, 7.96699942e-01, 7.33965743e-01,\n",
              "       7.66190454e-01, 7.18916753e-01, 7.32498239e-01, 7.78753505e-01,\n",
              "       8.31895453e-01, 8.22741889e-01, 8.80871696e-01, 9.19088729e-01,\n",
              "       9.11667134e-01, 9.15984906e-01, 1.00000000e+00, 8.98893257e-01,\n",
              "       9.62335919e-01, 9.33513518e-01, 9.19845616e-01, 9.53615204e-01,\n",
              "       9.78902561e-01, 9.30489892e-01, 9.94747149e-01, 8.62806879e-01,\n",
              "       8.36542813e-01, 8.86236803e-01, 8.23383363e-01, 8.23051190e-01,\n",
              "       7.43297165e-01, 7.37116219e-01, 4.72139155e-01, 5.57728793e-01,\n",
              "       4.52180588e-01, 4.10171940e-01])"
            ]
          },
          "metadata": {
            "tags": []
          },
          "execution_count": 48
        }
      ]
    },
    {
      "cell_type": "markdown",
      "metadata": {
        "id": "pZNBmgTn-CNV"
      },
      "source": [
        "## Notes\n",
        "for 1000 epochs, model is overfitting, 500 seems fine to me. Might decrease the epochs from 500\n",
        "Optimizer and loss are alright to i guess.\n",
        "activation function is next (marked in to-do in github projects)"
      ],
      "id": "pZNBmgTn-CNV"
    },
    {
      "cell_type": "markdown",
      "metadata": {
        "id": "KvW_5BWE-CNV"
      },
      "source": [
        "## Playground for trying various combination before they are finally incorporated into the notebook"
      ],
      "id": "KvW_5BWE-CNV"
    },
    {
      "cell_type": "code",
      "metadata": {
        "id": "hBDsoDPg-CNW"
      },
      "source": [
        "re = data['Close']).reshape(-1,1)\n",
        "data2 = scaler.fit_transform(re)\n",
        "# data2[3:]\n",
        "plt.plot(difference(np.log10((data2))).to_numpy(),color='black', label='Actual Prices')"
      ],
      "id": "hBDsoDPg-CNW",
      "execution_count": null,
      "outputs": []
    },
    {
      "cell_type": "code",
      "metadata": {
        "id": "4p_TDNQr-CNW"
      },
      "source": [
        "pd.Series(np.array(boxcox(data['Close'])))"
      ],
      "id": "4p_TDNQr-CNW",
      "execution_count": null,
      "outputs": []
    },
    {
      "cell_type": "code",
      "metadata": {
        "id": "IRmHp72D-CNW"
      },
      "source": [
        "# plt.plot(data['Open'])\n",
        "# plt.plot(data['Close'])\n",
        "plt.plot(data['High'] - data['Low'])\n",
        "plt.plot(data['Close'] - data['Open'])\n",
        "# plt.plot(data['Close'] - data['High'])\n",
        "# plt.plot(data['Close'] - data['Low'])\n",
        "# plt.plot(data['Low'])"
      ],
      "id": "IRmHp72D-CNW",
      "execution_count": null,
      "outputs": []
    },
    {
      "cell_type": "code",
      "metadata": {
        "id": "mB-m3grs-CNW"
      },
      "source": [
        "# #creating neural netowrk  Good Model\n",
        "# model = Sequential()                # could make units 50, for better prediction\n",
        "# model.add(LSTM(units=500, return_sequences=True, input_shape=(x_train.shape[1],x_train.shape[2]), activation=\"relu\" ))\n",
        "# # model.add(Dropout(0.2))\n",
        "# model.add(LSTM(units=500, activation=\"relu\"))\n",
        "# # model.add(Dropout(0.2))\n",
        "# # model.add(LSTM(units=50,activation=\"relu\"))\n",
        "# # model.add(Dense(units=100, activation=\"relu\"))\n",
        "# # model.add(Dropout(0.2))\n",
        "\n",
        "# model.add(Dense(units=1,activation=\"relu\"))\n",
        "# model.compile(optimizer='adam', loss='mean_squared_error',metrics=[rmse])\n",
        "# model.fit(x_train,y_train, epochs=100, batch_size=10)"
      ],
      "id": "mB-m3grs-CNW",
      "execution_count": null,
      "outputs": []
    },
    {
      "cell_type": "code",
      "metadata": {
        "id": "EW7kQPzD-CNW"
      },
      "source": [
        "# best model till now\n",
        "model = Sequential()                # could make units 50, for better prediction\n",
        "# model.add(LayerNormalization())     # Normalizing the input data \n",
        "# First LSTM layer\n",
        "model.add(LSTM(units=50,return_sequences=True,input_shape=(x_train.shape[1],x_train.shape[2]),activation=\"relu\",unroll=True))\n",
        "# model.add(Dropout(0.1))    # Removing some of the data from the previous layer to avoid overfitting\n",
        "model.add(BatchNormalization())\n",
        "model.add(LSTM(units=50, activation=\"relu\",unroll=True,return_sequences=True))#, return_sequences=True))    # Second LSTM Layer\n",
        "# model.add(Dropout(0.1))\n",
        "model.add(BatchNormalization())\n",
        "model.add(LSTM(units=50, return_sequences=True))\n",
        "# model.add(Dropout(0.1))\n",
        "model.add(BatchNormalization())\n",
        "model.add(LSTM(units=50, return_sequences=True))\n",
        "# model.add(Dropout(0.1))\n",
        "model.add(BatchNormalization())\n",
        "model.add(LSTM(units=50, return_sequences=True))\n",
        "# model.add(Dropout(0.1))\n",
        "model.add(BatchNormalization())\n",
        "model.add(LSTM(units=50, return_sequences=True))\n",
        "# model.add(Dropout(0.1))\n",
        "# model.add(LSTM(units=50, return_sequences=True))\n",
        "# model.add(Dropout(0.1))\n",
        "# model.add(LSTM(units=50, return_sequences=True))\n",
        "# model.add(Dropout(0.1))\n",
        "# model.add(LSTM(units=50, return_sequences=True))\n",
        "# model.add(Dropout(0.1))\n",
        "model.add(BatchNormalization())\n",
        "model.add(LSTM(units=50))\n",
        "# model.add(Dropout(0.1))\n",
        "model.add(BatchNormalization())\n",
        "## \n",
        "# model.add(Dropout(0.1))\n",
        "# model.add(LSTM(units=50,activation=\"relu\"))\n",
        "# model.add(Dense(units=500, activation=\"relu\"))\n",
        "# model.add(Dropout(0.2))\n",
        "\n",
        "model.add(Dense(units=1))  # Final LSTM Layer of unit=1, cause we have just one Output, that is, Closing Price\n",
        "model.compile(optimizer='adam', loss=tf.keras.losses.Huber(delta=1),metrics=[rmse])   # Compiling, optimizer and loss can be changed to optimize the model for our specific purpose\n",
        "model.fit(x_train,y_train, epochs=80, batch_size=10)"
      ],
      "id": "EW7kQPzD-CNW",
      "execution_count": null,
      "outputs": []
    },
    {
      "cell_type": "code",
      "metadata": {
        "id": "bzh0X95ypoMr"
      },
      "source": [
        ""
      ],
      "id": "bzh0X95ypoMr",
      "execution_count": null,
      "outputs": []
    }
  ]
}