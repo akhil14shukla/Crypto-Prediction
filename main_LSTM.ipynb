{
  "nbformat": 4,
  "nbformat_minor": 5,
  "metadata": {
    "kernelspec": {
      "name": "python3",
      "display_name": "Python 3.8.10 64-bit"
    },
    "language_info": {
      "codemirror_mode": {
        "name": "ipython",
        "version": 3
      },
      "file_extension": ".py",
      "mimetype": "text/x-python",
      "name": "python",
      "nbconvert_exporter": "python",
      "pygments_lexer": "ipython3",
      "version": "3.8.10"
    },
    "interpreter": {
      "hash": "916dbcbb3f70747c44a77c7bcd40155683ae19c65e1c03b4aa3499c5328201f1"
    },
    "colab": {
      "name": "main_LSTM.ipynb",
      "provenance": []
    },
    "accelerator": "TPU"
  },
  "cells": [
    {
      "cell_type": "markdown",
      "metadata": {
        "id": "WrjMMA2H-CNJ"
      },
      "source": [
        "# Crypto-currency Price Prediction using LSTM (Long-Short Term Memory) Model\n",
        "\n",
        "We will **predict the price of the next day using the data of past few days**(exact number of past few days depends on the data). <br>Suppose we find that our price is highly correlated to the prices of last 7 days. Then, we will use the price of last 7 days to predict the price of tomorrow/next day.<br>\n",
        "But for predicting the price of day after tomorrow, we will be needing the price of tomorrow. This problem is not considered in this notebook, cause this notebook was created with the aim to predict the price of tomorrow.<br><br>\n",
        "But we can still solve this problem using two ways:<br><br>\n",
        "1. Directly training the model to predict the price of day after tomorrow rather than tomorrow, using the past data. <br><br>\n",
        "2. Using the predicted price of tomorrow as historical data, and using it to predict the price of day after tomorrow, and adding this to historical dataset, to predict the price of next day, and so on.<br><br>\n",
        "\n",
        "_Notes - _<br>\n",
        "_1. The error will be a bit greater in the above methods_<br>\n",
        "_2. Past data and historical data are used synonymously_\n"
      ],
      "id": "WrjMMA2H-CNJ"
    },
    {
      "cell_type": "markdown",
      "metadata": {
        "id": "LMUsqt_X-CNK"
      },
      "source": [
        "Notebook is divided into Sections :<br>\n",
        "1. Data Import<br>\n",
        "2. Understanding the distribution of the data<br>\n",
        "3. Data Transformation<br>\n",
        "4. Model Building and Training<br>\n",
        "6. Cross-Validating the model<br><br>\n",
        "7. Notes<br>\n",
        "8. Playground"
      ],
      "id": "LMUsqt_X-CNK"
    },
    {
      "cell_type": "code",
      "metadata": {
        "id": "d62efca1",
        "colab": {
          "base_uri": "https://localhost:8080/"
        },
        "outputId": "0a09d51e-43e3-4aaa-8b89-d436d530d6d8"
      },
      "source": [
        "# Importing the required libraries\n",
        "import pandas  as pd \n",
        "import numpy as np\n",
        "import matplotlib.pyplot as plt \n",
        "import pandas_datareader as web\n",
        "import datetime as dt \n",
        "!pip install yfinance\n",
        "import yfinance as yf\n",
        "!pip install sktime\n",
        "import sktime\n",
        "import pandas_datareader.data as pdr\n",
        "import tensorflow as tf\n",
        "from sklearn.preprocessing import MinMaxScaler, PowerTransformer\n",
        "from tensorflow.keras.layers import Dense, Dropout, LSTM, LayerNormalization,Activation, BatchNormalization\n",
        "from tensorflow.keras.models import Sequential\n",
        "from tensorflow.keras import backend\n",
        "# from pycaret.regression import *"
      ],
      "id": "d62efca1",
      "execution_count": 3,
      "outputs": [
        {
          "output_type": "stream",
          "text": [
            "Collecting yfinance\n",
            "  Downloading https://files.pythonhosted.org/packages/79/bd/d64719da8f5367f4d8b16e83507fa1d90942f433f748a4cf3ed7aa515d14/yfinance-0.1.63.tar.gz\n",
            "Requirement already satisfied: pandas>=0.24 in /usr/local/lib/python3.7/dist-packages (from yfinance) (1.1.5)\n",
            "Requirement already satisfied: numpy>=1.15 in /usr/local/lib/python3.7/dist-packages (from yfinance) (1.19.5)\n",
            "Requirement already satisfied: requests>=2.20 in /usr/local/lib/python3.7/dist-packages (from yfinance) (2.23.0)\n",
            "Requirement already satisfied: multitasking>=0.0.7 in /usr/local/lib/python3.7/dist-packages (from yfinance) (0.0.9)\n",
            "Collecting lxml>=4.5.1\n",
            "\u001b[?25l  Downloading https://files.pythonhosted.org/packages/30/c0/d0526314971fc661b083ab135747dc68446a3022686da8c16d25fcf6ef07/lxml-4.6.3-cp37-cp37m-manylinux2014_x86_64.whl (6.3MB)\n",
            "\u001b[K     |████████████████████████████████| 6.3MB 8.0MB/s \n",
            "\u001b[?25hRequirement already satisfied: pytz>=2017.2 in /usr/local/lib/python3.7/dist-packages (from pandas>=0.24->yfinance) (2018.9)\n",
            "Requirement already satisfied: python-dateutil>=2.7.3 in /usr/local/lib/python3.7/dist-packages (from pandas>=0.24->yfinance) (2.8.1)\n",
            "Requirement already satisfied: certifi>=2017.4.17 in /usr/local/lib/python3.7/dist-packages (from requests>=2.20->yfinance) (2021.5.30)\n",
            "Requirement already satisfied: chardet<4,>=3.0.2 in /usr/local/lib/python3.7/dist-packages (from requests>=2.20->yfinance) (3.0.4)\n",
            "Requirement already satisfied: urllib3!=1.25.0,!=1.25.1,<1.26,>=1.21.1 in /usr/local/lib/python3.7/dist-packages (from requests>=2.20->yfinance) (1.24.3)\n",
            "Requirement already satisfied: idna<3,>=2.5 in /usr/local/lib/python3.7/dist-packages (from requests>=2.20->yfinance) (2.10)\n",
            "Requirement already satisfied: six>=1.5 in /usr/local/lib/python3.7/dist-packages (from python-dateutil>=2.7.3->pandas>=0.24->yfinance) (1.15.0)\n",
            "Building wheels for collected packages: yfinance\n",
            "  Building wheel for yfinance (setup.py) ... \u001b[?25l\u001b[?25hdone\n",
            "  Created wheel for yfinance: filename=yfinance-0.1.63-py2.py3-none-any.whl size=23919 sha256=f80cb4fd1f16f560a050506fc9214b0d42c208e2255da4a0ac9001a9f0be074f\n",
            "  Stored in directory: /root/.cache/pip/wheels/fe/a0/79/b73d4a0c535b421b88fc7b393936b371fabbfeaf979eca4050\n",
            "Successfully built yfinance\n",
            "Installing collected packages: lxml, yfinance\n",
            "  Found existing installation: lxml 4.2.6\n",
            "    Uninstalling lxml-4.2.6:\n",
            "      Successfully uninstalled lxml-4.2.6\n",
            "Successfully installed lxml-4.6.3 yfinance-0.1.63\n",
            "Collecting sktime\n",
            "\u001b[?25l  Downloading https://files.pythonhosted.org/packages/0f/06/09c592a35ce03e9ba6f68f593218e1cebdb8ef3f6945e5dc974bf80f4289/sktime-0.7.0-cp37-cp37m-manylinux_2_17_x86_64.manylinux2014_x86_64.whl (5.8MB)\n",
            "\u001b[K     |████████████████████████████████| 5.8MB 5.9MB/s \n",
            "\u001b[?25hRequirement already satisfied: numba>=0.50 in /usr/local/lib/python3.7/dist-packages (from sktime) (0.51.2)\n",
            "Collecting statsmodels>=0.12.1\n",
            "\u001b[?25l  Downloading https://files.pythonhosted.org/packages/da/69/8eef30a6237c54f3c0b524140e2975f4b1eea3489b45eb3339574fc8acee/statsmodels-0.12.2-cp37-cp37m-manylinux1_x86_64.whl (9.5MB)\n",
            "\u001b[K     |████████████████████████████████| 9.5MB 30.6MB/s \n",
            "\u001b[?25hRequirement already satisfied: pandas>=1.1.0 in /usr/local/lib/python3.7/dist-packages (from sktime) (1.1.5)\n",
            "Collecting scikit-learn>=0.24.0\n",
            "\u001b[?25l  Downloading https://files.pythonhosted.org/packages/a8/eb/a48f25c967526b66d5f1fa7a984594f0bf0a5afafa94a8c4dbc317744620/scikit_learn-0.24.2-cp37-cp37m-manylinux2010_x86_64.whl (22.3MB)\n",
            "\u001b[K     |████████████████████████████████| 22.3MB 1.4MB/s \n",
            "\u001b[?25hRequirement already satisfied: numpy>=1.19.0 in /usr/local/lib/python3.7/dist-packages (from sktime) (1.19.5)\n",
            "Requirement already satisfied: wheel in /usr/local/lib/python3.7/dist-packages (from sktime) (0.36.2)\n",
            "Requirement already satisfied: llvmlite<0.35,>=0.34.0.dev0 in /usr/local/lib/python3.7/dist-packages (from numba>=0.50->sktime) (0.34.0)\n",
            "Requirement already satisfied: setuptools in /usr/local/lib/python3.7/dist-packages (from numba>=0.50->sktime) (57.2.0)\n",
            "Requirement already satisfied: patsy>=0.5 in /usr/local/lib/python3.7/dist-packages (from statsmodels>=0.12.1->sktime) (0.5.1)\n",
            "Requirement already satisfied: scipy>=1.1 in /usr/local/lib/python3.7/dist-packages (from statsmodels>=0.12.1->sktime) (1.4.1)\n",
            "Requirement already satisfied: pytz>=2017.2 in /usr/local/lib/python3.7/dist-packages (from pandas>=1.1.0->sktime) (2018.9)\n",
            "Requirement already satisfied: python-dateutil>=2.7.3 in /usr/local/lib/python3.7/dist-packages (from pandas>=1.1.0->sktime) (2.8.1)\n",
            "Collecting threadpoolctl>=2.0.0\n",
            "  Downloading https://files.pythonhosted.org/packages/c6/e8/c216b9b60cbba4642d3ca1bae7a53daa0c24426f662e0e3ce3dc7f6caeaa/threadpoolctl-2.2.0-py3-none-any.whl\n",
            "Requirement already satisfied: joblib>=0.11 in /usr/local/lib/python3.7/dist-packages (from scikit-learn>=0.24.0->sktime) (1.0.1)\n",
            "Requirement already satisfied: six in /usr/local/lib/python3.7/dist-packages (from patsy>=0.5->statsmodels>=0.12.1->sktime) (1.15.0)\n",
            "Installing collected packages: statsmodels, threadpoolctl, scikit-learn, sktime\n",
            "  Found existing installation: statsmodels 0.10.2\n",
            "    Uninstalling statsmodels-0.10.2:\n",
            "      Successfully uninstalled statsmodels-0.10.2\n",
            "  Found existing installation: scikit-learn 0.22.2.post1\n",
            "    Uninstalling scikit-learn-0.22.2.post1:\n",
            "      Successfully uninstalled scikit-learn-0.22.2.post1\n",
            "Successfully installed scikit-learn-0.24.2 sktime-0.7.0 statsmodels-0.12.2 threadpoolctl-2.2.0\n"
          ],
          "name": "stdout"
        }
      ]
    },
    {
      "cell_type": "markdown",
      "metadata": {
        "id": "Adg3eNPA-CNL"
      },
      "source": [
        "## Data Import"
      ],
      "id": "Adg3eNPA-CNL"
    },
    {
      "cell_type": "markdown",
      "metadata": {
        "id": "YvDLCQVW-CNL"
      },
      "source": [
        "Choose the cryptocurrency we want to predict, and the period of time whose data we want to collect."
      ],
      "id": "YvDLCQVW-CNL"
    },
    {
      "cell_type": "code",
      "metadata": {
        "id": "S8S2ir7j-CNM"
      },
      "source": [
        "crypto_currency = 'BNB'\n",
        "against_currency ='USD'\n",
        "start = dt.datetime(2021,1,1)\n",
        "end = dt.datetime.now()-dt.timedelta(days=50)"
      ],
      "id": "S8S2ir7j-CNM",
      "execution_count": 4,
      "outputs": []
    },
    {
      "cell_type": "markdown",
      "metadata": {
        "id": "mktQL7eJ-CNM"
      },
      "source": [
        "Extracting the above chosen data using Yahoo-Finance API"
      ],
      "id": "mktQL7eJ-CNM"
    },
    {
      "cell_type": "code",
      "metadata": {
        "id": "wuJNGma5-CNM",
        "colab": {
          "base_uri": "https://localhost:8080/"
        },
        "outputId": "ac86f3dd-51b5-4cc5-aad4-3b9d30df6c5d"
      },
      "source": [
        "yf.pdr_override()\n",
        "data = pdr.get_data_yahoo(\"BNB-USD\", start, end)\n",
        "# Importing the extracted data in PyCaret\n",
        "# df = setup(data,target = \"Close\",ignore_features=[\"Volume\",\"Adj Close\"], use_gpu=True,imputation_type='iterative', feature_ratio=True, feature_interaction=True, normalize=True, transform_target=True)           "
      ],
      "id": "wuJNGma5-CNM",
      "execution_count": 5,
      "outputs": [
        {
          "output_type": "stream",
          "text": [
            "\r[*********************100%***********************]  1 of 1 completed\n"
          ],
          "name": "stdout"
        }
      ]
    },
    {
      "cell_type": "markdown",
      "metadata": {
        "id": "PzaBlzG1-CNN"
      },
      "source": [
        "## Understaning the distribution of the data"
      ],
      "id": "PzaBlzG1-CNN"
    },
    {
      "cell_type": "code",
      "metadata": {
        "id": "M8IFUrUg-CNN"
      },
      "source": [
        "# Distribution of our target variable -> Close\n",
        "# from scipy.special import boxcox1p\n",
        "# plt.plot(np.array(final_data[\"Close\"]))"
      ],
      "id": "M8IFUrUg-CNN",
      "execution_count": 6,
      "outputs": []
    },
    {
      "cell_type": "markdown",
      "metadata": {
        "id": "jCWLAMq8-CNN"
      },
      "source": [
        "### Checking if our series is affected by past values"
      ],
      "id": "jCWLAMq8-CNN"
    },
    {
      "cell_type": "code",
      "metadata": {
        "id": "iHdeLaPl-CNO",
        "colab": {
          "base_uri": "https://localhost:8080/",
          "height": 809
        },
        "outputId": "cbf3380c-7acd-42e5-b2dc-bf643f9555f8"
      },
      "source": [
        "\n",
        "from statsmodels.graphics.tsaplots import plot_acf, plot_pacf\n",
        "plot_acf(data['Close'], lags=20)\n",
        "plot_pacf(data['Close'], lags=20)"
      ],
      "id": "iHdeLaPl-CNO",
      "execution_count": 7,
      "outputs": [
        {
          "output_type": "execute_result",
          "data": {
            "image/png": "[encoded data removed]",
            "text/plain": [
              "<Figure size 432x288 with 1 Axes>"
            ]
          },
          "metadata": {
            "tags": []
          },
          "execution_count": 7
        },
        {
          "output_type": "display_data",
          "data": {
            "image/png": "[encoded data removed]",
            "text/plain": [
              "<Figure size 432x288 with 1 Axes>"
            ]
          },
          "metadata": {
            "tags": [],
            "needs_background": "light"
          }
        },
        {
          "output_type": "display_data",
          "data": {
            "image/png": "[encoded data removed]",
            "text/plain": [
              "<Figure size 432x288 with 1 Axes>"
            ]
          },
          "metadata": {
            "tags": [],
            "needs_background": "light"
          }
        }
      ]
    },
    {
      "cell_type": "markdown",
      "metadata": {
        "id": "XDap_pnA-CNO"
      },
      "source": [
        "From the above plots, lags are highly correlated to the value at hand. This will be useful while preparing the data for the model, and we will pass tha value, based on the above Observation."
      ],
      "id": "XDap_pnA-CNO"
    },
    {
      "cell_type": "markdown",
      "metadata": {
        "id": "hCtcelem-CNO"
      },
      "source": [
        "From here, I tried various plots of interactions and transformations of the attributes."
      ],
      "id": "hCtcelem-CNO"
    },
    {
      "cell_type": "code",
      "metadata": {
        "id": "TVKk6AXh-CNO",
        "colab": {
          "base_uri": "https://localhost:8080/",
          "height": 789
        },
        "outputId": "e2cba1da-0e64-4818-e68d-c7d5dab374b9"
      },
      "source": [
        "plt.figure() \n",
        "plt.plot(data[\"High\"]/data[\"Low\"])\n",
        "plt.figure()\n",
        "plt.plot((np.power(data[\"High\"]-data[\"Low\"],3)))\n",
        "plt.figure()\n",
        "plt.plot(data[\"Open\"]-data[\"Close\"])"
      ],
      "id": "TVKk6AXh-CNO",
      "execution_count": 8,
      "outputs": [
        {
          "output_type": "execute_result",
          "data": {
            "text/plain": [
              "[<matplotlib.lines.Line2D at 0x7f5cac52ae50>]"
            ]
          },
          "metadata": {
            "tags": []
          },
          "execution_count": 8
        },
        {
          "output_type": "display_data",
          "data": {
            "image/png": "[encoded data removed]",
            "text/plain": [
              "<Figure size 432x288 with 1 Axes>"
            ]
          },
          "metadata": {
            "tags": [],
            "needs_background": "light"
          }
        },
        {
          "output_type": "display_data",
          "data": {
            "image/png": "[encoded data removed]",
            "text/plain": [
              "<Figure size 432x288 with 1 Axes>"
            ]
          },
          "metadata": {
            "tags": [],
            "needs_background": "light"
          }
        },
        {
          "output_type": "display_data",
          "data": {
            "image/png": "[encoded data removed]",
            "text/plain": [
              "<Figure size 432x288 with 1 Axes>"
            ]
          },
          "metadata": {
            "tags": [],
            "needs_background": "light"
          }
        }
      ]
    },
    {
      "cell_type": "markdown",
      "metadata": {
        "id": "NPYBQxKM-CNO"
      },
      "source": [
        "## Data Cleaning and Transformation"
      ],
      "id": "NPYBQxKM-CNO"
    },
    {
      "cell_type": "code",
      "metadata": {
        "id": "w38l_MW0-CNP",
        "colab": {
          "base_uri": "https://localhost:8080/"
        },
        "outputId": "1bba6b35-6837-4e7d-ea58-166c130190d2"
      },
      "source": [
        "print(data.isnull().sum())     # checking for missing values"
      ],
      "id": "w38l_MW0-CNP",
      "execution_count": 9,
      "outputs": [
        {
          "output_type": "stream",
          "text": [
            "Open         0\n",
            "High         0\n",
            "Low          0\n",
            "Close        0\n",
            "Adj Close    0\n",
            "Volume       0\n",
            "dtype: int64\n"
          ],
          "name": "stdout"
        }
      ]
    },
    {
      "cell_type": "markdown",
      "metadata": {
        "id": "PdXXn006-CNR"
      },
      "source": [
        "Section for trying sktime library, if it can help us transform the Time-Series"
      ],
      "id": "PdXXn006-CNR"
    },
    {
      "cell_type": "code",
      "metadata": {
        "id": "8BI6lKiM-CNR"
      },
      "source": [
        "# from sktime.utils.plotting import plot_series\n",
        "# from sktime.transformations.panel.rocket import Rocket\n",
        "# y = data[\"Close\"]\n",
        "# x = data[data.columns]\n",
        "# x.drop([\"Close\",\"Volume\"],axis=1,inplace=True)\n",
        "# plot_series(data[\"Close\"])\n",
        "# rocket = Rocket()\n",
        "# rocket.fit(np.array(x))\n",
        "# x_t = rocket.transform(np.array(x))"
      ],
      "id": "8BI6lKiM-CNR",
      "execution_count": 10,
      "outputs": []
    },
    {
      "cell_type": "markdown",
      "metadata": {
        "id": "09MXr2vV-CNR"
      },
      "source": [
        "### Defining methods for transforming time-series data"
      ],
      "id": "09MXr2vV-CNR"
    },
    {
      "cell_type": "code",
      "metadata": {
        "id": "glkhiEkd-CNR"
      },
      "source": [
        "def difference(data, interval=1):\n",
        "\treturn [data[i] - data[i - interval] for i in range(interval, len(data))]\n",
        "def invert_difference(orig_data, diff_data, interval=1):\n",
        "\treturn [diff_data[i-interval] + orig_data[i-interval] for i in range(interval, len(orig_data))]\n",
        "\n",
        "from scipy.stats import boxcox\n",
        "# fd =(boxcox1p(final_data[\"Close\"]))#*np.log(boxcox1p(final_data[\"Close\"],-1))\n",
        "# plt.plot(fd)"
      ],
      "id": "glkhiEkd-CNR",
      "execution_count": 11,
      "outputs": []
    },
    {
      "cell_type": "markdown",
      "metadata": {
        "id": "RnzHbY43-CNR"
      },
      "source": [
        "The idea here is to store the data at each step, without losing/replacing it. <br>Thus, creating new variables wherever required to store the new/transformed data in the new variable."
      ],
      "id": "RnzHbY43-CNR"
    },
    {
      "cell_type": "markdown",
      "metadata": {
        "id": "CG4rosEn-CNS"
      },
      "source": [
        "Adding new Attributes to the dataset, based on the plots and Observations of the previous section.<br>Some Transformations are commented, cause they were not a suitable fit, but might be useful later."
      ],
      "id": "CG4rosEn-CNS"
    },
    {
      "cell_type": "code",
      "metadata": {
        "id": "Oqx1wMIQ-CNS"
      },
      "source": [
        "final_data = pd.DataFrame()\n",
        "final_data[\"Close_Open\"] = data['Close']-data['Open']\n",
        "final_data[\"High_Low\"] = data['High']-data['Low']\n",
        "final_data['t1'] = (np.power(data[\"High\"]-data[\"Low\"],3))\n",
        "final_data['Close'] = data['Close']\n",
        "\n",
        "final_data.head()\n",
        "# scaler = PowerTransformer(method=\"yeo-johnson\", standardize=True)\n",
        "scaler = MinMaxScaler(feature_range=(0,1))\n",
        "scaler_close = MinMaxScaler(feature_range=(0,1))\n",
        "scaled_data = scaler.fit_transform(final_data.iloc[:,:3])\n",
        "scaled_close = scaler_close.fit_transform(final_data.iloc[:,3:4])\n",
        "scaled_data = np.concatenate((scaled_data,scaled_close),axis=1)\n",
        "# logged_data = np.log10(data['Close'])\n",
        "# scaled_data, lambda_data = (boxcox(data['Close']))#difference(logged_data).to_numpy()\n",
        "# new = difference((data['Close'],1)\n",
        "# scaled_data = pd.Series(scaled_data)"
      ],
      "id": "Oqx1wMIQ-CNS",
      "execution_count": 28,
      "outputs": []
    },
    {
      "cell_type": "code",
      "metadata": {
        "id": "jzM9cHA78IhZ",
        "outputId": "22e09a0e-93fc-4dbd-b519-ef0839fd8b5e",
        "colab": {
          "base_uri": "https://localhost:8080/"
        }
      },
      "source": [
        "scaled_data"
      ],
      "id": "jzM9cHA78IhZ",
      "execution_count": 29,
      "outputs": [
        {
          "output_type": "execute_result",
          "data": {
            "text/plain": [
              "array([[5.55911611e-01, 1.22124796e-03, 2.04888848e-07, 0.00000000e+00],\n",
              "       [5.55239588e-01, 1.34602710e-03, 2.29669124e-07, 5.27741029e-04],\n",
              "       [5.63628027e-01, 9.48591059e-03, 4.01175553e-06, 5.08635217e-03],\n",
              "       [5.53293487e-01, 1.46879688e-02, 9.57849869e-06, 4.73728814e-03],\n",
              "       [5.56782456e-01, 5.00935753e-03, 1.34304501e-06, 6.00457120e-03],\n",
              "       [5.55454729e-01, 0.00000000e+00, 0.00000000e+00, 6.68090967e-03],\n",
              "       [5.58268899e-01, 5.95671981e-03, 1.77268720e-06, 8.69341691e-03],\n",
              "       [5.50352067e-01, 6.31142665e-03, 1.95078236e-06, 7.04053653e-03],\n",
              "       [5.59268338e-01, 4.02954770e-03, 9.64913489e-07, 9.45130335e-03],\n",
              "       [5.49300474e-01, 1.28342419e-02, 7.24330220e-06, 7.12388484e-03],\n",
              "       [5.40798328e-01, 2.47393464e-02, 3.08052068e-05, 7.31210189e-04],\n",
              "       [5.53632903e-01, 4.96496956e-03, 1.32449873e-06, 3.23936922e-04],\n",
              "       [5.60793306e-01, 7.18618715e-03, 2.43240885e-06, 3.49795532e-03],\n",
              "       [5.59645855e-01, 2.67303551e-03, 5.42364038e-07, 6.09720834e-03],\n",
              "       [5.51322479e-01, 7.43693617e-03, 2.58200635e-06, 4.72572644e-03],\n",
              "       [5.61530366e-01, 6.86683854e-03, 2.24942805e-06, 8.25805584e-03],\n",
              "       [5.62431222e-01, 1.71804921e-02, 1.34135666e-05, 1.21979576e-02],\n",
              "       [5.52828726e-01, 4.53981088e-03, 1.15376539e-06, 1.16782792e-02],\n",
              "       [5.45859764e-01, 1.54079502e-02, 1.06011723e-05, 7.65237352e-03],\n",
              "       [5.53997898e-01, 3.67629621e-03, 8.44049508e-07, 7.37228493e-03],\n",
              "       [5.41258658e-01, 1.12095496e-02, 5.52622309e-06, 1.16157695e-03],\n",
              "       [5.61432044e-01, 1.23821759e-02, 6.73581060e-06, 4.62944075e-03],\n",
              "       [5.54018897e-01, 2.87688279e-03, 5.98867447e-07, 4.56344396e-03],\n",
              "       [5.57506234e-01, 3.78422314e-04, 5.64866297e-08, 6.23506949e-03],\n",
              "       [5.53357367e-01, 4.85426424e-03, 1.27884295e-06, 5.83069113e-03],\n",
              "       [5.54310029e-01, 3.76831359e-03, 8.74772827e-07, 5.94206744e-03],\n",
              "       [5.51696673e-01, 3.10783584e-03, 6.65782719e-07, 4.84472880e-03],\n",
              "       [5.59292785e-01, 2.59371931e-03, 5.21015751e-07, 7.28788392e-03],\n",
              "       [5.55701897e-01, 2.17754076e-03, 4.14706788e-07, 7.75713460e-03],\n",
              "       [5.60441742e-01, 3.06948424e-03, 6.54454823e-07, 1.07674709e-02],\n",
              "       [5.52475195e-01, 2.94136442e-03, 6.17237391e-07, 9.98932609e-03],\n",
              "       [5.77996271e-01, 3.04094132e-02, 5.06940741e-05, 2.14850046e-02],\n",
              "       [5.52564032e-01, 8.34386307e-03, 3.16810237e-06, 2.06206106e-02],\n",
              "       [5.58072043e-01, 4.86283092e-03, 1.28234550e-06, 2.24805549e-02],\n",
              "       [5.66198178e-01, 1.67694900e-02, 1.27229914e-05, 2.82544782e-02],\n",
              "       [5.92797746e-01, 4.70513126e-02, 1.53807233e-04, 4.69450267e-02],\n",
              "       [5.70100886e-01, 5.02620478e-02, 1.82974430e-04, 5.46091713e-02],\n",
              "       [5.40222623e-01, 3.69131271e-02, 8.22604403e-05, 4.81130754e-02],\n",
              "       [5.91072337e-01, 4.49666657e-02, 1.36633148e-04, 6.57383326e-02],\n",
              "       [6.45846119e-01, 1.52106718e-01, 3.94011382e-03, 1.09746885e-01],\n",
              "       [6.26060332e-01, 1.68063763e-01, 5.24913573e-03, 1.43987387e-01],\n",
              "       [5.38286729e-01, 4.69918089e-02, 1.53298156e-04, 1.35672761e-01],\n",
              "       [5.95911313e-01, 7.33362004e-02, 5.06324468e-04, 1.55294190e-01],\n",
              "       [5.42840809e-01, 4.83032716e-02, 1.64780615e-04, 1.49813119e-01],\n",
              "       [5.63815622e-01, 3.65246166e-02, 8.00846811e-05, 1.54475911e-01],\n",
              "       [5.32289597e-01, 7.75357255e-02, 5.90073695e-04, 1.43721988e-01],\n",
              "       [5.55214718e-01, 2.11728955e-02, 2.14292379e-05, 1.44488350e-01],\n",
              "       [6.67048221e-01, 2.01262987e-01, 8.83935773e-03, 1.98760198e-01],\n",
              "       [6.55052862e-01, 1.49918345e-01, 3.77968561e-03, 2.47777999e-01],\n",
              "       [1.00000000e+00, 6.32498052e-01, 2.56083870e-01, 4.62089508e-01],\n",
              "       [3.03044066e-01, 4.54954911e-01, 9.65191050e-02, 3.41887551e-01],\n",
              "       [6.82692211e-01, 2.40381819e-01, 1.48168643e-02, 4.01422036e-01],\n",
              "       [4.65744809e-01, 3.07197684e-01, 3.03624678e-02, 3.60006774e-01],\n",
              "       [4.35504551e-01, 3.31758057e-01, 3.80554470e-02, 3.02752545e-01],\n",
              "       [6.30005111e-01, 2.77302355e-01, 2.24926441e-02, 3.39387305e-01],\n",
              "       [4.87022641e-01, 1.26674199e-01, 2.33594971e-03, 3.07286573e-01],\n",
              "       [5.09836930e-01, 1.16378042e-01, 1.83639785e-03, 2.88149036e-01],\n",
              "       [5.64846017e-01, 6.71103744e-02, 3.97346779e-04, 2.93745018e-01],\n",
              "       [5.02391793e-01, 1.33182361e-01, 2.69424637e-03, 2.69167490e-01],\n",
              "       [6.99967607e-01, 2.07834126e-01, 9.70303671e-03, 3.39811900e-01],\n",
              "       [5.03829865e-01, 1.47087041e-01, 3.57866614e-03, 3.16124401e-01],\n",
              "       [5.58756800e-01, 6.82585740e-02, 4.16134371e-04, 3.18584238e-01],\n",
              "       [5.17960003e-01, 9.44257113e-02, 1.01974600e-03, 3.01107494e-01],\n",
              "       [5.42881836e-01, 5.41650302e-02, 2.23115592e-04, 2.95506009e-01],\n",
              "       [5.55711419e-01, 4.51899947e-02, 1.38408676e-04, 2.95967449e-01],\n",
              "       [5.98252545e-01, 7.02175983e-02, 4.49539034e-04, 3.17154032e-01],\n",
              "       [5.54634620e-01, 5.04935300e-02, 1.85208878e-04, 3.17372682e-01],\n",
              "       [7.27341428e-01, 2.55820364e-01, 1.77685097e-02, 4.00700223e-01],\n",
              "       [5.08283744e-01, 1.07914957e-01, 1.48359597e-03, 3.78584110e-01],\n",
              "       [5.90993122e-01, 1.65315149e-01, 5.00565184e-03, 3.94942078e-01],\n",
              "       [4.68320226e-01, 1.49516737e-01, 3.75072518e-03, 3.54011007e-01],\n",
              "       [5.95009848e-01, 1.09356541e-01, 1.54017723e-03, 3.73483085e-01],\n",
              "       [5.16496338e-01, 4.39356873e-02, 1.28632787e-04, 3.55502005e-01],\n",
              "       [5.23499742e-01, 6.51192664e-02, 3.66121857e-04, 3.39860348e-01],\n",
              "       [5.66091554e-01, 6.54393757e-02, 3.71027404e-04, 3.45253830e-01],\n",
              "       [5.91604240e-01, 8.42520022e-02, 7.42391774e-04, 3.63683693e-01],\n",
              "       [5.28295177e-01, 7.56327981e-02, 5.51065824e-04, 3.50904887e-01],\n",
              "       [5.62100121e-01, 4.92548345e-02, 1.73460768e-04, 3.54593673e-01],\n",
              "       [5.56300032e-01, 4.46560822e-02, 1.34189199e-04, 3.55666513e-01],\n",
              "       [5.53949863e-01, 4.23116566e-02, 1.16672411e-04, 3.55893082e-01],\n",
              "       [5.24258685e-01, 8.73901853e-02, 8.21740538e-04, 3.41803599e-01],\n",
              "       [5.53347310e-01, 3.70128181e-02, 8.28249931e-05, 3.41473507e-01],\n",
              "       [5.34462664e-01, 1.03148642e-01, 1.30641044e-03, 3.32319417e-01],\n",
              "       [5.06604540e-01, 9.21041743e-02, 9.51250196e-04, 3.08853701e-01],\n",
              "       [6.20464380e-01, 8.11291003e-02, 6.68668895e-04, 3.40556108e-01],\n",
              "       [5.99816734e-01, 1.01873496e-01, 1.26152586e-03, 3.62503766e-01],\n",
              "       [5.53791034e-01, 7.41496711e-02, 5.21883907e-04, 3.62643248e-01],\n",
              "       [5.74559071e-01, 4.55687147e-02, 1.41454564e-04, 3.72087499e-01],\n",
              "       [6.72262088e-01, 1.65816845e-01, 5.04952009e-03, 4.28865551e-01],\n",
              "       [5.23221419e-01, 1.12185860e-01, 1.65537196e-03, 4.14184860e-01],\n",
              "       [6.61753795e-01, 1.56159982e-01, 4.24912530e-03, 4.66161236e-01],\n",
              "       [5.66977510e-01, 1.10256075e-01, 1.57620192e-03, 4.72111306e-01],\n",
              "       [5.02704621e-01, 1.25013520e-01, 2.24991408e-03, 4.47221486e-01],\n",
              "       [6.46424574e-01, 1.38665698e-01, 3.02312953e-03, 4.91893499e-01],\n",
              "       [6.08123033e-01, 1.73272436e-01, 5.73195507e-03, 5.17212771e-01],\n",
              "       [6.69990686e-01, 2.01709711e-01, 8.89638043e-03, 5.73373704e-01],\n",
              "       [4.59421431e-01, 2.34167437e-01, 1.37277607e-02, 5.28010118e-01],\n",
              "       [6.90474723e-01, 2.09618840e-01, 9.94695232e-03, 5.96026740e-01],\n",
              "       [6.68789961e-01, 2.02260889e-01, 8.96707355e-03, 6.51124308e-01],\n",
              "       [6.13623588e-01, 1.48788139e-01, 3.69856353e-03, 6.81513932e-01],\n",
              "       [7.29532170e-01, 2.96772862e-01, 2.74388322e-02, 7.64340773e-01],\n",
              "       [7.89185680e-01, 5.18345296e-01, 1.41961598e-01, 8.79329020e-01],\n",
              "       [3.99507422e-01, 2.93677347e-01, 2.66083474e-02, 8.02286497e-01],\n",
              "       [5.51538952e-01, 2.70017436e-01, 2.08071398e-02, 8.02294823e-01],\n",
              "       [5.28790484e-01, 8.30441996e-02, 7.13268993e-04, 7.91382302e-01],\n",
              "       [4.48611015e-01, 2.35301811e-01, 1.39224417e-02, 7.40562359e-01],\n",
              "       [5.89536976e-01, 1.64541700e-01, 4.93852057e-03, 7.56549970e-01],\n",
              "       [4.25109032e-01, 4.13615755e-01, 7.28539770e-02, 6.94800520e-01],\n",
              "       [6.31501836e-01, 2.98959979e-01, 2.80359064e-02, 7.32523120e-01],\n",
              "       [8.25774061e-01, 4.80677044e-01, 1.13558856e-01, 8.60994234e-01],\n",
              "       [4.20796655e-01, 3.19676922e-01, 3.41266723e-02, 7.96699942e-01],\n",
              "       [4.30210872e-01, 4.29966933e-01, 8.16864189e-02, 7.33965743e-01],\n",
              "       [6.21745864e-01, 3.29655681e-01, 3.73511687e-02, 7.66190454e-01],\n",
              "       [4.55170296e-01, 1.81570804e-01, 6.56086692e-03, 7.18916753e-01],\n",
              "       [5.82961264e-01, 1.58644649e-01, 4.44631090e-03, 7.32498239e-01],\n",
              "       [6.51512971e-01, 1.99664292e-01, 8.63728712e-03, 7.78753505e-01],\n",
              "       [6.61997365e-01, 2.22209940e-01, 1.17848662e-02, 8.31895453e-01],\n",
              "       [5.34233682e-01, 1.65676736e-01, 5.03724322e-03, 8.22741889e-01],\n",
              "       [6.74367092e-01, 2.55521688e-01, 1.77079852e-02, 8.80871696e-01],\n",
              "       [6.32793578e-01, 1.73289768e-01, 5.73360915e-03, 9.19088729e-01],\n",
              "       [5.43993438e-01, 1.25545514e-01, 2.27724127e-03, 9.11667134e-01],\n",
              "       [5.61127432e-01, 1.35097858e-01, 2.80627190e-03, 9.15984906e-01],\n",
              "       [7.29669988e-01, 2.44131907e-01, 1.55011533e-02, 1.00000000e+00],\n",
              "       [3.41707877e-01, 2.99350540e-01, 2.81434313e-02, 8.98893257e-01],\n",
              "       [6.92309469e-01, 2.14471748e-01, 1.06307901e-02, 9.62335919e-01],\n",
              "       [4.96200008e-01, 1.33296672e-01, 2.70084651e-03, 9.33513518e-01],\n",
              "       [5.23366207e-01, 1.31628849e-01, 2.60561181e-03, 9.19845616e-01],\n",
              "       [6.25009074e-01, 1.60857168e-01, 4.62695224e-03, 9.53615204e-01],\n",
              "       [6.06116313e-01, 1.95796519e-01, 8.16119978e-03, 9.78902561e-01],\n",
              "       [4.55970614e-01, 4.03905308e-01, 6.79230499e-02, 9.30489892e-01],\n",
              "       [6.88268745e-01, 2.06402796e-01, 9.51032445e-03, 9.94747149e-01],\n",
              "       [2.81413674e-01, 4.09049020e-01, 7.05063073e-02, 8.62806879e-01],\n",
              "       [4.83960531e-01, 4.38442455e-01, 8.65331701e-02, 8.36542813e-01],\n",
              "       [6.59144621e-01, 1.98777326e-01, 8.52651707e-03, 8.86236803e-01],\n",
              "       [4.25250434e-01, 2.06993136e-01, 9.58949480e-03, 8.23383363e-01],\n",
              "       [5.54771093e-01, 3.00637592e-01, 2.84997130e-02, 8.23051190e-01],\n",
              "       [3.82934159e-01, 3.33163190e-01, 3.85310568e-02, 7.43297165e-01],\n",
              "       [5.43185453e-01, 1.54334187e-01, 4.10800530e-03, 7.37116219e-01],\n",
              "       [0.00000000e+00, 1.00000000e+00, 1.00000000e+00, 4.72139155e-01],\n",
              "       [7.43618244e-01, 5.92226853e-01, 2.10683071e-01, 5.57728793e-01],\n",
              "       [3.41284864e-01, 6.01371171e-01, 2.20477257e-01, 4.52180588e-01],\n",
              "       [4.65121145e-01, 2.11482605e-01, 1.02059994e-02, 4.10171940e-01],\n",
              "       [4.33156524e-01, 4.26633866e-01, 7.98311227e-02, 3.52850506e-01],\n",
              "       [8.28893977e-01, 3.90397870e-01, 6.14414634e-02, 4.81992330e-01],\n",
              "       [5.49691359e-01, 2.82956760e-01, 2.38618891e-02, 4.80117625e-01],\n",
              "       [6.72700933e-01, 2.12899845e-01, 1.04059657e-02, 5.36156349e-01],\n",
              "       [5.14901677e-01, 1.95086047e-01, 8.07569495e-03, 5.17029794e-01],\n",
              "       [4.23804644e-01, 2.51406242e-01, 1.68879618e-02, 4.57799442e-01]])"
            ]
          },
          "metadata": {
            "tags": []
          },
          "execution_count": 29
        }
      ]
    },
    {
      "cell_type": "markdown",
      "metadata": {
        "id": "tjD9TwKV-CNS"
      },
      "source": [
        "### Preparing the data"
      ],
      "id": "tjD9TwKV-CNS"
    },
    {
      "cell_type": "markdown",
      "metadata": {
        "id": "AcQVjWik-CNS"
      },
      "source": [
        "The data is in 3 dimensions.<br> <br>First Dimension - It denotes the number of observations. Each value of this dimension (the values are in 2-dimension) is the input to our model, corresponding to which we have final value.<br> <br>Second Dimension - It denotes the past values, which we will be using to predict. The length of this dimension, shows how many past values/observations we will be feeding to our model.<br> <br>Third Dimension - It shows the attributes that we think affect our future value or might increase the performance of our model.<br><br> Suppose _i_,_j_,_k_ as indices and _data_ as our final 3-Dimensional Dataset. Then _data\\[i\\]_ , denotes a single 2-D observation consisting of values of previous days. Then, _data\\[i\\]\\[j\\]_ denotes a 1-D value of one of the previous days from our previous  2-D _data\\[i\\]_. _data\\[i\\]\\[j\\]\\[k\\]_ denotes value of one attribute from our previous 1-D _data\\[i\\]\\[j\\]_ which denoted all the attributes of one of the past days. \n",
        "\n",
        "**_Note to self : Might upload a image for better understanding of the readers._**"
      ],
      "id": "AcQVjWik-CNS"
    },
    {
      "cell_type": "code",
      "metadata": {
        "id": "OtJu3EeT-CNT",
        "colab": {
          "base_uri": "https://localhost:8080/"
        },
        "outputId": "e54e3cf4-f20f-4da8-b3ac-6618965cbf09"
      },
      "source": [
        "# Preparing the Data\n",
        "prediction_days = 7\n",
        "future_days=0\n",
        "x_train, y_train = [], []\n",
        "\n",
        "for x in range(prediction_days, len(scaled_data)-future_days):\n",
        "    x_train.append(scaled_data[x-prediction_days:x])\n",
        "    y_train.append(scaled_data[x+future_days,scaled_data.shape[1]-1])\n",
        "x_train, y_train = np.array(x_train), np.array(y_train)\n",
        "# x_train = np.reshape(x_train, (x_train.shape[0], x_train.shape[1],1))\n",
        "# y_train = np.reshape(y_train, (y_train.shape[0], y_train.shape[1],1))\n",
        "# range(prediction_days, len(scaled_data))x_train\n",
        "x_train.shape"
      ],
      "id": "OtJu3EeT-CNT",
      "execution_count": 30,
      "outputs": [
        {
          "output_type": "execute_result",
          "data": {
            "text/plain": [
              "(141, 7, 4)"
            ]
          },
          "metadata": {
            "tags": []
          },
          "execution_count": 30
        }
      ]
    },
    {
      "cell_type": "markdown",
      "metadata": {
        "id": "9fGIplwr-CNT"
      },
      "source": [
        "## Model Building and Training"
      ],
      "id": "9fGIplwr-CNT"
    },
    {
      "cell_type": "code",
      "metadata": {
        "id": "qRnJiqjY-CNT"
      },
      "source": [
        "# custom metric for our model, only to monitor our model while training\n",
        "def rmse(y_true, y_pred):\n",
        "\treturn backend.sqrt(backend.mean(backend.square(y_pred - y_true), axis=-1))"
      ],
      "id": "qRnJiqjY-CNT",
      "execution_count": 31,
      "outputs": []
    },
    {
      "cell_type": "markdown",
      "metadata": {
        "id": "uoF6vIea-CNT"
      },
      "source": [
        "Building LSTM using TensorFlow. At the end compiling and training the model. <br><br>\n",
        "The hyperparameters need to be more precisely tuned, but so far they seem to work fine. We can add more layers to improve the model, and this is an **endless process**."
      ],
      "id": "uoF6vIea-CNT"
    },
    {
      "cell_type": "code",
      "metadata": {
        "tags": [
          "outputPrepend"
        ],
        "id": "f7-Rref6-CNT",
        "colab": {
          "base_uri": "https://localhost:8080/"
        },
        "outputId": "cfaacd9b-f1ba-4e61-91bf-6d6b04b78d5f"
      },
      "source": [
        "#creating neural netowrk\n",
        "# from attention_decoder import AttentionDecoder\n",
        "\n",
        "model = Sequential()                # could make units 50, for better prediction\n",
        "# model.add(LayerNormalization())     # Normalizing the input data \n",
        "# First LSTM layer\n",
        "model.add(LSTM(units=50,return_sequences=True,input_shape=(x_train.shape[1],x_train.shape[2]),activation=\"relu\",unroll=True))\n",
        "# model.add(Dropout(0.1))    # Removing some of the data from the previous layer to avoid overfitting\n",
        "model.add(BatchNormalization())\n",
        "model.add(LSTM(units=50, activation=\"relu\",unroll=True,return_sequences=True))#, return_sequences=True))    # Second LSTM Layer\n",
        "# model.add(Dropout(0.1))\n",
        "model.add(Activation(activation=\"relu\"))\n",
        "model.add(BatchNormalization())\n",
        "model.add(LSTM(units=50, return_sequences=True))\n",
        "# model.add(Dropout(0.1))\n",
        "model.add(BatchNormalization())\n",
        "model.add(LSTM(units=50, return_sequences=True))\n",
        "# model.add(Dropout(0.1))\n",
        "model.add(BatchNormalization())\n",
        "model.add(LSTM(units=50, return_sequences=True))\n",
        "# model.add(Dropout(0.1))\n",
        "model.add(BatchNormalization())\n",
        "model.add(LSTM(units=50, return_sequences=True))\n",
        "# model.add(Dropout(0.1))\n",
        "# model.add(LSTM(units=50, return_sequences=True))\n",
        "# model.add(Dropout(0.1))\n",
        "# model.add(LSTM(units=50, return_sequences=True))\n",
        "# model.add(Dropout(0.1))\n",
        "# model.add(LSTM(units=50, return_sequences=True))\n",
        "# model.add(Dropout(0.1))\n",
        "model.add(Activation(activation=\"relu\"))\n",
        "model.add(BatchNormalization())\n",
        "model.add(LSTM(units=50))\n",
        "# model.add(Dropout(0.1))\n",
        "model.add(BatchNormalization())\n",
        "## \n",
        "# model.add(Dropout(0.1))\n",
        "# model.add(LSTM(units=50,activation=\"relu\"))\n",
        "# model.add(Dense(units=500, activation=\"relu\"))\n",
        "# model.add(Dropout(0.2))\n",
        "\n",
        "model.add(Dense(units=1,activation='linear'))  # Final LSTM Layer of unit=1, cause we have just one Output, that is, Closing Price\n",
        "model.compile(optimizer='adam', loss=tf.keras.losses.Huber(delta=1),metrics=[rmse])   # Compiling, optimizer and loss can be changed to optimize the model for our specific purpose\n",
        "model.fit(x_train,y_train, epochs=500, batch_size=10)"
      ],
      "id": "f7-Rref6-CNT",
      "execution_count": 32,
      "outputs": [
        {
          "output_type": "stream",
          "text": [
            "Epoch 1/500\n",
            "15/15 [==============================] - 13s 23ms/step - loss: 0.5752 - rmse: 0.9522\n",
            "Epoch 2/500\n",
            "15/15 [==============================] - 0s 26ms/step - loss: 0.2894 - rmse: 0.6238\n",
            "Epoch 3/500\n",
            "15/15 [==============================] - 0s 26ms/step - loss: 0.1446 - rmse: 0.4186\n",
            "Epoch 4/500\n",
            "15/15 [==============================] - 0s 23ms/step - loss: 0.0606 - rmse: 0.2771\n",
            "Epoch 5/500\n",
            "15/15 [==============================] - 0s 24ms/step - loss: 0.0448 - rmse: 0.2294\n",
            "Epoch 6/500\n",
            "15/15 [==============================] - 0s 25ms/step - loss: 0.0584 - rmse: 0.2684\n",
            "Epoch 7/500\n",
            "15/15 [==============================] - 0s 25ms/step - loss: 0.0454 - rmse: 0.2328\n",
            "Epoch 8/500\n",
            "15/15 [==============================] - 0s 27ms/step - loss: 0.0393 - rmse: 0.2228\n",
            "Epoch 9/500\n",
            "15/15 [==============================] - 0s 24ms/step - loss: 0.0275 - rmse: 0.1792\n",
            "Epoch 10/500\n",
            "15/15 [==============================] - 0s 25ms/step - loss: 0.0371 - rmse: 0.2043\n",
            "Epoch 11/500\n",
            "15/15 [==============================] - 0s 25ms/step - loss: 0.0322 - rmse: 0.1979\n",
            "Epoch 12/500\n",
            "15/15 [==============================] - 0s 25ms/step - loss: 0.0325 - rmse: 0.1964\n",
            "Epoch 13/500\n",
            "15/15 [==============================] - 0s 26ms/step - loss: 0.0252 - rmse: 0.1700\n",
            "Epoch 14/500\n",
            "15/15 [==============================] - 0s 25ms/step - loss: 0.0196 - rmse: 0.1520\n",
            "Epoch 15/500\n",
            "15/15 [==============================] - 0s 27ms/step - loss: 0.0237 - rmse: 0.1709\n",
            "Epoch 16/500\n",
            "15/15 [==============================] - 0s 26ms/step - loss: 0.0234 - rmse: 0.1643\n",
            "Epoch 17/500\n",
            "15/15 [==============================] - 0s 26ms/step - loss: 0.0229 - rmse: 0.1574\n",
            "Epoch 18/500\n",
            "15/15 [==============================] - 0s 26ms/step - loss: 0.0168 - rmse: 0.1416\n",
            "Epoch 19/500\n",
            "15/15 [==============================] - 0s 24ms/step - loss: 0.0181 - rmse: 0.1414\n",
            "Epoch 20/500\n",
            "15/15 [==============================] - 0s 25ms/step - loss: 0.0131 - rmse: 0.1213\n",
            "Epoch 21/500\n",
            "15/15 [==============================] - 0s 26ms/step - loss: 0.0206 - rmse: 0.1584\n",
            "Epoch 22/500\n",
            "15/15 [==============================] - 0s 25ms/step - loss: 0.0248 - rmse: 0.1657\n",
            "Epoch 23/500\n",
            "15/15 [==============================] - 0s 27ms/step - loss: 0.0208 - rmse: 0.1679\n",
            "Epoch 24/500\n",
            "15/15 [==============================] - 0s 27ms/step - loss: 0.0168 - rmse: 0.1449\n",
            "Epoch 25/500\n",
            "15/15 [==============================] - 0s 25ms/step - loss: 0.0110 - rmse: 0.1103\n",
            "Epoch 26/500\n",
            "15/15 [==============================] - 0s 26ms/step - loss: 0.0151 - rmse: 0.1368\n",
            "Epoch 27/500\n",
            "15/15 [==============================] - 0s 26ms/step - loss: 0.0219 - rmse: 0.1572\n",
            "Epoch 28/500\n",
            "15/15 [==============================] - 0s 25ms/step - loss: 0.0168 - rmse: 0.1302\n",
            "Epoch 29/500\n",
            "15/15 [==============================] - 0s 25ms/step - loss: 0.0147 - rmse: 0.1230\n",
            "Epoch 30/500\n",
            "15/15 [==============================] - 0s 26ms/step - loss: 0.0185 - rmse: 0.1499\n",
            "Epoch 31/500\n",
            "15/15 [==============================] - 0s 26ms/step - loss: 0.0157 - rmse: 0.1397\n",
            "Epoch 32/500\n",
            "15/15 [==============================] - 0s 29ms/step - loss: 0.0129 - rmse: 0.1269\n",
            "Epoch 33/500\n",
            "15/15 [==============================] - 0s 27ms/step - loss: 0.0099 - rmse: 0.1178\n",
            "Epoch 34/500\n",
            "15/15 [==============================] - 0s 28ms/step - loss: 0.0097 - rmse: 0.1095\n",
            "Epoch 35/500\n",
            "15/15 [==============================] - 0s 27ms/step - loss: 0.0138 - rmse: 0.1268\n",
            "Epoch 36/500\n",
            "15/15 [==============================] - 0s 27ms/step - loss: 0.0122 - rmse: 0.1217\n",
            "Epoch 37/500\n",
            "15/15 [==============================] - 0s 28ms/step - loss: 0.0105 - rmse: 0.1124\n",
            "Epoch 38/500\n",
            "15/15 [==============================] - 0s 28ms/step - loss: 0.0077 - rmse: 0.0977\n",
            "Epoch 39/500\n",
            "15/15 [==============================] - 0s 26ms/step - loss: 0.0130 - rmse: 0.1266\n",
            "Epoch 40/500\n",
            "15/15 [==============================] - 0s 24ms/step - loss: 0.0141 - rmse: 0.1332\n",
            "Epoch 41/500\n",
            "15/15 [==============================] - 0s 29ms/step - loss: 0.0097 - rmse: 0.1156\n",
            "Epoch 42/500\n",
            "15/15 [==============================] - 0s 27ms/step - loss: 0.0147 - rmse: 0.1337\n",
            "Epoch 43/500\n",
            "15/15 [==============================] - 0s 26ms/step - loss: 0.0122 - rmse: 0.1219\n",
            "Epoch 44/500\n",
            "15/15 [==============================] - 0s 25ms/step - loss: 0.0108 - rmse: 0.1195\n",
            "Epoch 45/500\n",
            "15/15 [==============================] - 0s 25ms/step - loss: 0.0101 - rmse: 0.1101\n",
            "Epoch 46/500\n",
            "15/15 [==============================] - 0s 27ms/step - loss: 0.0097 - rmse: 0.1127\n",
            "Epoch 47/500\n",
            "15/15 [==============================] - 0s 26ms/step - loss: 0.0117 - rmse: 0.1155\n",
            "Epoch 48/500\n",
            "15/15 [==============================] - 0s 27ms/step - loss: 0.0102 - rmse: 0.1166\n",
            "Epoch 49/500\n",
            "15/15 [==============================] - 0s 27ms/step - loss: 0.0152 - rmse: 0.1283\n",
            "Epoch 50/500\n",
            "15/15 [==============================] - 0s 27ms/step - loss: 0.0117 - rmse: 0.1232\n",
            "Epoch 51/500\n",
            "15/15 [==============================] - 0s 28ms/step - loss: 0.0102 - rmse: 0.1147\n",
            "Epoch 52/500\n",
            "15/15 [==============================] - 0s 26ms/step - loss: 0.0121 - rmse: 0.1258\n",
            "Epoch 53/500\n",
            "15/15 [==============================] - 0s 27ms/step - loss: 0.0177 - rmse: 0.1537\n",
            "Epoch 54/500\n",
            "15/15 [==============================] - 0s 26ms/step - loss: 0.0163 - rmse: 0.1448\n",
            "Epoch 55/500\n",
            "15/15 [==============================] - 0s 25ms/step - loss: 0.0114 - rmse: 0.1190\n",
            "Epoch 56/500\n",
            "15/15 [==============================] - 0s 26ms/step - loss: 0.0106 - rmse: 0.1164\n",
            "Epoch 57/500\n",
            "15/15 [==============================] - 0s 26ms/step - loss: 0.0078 - rmse: 0.1006\n",
            "Epoch 58/500\n",
            "15/15 [==============================] - 0s 26ms/step - loss: 0.0071 - rmse: 0.0957\n",
            "Epoch 59/500\n",
            "15/15 [==============================] - 0s 25ms/step - loss: 0.0093 - rmse: 0.1055\n",
            "Epoch 60/500\n",
            "15/15 [==============================] - 0s 25ms/step - loss: 0.0123 - rmse: 0.1246\n",
            "Epoch 61/500\n",
            "15/15 [==============================] - 0s 27ms/step - loss: 0.0129 - rmse: 0.1274\n",
            "Epoch 62/500\n",
            "15/15 [==============================] - 0s 25ms/step - loss: 0.0086 - rmse: 0.1020\n",
            "Epoch 63/500\n",
            "15/15 [==============================] - 0s 25ms/step - loss: 0.0121 - rmse: 0.1235\n",
            "Epoch 64/500\n",
            "15/15 [==============================] - 0s 25ms/step - loss: 0.0089 - rmse: 0.1064\n",
            "Epoch 65/500\n",
            "15/15 [==============================] - 0s 27ms/step - loss: 0.0127 - rmse: 0.1292\n",
            "Epoch 66/500\n",
            "15/15 [==============================] - 0s 26ms/step - loss: 0.0097 - rmse: 0.1108\n",
            "Epoch 67/500\n",
            "15/15 [==============================] - 0s 27ms/step - loss: 0.0094 - rmse: 0.1067\n",
            "Epoch 68/500\n",
            "15/15 [==============================] - 0s 28ms/step - loss: 0.0094 - rmse: 0.1041\n",
            "Epoch 69/500\n",
            "15/15 [==============================] - 0s 25ms/step - loss: 0.0143 - rmse: 0.1293\n",
            "Epoch 70/500\n",
            "15/15 [==============================] - 0s 25ms/step - loss: 0.0110 - rmse: 0.1197\n",
            "Epoch 71/500\n",
            "15/15 [==============================] - 0s 24ms/step - loss: 0.0103 - rmse: 0.1014\n",
            "Epoch 72/500\n",
            "15/15 [==============================] - 0s 26ms/step - loss: 0.0137 - rmse: 0.1284\n",
            "Epoch 73/500\n",
            "15/15 [==============================] - 0s 28ms/step - loss: 0.0087 - rmse: 0.1025\n",
            "Epoch 74/500\n",
            "15/15 [==============================] - 0s 26ms/step - loss: 0.0064 - rmse: 0.0893\n",
            "Epoch 75/500\n",
            "15/15 [==============================] - 0s 27ms/step - loss: 0.0100 - rmse: 0.1115\n",
            "Epoch 76/500\n",
            "15/15 [==============================] - 0s 26ms/step - loss: 0.0087 - rmse: 0.1009\n",
            "Epoch 77/500\n",
            "15/15 [==============================] - 0s 26ms/step - loss: 0.0075 - rmse: 0.0950\n",
            "Epoch 78/500\n",
            "15/15 [==============================] - 0s 26ms/step - loss: 0.0077 - rmse: 0.0981\n",
            "Epoch 79/500\n",
            "15/15 [==============================] - 0s 26ms/step - loss: 0.0086 - rmse: 0.0978\n",
            "Epoch 80/500\n",
            "15/15 [==============================] - 0s 27ms/step - loss: 0.0073 - rmse: 0.0961\n",
            "Epoch 81/500\n",
            "15/15 [==============================] - 0s 25ms/step - loss: 0.0062 - rmse: 0.0894\n",
            "Epoch 82/500\n",
            "15/15 [==============================] - 0s 25ms/step - loss: 0.0116 - rmse: 0.1249\n",
            "Epoch 83/500\n",
            "15/15 [==============================] - 0s 27ms/step - loss: 0.0077 - rmse: 0.1002\n",
            "Epoch 84/500\n",
            "15/15 [==============================] - 0s 25ms/step - loss: 0.0123 - rmse: 0.1229\n",
            "Epoch 85/500\n",
            "15/15 [==============================] - 0s 25ms/step - loss: 0.0080 - rmse: 0.1008\n",
            "Epoch 86/500\n",
            "15/15 [==============================] - 0s 25ms/step - loss: 0.0116 - rmse: 0.1186\n",
            "Epoch 87/500\n",
            "15/15 [==============================] - 0s 24ms/step - loss: 0.0077 - rmse: 0.0964\n",
            "Epoch 88/500\n",
            "15/15 [==============================] - 0s 24ms/step - loss: 0.0094 - rmse: 0.1076\n",
            "Epoch 89/500\n",
            "15/15 [==============================] - 0s 25ms/step - loss: 0.0094 - rmse: 0.1094\n",
            "Epoch 90/500\n",
            "15/15 [==============================] - 0s 27ms/step - loss: 0.0111 - rmse: 0.1169\n",
            "Epoch 91/500\n",
            "15/15 [==============================] - 0s 26ms/step - loss: 0.0093 - rmse: 0.1044\n",
            "Epoch 92/500\n",
            "15/15 [==============================] - 0s 27ms/step - loss: 0.0083 - rmse: 0.0999\n",
            "Epoch 93/500\n",
            "15/15 [==============================] - 0s 29ms/step - loss: 0.0082 - rmse: 0.1028\n",
            "Epoch 94/500\n",
            "15/15 [==============================] - 0s 27ms/step - loss: 0.0082 - rmse: 0.0993\n",
            "Epoch 95/500\n",
            "15/15 [==============================] - 0s 27ms/step - loss: 0.0062 - rmse: 0.0803\n",
            "Epoch 96/500\n",
            "15/15 [==============================] - 0s 26ms/step - loss: 0.0111 - rmse: 0.1035\n",
            "Epoch 97/500\n",
            "15/15 [==============================] - 0s 24ms/step - loss: 0.0095 - rmse: 0.1083\n",
            "Epoch 98/500\n",
            "15/15 [==============================] - 0s 27ms/step - loss: 0.0076 - rmse: 0.0960\n",
            "Epoch 99/500\n",
            "15/15 [==============================] - 0s 27ms/step - loss: 0.0086 - rmse: 0.1068\n",
            "Epoch 100/500\n",
            "15/15 [==============================] - 0s 25ms/step - loss: 0.0077 - rmse: 0.0986\n",
            "Epoch 101/500\n",
            "15/15 [==============================] - 0s 25ms/step - loss: 0.0085 - rmse: 0.1026\n",
            "Epoch 102/500\n",
            "15/15 [==============================] - 0s 26ms/step - loss: 0.0073 - rmse: 0.0917\n",
            "Epoch 103/500\n",
            "15/15 [==============================] - 0s 27ms/step - loss: 0.0153 - rmse: 0.1428\n",
            "Epoch 104/500\n",
            "15/15 [==============================] - 0s 30ms/step - loss: 0.0099 - rmse: 0.1123\n",
            "Epoch 105/500\n",
            "15/15 [==============================] - 0s 30ms/step - loss: 0.0079 - rmse: 0.0998\n",
            "Epoch 106/500\n",
            "15/15 [==============================] - 0s 27ms/step - loss: 0.0095 - rmse: 0.1075\n",
            "Epoch 107/500\n",
            "15/15 [==============================] - 0s 27ms/step - loss: 0.0075 - rmse: 0.1001\n",
            "Epoch 108/500\n",
            "15/15 [==============================] - 0s 27ms/step - loss: 0.0116 - rmse: 0.1204\n",
            "Epoch 109/500\n",
            "15/15 [==============================] - 0s 26ms/step - loss: 0.0098 - rmse: 0.1058\n",
            "Epoch 110/500\n",
            "15/15 [==============================] - 0s 27ms/step - loss: 0.0093 - rmse: 0.1087\n",
            "Epoch 111/500\n",
            "15/15 [==============================] - 0s 25ms/step - loss: 0.0054 - rmse: 0.0855\n",
            "Epoch 112/500\n",
            "15/15 [==============================] - 0s 27ms/step - loss: 0.0072 - rmse: 0.0961\n",
            "Epoch 113/500\n",
            "15/15 [==============================] - 0s 26ms/step - loss: 0.0099 - rmse: 0.1118\n",
            "Epoch 114/500\n",
            "15/15 [==============================] - 0s 26ms/step - loss: 0.0079 - rmse: 0.0965\n",
            "Epoch 115/500\n",
            "15/15 [==============================] - 0s 26ms/step - loss: 0.0106 - rmse: 0.1053\n",
            "Epoch 116/500\n",
            "15/15 [==============================] - 0s 25ms/step - loss: 0.0085 - rmse: 0.1038\n",
            "Epoch 117/500\n",
            "15/15 [==============================] - 0s 26ms/step - loss: 0.0130 - rmse: 0.1255\n",
            "Epoch 118/500\n",
            "15/15 [==============================] - 0s 26ms/step - loss: 0.0090 - rmse: 0.1067\n",
            "Epoch 119/500\n",
            "15/15 [==============================] - 0s 27ms/step - loss: 0.0061 - rmse: 0.0884\n",
            "Epoch 120/500\n",
            "15/15 [==============================] - 0s 29ms/step - loss: 0.0071 - rmse: 0.0973\n",
            "Epoch 121/500\n",
            "15/15 [==============================] - 0s 28ms/step - loss: 0.0098 - rmse: 0.1110\n",
            "Epoch 122/500\n",
            "15/15 [==============================] - 0s 29ms/step - loss: 0.0120 - rmse: 0.1300\n",
            "Epoch 123/500\n",
            "15/15 [==============================] - 0s 27ms/step - loss: 0.0062 - rmse: 0.0868\n",
            "Epoch 124/500\n",
            "15/15 [==============================] - 0s 27ms/step - loss: 0.0065 - rmse: 0.0949\n",
            "Epoch 125/500\n",
            "15/15 [==============================] - 0s 26ms/step - loss: 0.0097 - rmse: 0.1096\n",
            "Epoch 126/500\n",
            "15/15 [==============================] - 0s 27ms/step - loss: 0.0100 - rmse: 0.1096\n",
            "Epoch 127/500\n",
            "15/15 [==============================] - 0s 26ms/step - loss: 0.0081 - rmse: 0.1027\n",
            "Epoch 128/500\n",
            "15/15 [==============================] - 0s 28ms/step - loss: 0.0068 - rmse: 0.0912\n",
            "Epoch 129/500\n",
            "15/15 [==============================] - 0s 27ms/step - loss: 0.0074 - rmse: 0.0954\n",
            "Epoch 130/500\n",
            "15/15 [==============================] - 0s 27ms/step - loss: 0.0089 - rmse: 0.1003\n",
            "Epoch 131/500\n",
            "15/15 [==============================] - 0s 25ms/step - loss: 0.0076 - rmse: 0.0952\n",
            "Epoch 132/500\n",
            "15/15 [==============================] - 0s 27ms/step - loss: 0.0098 - rmse: 0.1210\n",
            "Epoch 133/500\n",
            "15/15 [==============================] - 0s 26ms/step - loss: 0.0061 - rmse: 0.0886\n",
            "Epoch 134/500\n",
            "15/15 [==============================] - 0s 25ms/step - loss: 0.0087 - rmse: 0.1058\n",
            "Epoch 135/500\n",
            "15/15 [==============================] - 0s 27ms/step - loss: 0.0070 - rmse: 0.0923\n",
            "Epoch 136/500\n",
            "15/15 [==============================] - 0s 25ms/step - loss: 0.0070 - rmse: 0.0942\n",
            "Epoch 137/500\n",
            "15/15 [==============================] - 0s 26ms/step - loss: 0.0063 - rmse: 0.0860\n",
            "Epoch 138/500\n",
            "15/15 [==============================] - 0s 26ms/step - loss: 0.0107 - rmse: 0.1133\n",
            "Epoch 139/500\n",
            "15/15 [==============================] - 0s 27ms/step - loss: 0.0088 - rmse: 0.1114\n",
            "Epoch 140/500\n",
            "15/15 [==============================] - 0s 26ms/step - loss: 0.0043 - rmse: 0.0739\n",
            "Epoch 141/500\n",
            "15/15 [==============================] - 0s 27ms/step - loss: 0.0070 - rmse: 0.0915\n",
            "Epoch 142/500\n",
            "15/15 [==============================] - 0s 26ms/step - loss: 0.0080 - rmse: 0.0990\n",
            "Epoch 143/500\n",
            "15/15 [==============================] - 0s 26ms/step - loss: 0.0065 - rmse: 0.0921\n",
            "Epoch 144/500\n",
            "15/15 [==============================] - 0s 26ms/step - loss: 0.0064 - rmse: 0.0930\n",
            "Epoch 145/500\n",
            "15/15 [==============================] - 0s 28ms/step - loss: 0.0089 - rmse: 0.1122\n",
            "Epoch 146/500\n",
            "15/15 [==============================] - 0s 25ms/step - loss: 0.0044 - rmse: 0.0741\n",
            "Epoch 147/500\n",
            "15/15 [==============================] - 0s 26ms/step - loss: 0.0074 - rmse: 0.0949\n",
            "Epoch 148/500\n",
            "15/15 [==============================] - 0s 26ms/step - loss: 0.0079 - rmse: 0.0956\n",
            "Epoch 149/500\n",
            "15/15 [==============================] - 0s 28ms/step - loss: 0.0092 - rmse: 0.0993\n",
            "Epoch 150/500\n",
            "15/15 [==============================] - 0s 27ms/step - loss: 0.0122 - rmse: 0.1256\n",
            "Epoch 151/500\n",
            "15/15 [==============================] - 0s 27ms/step - loss: 0.0075 - rmse: 0.1003\n",
            "Epoch 152/500\n",
            "15/15 [==============================] - 0s 26ms/step - loss: 0.0063 - rmse: 0.0850\n",
            "Epoch 153/500\n",
            "15/15 [==============================] - 0s 27ms/step - loss: 0.0072 - rmse: 0.0924\n",
            "Epoch 154/500\n",
            "15/15 [==============================] - 0s 27ms/step - loss: 0.0057 - rmse: 0.0855\n",
            "Epoch 155/500\n",
            "15/15 [==============================] - 0s 27ms/step - loss: 0.0074 - rmse: 0.0970\n",
            "Epoch 156/500\n",
            "15/15 [==============================] - 0s 25ms/step - loss: 0.0102 - rmse: 0.1144\n",
            "Epoch 157/500\n",
            "15/15 [==============================] - 0s 27ms/step - loss: 0.0085 - rmse: 0.1030\n",
            "Epoch 158/500\n",
            "15/15 [==============================] - 0s 27ms/step - loss: 0.0116 - rmse: 0.1164\n",
            "Epoch 159/500\n",
            "15/15 [==============================] - 0s 26ms/step - loss: 0.0072 - rmse: 0.0950\n",
            "Epoch 160/500\n",
            "15/15 [==============================] - 0s 27ms/step - loss: 0.0057 - rmse: 0.0858\n",
            "Epoch 161/500\n",
            "15/15 [==============================] - 0s 25ms/step - loss: 0.0071 - rmse: 0.0875\n",
            "Epoch 162/500\n",
            "15/15 [==============================] - 0s 26ms/step - loss: 0.0070 - rmse: 0.0910\n",
            "Epoch 163/500\n",
            "15/15 [==============================] - 0s 26ms/step - loss: 0.0077 - rmse: 0.0977\n",
            "Epoch 164/500\n",
            "15/15 [==============================] - 0s 26ms/step - loss: 0.0050 - rmse: 0.0826\n",
            "Epoch 165/500\n",
            "15/15 [==============================] - 0s 28ms/step - loss: 0.0061 - rmse: 0.0849\n",
            "Epoch 166/500\n",
            "15/15 [==============================] - 0s 25ms/step - loss: 0.0059 - rmse: 0.0819\n",
            "Epoch 167/500\n",
            "15/15 [==============================] - 0s 26ms/step - loss: 0.0069 - rmse: 0.0919\n",
            "Epoch 168/500\n",
            "15/15 [==============================] - 0s 26ms/step - loss: 0.0071 - rmse: 0.0930\n",
            "Epoch 169/500\n",
            "15/15 [==============================] - 0s 26ms/step - loss: 0.0072 - rmse: 0.0865\n",
            "Epoch 170/500\n",
            "15/15 [==============================] - 0s 27ms/step - loss: 0.0081 - rmse: 0.1012\n",
            "Epoch 171/500\n",
            "15/15 [==============================] - 0s 27ms/step - loss: 0.0071 - rmse: 0.0910\n",
            "Epoch 172/500\n",
            "15/15 [==============================] - 0s 28ms/step - loss: 0.0089 - rmse: 0.1022\n",
            "Epoch 173/500\n",
            "15/15 [==============================] - 0s 28ms/step - loss: 0.0063 - rmse: 0.0832\n",
            "Epoch 174/500\n",
            "15/15 [==============================] - 0s 28ms/step - loss: 0.0112 - rmse: 0.1089\n",
            "Epoch 175/500\n",
            "15/15 [==============================] - 0s 27ms/step - loss: 0.0048 - rmse: 0.0720\n",
            "Epoch 176/500\n",
            "15/15 [==============================] - 0s 28ms/step - loss: 0.0054 - rmse: 0.0813\n",
            "Epoch 177/500\n",
            "15/15 [==============================] - 0s 26ms/step - loss: 0.0061 - rmse: 0.0869\n",
            "Epoch 178/500\n",
            "15/15 [==============================] - 0s 27ms/step - loss: 0.0049 - rmse: 0.0784\n",
            "Epoch 179/500\n",
            "15/15 [==============================] - 0s 26ms/step - loss: 0.0101 - rmse: 0.1130\n",
            "Epoch 180/500\n",
            "15/15 [==============================] - 0s 27ms/step - loss: 0.0061 - rmse: 0.0846\n",
            "Epoch 181/500\n",
            "15/15 [==============================] - 0s 26ms/step - loss: 0.0102 - rmse: 0.1137\n",
            "Epoch 182/500\n",
            "15/15 [==============================] - 0s 27ms/step - loss: 0.0085 - rmse: 0.1046\n",
            "Epoch 183/500\n",
            "15/15 [==============================] - 0s 29ms/step - loss: 0.0075 - rmse: 0.0924\n",
            "Epoch 184/500\n",
            "15/15 [==============================] - 0s 28ms/step - loss: 0.0089 - rmse: 0.1078\n",
            "Epoch 185/500\n",
            "15/15 [==============================] - 0s 29ms/step - loss: 0.0068 - rmse: 0.0958\n",
            "Epoch 186/500\n",
            "15/15 [==============================] - 0s 26ms/step - loss: 0.0065 - rmse: 0.0866\n",
            "Epoch 187/500\n",
            "15/15 [==============================] - 0s 24ms/step - loss: 0.0068 - rmse: 0.0901\n",
            "Epoch 188/500\n",
            "15/15 [==============================] - 0s 27ms/step - loss: 0.0087 - rmse: 0.0994\n",
            "Epoch 189/500\n",
            "15/15 [==============================] - 0s 26ms/step - loss: 0.0063 - rmse: 0.0894\n",
            "Epoch 190/500\n",
            "15/15 [==============================] - 0s 26ms/step - loss: 0.0072 - rmse: 0.0976\n",
            "Epoch 191/500\n",
            "15/15 [==============================] - 0s 26ms/step - loss: 0.0079 - rmse: 0.1020\n",
            "Epoch 192/500\n",
            "15/15 [==============================] - 0s 26ms/step - loss: 0.0053 - rmse: 0.0805\n",
            "Epoch 193/500\n",
            "15/15 [==============================] - 0s 25ms/step - loss: 0.0086 - rmse: 0.0854\n",
            "Epoch 194/500\n",
            "15/15 [==============================] - 0s 26ms/step - loss: 0.0064 - rmse: 0.0895\n",
            "Epoch 195/500\n",
            "15/15 [==============================] - 0s 27ms/step - loss: 0.0046 - rmse: 0.0800\n",
            "Epoch 196/500\n",
            "15/15 [==============================] - 0s 26ms/step - loss: 0.0064 - rmse: 0.0915\n",
            "Epoch 197/500\n",
            "15/15 [==============================] - 0s 26ms/step - loss: 0.0056 - rmse: 0.0857\n",
            "Epoch 198/500\n",
            "15/15 [==============================] - 0s 28ms/step - loss: 0.0079 - rmse: 0.1034\n",
            "Epoch 199/500\n",
            "15/15 [==============================] - 0s 27ms/step - loss: 0.0099 - rmse: 0.1086\n",
            "Epoch 200/500\n",
            "15/15 [==============================] - 0s 28ms/step - loss: 0.0108 - rmse: 0.1141\n",
            "Epoch 201/500\n",
            "15/15 [==============================] - 0s 27ms/step - loss: 0.0096 - rmse: 0.1157\n",
            "Epoch 202/500\n",
            "15/15 [==============================] - 0s 28ms/step - loss: 0.0098 - rmse: 0.1143\n",
            "Epoch 203/500\n",
            "15/15 [==============================] - 0s 25ms/step - loss: 0.0105 - rmse: 0.1062\n",
            "Epoch 204/500\n",
            "15/15 [==============================] - 0s 28ms/step - loss: 0.0047 - rmse: 0.0722\n",
            "Epoch 205/500\n",
            "15/15 [==============================] - 0s 28ms/step - loss: 0.0061 - rmse: 0.0921\n",
            "Epoch 206/500\n",
            "15/15 [==============================] - 0s 29ms/step - loss: 0.0062 - rmse: 0.0858\n",
            "Epoch 207/500\n",
            "15/15 [==============================] - 0s 28ms/step - loss: 0.0051 - rmse: 0.0794\n",
            "Epoch 208/500\n",
            "15/15 [==============================] - 0s 30ms/step - loss: 0.0065 - rmse: 0.0905\n",
            "Epoch 209/500\n",
            "15/15 [==============================] - 0s 29ms/step - loss: 0.0071 - rmse: 0.0903\n",
            "Epoch 210/500\n",
            "15/15 [==============================] - 0s 29ms/step - loss: 0.0059 - rmse: 0.0866\n",
            "Epoch 211/500\n",
            "15/15 [==============================] - 0s 28ms/step - loss: 0.0044 - rmse: 0.0694\n",
            "Epoch 212/500\n",
            "15/15 [==============================] - 0s 27ms/step - loss: 0.0077 - rmse: 0.1006\n",
            "Epoch 213/500\n",
            "15/15 [==============================] - 0s 29ms/step - loss: 0.0046 - rmse: 0.0780\n",
            "Epoch 214/500\n",
            "15/15 [==============================] - 0s 29ms/step - loss: 0.0069 - rmse: 0.0921\n",
            "Epoch 215/500\n",
            "15/15 [==============================] - 0s 31ms/step - loss: 0.0067 - rmse: 0.0927\n",
            "Epoch 216/500\n",
            "15/15 [==============================] - 0s 33ms/step - loss: 0.0082 - rmse: 0.1019\n",
            "Epoch 217/500\n",
            "15/15 [==============================] - 0s 32ms/step - loss: 0.0041 - rmse: 0.0692\n",
            "Epoch 218/500\n",
            "15/15 [==============================] - 0s 31ms/step - loss: 0.0092 - rmse: 0.1115\n",
            "Epoch 219/500\n",
            "15/15 [==============================] - 0s 30ms/step - loss: 0.0065 - rmse: 0.0913\n",
            "Epoch 220/500\n",
            "15/15 [==============================] - 0s 30ms/step - loss: 0.0072 - rmse: 0.0956\n",
            "Epoch 221/500\n",
            "15/15 [==============================] - 0s 26ms/step - loss: 0.0066 - rmse: 0.0896\n",
            "Epoch 222/500\n",
            "15/15 [==============================] - 0s 28ms/step - loss: 0.0045 - rmse: 0.0769\n",
            "Epoch 223/500\n",
            "15/15 [==============================] - 0s 29ms/step - loss: 0.0133 - rmse: 0.1312\n",
            "Epoch 224/500\n",
            "15/15 [==============================] - 0s 29ms/step - loss: 0.0070 - rmse: 0.0927\n",
            "Epoch 225/500\n",
            "15/15 [==============================] - 0s 29ms/step - loss: 0.0052 - rmse: 0.0840\n",
            "Epoch 226/500\n",
            "15/15 [==============================] - 0s 27ms/step - loss: 0.0070 - rmse: 0.0994\n",
            "Epoch 227/500\n",
            "15/15 [==============================] - 0s 27ms/step - loss: 0.0061 - rmse: 0.0879\n",
            "Epoch 228/500\n",
            "15/15 [==============================] - 0s 27ms/step - loss: 0.0079 - rmse: 0.0973\n",
            "Epoch 229/500\n",
            "15/15 [==============================] - 0s 27ms/step - loss: 0.0075 - rmse: 0.0948\n",
            "Epoch 230/500\n",
            "15/15 [==============================] - 0s 26ms/step - loss: 0.0068 - rmse: 0.0935\n",
            "Epoch 231/500\n",
            "15/15 [==============================] - 0s 28ms/step - loss: 0.0109 - rmse: 0.1204\n",
            "Epoch 232/500\n",
            "15/15 [==============================] - 0s 27ms/step - loss: 0.0090 - rmse: 0.1064\n",
            "Epoch 233/500\n",
            "15/15 [==============================] - 0s 28ms/step - loss: 0.0100 - rmse: 0.1217\n",
            "Epoch 234/500\n",
            "15/15 [==============================] - 0s 27ms/step - loss: 0.0111 - rmse: 0.1251\n",
            "Epoch 235/500\n",
            "15/15 [==============================] - 0s 28ms/step - loss: 0.0106 - rmse: 0.1181\n",
            "Epoch 236/500\n",
            "15/15 [==============================] - 0s 28ms/step - loss: 0.0085 - rmse: 0.0982\n",
            "Epoch 237/500\n",
            "15/15 [==============================] - 0s 27ms/step - loss: 0.0054 - rmse: 0.0844\n",
            "Epoch 238/500\n",
            "15/15 [==============================] - 0s 27ms/step - loss: 0.0086 - rmse: 0.1047\n",
            "Epoch 239/500\n",
            "15/15 [==============================] - 0s 26ms/step - loss: 0.0075 - rmse: 0.0962\n",
            "Epoch 240/500\n",
            "15/15 [==============================] - 0s 28ms/step - loss: 0.0132 - rmse: 0.1276\n",
            "Epoch 241/500\n",
            "15/15 [==============================] - 0s 28ms/step - loss: 0.0107 - rmse: 0.1113\n",
            "Epoch 242/500\n",
            "15/15 [==============================] - 0s 27ms/step - loss: 0.0098 - rmse: 0.1098\n",
            "Epoch 243/500\n",
            "15/15 [==============================] - 0s 29ms/step - loss: 0.0065 - rmse: 0.0874\n",
            "Epoch 244/500\n",
            "15/15 [==============================] - 0s 28ms/step - loss: 0.0102 - rmse: 0.1265\n",
            "Epoch 245/500\n",
            "15/15 [==============================] - 0s 27ms/step - loss: 0.0071 - rmse: 0.0929\n",
            "Epoch 246/500\n",
            "15/15 [==============================] - 0s 26ms/step - loss: 0.0093 - rmse: 0.1097\n",
            "Epoch 247/500\n",
            "15/15 [==============================] - 0s 26ms/step - loss: 0.0103 - rmse: 0.1190\n",
            "Epoch 248/500\n",
            "15/15 [==============================] - 0s 27ms/step - loss: 0.0133 - rmse: 0.1292\n",
            "Epoch 249/500\n",
            "15/15 [==============================] - 0s 26ms/step - loss: 0.0033 - rmse: 0.0657\n",
            "Epoch 250/500\n",
            "15/15 [==============================] - 0s 28ms/step - loss: 0.0055 - rmse: 0.0813\n",
            "Epoch 251/500\n",
            "15/15 [==============================] - 0s 28ms/step - loss: 0.0111 - rmse: 0.1208\n",
            "Epoch 252/500\n",
            "15/15 [==============================] - 0s 28ms/step - loss: 0.0078 - rmse: 0.0998\n",
            "Epoch 253/500\n",
            "15/15 [==============================] - 0s 28ms/step - loss: 0.0043 - rmse: 0.0708\n",
            "Epoch 254/500\n",
            "15/15 [==============================] - 0s 28ms/step - loss: 0.0083 - rmse: 0.1029\n",
            "Epoch 255/500\n",
            "15/15 [==============================] - 0s 28ms/step - loss: 0.0062 - rmse: 0.0897\n",
            "Epoch 256/500\n",
            "15/15 [==============================] - 0s 27ms/step - loss: 0.0045 - rmse: 0.0747\n",
            "Epoch 257/500\n",
            "15/15 [==============================] - 0s 29ms/step - loss: 0.0098 - rmse: 0.1065\n",
            "Epoch 258/500\n",
            "15/15 [==============================] - 0s 30ms/step - loss: 0.0048 - rmse: 0.0779\n",
            "Epoch 259/500\n",
            "15/15 [==============================] - 0s 28ms/step - loss: 0.0093 - rmse: 0.1110\n",
            "Epoch 260/500\n",
            "15/15 [==============================] - 0s 29ms/step - loss: 0.0083 - rmse: 0.1031\n",
            "Epoch 261/500\n",
            "15/15 [==============================] - 0s 27ms/step - loss: 0.0079 - rmse: 0.0974\n",
            "Epoch 262/500\n",
            "15/15 [==============================] - 0s 27ms/step - loss: 0.0061 - rmse: 0.0883\n",
            "Epoch 263/500\n",
            "15/15 [==============================] - 0s 26ms/step - loss: 0.0053 - rmse: 0.0853\n",
            "Epoch 264/500\n",
            "15/15 [==============================] - 0s 29ms/step - loss: 0.0041 - rmse: 0.0640\n",
            "Epoch 265/500\n",
            "15/15 [==============================] - 0s 27ms/step - loss: 0.0082 - rmse: 0.1017\n",
            "Epoch 266/500\n",
            "15/15 [==============================] - 0s 27ms/step - loss: 0.0073 - rmse: 0.0900\n",
            "Epoch 267/500\n",
            "15/15 [==============================] - 0s 30ms/step - loss: 0.0124 - rmse: 0.1245\n",
            "Epoch 268/500\n",
            "15/15 [==============================] - 0s 26ms/step - loss: 0.0075 - rmse: 0.0990\n",
            "Epoch 269/500\n",
            "15/15 [==============================] - 0s 28ms/step - loss: 0.0079 - rmse: 0.0971\n",
            "Epoch 270/500\n",
            "15/15 [==============================] - 0s 27ms/step - loss: 0.0094 - rmse: 0.1127\n",
            "Epoch 271/500\n",
            "15/15 [==============================] - 0s 28ms/step - loss: 0.0061 - rmse: 0.0868\n",
            "Epoch 272/500\n",
            "15/15 [==============================] - 0s 28ms/step - loss: 0.0088 - rmse: 0.1060\n",
            "Epoch 273/500\n",
            "15/15 [==============================] - 0s 28ms/step - loss: 0.0081 - rmse: 0.1025\n",
            "Epoch 274/500\n",
            "15/15 [==============================] - 0s 29ms/step - loss: 0.0087 - rmse: 0.1059\n",
            "Epoch 275/500\n",
            "15/15 [==============================] - 0s 28ms/step - loss: 0.0078 - rmse: 0.0997\n",
            "Epoch 276/500\n",
            "15/15 [==============================] - 0s 28ms/step - loss: 0.0060 - rmse: 0.0843\n",
            "Epoch 277/500\n",
            "15/15 [==============================] - 0s 27ms/step - loss: 0.0072 - rmse: 0.0930\n",
            "Epoch 278/500\n",
            "15/15 [==============================] - 0s 26ms/step - loss: 0.0094 - rmse: 0.1085\n",
            "Epoch 279/500\n",
            "15/15 [==============================] - 0s 28ms/step - loss: 0.0051 - rmse: 0.0739\n",
            "Epoch 280/500\n",
            "15/15 [==============================] - 0s 28ms/step - loss: 0.0075 - rmse: 0.0962\n",
            "Epoch 281/500\n",
            "15/15 [==============================] - 0s 30ms/step - loss: 0.0071 - rmse: 0.0973\n",
            "Epoch 282/500\n",
            "15/15 [==============================] - 0s 28ms/step - loss: 0.0058 - rmse: 0.0883\n",
            "Epoch 283/500\n",
            "15/15 [==============================] - 0s 30ms/step - loss: 0.0056 - rmse: 0.0842\n",
            "Epoch 284/500\n",
            "15/15 [==============================] - 0s 29ms/step - loss: 0.0045 - rmse: 0.0739\n",
            "Epoch 285/500\n",
            "15/15 [==============================] - 0s 29ms/step - loss: 0.0064 - rmse: 0.0900\n",
            "Epoch 286/500\n",
            "15/15 [==============================] - 0s 30ms/step - loss: 0.0077 - rmse: 0.0938\n",
            "Epoch 287/500\n",
            "15/15 [==============================] - 0s 28ms/step - loss: 0.0074 - rmse: 0.0979\n",
            "Epoch 288/500\n",
            "15/15 [==============================] - 0s 30ms/step - loss: 0.0083 - rmse: 0.1072\n",
            "Epoch 289/500\n",
            "15/15 [==============================] - 0s 30ms/step - loss: 0.0065 - rmse: 0.0849\n",
            "Epoch 290/500\n",
            "15/15 [==============================] - 0s 32ms/step - loss: 0.0067 - rmse: 0.0979\n",
            "Epoch 291/500\n",
            "15/15 [==============================] - 0s 28ms/step - loss: 0.0105 - rmse: 0.1198\n",
            "Epoch 292/500\n",
            "15/15 [==============================] - 0s 30ms/step - loss: 0.0086 - rmse: 0.1008\n",
            "Epoch 293/500\n",
            "15/15 [==============================] - 0s 29ms/step - loss: 0.0041 - rmse: 0.0692\n",
            "Epoch 294/500\n",
            "15/15 [==============================] - 0s 28ms/step - loss: 0.0078 - rmse: 0.0995\n",
            "Epoch 295/500\n",
            "15/15 [==============================] - 0s 26ms/step - loss: 0.0046 - rmse: 0.0758\n",
            "Epoch 296/500\n",
            "15/15 [==============================] - 0s 27ms/step - loss: 0.0097 - rmse: 0.1024\n",
            "Epoch 297/500\n",
            "15/15 [==============================] - 0s 29ms/step - loss: 0.0092 - rmse: 0.1003\n",
            "Epoch 298/500\n",
            "15/15 [==============================] - 0s 26ms/step - loss: 0.0090 - rmse: 0.1080\n",
            "Epoch 299/500\n",
            "15/15 [==============================] - 0s 27ms/step - loss: 0.0123 - rmse: 0.1287\n",
            "Epoch 300/500\n",
            "15/15 [==============================] - 0s 29ms/step - loss: 0.0078 - rmse: 0.0968\n",
            "Epoch 301/500\n",
            "15/15 [==============================] - 0s 28ms/step - loss: 0.0109 - rmse: 0.1120\n",
            "Epoch 302/500\n",
            "15/15 [==============================] - 0s 29ms/step - loss: 0.0064 - rmse: 0.0850\n",
            "Epoch 303/500\n",
            "15/15 [==============================] - 0s 28ms/step - loss: 0.0073 - rmse: 0.0960\n",
            "Epoch 304/500\n",
            "15/15 [==============================] - 0s 28ms/step - loss: 0.0070 - rmse: 0.0947\n",
            "Epoch 305/500\n",
            "15/15 [==============================] - 0s 29ms/step - loss: 0.0080 - rmse: 0.1048\n",
            "Epoch 306/500\n",
            "15/15 [==============================] - 0s 30ms/step - loss: 0.0057 - rmse: 0.0880\n",
            "Epoch 307/500\n",
            "15/15 [==============================] - 0s 30ms/step - loss: 0.0074 - rmse: 0.0928\n",
            "Epoch 308/500\n",
            "15/15 [==============================] - 0s 28ms/step - loss: 0.0061 - rmse: 0.0886\n",
            "Epoch 309/500\n",
            "15/15 [==============================] - 0s 28ms/step - loss: 0.0060 - rmse: 0.0859\n",
            "Epoch 310/500\n",
            "15/15 [==============================] - 0s 29ms/step - loss: 0.0053 - rmse: 0.0783\n",
            "Epoch 311/500\n",
            "15/15 [==============================] - 0s 30ms/step - loss: 0.0077 - rmse: 0.0923\n",
            "Epoch 312/500\n",
            "15/15 [==============================] - 0s 28ms/step - loss: 0.0096 - rmse: 0.1110\n",
            "Epoch 313/500\n",
            "15/15 [==============================] - 0s 27ms/step - loss: 0.0050 - rmse: 0.0759\n",
            "Epoch 314/500\n",
            "15/15 [==============================] - 0s 30ms/step - loss: 0.0082 - rmse: 0.0970\n",
            "Epoch 315/500\n",
            "15/15 [==============================] - 0s 30ms/step - loss: 0.0065 - rmse: 0.0876\n",
            "Epoch 316/500\n",
            "15/15 [==============================] - 0s 30ms/step - loss: 0.0082 - rmse: 0.1041\n",
            "Epoch 317/500\n",
            "15/15 [==============================] - 0s 27ms/step - loss: 0.0088 - rmse: 0.1034\n",
            "Epoch 318/500\n",
            "15/15 [==============================] - 0s 29ms/step - loss: 0.0074 - rmse: 0.0972\n",
            "Epoch 319/500\n",
            "15/15 [==============================] - 0s 29ms/step - loss: 0.0038 - rmse: 0.0695\n",
            "Epoch 320/500\n",
            "15/15 [==============================] - 1s 33ms/step - loss: 0.0050 - rmse: 0.0817\n",
            "Epoch 321/500\n",
            "15/15 [==============================] - 0s 27ms/step - loss: 0.0090 - rmse: 0.1031\n",
            "Epoch 322/500\n",
            "15/15 [==============================] - 0s 28ms/step - loss: 0.0068 - rmse: 0.0893\n",
            "Epoch 323/500\n",
            "15/15 [==============================] - 0s 30ms/step - loss: 0.0061 - rmse: 0.0861\n",
            "Epoch 324/500\n",
            "15/15 [==============================] - 1s 34ms/step - loss: 0.0074 - rmse: 0.0941\n",
            "Epoch 325/500\n",
            "15/15 [==============================] - 0s 29ms/step - loss: 0.0065 - rmse: 0.0951\n",
            "Epoch 326/500\n",
            "15/15 [==============================] - 0s 32ms/step - loss: 0.0088 - rmse: 0.1093\n",
            "Epoch 327/500\n",
            "15/15 [==============================] - 0s 29ms/step - loss: 0.0064 - rmse: 0.0829\n",
            "Epoch 328/500\n",
            "15/15 [==============================] - 0s 30ms/step - loss: 0.0065 - rmse: 0.0859\n",
            "Epoch 329/500\n",
            "15/15 [==============================] - 0s 30ms/step - loss: 0.0047 - rmse: 0.0740\n",
            "Epoch 330/500\n",
            "15/15 [==============================] - 0s 29ms/step - loss: 0.0078 - rmse: 0.0990\n",
            "Epoch 331/500\n",
            "15/15 [==============================] - 0s 27ms/step - loss: 0.0031 - rmse: 0.0610\n",
            "Epoch 332/500\n",
            "15/15 [==============================] - 0s 29ms/step - loss: 0.0043 - rmse: 0.0770\n",
            "Epoch 333/500\n",
            "15/15 [==============================] - 0s 28ms/step - loss: 0.0060 - rmse: 0.0896\n",
            "Epoch 334/500\n",
            "15/15 [==============================] - 0s 30ms/step - loss: 0.0053 - rmse: 0.0784\n",
            "Epoch 335/500\n",
            "15/15 [==============================] - 0s 29ms/step - loss: 0.0046 - rmse: 0.0732\n",
            "Epoch 336/500\n",
            "15/15 [==============================] - 0s 31ms/step - loss: 0.0077 - rmse: 0.0996\n",
            "Epoch 337/500\n",
            "15/15 [==============================] - 0s 29ms/step - loss: 0.0087 - rmse: 0.1105\n",
            "Epoch 338/500\n",
            "15/15 [==============================] - 0s 31ms/step - loss: 0.0049 - rmse: 0.0811\n",
            "Epoch 339/500\n",
            "15/15 [==============================] - 0s 30ms/step - loss: 0.0086 - rmse: 0.1030\n",
            "Epoch 340/500\n",
            "15/15 [==============================] - 0s 28ms/step - loss: 0.0052 - rmse: 0.0757\n",
            "Epoch 341/500\n",
            "15/15 [==============================] - 0s 29ms/step - loss: 0.0053 - rmse: 0.0825\n",
            "Epoch 342/500\n",
            "15/15 [==============================] - 0s 28ms/step - loss: 0.0047 - rmse: 0.0781\n",
            "Epoch 343/500\n",
            "15/15 [==============================] - 0s 30ms/step - loss: 0.0050 - rmse: 0.0841\n",
            "Epoch 344/500\n",
            "15/15 [==============================] - 0s 30ms/step - loss: 0.0053 - rmse: 0.0779\n",
            "Epoch 345/500\n",
            "15/15 [==============================] - 0s 29ms/step - loss: 0.0045 - rmse: 0.0743\n",
            "Epoch 346/500\n",
            "15/15 [==============================] - 0s 30ms/step - loss: 0.0059 - rmse: 0.0871\n",
            "Epoch 347/500\n",
            "15/15 [==============================] - 0s 29ms/step - loss: 0.0053 - rmse: 0.0821\n",
            "Epoch 348/500\n",
            "15/15 [==============================] - 0s 28ms/step - loss: 0.0038 - rmse: 0.0710\n",
            "Epoch 349/500\n",
            "15/15 [==============================] - 0s 28ms/step - loss: 0.0038 - rmse: 0.0669\n",
            "Epoch 350/500\n",
            "15/15 [==============================] - 0s 29ms/step - loss: 0.0083 - rmse: 0.0976\n",
            "Epoch 351/500\n",
            "15/15 [==============================] - 0s 28ms/step - loss: 0.0037 - rmse: 0.0660\n",
            "Epoch 352/500\n",
            "15/15 [==============================] - 0s 28ms/step - loss: 0.0043 - rmse: 0.0721\n",
            "Epoch 353/500\n",
            "15/15 [==============================] - 0s 27ms/step - loss: 0.0061 - rmse: 0.0876\n",
            "Epoch 354/500\n",
            "15/15 [==============================] - 0s 27ms/step - loss: 0.0087 - rmse: 0.1002\n",
            "Epoch 355/500\n",
            "15/15 [==============================] - 0s 29ms/step - loss: 0.0030 - rmse: 0.0627\n",
            "Epoch 356/500\n",
            "15/15 [==============================] - 0s 29ms/step - loss: 0.0058 - rmse: 0.0835\n",
            "Epoch 357/500\n",
            "15/15 [==============================] - 0s 31ms/step - loss: 0.0076 - rmse: 0.1012\n",
            "Epoch 358/500\n",
            "15/15 [==============================] - 0s 28ms/step - loss: 0.0059 - rmse: 0.0826\n",
            "Epoch 359/500\n",
            "15/15 [==============================] - 0s 28ms/step - loss: 0.0067 - rmse: 0.0857\n",
            "Epoch 360/500\n",
            "15/15 [==============================] - 0s 28ms/step - loss: 0.0089 - rmse: 0.1093\n",
            "Epoch 361/500\n",
            "15/15 [==============================] - 0s 28ms/step - loss: 0.0040 - rmse: 0.0715\n",
            "Epoch 362/500\n",
            "15/15 [==============================] - 0s 27ms/step - loss: 0.0050 - rmse: 0.0791\n",
            "Epoch 363/500\n",
            "15/15 [==============================] - 0s 28ms/step - loss: 0.0038 - rmse: 0.0675\n",
            "Epoch 364/500\n",
            "15/15 [==============================] - 0s 27ms/step - loss: 0.0055 - rmse: 0.0816\n",
            "Epoch 365/500\n",
            "15/15 [==============================] - 0s 29ms/step - loss: 0.0056 - rmse: 0.0809\n",
            "Epoch 366/500\n",
            "15/15 [==============================] - 0s 30ms/step - loss: 0.0052 - rmse: 0.0857\n",
            "Epoch 367/500\n",
            "15/15 [==============================] - 0s 28ms/step - loss: 0.0078 - rmse: 0.1073\n",
            "Epoch 368/500\n",
            "15/15 [==============================] - 0s 30ms/step - loss: 0.0047 - rmse: 0.0775\n",
            "Epoch 369/500\n",
            "15/15 [==============================] - 0s 29ms/step - loss: 0.0086 - rmse: 0.1047\n",
            "Epoch 370/500\n",
            "15/15 [==============================] - 0s 29ms/step - loss: 0.0066 - rmse: 0.0964\n",
            "Epoch 371/500\n",
            "15/15 [==============================] - 0s 28ms/step - loss: 0.0063 - rmse: 0.0892\n",
            "Epoch 372/500\n",
            "15/15 [==============================] - 0s 31ms/step - loss: 0.0061 - rmse: 0.0874\n",
            "Epoch 373/500\n",
            "15/15 [==============================] - 0s 29ms/step - loss: 0.0054 - rmse: 0.0848\n",
            "Epoch 374/500\n",
            "15/15 [==============================] - 0s 30ms/step - loss: 0.0047 - rmse: 0.0770\n",
            "Epoch 375/500\n",
            "15/15 [==============================] - 0s 28ms/step - loss: 0.0042 - rmse: 0.0714\n",
            "Epoch 376/500\n",
            "15/15 [==============================] - 0s 29ms/step - loss: 0.0054 - rmse: 0.0835\n",
            "Epoch 377/500\n",
            "15/15 [==============================] - 0s 32ms/step - loss: 0.0055 - rmse: 0.0866\n",
            "Epoch 378/500\n",
            "15/15 [==============================] - 0s 32ms/step - loss: 0.0063 - rmse: 0.0951\n",
            "Epoch 379/500\n",
            "15/15 [==============================] - 0s 30ms/step - loss: 0.0061 - rmse: 0.0822\n",
            "Epoch 380/500\n",
            "15/15 [==============================] - 0s 30ms/step - loss: 0.0051 - rmse: 0.0783\n",
            "Epoch 381/500\n",
            "15/15 [==============================] - 0s 31ms/step - loss: 0.0063 - rmse: 0.0937\n",
            "Epoch 382/500\n",
            "15/15 [==============================] - 0s 30ms/step - loss: 0.0091 - rmse: 0.1108\n",
            "Epoch 383/500\n",
            "15/15 [==============================] - 0s 29ms/step - loss: 0.0061 - rmse: 0.0864\n",
            "Epoch 384/500\n",
            "15/15 [==============================] - 0s 29ms/step - loss: 0.0064 - rmse: 0.0846\n",
            "Epoch 385/500\n",
            "15/15 [==============================] - 0s 29ms/step - loss: 0.0076 - rmse: 0.1008\n",
            "Epoch 386/500\n",
            "15/15 [==============================] - 0s 30ms/step - loss: 0.0075 - rmse: 0.1015\n",
            "Epoch 387/500\n",
            "15/15 [==============================] - 0s 30ms/step - loss: 0.0064 - rmse: 0.0910\n",
            "Epoch 388/500\n",
            "15/15 [==============================] - 0s 31ms/step - loss: 0.0081 - rmse: 0.1055\n",
            "Epoch 389/500\n",
            "15/15 [==============================] - 0s 30ms/step - loss: 0.0080 - rmse: 0.0992\n",
            "Epoch 390/500\n",
            "15/15 [==============================] - 0s 30ms/step - loss: 0.0066 - rmse: 0.0862\n",
            "Epoch 391/500\n",
            "15/15 [==============================] - 0s 30ms/step - loss: 0.0057 - rmse: 0.0813\n",
            "Epoch 392/500\n",
            "15/15 [==============================] - 0s 29ms/step - loss: 0.0068 - rmse: 0.0999\n",
            "Epoch 393/500\n",
            "15/15 [==============================] - 0s 30ms/step - loss: 0.0082 - rmse: 0.0998\n",
            "Epoch 394/500\n",
            "15/15 [==============================] - 0s 28ms/step - loss: 0.0076 - rmse: 0.1016\n",
            "Epoch 395/500\n",
            "15/15 [==============================] - 0s 32ms/step - loss: 0.0063 - rmse: 0.0938\n",
            "Epoch 396/500\n",
            "15/15 [==============================] - 0s 30ms/step - loss: 0.0037 - rmse: 0.0667\n",
            "Epoch 397/500\n",
            "15/15 [==============================] - 0s 28ms/step - loss: 0.0050 - rmse: 0.0761\n",
            "Epoch 398/500\n",
            "15/15 [==============================] - 0s 29ms/step - loss: 0.0073 - rmse: 0.0946\n",
            "Epoch 399/500\n",
            "15/15 [==============================] - 0s 30ms/step - loss: 0.0075 - rmse: 0.0964\n",
            "Epoch 400/500\n",
            "15/15 [==============================] - 0s 29ms/step - loss: 0.0086 - rmse: 0.1054\n",
            "Epoch 401/500\n",
            "15/15 [==============================] - 0s 31ms/step - loss: 0.0057 - rmse: 0.0872\n",
            "Epoch 402/500\n",
            "15/15 [==============================] - 0s 30ms/step - loss: 0.0057 - rmse: 0.0831\n",
            "Epoch 403/500\n",
            "15/15 [==============================] - 0s 32ms/step - loss: 0.0060 - rmse: 0.0856\n",
            "Epoch 404/500\n",
            "15/15 [==============================] - 0s 32ms/step - loss: 0.0073 - rmse: 0.0921\n",
            "Epoch 405/500\n",
            "15/15 [==============================] - 0s 29ms/step - loss: 0.0089 - rmse: 0.1013\n",
            "Epoch 406/500\n",
            "15/15 [==============================] - 0s 30ms/step - loss: 0.0067 - rmse: 0.0901\n",
            "Epoch 407/500\n",
            "15/15 [==============================] - 0s 28ms/step - loss: 0.0075 - rmse: 0.0935\n",
            "Epoch 408/500\n",
            "15/15 [==============================] - 0s 29ms/step - loss: 0.0053 - rmse: 0.0826\n",
            "Epoch 409/500\n",
            "15/15 [==============================] - 0s 32ms/step - loss: 0.0056 - rmse: 0.0828\n",
            "Epoch 410/500\n",
            "15/15 [==============================] - 0s 31ms/step - loss: 0.0044 - rmse: 0.0693\n",
            "Epoch 411/500\n",
            "15/15 [==============================] - 0s 29ms/step - loss: 0.0061 - rmse: 0.0877\n",
            "Epoch 412/500\n",
            "15/15 [==============================] - 0s 29ms/step - loss: 0.0069 - rmse: 0.0931\n",
            "Epoch 413/500\n",
            "15/15 [==============================] - 0s 30ms/step - loss: 0.0078 - rmse: 0.0978\n",
            "Epoch 414/500\n",
            "15/15 [==============================] - 0s 30ms/step - loss: 0.0052 - rmse: 0.0824\n",
            "Epoch 415/500\n",
            "15/15 [==============================] - 0s 30ms/step - loss: 0.0053 - rmse: 0.0763\n",
            "Epoch 416/500\n",
            "15/15 [==============================] - 0s 29ms/step - loss: 0.0068 - rmse: 0.0918\n",
            "Epoch 417/500\n",
            "15/15 [==============================] - 0s 32ms/step - loss: 0.0059 - rmse: 0.0921\n",
            "Epoch 418/500\n",
            "15/15 [==============================] - 0s 30ms/step - loss: 0.0048 - rmse: 0.0771\n",
            "Epoch 419/500\n",
            "15/15 [==============================] - 0s 30ms/step - loss: 0.0052 - rmse: 0.0827\n",
            "Epoch 420/500\n",
            "15/15 [==============================] - 0s 31ms/step - loss: 0.0087 - rmse: 0.1104\n",
            "Epoch 421/500\n",
            "15/15 [==============================] - 0s 29ms/step - loss: 0.0108 - rmse: 0.1119\n",
            "Epoch 422/500\n",
            "15/15 [==============================] - 0s 30ms/step - loss: 0.0052 - rmse: 0.0768\n",
            "Epoch 423/500\n",
            "15/15 [==============================] - 0s 29ms/step - loss: 0.0091 - rmse: 0.0967\n",
            "Epoch 424/500\n",
            "15/15 [==============================] - 0s 31ms/step - loss: 0.0067 - rmse: 0.0890\n",
            "Epoch 425/500\n",
            "15/15 [==============================] - 0s 28ms/step - loss: 0.0128 - rmse: 0.1248\n",
            "Epoch 426/500\n",
            "15/15 [==============================] - 0s 29ms/step - loss: 0.0151 - rmse: 0.1401\n",
            "Epoch 427/500\n",
            "15/15 [==============================] - 0s 28ms/step - loss: 0.0122 - rmse: 0.1200\n",
            "Epoch 428/500\n",
            "15/15 [==============================] - 0s 31ms/step - loss: 0.0167 - rmse: 0.1325\n",
            "Epoch 429/500\n",
            "15/15 [==============================] - 0s 29ms/step - loss: 0.0231 - rmse: 0.1644\n",
            "Epoch 430/500\n",
            "15/15 [==============================] - 0s 30ms/step - loss: 0.0160 - rmse: 0.1359\n",
            "Epoch 431/500\n",
            "15/15 [==============================] - 0s 28ms/step - loss: 0.0089 - rmse: 0.0980\n",
            "Epoch 432/500\n",
            "15/15 [==============================] - 0s 27ms/step - loss: 0.0074 - rmse: 0.0987\n",
            "Epoch 433/500\n",
            "15/15 [==============================] - 0s 28ms/step - loss: 0.0084 - rmse: 0.1011\n",
            "Epoch 434/500\n",
            "15/15 [==============================] - 0s 28ms/step - loss: 0.0175 - rmse: 0.1489\n",
            "Epoch 435/500\n",
            "15/15 [==============================] - 0s 29ms/step - loss: 0.0082 - rmse: 0.1026\n",
            "Epoch 436/500\n",
            "15/15 [==============================] - 0s 27ms/step - loss: 0.0090 - rmse: 0.1007\n",
            "Epoch 437/500\n",
            "15/15 [==============================] - 0s 28ms/step - loss: 0.0080 - rmse: 0.1035\n",
            "Epoch 438/500\n",
            "15/15 [==============================] - 0s 29ms/step - loss: 0.0072 - rmse: 0.0885\n",
            "Epoch 439/500\n",
            "15/15 [==============================] - 0s 28ms/step - loss: 0.0171 - rmse: 0.1386\n",
            "Epoch 440/500\n",
            "15/15 [==============================] - 0s 28ms/step - loss: 0.0102 - rmse: 0.1176\n",
            "Epoch 441/500\n",
            "15/15 [==============================] - 0s 28ms/step - loss: 0.0135 - rmse: 0.1292\n",
            "Epoch 442/500\n",
            "15/15 [==============================] - 0s 28ms/step - loss: 0.0090 - rmse: 0.1053\n",
            "Epoch 443/500\n",
            "15/15 [==============================] - 0s 29ms/step - loss: 0.0093 - rmse: 0.1062\n",
            "Epoch 444/500\n",
            "15/15 [==============================] - 0s 29ms/step - loss: 0.0075 - rmse: 0.0930\n",
            "Epoch 445/500\n",
            "15/15 [==============================] - 0s 28ms/step - loss: 0.0071 - rmse: 0.0883\n",
            "Epoch 446/500\n",
            "15/15 [==============================] - 0s 30ms/step - loss: 0.0078 - rmse: 0.0961\n",
            "Epoch 447/500\n",
            "15/15 [==============================] - 0s 30ms/step - loss: 0.0085 - rmse: 0.1038\n",
            "Epoch 448/500\n",
            "15/15 [==============================] - 0s 29ms/step - loss: 0.0078 - rmse: 0.0901\n",
            "Epoch 449/500\n",
            "15/15 [==============================] - 0s 30ms/step - loss: 0.0077 - rmse: 0.0967\n",
            "Epoch 450/500\n",
            "15/15 [==============================] - 0s 28ms/step - loss: 0.0075 - rmse: 0.0911\n",
            "Epoch 451/500\n",
            "15/15 [==============================] - 0s 27ms/step - loss: 0.0084 - rmse: 0.1007\n",
            "Epoch 452/500\n",
            "15/15 [==============================] - 0s 29ms/step - loss: 0.0072 - rmse: 0.0913\n",
            "Epoch 453/500\n",
            "15/15 [==============================] - 0s 27ms/step - loss: 0.0057 - rmse: 0.0862\n",
            "Epoch 454/500\n",
            "15/15 [==============================] - 0s 28ms/step - loss: 0.0098 - rmse: 0.1078\n",
            "Epoch 455/500\n",
            "15/15 [==============================] - 0s 28ms/step - loss: 0.0083 - rmse: 0.1036\n",
            "Epoch 456/500\n",
            "15/15 [==============================] - 0s 29ms/step - loss: 0.0089 - rmse: 0.1094\n",
            "Epoch 457/500\n",
            "15/15 [==============================] - 0s 29ms/step - loss: 0.0100 - rmse: 0.1175\n",
            "Epoch 458/500\n",
            "15/15 [==============================] - 0s 32ms/step - loss: 0.0078 - rmse: 0.1008\n",
            "Epoch 459/500\n",
            "15/15 [==============================] - 0s 29ms/step - loss: 0.0095 - rmse: 0.1081\n",
            "Epoch 460/500\n",
            "15/15 [==============================] - 0s 29ms/step - loss: 0.0087 - rmse: 0.1055\n",
            "Epoch 461/500\n",
            "15/15 [==============================] - 0s 28ms/step - loss: 0.0091 - rmse: 0.1068\n",
            "Epoch 462/500\n",
            "15/15 [==============================] - 0s 27ms/step - loss: 0.0081 - rmse: 0.1051\n",
            "Epoch 463/500\n",
            "15/15 [==============================] - 0s 28ms/step - loss: 0.0096 - rmse: 0.1181\n",
            "Epoch 464/500\n",
            "15/15 [==============================] - 0s 27ms/step - loss: 0.0067 - rmse: 0.0950\n",
            "Epoch 465/500\n",
            "15/15 [==============================] - 0s 29ms/step - loss: 0.0057 - rmse: 0.0815\n",
            "Epoch 466/500\n",
            "15/15 [==============================] - 0s 28ms/step - loss: 0.0090 - rmse: 0.1057\n",
            "Epoch 467/500\n",
            "15/15 [==============================] - 0s 31ms/step - loss: 0.0087 - rmse: 0.1079\n",
            "Epoch 468/500\n",
            "15/15 [==============================] - 0s 29ms/step - loss: 0.0033 - rmse: 0.0636\n",
            "Epoch 469/500\n",
            "15/15 [==============================] - 0s 28ms/step - loss: 0.0053 - rmse: 0.0824\n",
            "Epoch 470/500\n",
            "15/15 [==============================] - 0s 29ms/step - loss: 0.0065 - rmse: 0.0914\n",
            "Epoch 471/500\n",
            "15/15 [==============================] - 0s 28ms/step - loss: 0.0040 - rmse: 0.0687\n",
            "Epoch 472/500\n",
            "15/15 [==============================] - 0s 29ms/step - loss: 0.0032 - rmse: 0.0604\n",
            "Epoch 473/500\n",
            "15/15 [==============================] - 0s 27ms/step - loss: 0.0061 - rmse: 0.0883\n",
            "Epoch 474/500\n",
            "15/15 [==============================] - 0s 29ms/step - loss: 0.0079 - rmse: 0.0982\n",
            "Epoch 475/500\n",
            "15/15 [==============================] - 0s 28ms/step - loss: 0.0056 - rmse: 0.0829\n",
            "Epoch 476/500\n",
            "15/15 [==============================] - 0s 27ms/step - loss: 0.0066 - rmse: 0.0919\n",
            "Epoch 477/500\n",
            "15/15 [==============================] - 0s 28ms/step - loss: 0.0057 - rmse: 0.0881\n",
            "Epoch 478/500\n",
            "15/15 [==============================] - 0s 29ms/step - loss: 0.0069 - rmse: 0.0941\n",
            "Epoch 479/500\n",
            "15/15 [==============================] - 0s 28ms/step - loss: 0.0054 - rmse: 0.0781\n",
            "Epoch 480/500\n",
            "15/15 [==============================] - 0s 29ms/step - loss: 0.0056 - rmse: 0.0846\n",
            "Epoch 481/500\n",
            "15/15 [==============================] - 0s 29ms/step - loss: 0.0096 - rmse: 0.1145\n",
            "Epoch 482/500\n",
            "15/15 [==============================] - 0s 31ms/step - loss: 0.0081 - rmse: 0.0976\n",
            "Epoch 483/500\n",
            "15/15 [==============================] - 0s 28ms/step - loss: 0.0094 - rmse: 0.1064\n",
            "Epoch 484/500\n",
            "15/15 [==============================] - 0s 28ms/step - loss: 0.0091 - rmse: 0.1086\n",
            "Epoch 485/500\n",
            "15/15 [==============================] - 0s 29ms/step - loss: 0.0051 - rmse: 0.0745\n",
            "Epoch 486/500\n",
            "15/15 [==============================] - 0s 29ms/step - loss: 0.0069 - rmse: 0.0904\n",
            "Epoch 487/500\n",
            "15/15 [==============================] - 0s 29ms/step - loss: 0.0048 - rmse: 0.0795\n",
            "Epoch 488/500\n",
            "15/15 [==============================] - 0s 29ms/step - loss: 0.0053 - rmse: 0.0766\n",
            "Epoch 489/500\n",
            "15/15 [==============================] - 0s 28ms/step - loss: 0.0056 - rmse: 0.0852\n",
            "Epoch 490/500\n",
            "15/15 [==============================] - 0s 32ms/step - loss: 0.0077 - rmse: 0.0997\n",
            "Epoch 491/500\n",
            "15/15 [==============================] - 0s 31ms/step - loss: 0.0056 - rmse: 0.0758\n",
            "Epoch 492/500\n",
            "15/15 [==============================] - 0s 28ms/step - loss: 0.0092 - rmse: 0.0978\n",
            "Epoch 493/500\n",
            "15/15 [==============================] - 0s 29ms/step - loss: 0.0047 - rmse: 0.0772\n",
            "Epoch 494/500\n",
            "15/15 [==============================] - 0s 28ms/step - loss: 0.0102 - rmse: 0.1127\n",
            "Epoch 495/500\n",
            "15/15 [==============================] - 0s 29ms/step - loss: 0.0086 - rmse: 0.0999\n",
            "Epoch 496/500\n",
            "15/15 [==============================] - 0s 32ms/step - loss: 0.0046 - rmse: 0.0682\n",
            "Epoch 497/500\n",
            "15/15 [==============================] - 0s 28ms/step - loss: 0.0045 - rmse: 0.0742\n",
            "Epoch 498/500\n",
            "15/15 [==============================] - 0s 31ms/step - loss: 0.0112 - rmse: 0.1200\n",
            "Epoch 499/500\n",
            "15/15 [==============================] - 0s 30ms/step - loss: 0.0067 - rmse: 0.0912\n",
            "Epoch 500/500\n",
            "15/15 [==============================] - 0s 29ms/step - loss: 0.0074 - rmse: 0.0951\n"
          ],
          "name": "stdout"
        },
        {
          "output_type": "execute_result",
          "data": {
            "text/plain": [
              "<tensorflow.python.keras.callbacks.History at 0x7f5c9eae7fd0>"
            ]
          },
          "metadata": {
            "tags": []
          },
          "execution_count": 32
        }
      ]
    },
    {
      "cell_type": "markdown",
      "metadata": {
        "id": "QY5hIdSi-CNU"
      },
      "source": [
        "## Cross-Validating the model"
      ],
      "id": "QY5hIdSi-CNU"
    },
    {
      "cell_type": "markdown",
      "metadata": {
        "id": "FhHsXaiF-CNU"
      },
      "source": [
        "Extracting the data for test dataset, and performing the same operation as performed on training data. And, combining the dataset, and from this combined dataset extracting the data which will be given as input to the model.<br><br>\n",
        "The reason for the above process is, to predict the first few predictions, we also need past data that is available in training dataset, so we combine that required data with our test data and then pass it to the model.\n",
        "         "
      ],
      "id": "FhHsXaiF-CNU"
    },
    {
      "cell_type": "code",
      "metadata": {
        "id": "dpPyE0L7-CNU",
        "colab": {
          "base_uri": "https://localhost:8080/"
        },
        "outputId": "81492c42-6635-4c72-a5da-cc014ef50dc9"
      },
      "source": [
        "test_start = dt.datetime.now()-dt.timedelta(days=50)\n",
        "test_end = dt.datetime.now()\n",
        "\n",
        "test_data = pdr.get_data_yahoo(\"BNB-USD\", test_start, test_end)\n",
        "\n",
        "final_test = pd.DataFrame()\n",
        "final_test['Close_Open'] = test_data['Close'] - test_data['Open']\n",
        "final_test['High_Low'] = test_data['High'] - test_data['Low']\n",
        "final_test['t1'] = np.power(test_data[\"High\"]-test_data[\"Low\"],3)\n",
        "final_test['Close'] = test_data['Close']\n",
        "\n",
        "total_dataset = pd.concat((final_data,final_test),axis=0)\n",
        "model_inputs = total_dataset[len(total_dataset) - len(test_data)-prediction_days:]\n",
        "# model_inputs=difference(np.log10((model_inputs))).to_numpy()\n",
        "# model_inputs = model_inputs\n",
        "model_inputs = np.concatenate((scaler.transform(model_inputs.iloc[:,:3]), scaler_close.transform(model_inputs.iloc[:,3:4])),axis=1)\n",
        "actual_prices = scaler_close.inverse_transform(model_inputs[prediction_days:,3].reshape(-1,1))# difference(np.log10((test_data['Close']))).to_numpy()\n",
        "\n",
        "x_test = []\n",
        "for x in range(prediction_days, len(model_inputs)):\n",
        "    x_test.append(model_inputs[x-prediction_days:x])\n",
        "x_test = np.array(x_test)\n",
        "# x_test = np.reshape(x_test, (x_test.shape[0], x_test.shape[1],1))"
      ],
      "id": "dpPyE0L7-CNU",
      "execution_count": 77,
      "outputs": [
        {
          "output_type": "stream",
          "text": [
            "\r[*********************100%***********************]  1 of 1 completed\n"
          ],
          "name": "stdout"
        }
      ]
    },
    {
      "cell_type": "markdown",
      "metadata": {
        "id": "Ie4oSryn-CNU"
      },
      "source": [
        "Predicting the prices using x_test, and comparing it with the actual prices"
      ],
      "id": "Ie4oSryn-CNU"
    },
    {
      "cell_type": "code",
      "metadata": {
        "id": "PdJvzBnJ-CNV",
        "colab": {
          "base_uri": "https://localhost:8080/",
          "height": 295
        },
        "outputId": "6650d609-c55b-4b38-8118-329038e91a82"
      },
      "source": [
        "prediction_prices = model.predict(x_test)\n",
        "prediction_prices = scaler_close.inverse_transform(prediction_prices)\n",
        "# prediction_prices = scaler.inverse_transform(prediction_prices)\n",
        "# prediction_prices = scaler.inverse_transform(prediction_prices) \n",
        "plt.plot(actual_prices,color='black', label='Actual Prices')\n",
        "plt.plot(prediction_prices, color='green', label='Predicted Prices')\n",
        "plt.title(f'{crypto_currency} price prediction')\n",
        "plt.xlabel('Time')\n",
        "plt.ylabel('Price')\n",
        "# plt.legend(loc='lower left')\n",
        "plt.show()"
      ],
      "id": "PdJvzBnJ-CNV",
      "execution_count": 79,
      "outputs": [
        {
          "output_type": "display_data",
          "data": {
            "image/png": "[encoded data removed]",
            "text/plain": [
              "<Figure size 432x288 with 1 Axes>"
            ]
          },
          "metadata": {
            "tags": [],
            "needs_background": "light"
          }
        }
      ]
    },
    {
      "cell_type": "markdown",
      "metadata": {
        "id": "siAvsr4X-CNV"
      },
      "source": [
        "Comparing the RMSE scores of predicting on Training dataset vs Test Dataset.This will help us to check overfitting and improving our models."
      ],
      "id": "siAvsr4X-CNV"
    },
    {
      "cell_type": "code",
      "metadata": {
        "id": "2r0S-HxI-CNV",
        "colab": {
          "base_uri": "https://localhost:8080/",
          "height": 315
        },
        "outputId": "09bc3673-b81d-44da-a466-0914e1e01384"
      },
      "source": [
        "# # Predict Next Day\n",
        "# real_data = [model_inputs[len(model_inputs) +1 - prediction_days: len(model_inputs) + 1,0]]\n",
        "# real_data = np.reshape(real_data,-1)\n",
        "# real_data = np.reshape(real_data, (real_data.shape))\n",
        "# prediction = model.predict(real_data)\n",
        "# prediction = scaler.inverse_transform(prediction)\n",
        "# print()\n",
        "# (prediction_prices)\n",
        "# plottiong training dataset  \n",
        "test = model.evaluate(x_test,actual_prices,verbose=0)[1];\n",
        "train = model.evaluate(x_train,y_train,verbose=0)[1];\n",
        "print(\"Test Data (RMSE) : \", test);\n",
        "print(\"Train Data (RMSE) : \", train);\n",
        "plt.plot(model.predict(x_train))\n",
        "plt.plot(y_train)"
      ],
      "id": "2r0S-HxI-CNV",
      "execution_count": 80,
      "outputs": [
        {
          "output_type": "stream",
          "text": [
            "Test Data (RMSE) :  328.23980712890625\n",
            "Train Data (RMSE) :  0.06388778984546661\n"
          ],
          "name": "stdout"
        },
        {
          "output_type": "execute_result",
          "data": {
            "text/plain": [
              "[<matplotlib.lines.Line2D at 0x7f5c99af87d0>]"
            ]
          },
          "metadata": {
            "tags": []
          },
          "execution_count": 80
        },
        {
          "output_type": "display_data",
          "data": {
            "image/png": "[encoded data removed]",
            "text/plain": [
              "<Figure size 432x288 with 1 Axes>"
            ]
          },
          "metadata": {
            "tags": [],
            "needs_background": "light"
          }
        }
      ]
    },
    {
      "cell_type": "markdown",
      "metadata": {
        "id": "pZNBmgTn-CNV"
      },
      "source": [
        "## Notes\n",
        "for 1000 epochs, model is overfitting, 500 seems fine to me. Might decrease the epochs from 500\n",
        "Optimizer and loss are alright to i guess.\n",
        "activation function is next (marked in to-do in github projects)"
      ],
      "id": "pZNBmgTn-CNV"
    },
    {
      "cell_type": "markdown",
      "metadata": {
        "id": "KvW_5BWE-CNV"
      },
      "source": [
        "## Playground for trying various combination before they are finally incorporated into the notebook"
      ],
      "id": "KvW_5BWE-CNV"
    },
    {
      "cell_type": "code",
      "metadata": {
        "id": "hBDsoDPg-CNW",
        "outputId": "a50f334a-0f09-4df5-941d-7fd98ea11b70"
      },
      "source": [
        "re = data['Close']).reshape(-1,1)\n",
        "data2 = scaler.fit_transform(re)\n",
        "# data2[3:]\n",
        "plt.plot(difference(np.log10((data2))).to_numpy(),color='black', label='Actual Prices')"
      ],
      "id": "hBDsoDPg-CNW",
      "execution_count": null,
      "outputs": [
        {
          "output_type": "error",
          "ename": "SyntaxError",
          "evalue": "unmatched ')' (<ipython-input-67-9cbb75c363d4>, line 1)",
          "traceback": [
            "\u001b[0;36m  File \u001b[0;32m\"<ipython-input-67-9cbb75c363d4>\"\u001b[0;36m, line \u001b[0;32m1\u001b[0m\n\u001b[0;31m    re = data['Close']).reshape(-1,1)\u001b[0m\n\u001b[0m                      ^\u001b[0m\n\u001b[0;31mSyntaxError\u001b[0m\u001b[0;31m:\u001b[0m unmatched ')'\n"
          ]
        }
      ]
    },
    {
      "cell_type": "code",
      "metadata": {
        "id": "4p_TDNQr-CNW"
      },
      "source": [
        "pd.Series(np.array(boxcox(data['Close'])))"
      ],
      "id": "4p_TDNQr-CNW",
      "execution_count": null,
      "outputs": []
    },
    {
      "cell_type": "code",
      "metadata": {
        "id": "IRmHp72D-CNW"
      },
      "source": [
        "# plt.plot(data['Open'])\n",
        "# plt.plot(data['Close'])\n",
        "plt.plot(data['High'] - data['Low'])\n",
        "plt.plot(data['Close'] - data['Open'])\n",
        "# plt.plot(data['Close'] - data['High'])\n",
        "# plt.plot(data['Close'] - data['Low'])\n",
        "# plt.plot(data['Low'])"
      ],
      "id": "IRmHp72D-CNW",
      "execution_count": null,
      "outputs": []
    },
    {
      "cell_type": "code",
      "metadata": {
        "id": "mB-m3grs-CNW"
      },
      "source": [
        "# #creating neural netowrk  Good Model\n",
        "# model = Sequential()                # could make units 50, for better prediction\n",
        "# model.add(LSTM(units=500, return_sequences=True, input_shape=(x_train.shape[1],x_train.shape[2]), activation=\"relu\" ))\n",
        "# # model.add(Dropout(0.2))\n",
        "# model.add(LSTM(units=500, activation=\"relu\"))\n",
        "# # model.add(Dropout(0.2))\n",
        "# # model.add(LSTM(units=50,activation=\"relu\"))\n",
        "# # model.add(Dense(units=100, activation=\"relu\"))\n",
        "# # model.add(Dropout(0.2))\n",
        "\n",
        "# model.add(Dense(units=1,activation=\"relu\"))\n",
        "# model.compile(optimizer='adam', loss='mean_squared_error',metrics=[rmse])\n",
        "# model.fit(x_train,y_train, epochs=100, batch_size=10)"
      ],
      "id": "mB-m3grs-CNW",
      "execution_count": null,
      "outputs": []
    },
    {
      "cell_type": "code",
      "metadata": {
        "id": "EW7kQPzD-CNW"
      },
      "source": [
        "# best model till now\n",
        "model = Sequential()                # could make units 50, for better prediction\n",
        "# model.add(LayerNormalization())     # Normalizing the input data \n",
        "# First LSTM layer\n",
        "model.add(LSTM(units=50,return_sequences=True,input_shape=(x_train.shape[1],x_train.shape[2]),activation=\"relu\",unroll=True))\n",
        "# model.add(Dropout(0.1))    # Removing some of the data from the previous layer to avoid overfitting\n",
        "model.add(BatchNormalization())\n",
        "model.add(LSTM(units=50, activation=\"relu\",unroll=True,return_sequences=True))#, return_sequences=True))    # Second LSTM Layer\n",
        "# model.add(Dropout(0.1))\n",
        "model.add(BatchNormalization())\n",
        "model.add(LSTM(units=50, return_sequences=True))\n",
        "# model.add(Dropout(0.1))\n",
        "model.add(BatchNormalization())\n",
        "model.add(LSTM(units=50, return_sequences=True))\n",
        "# model.add(Dropout(0.1))\n",
        "model.add(BatchNormalization())\n",
        "model.add(LSTM(units=50, return_sequences=True))\n",
        "# model.add(Dropout(0.1))\n",
        "model.add(BatchNormalization())\n",
        "model.add(LSTM(units=50, return_sequences=True))\n",
        "# model.add(Dropout(0.1))\n",
        "# model.add(LSTM(units=50, return_sequences=True))\n",
        "# model.add(Dropout(0.1))\n",
        "# model.add(LSTM(units=50, return_sequences=True))\n",
        "# model.add(Dropout(0.1))\n",
        "# model.add(LSTM(units=50, return_sequences=True))\n",
        "# model.add(Dropout(0.1))\n",
        "model.add(BatchNormalization())\n",
        "model.add(LSTM(units=50))\n",
        "# model.add(Dropout(0.1))\n",
        "model.add(BatchNormalization())\n",
        "## \n",
        "# model.add(Dropout(0.1))\n",
        "# model.add(LSTM(units=50,activation=\"relu\"))\n",
        "# model.add(Dense(units=500, activation=\"relu\"))\n",
        "# model.add(Dropout(0.2))\n",
        "\n",
        "model.add(Dense(units=1))  # Final LSTM Layer of unit=1, cause we have just one Output, that is, Closing Price\n",
        "model.compile(optimizer='adam', loss=tf.keras.losses.Huber(delta=1),metrics=[rmse])   # Compiling, optimizer and loss can be changed to optimize the model for our specific purpose\n",
        "model.fit(x_train,y_train, epochs=80, batch_size=10)"
      ],
      "id": "EW7kQPzD-CNW",
      "execution_count": null,
      "outputs": []
    }
  ]
}