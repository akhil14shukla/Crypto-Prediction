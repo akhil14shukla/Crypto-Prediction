{
 "cells": [
  {
   "cell_type": "code",
   "execution_count": 228,
   "id": "d62efca1",
   "metadata": {},
   "outputs": [],
   "source": [
    "import pandas  as pd \n",
    "import numpy as np\n",
    "import matplotlib.pyplot as plt \n",
    "import pandas_datareader as web\n",
    "import datetime as dt \n",
    "\n",
    "from sklearn.preprocessing import MinMaxScaler\n",
    "from tensorflow.keras.layers import Dense, Dropout, LSTM\n",
    "from tensorflow.keras.models import Sequential"
   ]
  },
  {
   "cell_type": "code",
   "execution_count": 229,
   "metadata": {},
   "outputs": [],
   "source": [
    "crypto_currency = 'BNB'\n",
    "against_currency ='USD'"
   ]
  },
  {
   "cell_type": "code",
   "execution_count": 230,
   "metadata": {},
   "outputs": [],
   "source": [
    "start = dt.datetime(2021,1,1)\n",
    "end = dt.datetime.now()#-dt.timedelta(days=50)"
   ]
  },
  {
   "cell_type": "code",
   "execution_count": 231,
   "metadata": {},
   "outputs": [],
   "source": [
    "data = web.DataReader(f'{crypto_currency}-{against_currency}','yahoo',start, end)"
   ]
  },
  {
   "cell_type": "code",
   "execution_count": 232,
   "metadata": {},
   "outputs": [],
   "source": [
    "def difference(data, interval=1):\n",
    "\treturn [data[i] - data[i - interval] for i in range(interval, len(data))]\n",
    "def invert_difference(orig_data, diff_data, interval=1):\n",
    "\treturn [diff_data[i-interval] + orig_data[i-interval] for i in range(interval, len(orig_data))]"
   ]
  },
  {
   "cell_type": "code",
   "execution_count": 234,
   "metadata": {},
   "outputs": [],
   "source": [
    "# Prepare Data\n",
    "# scaler = MinMaxScaler(feature_range=(0,1))\n",
    "# scaled_data = scaler.fit_transform(data['Close'].values.reshape(-1,1))\n",
    "scaled_data = difference(np.log10((data['Close']))).to_numpy()\n",
    "# new = difference((data['Close'],1)\n",
    "prediction_days = 10\n",
    "future_days=0\n",
    "x_train, y_train = [], []\n",
    "\n",
    "for x in range(prediction_days, len(scaled_data)-future_days):\n",
    "    x_train.append(scaled_data[x-prediction_days:x])\n",
    "    y_train.append(scaled_data[x+future_days])\n",
    "x_train, y_train = np.array(x_train), np.array(y_train)\n",
    "x_train = np.reshape(x_train, (x_train.shape[0], x_train.shape[1],1))\n",
    "# y_train = np.reshape(y_train, (y_train.shape[0], y_train.shape[1],1))"
   ]
  },
  {
   "cell_type": "code",
   "execution_count": 235,
   "metadata": {},
   "outputs": [
    {
     "output_type": "execute_result",
     "data": {
      "text/plain": [
       "range(10, 171)"
      ]
     },
     "metadata": {},
     "execution_count": 235
    }
   ],
   "source": [
    "range(prediction_days, len(scaled_data))"
   ]
  },
  {
   "cell_type": "code",
   "execution_count": 74,
   "metadata": {},
   "outputs": [],
   "source": []
  },
  {
   "cell_type": "code",
   "execution_count": 236,
   "metadata": {},
   "outputs": [
    {
     "output_type": "stream",
     "name": "stdout",
     "text": [
      "Epoch 1/25\n",
      "6/6 [==============================] - 4s 16ms/step - loss: 0.0019\n",
      "Epoch 2/25\n",
      "6/6 [==============================] - 0s 20ms/step - loss: 0.0019\n",
      "Epoch 3/25\n",
      "6/6 [==============================] - 0s 14ms/step - loss: 0.0019\n",
      "Epoch 4/25\n",
      "6/6 [==============================] - 0s 14ms/step - loss: 0.0018\n",
      "Epoch 5/25\n",
      "6/6 [==============================] - 0s 16ms/step - loss: 0.0019\n",
      "Epoch 6/25\n",
      "6/6 [==============================] - 0s 17ms/step - loss: 0.0019\n",
      "Epoch 7/25\n",
      "6/6 [==============================] - 0s 16ms/step - loss: 0.0019\n",
      "Epoch 8/25\n",
      "6/6 [==============================] - 0s 19ms/step - loss: 0.0023\n",
      "Epoch 9/25\n",
      "6/6 [==============================] - 0s 15ms/step - loss: 0.0021\n",
      "Epoch 10/25\n",
      "6/6 [==============================] - 0s 16ms/step - loss: 0.0019\n",
      "Epoch 11/25\n",
      "6/6 [==============================] - 0s 18ms/step - loss: 0.0019\n",
      "Epoch 12/25\n",
      "6/6 [==============================] - 0s 16ms/step - loss: 0.0019\n",
      "Epoch 13/25\n",
      "6/6 [==============================] - 0s 15ms/step - loss: 0.0019\n",
      "Epoch 14/25\n",
      "6/6 [==============================] - 0s 16ms/step - loss: 0.0019\n",
      "Epoch 15/25\n",
      "6/6 [==============================] - 0s 15ms/step - loss: 0.0018\n",
      "Epoch 16/25\n",
      "6/6 [==============================] - 0s 15ms/step - loss: 0.0019\n",
      "Epoch 17/25\n",
      "6/6 [==============================] - 0s 19ms/step - loss: 0.0019\n",
      "Epoch 18/25\n",
      "6/6 [==============================] - 0s 17ms/step - loss: 0.0019\n",
      "Epoch 19/25\n",
      "6/6 [==============================] - 0s 16ms/step - loss: 0.0018\n",
      "Epoch 20/25\n",
      "6/6 [==============================] - 0s 16ms/step - loss: 0.0019\n",
      "Epoch 21/25\n",
      "6/6 [==============================] - 0s 22ms/step - loss: 0.0019\n",
      "Epoch 22/25\n",
      "6/6 [==============================] - 0s 18ms/step - loss: 0.0019\n",
      "Epoch 23/25\n",
      "6/6 [==============================] - 0s 15ms/step - loss: 0.0019\n",
      "Epoch 24/25\n",
      "6/6 [==============================] - 0s 14ms/step - loss: 0.0019\n",
      "Epoch 25/25\n",
      "6/6 [==============================] - 0s 16ms/step - loss: 0.0018\n"
     ]
    },
    {
     "output_type": "execute_result",
     "data": {
      "text/plain": [
       "<tensorflow.python.keras.callbacks.History at 0x7fba906e0d60>"
      ]
     },
     "metadata": {},
     "execution_count": 236
    }
   ],
   "source": [
    "#creating neural netowrk\n",
    "model = Sequential()\n",
    "model.add(LSTM(units=50, return_sequences=True, input_shape=(x_train.shape[1],1)))\n",
    "model.add(Dropout(0.2))\n",
    "model.add(LSTM(units=50,return_sequences=True))\n",
    "model.add(Dropout(0.2))\n",
    "model.add(LSTM(units=50))\n",
    "model.add(Dropout(0.2))\n",
    "model.add(Dense(units=1))\n",
    "model.compile(optimizer='adam', loss='mean_squared_error')\n",
    "model.fit(x_train,y_train, epochs=25, batch_size=32)"
   ]
  },
  {
   "cell_type": "code",
   "execution_count": 226,
   "metadata": {},
   "outputs": [
    {
     "output_type": "display_data",
     "data": {
      "text/plain": "<Figure size 432x288 with 1 Axes>",
      "image/svg+xml": "<?xml version=\"1.0\" encoding=\"utf-8\" standalone=\"no\"?>\n<!DOCTYPE svg PUBLIC \"-//W3C//DTD SVG 1.1//EN\"\n  \"http://www.w3.org/Graphics/SVG/1.1/DTD/svg11.dtd\">\n<svg height=\"277.314375pt\" version=\"1.1\" viewBox=\"0 0 403.800877 277.314375\" width=\"403.800877pt\" xmlns=\"http://www.w3.org/2000/svg\" xmlns:xlink=\"http://www.w3.org/1999/xlink\">\n <metadata>\n  <rdf:RDF xmlns:cc=\"http://creativecommons.org/ns#\" xmlns:dc=\"http://purl.org/dc/elements/1.1/\" xmlns:rdf=\"http://www.w3.org/1999/02/22-rdf-syntax-ns#\">\n   <cc:Work>\n    <dc:type rdf:resource=\"http://purl.org/dc/dcmitype/StillImage\"/>\n    <dc:date>2021-06-20T20:19:29.061862</dc:date>\n    <dc:format>image/svg+xml</dc:format>\n    <dc:creator>\n     <cc:Agent>\n      <dc:title>Matplotlib v3.4.1, https://matplotlib.org/</dc:title>\n     </cc:Agent>\n    </dc:creator>\n   </cc:Work>\n  </rdf:RDF>\n </metadata>\n <defs>\n  <style type=\"text/css\">*{stroke-linecap:butt;stroke-linejoin:round;}</style>\n </defs>\n <g id=\"figure_1\">\n  <g id=\"patch_1\">\n   <path d=\"M 0 277.314375 \nL 403.800877 277.314375 \nL 403.800877 0 \nL 0 0 \nz\n\" style=\"fill:none;\"/>\n  </g>\n  <g id=\"axes_1\">\n   <g id=\"patch_2\">\n    <path d=\"M 58.523438 239.758125 \nL 393.323438 239.758125 \nL 393.323438 22.318125 \nL 58.523438 22.318125 \nz\n\" style=\"fill:#ffffff;\"/>\n   </g>\n   <g id=\"matplotlib.axis_1\">\n    <g id=\"xtick_1\">\n     <g id=\"line2d_1\">\n      <defs>\n       <path d=\"M 0 0 \nL 0 3.5 \n\" id=\"m3ed2bca2ad\" style=\"stroke:#000000;stroke-width:0.8;\"/>\n      </defs>\n      <g>\n       <use style=\"stroke:#000000;stroke-width:0.8;\" x=\"73.741619\" xlink:href=\"#m3ed2bca2ad\" y=\"239.758125\"/>\n      </g>\n     </g>\n     <g id=\"text_1\">\n      <!-- 0 -->\n      <g transform=\"translate(70.560369 254.356562)scale(0.1 -0.1)\">\n       <defs>\n        <path d=\"M 2034 4250 \nQ 1547 4250 1301 3770 \nQ 1056 3291 1056 2328 \nQ 1056 1369 1301 889 \nQ 1547 409 2034 409 \nQ 2525 409 2770 889 \nQ 3016 1369 3016 2328 \nQ 3016 3291 2770 3770 \nQ 2525 4250 2034 4250 \nz\nM 2034 4750 \nQ 2819 4750 3233 4129 \nQ 3647 3509 3647 2328 \nQ 3647 1150 3233 529 \nQ 2819 -91 2034 -91 \nQ 1250 -91 836 529 \nQ 422 1150 422 2328 \nQ 422 3509 836 4129 \nQ 1250 4750 2034 4750 \nz\n\" id=\"DejaVuSans-30\" transform=\"scale(0.015625)\"/>\n       </defs>\n       <use xlink:href=\"#DejaVuSans-30\"/>\n      </g>\n     </g>\n    </g>\n    <g id=\"xtick_2\">\n     <g id=\"line2d_2\">\n      <g>\n       <use style=\"stroke:#000000;stroke-width:0.8;\" x=\"118.500978\" xlink:href=\"#m3ed2bca2ad\" y=\"239.758125\"/>\n      </g>\n     </g>\n     <g id=\"text_2\">\n      <!-- 25 -->\n      <g transform=\"translate(112.138478 254.356562)scale(0.1 -0.1)\">\n       <defs>\n        <path d=\"M 1228 531 \nL 3431 531 \nL 3431 0 \nL 469 0 \nL 469 531 \nQ 828 903 1448 1529 \nQ 2069 2156 2228 2338 \nQ 2531 2678 2651 2914 \nQ 2772 3150 2772 3378 \nQ 2772 3750 2511 3984 \nQ 2250 4219 1831 4219 \nQ 1534 4219 1204 4116 \nQ 875 4013 500 3803 \nL 500 4441 \nQ 881 4594 1212 4672 \nQ 1544 4750 1819 4750 \nQ 2544 4750 2975 4387 \nQ 3406 4025 3406 3419 \nQ 3406 3131 3298 2873 \nQ 3191 2616 2906 2266 \nQ 2828 2175 2409 1742 \nQ 1991 1309 1228 531 \nz\n\" id=\"DejaVuSans-32\" transform=\"scale(0.015625)\"/>\n        <path d=\"M 691 4666 \nL 3169 4666 \nL 3169 4134 \nL 1269 4134 \nL 1269 2991 \nQ 1406 3038 1543 3061 \nQ 1681 3084 1819 3084 \nQ 2600 3084 3056 2656 \nQ 3513 2228 3513 1497 \nQ 3513 744 3044 326 \nQ 2575 -91 1722 -91 \nQ 1428 -91 1123 -41 \nQ 819 9 494 109 \nL 494 744 \nQ 775 591 1075 516 \nQ 1375 441 1709 441 \nQ 2250 441 2565 725 \nQ 2881 1009 2881 1497 \nQ 2881 1984 2565 2268 \nQ 2250 2553 1709 2553 \nQ 1456 2553 1204 2497 \nQ 953 2441 691 2322 \nL 691 4666 \nz\n\" id=\"DejaVuSans-35\" transform=\"scale(0.015625)\"/>\n       </defs>\n       <use xlink:href=\"#DejaVuSans-32\"/>\n       <use x=\"63.623047\" xlink:href=\"#DejaVuSans-35\"/>\n      </g>\n     </g>\n    </g>\n    <g id=\"xtick_3\">\n     <g id=\"line2d_3\">\n      <g>\n       <use style=\"stroke:#000000;stroke-width:0.8;\" x=\"163.260336\" xlink:href=\"#m3ed2bca2ad\" y=\"239.758125\"/>\n      </g>\n     </g>\n     <g id=\"text_3\">\n      <!-- 50 -->\n      <g transform=\"translate(156.897836 254.356562)scale(0.1 -0.1)\">\n       <use xlink:href=\"#DejaVuSans-35\"/>\n       <use x=\"63.623047\" xlink:href=\"#DejaVuSans-30\"/>\n      </g>\n     </g>\n    </g>\n    <g id=\"xtick_4\">\n     <g id=\"line2d_4\">\n      <g>\n       <use style=\"stroke:#000000;stroke-width:0.8;\" x=\"208.019694\" xlink:href=\"#m3ed2bca2ad\" y=\"239.758125\"/>\n      </g>\n     </g>\n     <g id=\"text_4\">\n      <!-- 75 -->\n      <g transform=\"translate(201.657194 254.356562)scale(0.1 -0.1)\">\n       <defs>\n        <path d=\"M 525 4666 \nL 3525 4666 \nL 3525 4397 \nL 1831 0 \nL 1172 0 \nL 2766 4134 \nL 525 4134 \nL 525 4666 \nz\n\" id=\"DejaVuSans-37\" transform=\"scale(0.015625)\"/>\n       </defs>\n       <use xlink:href=\"#DejaVuSans-37\"/>\n       <use x=\"63.623047\" xlink:href=\"#DejaVuSans-35\"/>\n      </g>\n     </g>\n    </g>\n    <g id=\"xtick_5\">\n     <g id=\"line2d_5\">\n      <g>\n       <use style=\"stroke:#000000;stroke-width:0.8;\" x=\"252.779052\" xlink:href=\"#m3ed2bca2ad\" y=\"239.758125\"/>\n      </g>\n     </g>\n     <g id=\"text_5\">\n      <!-- 100 -->\n      <g transform=\"translate(243.235302 254.356562)scale(0.1 -0.1)\">\n       <defs>\n        <path d=\"M 794 531 \nL 1825 531 \nL 1825 4091 \nL 703 3866 \nL 703 4441 \nL 1819 4666 \nL 2450 4666 \nL 2450 531 \nL 3481 531 \nL 3481 0 \nL 794 0 \nL 794 531 \nz\n\" id=\"DejaVuSans-31\" transform=\"scale(0.015625)\"/>\n       </defs>\n       <use xlink:href=\"#DejaVuSans-31\"/>\n       <use x=\"63.623047\" xlink:href=\"#DejaVuSans-30\"/>\n       <use x=\"127.246094\" xlink:href=\"#DejaVuSans-30\"/>\n      </g>\n     </g>\n    </g>\n    <g id=\"xtick_6\">\n     <g id=\"line2d_6\">\n      <g>\n       <use style=\"stroke:#000000;stroke-width:0.8;\" x=\"297.538411\" xlink:href=\"#m3ed2bca2ad\" y=\"239.758125\"/>\n      </g>\n     </g>\n     <g id=\"text_6\">\n      <!-- 125 -->\n      <g transform=\"translate(287.994661 254.356562)scale(0.1 -0.1)\">\n       <use xlink:href=\"#DejaVuSans-31\"/>\n       <use x=\"63.623047\" xlink:href=\"#DejaVuSans-32\"/>\n       <use x=\"127.246094\" xlink:href=\"#DejaVuSans-35\"/>\n      </g>\n     </g>\n    </g>\n    <g id=\"xtick_7\">\n     <g id=\"line2d_7\">\n      <g>\n       <use style=\"stroke:#000000;stroke-width:0.8;\" x=\"342.297769\" xlink:href=\"#m3ed2bca2ad\" y=\"239.758125\"/>\n      </g>\n     </g>\n     <g id=\"text_7\">\n      <!-- 150 -->\n      <g transform=\"translate(332.754019 254.356562)scale(0.1 -0.1)\">\n       <use xlink:href=\"#DejaVuSans-31\"/>\n       <use x=\"63.623047\" xlink:href=\"#DejaVuSans-35\"/>\n       <use x=\"127.246094\" xlink:href=\"#DejaVuSans-30\"/>\n      </g>\n     </g>\n    </g>\n    <g id=\"xtick_8\">\n     <g id=\"line2d_8\">\n      <g>\n       <use style=\"stroke:#000000;stroke-width:0.8;\" x=\"387.057127\" xlink:href=\"#m3ed2bca2ad\" y=\"239.758125\"/>\n      </g>\n     </g>\n     <g id=\"text_8\">\n      <!-- 175 -->\n      <g transform=\"translate(377.513377 254.356562)scale(0.1 -0.1)\">\n       <use xlink:href=\"#DejaVuSans-31\"/>\n       <use x=\"63.623047\" xlink:href=\"#DejaVuSans-37\"/>\n       <use x=\"127.246094\" xlink:href=\"#DejaVuSans-35\"/>\n      </g>\n     </g>\n    </g>\n    <g id=\"text_9\">\n     <!-- Time -->\n     <g transform=\"translate(213.689844 268.034687)scale(0.1 -0.1)\">\n      <defs>\n       <path d=\"M -19 4666 \nL 3928 4666 \nL 3928 4134 \nL 2272 4134 \nL 2272 0 \nL 1638 0 \nL 1638 4134 \nL -19 4134 \nL -19 4666 \nz\n\" id=\"DejaVuSans-54\" transform=\"scale(0.015625)\"/>\n       <path d=\"M 603 3500 \nL 1178 3500 \nL 1178 0 \nL 603 0 \nL 603 3500 \nz\nM 603 4863 \nL 1178 4863 \nL 1178 4134 \nL 603 4134 \nL 603 4863 \nz\n\" id=\"DejaVuSans-69\" transform=\"scale(0.015625)\"/>\n       <path d=\"M 3328 2828 \nQ 3544 3216 3844 3400 \nQ 4144 3584 4550 3584 \nQ 5097 3584 5394 3201 \nQ 5691 2819 5691 2113 \nL 5691 0 \nL 5113 0 \nL 5113 2094 \nQ 5113 2597 4934 2840 \nQ 4756 3084 4391 3084 \nQ 3944 3084 3684 2787 \nQ 3425 2491 3425 1978 \nL 3425 0 \nL 2847 0 \nL 2847 2094 \nQ 2847 2600 2669 2842 \nQ 2491 3084 2119 3084 \nQ 1678 3084 1418 2786 \nQ 1159 2488 1159 1978 \nL 1159 0 \nL 581 0 \nL 581 3500 \nL 1159 3500 \nL 1159 2956 \nQ 1356 3278 1631 3431 \nQ 1906 3584 2284 3584 \nQ 2666 3584 2933 3390 \nQ 3200 3197 3328 2828 \nz\n\" id=\"DejaVuSans-6d\" transform=\"scale(0.015625)\"/>\n       <path d=\"M 3597 1894 \nL 3597 1613 \nL 953 1613 \nQ 991 1019 1311 708 \nQ 1631 397 2203 397 \nQ 2534 397 2845 478 \nQ 3156 559 3463 722 \nL 3463 178 \nQ 3153 47 2828 -22 \nQ 2503 -91 2169 -91 \nQ 1331 -91 842 396 \nQ 353 884 353 1716 \nQ 353 2575 817 3079 \nQ 1281 3584 2069 3584 \nQ 2775 3584 3186 3129 \nQ 3597 2675 3597 1894 \nz\nM 3022 2063 \nQ 3016 2534 2758 2815 \nQ 2500 3097 2075 3097 \nQ 1594 3097 1305 2825 \nQ 1016 2553 972 2059 \nL 3022 2063 \nz\n\" id=\"DejaVuSans-65\" transform=\"scale(0.015625)\"/>\n      </defs>\n      <use xlink:href=\"#DejaVuSans-54\"/>\n      <use x=\"57.958984\" xlink:href=\"#DejaVuSans-69\"/>\n      <use x=\"85.742188\" xlink:href=\"#DejaVuSans-6d\"/>\n      <use x=\"183.154297\" xlink:href=\"#DejaVuSans-65\"/>\n     </g>\n    </g>\n   </g>\n   <g id=\"matplotlib.axis_2\">\n    <g id=\"ytick_1\">\n     <g id=\"line2d_9\">\n      <defs>\n       <path d=\"M 0 0 \nL -3.5 0 \n\" id=\"m8ead2be6eb\" style=\"stroke:#000000;stroke-width:0.8;\"/>\n      </defs>\n      <g>\n       <use style=\"stroke:#000000;stroke-width:0.8;\" x=\"58.523438\" xlink:href=\"#m8ead2be6eb\" y=\"217.370032\"/>\n      </g>\n     </g>\n     <g id=\"text_10\">\n      <!-- −0.15 -->\n      <g transform=\"translate(20.878125 221.169251)scale(0.1 -0.1)\">\n       <defs>\n        <path d=\"M 678 2272 \nL 4684 2272 \nL 4684 1741 \nL 678 1741 \nL 678 2272 \nz\n\" id=\"DejaVuSans-2212\" transform=\"scale(0.015625)\"/>\n        <path d=\"M 684 794 \nL 1344 794 \nL 1344 0 \nL 684 0 \nL 684 794 \nz\n\" id=\"DejaVuSans-2e\" transform=\"scale(0.015625)\"/>\n       </defs>\n       <use xlink:href=\"#DejaVuSans-2212\"/>\n       <use x=\"83.789062\" xlink:href=\"#DejaVuSans-30\"/>\n       <use x=\"147.412109\" xlink:href=\"#DejaVuSans-2e\"/>\n       <use x=\"179.199219\" xlink:href=\"#DejaVuSans-31\"/>\n       <use x=\"242.822266\" xlink:href=\"#DejaVuSans-35\"/>\n      </g>\n     </g>\n    </g>\n    <g id=\"ytick_2\">\n     <g id=\"line2d_10\">\n      <g>\n       <use style=\"stroke:#000000;stroke-width:0.8;\" x=\"58.523438\" xlink:href=\"#m8ead2be6eb\" y=\"192.995292\"/>\n      </g>\n     </g>\n     <g id=\"text_11\">\n      <!-- −0.10 -->\n      <g transform=\"translate(20.878125 196.79451)scale(0.1 -0.1)\">\n       <use xlink:href=\"#DejaVuSans-2212\"/>\n       <use x=\"83.789062\" xlink:href=\"#DejaVuSans-30\"/>\n       <use x=\"147.412109\" xlink:href=\"#DejaVuSans-2e\"/>\n       <use x=\"179.199219\" xlink:href=\"#DejaVuSans-31\"/>\n       <use x=\"242.822266\" xlink:href=\"#DejaVuSans-30\"/>\n      </g>\n     </g>\n    </g>\n    <g id=\"ytick_3\">\n     <g id=\"line2d_11\">\n      <g>\n       <use style=\"stroke:#000000;stroke-width:0.8;\" x=\"58.523438\" xlink:href=\"#m8ead2be6eb\" y=\"168.620552\"/>\n      </g>\n     </g>\n     <g id=\"text_12\">\n      <!-- −0.05 -->\n      <g transform=\"translate(20.878125 172.41977)scale(0.1 -0.1)\">\n       <use xlink:href=\"#DejaVuSans-2212\"/>\n       <use x=\"83.789062\" xlink:href=\"#DejaVuSans-30\"/>\n       <use x=\"147.412109\" xlink:href=\"#DejaVuSans-2e\"/>\n       <use x=\"179.199219\" xlink:href=\"#DejaVuSans-30\"/>\n       <use x=\"242.822266\" xlink:href=\"#DejaVuSans-35\"/>\n      </g>\n     </g>\n    </g>\n    <g id=\"ytick_4\">\n     <g id=\"line2d_12\">\n      <g>\n       <use style=\"stroke:#000000;stroke-width:0.8;\" x=\"58.523438\" xlink:href=\"#m8ead2be6eb\" y=\"144.245811\"/>\n      </g>\n     </g>\n     <g id=\"text_13\">\n      <!-- 0.00 -->\n      <g transform=\"translate(29.257813 148.04503)scale(0.1 -0.1)\">\n       <use xlink:href=\"#DejaVuSans-30\"/>\n       <use x=\"63.623047\" xlink:href=\"#DejaVuSans-2e\"/>\n       <use x=\"95.410156\" xlink:href=\"#DejaVuSans-30\"/>\n       <use x=\"159.033203\" xlink:href=\"#DejaVuSans-30\"/>\n      </g>\n     </g>\n    </g>\n    <g id=\"ytick_5\">\n     <g id=\"line2d_13\">\n      <g>\n       <use style=\"stroke:#000000;stroke-width:0.8;\" x=\"58.523438\" xlink:href=\"#m8ead2be6eb\" y=\"119.871071\"/>\n      </g>\n     </g>\n     <g id=\"text_14\">\n      <!-- 0.05 -->\n      <g transform=\"translate(29.257813 123.67029)scale(0.1 -0.1)\">\n       <use xlink:href=\"#DejaVuSans-30\"/>\n       <use x=\"63.623047\" xlink:href=\"#DejaVuSans-2e\"/>\n       <use x=\"95.410156\" xlink:href=\"#DejaVuSans-30\"/>\n       <use x=\"159.033203\" xlink:href=\"#DejaVuSans-35\"/>\n      </g>\n     </g>\n    </g>\n    <g id=\"ytick_6\">\n     <g id=\"line2d_14\">\n      <g>\n       <use style=\"stroke:#000000;stroke-width:0.8;\" x=\"58.523438\" xlink:href=\"#m8ead2be6eb\" y=\"95.496331\"/>\n      </g>\n     </g>\n     <g id=\"text_15\">\n      <!-- 0.10 -->\n      <g transform=\"translate(29.257813 99.29555)scale(0.1 -0.1)\">\n       <use xlink:href=\"#DejaVuSans-30\"/>\n       <use x=\"63.623047\" xlink:href=\"#DejaVuSans-2e\"/>\n       <use x=\"95.410156\" xlink:href=\"#DejaVuSans-31\"/>\n       <use x=\"159.033203\" xlink:href=\"#DejaVuSans-30\"/>\n      </g>\n     </g>\n    </g>\n    <g id=\"ytick_7\">\n     <g id=\"line2d_15\">\n      <g>\n       <use style=\"stroke:#000000;stroke-width:0.8;\" x=\"58.523438\" xlink:href=\"#m8ead2be6eb\" y=\"71.121591\"/>\n      </g>\n     </g>\n     <g id=\"text_16\">\n      <!-- 0.15 -->\n      <g transform=\"translate(29.257813 74.92081)scale(0.1 -0.1)\">\n       <use xlink:href=\"#DejaVuSans-30\"/>\n       <use x=\"63.623047\" xlink:href=\"#DejaVuSans-2e\"/>\n       <use x=\"95.410156\" xlink:href=\"#DejaVuSans-31\"/>\n       <use x=\"159.033203\" xlink:href=\"#DejaVuSans-35\"/>\n      </g>\n     </g>\n    </g>\n    <g id=\"ytick_8\">\n     <g id=\"line2d_16\">\n      <g>\n       <use style=\"stroke:#000000;stroke-width:0.8;\" x=\"58.523438\" xlink:href=\"#m8ead2be6eb\" y=\"46.746851\"/>\n      </g>\n     </g>\n     <g id=\"text_17\">\n      <!-- 0.20 -->\n      <g transform=\"translate(29.257813 50.54607)scale(0.1 -0.1)\">\n       <use xlink:href=\"#DejaVuSans-30\"/>\n       <use x=\"63.623047\" xlink:href=\"#DejaVuSans-2e\"/>\n       <use x=\"95.410156\" xlink:href=\"#DejaVuSans-32\"/>\n       <use x=\"159.033203\" xlink:href=\"#DejaVuSans-30\"/>\n      </g>\n     </g>\n    </g>\n    <g id=\"ytick_9\">\n     <g id=\"line2d_17\">\n      <g>\n       <use style=\"stroke:#000000;stroke-width:0.8;\" x=\"58.523438\" xlink:href=\"#m8ead2be6eb\" y=\"22.372111\"/>\n      </g>\n     </g>\n     <g id=\"text_18\">\n      <!-- 0.25 -->\n      <g transform=\"translate(29.257813 26.17133)scale(0.1 -0.1)\">\n       <use xlink:href=\"#DejaVuSans-30\"/>\n       <use x=\"63.623047\" xlink:href=\"#DejaVuSans-2e\"/>\n       <use x=\"95.410156\" xlink:href=\"#DejaVuSans-32\"/>\n       <use x=\"159.033203\" xlink:href=\"#DejaVuSans-35\"/>\n      </g>\n     </g>\n    </g>\n    <g id=\"text_19\">\n     <!-- Price -->\n     <g transform=\"translate(14.798438 143.235781)rotate(-90)scale(0.1 -0.1)\">\n      <defs>\n       <path d=\"M 1259 4147 \nL 1259 2394 \nL 2053 2394 \nQ 2494 2394 2734 2622 \nQ 2975 2850 2975 3272 \nQ 2975 3691 2734 3919 \nQ 2494 4147 2053 4147 \nL 1259 4147 \nz\nM 628 4666 \nL 2053 4666 \nQ 2838 4666 3239 4311 \nQ 3641 3956 3641 3272 \nQ 3641 2581 3239 2228 \nQ 2838 1875 2053 1875 \nL 1259 1875 \nL 1259 0 \nL 628 0 \nL 628 4666 \nz\n\" id=\"DejaVuSans-50\" transform=\"scale(0.015625)\"/>\n       <path d=\"M 2631 2963 \nQ 2534 3019 2420 3045 \nQ 2306 3072 2169 3072 \nQ 1681 3072 1420 2755 \nQ 1159 2438 1159 1844 \nL 1159 0 \nL 581 0 \nL 581 3500 \nL 1159 3500 \nL 1159 2956 \nQ 1341 3275 1631 3429 \nQ 1922 3584 2338 3584 \nQ 2397 3584 2469 3576 \nQ 2541 3569 2628 3553 \nL 2631 2963 \nz\n\" id=\"DejaVuSans-72\" transform=\"scale(0.015625)\"/>\n       <path d=\"M 3122 3366 \nL 3122 2828 \nQ 2878 2963 2633 3030 \nQ 2388 3097 2138 3097 \nQ 1578 3097 1268 2742 \nQ 959 2388 959 1747 \nQ 959 1106 1268 751 \nQ 1578 397 2138 397 \nQ 2388 397 2633 464 \nQ 2878 531 3122 666 \nL 3122 134 \nQ 2881 22 2623 -34 \nQ 2366 -91 2075 -91 \nQ 1284 -91 818 406 \nQ 353 903 353 1747 \nQ 353 2603 823 3093 \nQ 1294 3584 2113 3584 \nQ 2378 3584 2631 3529 \nQ 2884 3475 3122 3366 \nz\n\" id=\"DejaVuSans-63\" transform=\"scale(0.015625)\"/>\n      </defs>\n      <use xlink:href=\"#DejaVuSans-50\"/>\n      <use x=\"58.552734\" xlink:href=\"#DejaVuSans-72\"/>\n      <use x=\"99.666016\" xlink:href=\"#DejaVuSans-69\"/>\n      <use x=\"127.449219\" xlink:href=\"#DejaVuSans-63\"/>\n      <use x=\"182.429688\" xlink:href=\"#DejaVuSans-65\"/>\n     </g>\n    </g>\n   </g>\n   <g id=\"line2d_18\">\n    <path clip-path=\"url(#pef7e38a8f9)\" d=\"M 73.741619 141.270434 \nL 75.531994 142.374148 \nL 77.322368 128.732217 \nL 79.112742 145.394357 \nL 80.903117 140.105418 \nL 82.693491 142.068815 \nL 84.483865 137.897292 \nL 86.27424 149.445817 \nL 88.064614 136.703523 \nL 91.645363 165.624843 \nL 93.435737 145.683873 \nL 95.226111 133.288848 \nL 97.016486 135.676982 \nL 98.80686 148.72386 \nL 100.597234 132.899069 \nL 102.387609 132.268293 \nL 104.177983 145.787403 \nL 105.968357 156.584653 \nL 107.758732 145.131602 \nL 109.549106 164.904467 \nL 111.33948 132.463163 \nL 113.129855 144.464034 \nL 114.920229 138.786632 \nL 116.710603 145.553577 \nL 118.500978 143.884812 \nL 120.291352 147.829701 \nL 122.081726 136.347756 \nL 123.872101 142.76201 \nL 125.662475 134.966561 \nL 127.452849 146.605714 \nL 129.243224 111.804904 \nL 131.033598 146.51961 \nL 132.823972 139.383114 \nL 134.614347 129.824804 \nL 136.404721 103.337927 \nL 139.98547 156.662768 \nL 141.775844 112.114829 \nL 143.566218 80.460037 \nL 145.356593 105.223887 \nL 147.146967 153.081362 \nL 148.937341 123.957747 \nL 150.727716 149.720202 \nL 152.51809 139.579768 \nL 154.308464 155.166381 \nL 156.098839 143.448656 \nL 157.889213 94.286282 \nL 159.679587 107.443848 \nL 161.469962 32.201761 \nL 163.260336 199.713799 \nL 165.05071 114.960554 \nL 166.841085 164.181787 \nL 168.631459 175.318012 \nL 170.421833 123.846022 \nL 172.212208 162.011676 \nL 174.002582 155.59312 \nL 175.792956 140.864379 \nL 177.583331 159.516818 \nL 179.373705 103.017785 \nL 181.164079 157.195168 \nL 182.954454 142.863627 \nL 184.744828 154.267517 \nL 186.535202 147.560932 \nL 188.325577 143.970748 \nL 190.115951 131.986584 \nL 191.906325 144.122923 \nL 193.6967 101.947747 \nL 195.487074 154.674556 \nL 197.277448 136.48322 \nL 199.067823 164.232035 \nL 200.858197 134.502238 \nL 202.648571 153.227248 \nL 204.438946 152.381128 \nL 206.22932 141.40518 \nL 208.019694 134.817127 \nL 209.810069 150.738534 \nL 211.600443 142.351063 \nL 213.390817 143.697915 \nL 215.181192 144.130284 \nL 216.971566 151.552711 \nL 218.76194 144.420059 \nL 220.552315 149.136079 \nL 222.342689 157.323181 \nL 224.133063 126.763202 \nL 227.713812 139.490755 \nL 229.504186 148.930891 \nL 231.29456 113.390049 \nL 233.084935 150.70871 \nL 234.875309 122.200059 \nL 236.665683 141.862509 \nL 238.456058 154.399151 \nL 240.246432 126.356221 \nL 242.036806 134.739541 \nL 243.827181 124.56956 \nL 245.617555 159.994458 \nL 247.407929 121.050704 \nL 249.198304 127.157608 \nL 250.988678 135.379257 \nL 252.779052 121.810878 \nL 254.569427 116.58167 \nL 256.359801 162.375547 \nL 258.150175 144.243766 \nL 259.94055 146.94401 \nL 261.730924 157.28524 \nL 263.521298 140.056462 \nL 265.311673 160.90608 \nL 267.102047 133.913215 \nL 268.892421 112.418078 \nL 270.682796 159.576674 \nL 272.47317 160.357372 \nL 274.263544 135.816774 \nL 276.053919 156.729206 \nL 277.844293 140.583417 \nL 279.634667 132.227507 \nL 281.425042 131.231108 \nL 283.215416 146.43129 \nL 285.00579 130.73542 \nL 286.796165 135.811239 \nL 288.586539 145.857694 \nL 290.376913 143.30655 \nL 292.167288 126.753143 \nL 293.957662 165.481142 \nL 295.748036 130.674295 \nL 297.538411 150.303828 \nL 299.328785 147.180329 \nL 301.119159 137.068015 \nL 302.909534 139.025903 \nL 304.699908 154.354681 \nL 306.490282 130.930636 \nL 308.280657 172.555096 \nL 310.071031 150.362708 \nL 311.861405 132.817354 \nL 313.65178 158.806868 \nL 315.442154 144.325488 \nL 317.232528 164.30006 \nL 319.022903 145.882316 \nL 320.813277 229.874489 \nL 322.603651 112.638194 \nL 324.394026 183.95567 \nL 326.1844 162.385214 \nL 327.974774 171.807168 \nL 329.765149 86.554383 \nL 331.555523 144.98016 \nL 333.345897 123.3251 \nL 335.136272 151.156365 \nL 336.926646 167.199768 \nL 338.71702 160.81175 \nL 340.507395 130.325061 \nL 342.297769 126.4633 \nL 344.088143 139.247162 \nL 345.878518 122.909373 \nL 347.668892 130.683495 \nL 349.459266 163.07929 \nL 351.249641 144.767621 \nL 353.040015 142.416357 \nL 354.830389 164.843727 \nL 356.620764 146.215525 \nL 358.411138 131.631233 \nL 360.201512 157.950583 \nL 361.991887 148.036463 \nL 363.782261 145.59202 \nL 365.572635 130.586655 \nL 367.36301 143.01151 \nL 369.153384 141.52308 \nL 370.943758 159.843791 \nL 372.734133 140.793587 \nL 374.524507 154.02901 \nL 376.314881 144.936417 \nL 378.105256 154.803881 \nL 378.105256 154.803881 \n\" style=\"fill:none;stroke:#000000;stroke-linecap:square;stroke-width:1.5;\"/>\n   </g>\n   <g id=\"line2d_19\">\n    <path clip-path=\"url(#pef7e38a8f9)\" d=\"M 73.741619 142.647873 \nL 75.531994 145.592126 \nL 77.322368 148.203209 \nL 79.112742 153.051822 \nL 82.693491 165.725075 \nL 84.483865 170.968924 \nL 86.27424 177.148672 \nL 88.064614 182.494756 \nL 89.854988 186.454859 \nL 91.645363 141.375196 \nL 95.226111 141.465054 \nL 97.016486 142.703331 \nL 98.80686 142.679977 \nL 100.597234 143.081504 \nL 102.387609 143.315515 \nL 104.177983 143.838244 \nL 105.968357 143.379379 \nL 107.758732 143.899781 \nL 109.549106 143.236067 \nL 111.33948 141.419382 \nL 113.129855 141.167913 \nL 116.710603 142.686679 \nL 118.500978 142.38331 \nL 122.081726 144.434769 \nL 123.872101 144.449739 \nL 125.662475 143.528676 \nL 127.452849 143.424443 \nL 129.243224 141.655483 \nL 131.033598 142.342384 \nL 132.823972 142.031132 \nL 134.614347 142.103616 \nL 138.195095 141.005797 \nL 139.98547 139.952425 \nL 141.775844 139.701791 \nL 143.566218 138.853468 \nL 145.356593 138.436803 \nL 147.146967 136.842044 \nL 148.937341 137.844336 \nL 150.727716 136.018656 \nL 152.51809 134.659611 \nL 154.308464 134.086477 \nL 156.098839 135.814929 \nL 157.889213 135.746832 \nL 159.679587 133.570849 \nL 161.469962 134.883772 \nL 163.260336 138.671307 \nL 165.05071 140.544729 \nL 166.841085 138.477437 \nL 168.631459 138.594681 \nL 170.421833 136.747791 \nL 172.212208 135.773149 \nL 174.002582 133.707194 \nL 175.792956 132.744776 \nL 177.583331 136.008041 \nL 179.373705 138.706371 \nL 181.164079 147.863893 \nL 182.954454 143.892644 \nL 184.744828 146.487958 \nL 186.535202 145.169235 \nL 188.325577 142.796733 \nL 190.115951 144.47102 \nL 191.906325 143.11631 \nL 193.6967 142.160345 \nL 195.487074 142.250177 \nL 197.277448 140.741294 \nL 199.067823 143.69035 \nL 200.858197 142.404787 \nL 202.648571 142.192632 \nL 204.438946 141.069247 \nL 206.22932 140.492786 \nL 208.019694 140.260453 \nL 209.810069 141.059476 \nL 211.600443 140.978877 \nL 213.390817 144.383639 \nL 215.181192 143.708819 \nL 216.971566 144.445297 \nL 218.76194 142.944673 \nL 220.552315 143.772502 \nL 224.133063 142.571346 \nL 225.923438 142.876464 \nL 227.713812 143.718764 \nL 229.504186 143.257847 \nL 231.29456 143.399311 \nL 233.084935 143.344025 \nL 234.875309 143.163795 \nL 236.665683 142.261072 \nL 238.456058 141.797653 \nL 240.246432 140.896013 \nL 242.036806 139.25392 \nL 243.827181 139.999672 \nL 245.617555 140.281898 \nL 247.407929 140.062841 \nL 249.198304 139.054994 \nL 250.988678 140.861174 \nL 252.779052 139.712922 \nL 254.569427 140.747643 \nL 256.359801 140.150047 \nL 258.150175 138.440625 \nL 259.94055 138.928104 \nL 261.730924 138.849567 \nL 263.521298 139.723656 \nL 265.311673 137.895133 \nL 267.102047 139.277935 \nL 268.892421 140.40317 \nL 270.682796 140.963986 \nL 272.47317 142.681751 \nL 274.263544 144.974816 \nL 276.053919 143.658373 \nL 277.844293 143.732647 \nL 279.634667 143.601333 \nL 281.425042 142.595726 \nL 283.215416 142.88591 \nL 285.00579 141.44995 \nL 286.796165 142.072694 \nL 288.586539 144.448622 \nL 290.376913 143.062916 \nL 292.167288 141.461712 \nL 293.957662 141.717543 \nL 295.748036 140.306626 \nL 297.538411 140.150885 \nL 299.328785 140.730393 \nL 301.119159 141.502269 \nL 302.909534 141.128109 \nL 304.699908 142.032467 \nL 306.490282 142.616813 \nL 308.280657 142.415497 \nL 310.071031 142.451226 \nL 311.861405 143.917473 \nL 313.65178 142.347265 \nL 315.442154 143.559983 \nL 317.232528 143.29114 \nL 319.022903 143.31635 \nL 322.603651 145.250575 \nL 324.394026 145.219126 \nL 326.1844 147.252209 \nL 327.974774 146.131255 \nL 329.765149 146.87266 \nL 331.555523 149.065908 \nL 333.345897 149.122878 \nL 335.136272 150.122602 \nL 336.926646 149.294621 \nL 338.71702 149.739665 \nL 340.507395 143.221478 \nL 342.297769 145.822358 \nL 344.088143 142.723183 \nL 345.878518 141.11839 \nL 347.668892 138.578793 \nL 349.459266 142.777551 \nL 351.249641 142.479194 \nL 353.040015 143.910633 \nL 354.830389 143.152597 \nL 356.620764 141.067135 \nL 358.411138 139.448021 \nL 360.201512 140.300907 \nL 361.991887 141.636256 \nL 363.782261 142.101161 \nL 365.572635 143.989419 \nL 367.36301 145.363966 \nL 369.153384 144.115444 \nL 370.943758 144.207969 \nL 372.734133 144.475594 \nL 374.524507 142.905379 \nL 376.314881 142.766424 \nL 378.105256 143.850029 \nL 378.105256 143.850029 \n\" style=\"fill:none;stroke:#008000;stroke-linecap:square;stroke-width:1.5;\"/>\n   </g>\n   <g id=\"patch_3\">\n    <path d=\"M 58.523438 239.758125 \nL 58.523438 22.318125 \n\" style=\"fill:none;stroke:#000000;stroke-linecap:square;stroke-linejoin:miter;stroke-width:0.8;\"/>\n   </g>\n   <g id=\"patch_4\">\n    <path d=\"M 393.323438 239.758125 \nL 393.323438 22.318125 \n\" style=\"fill:none;stroke:#000000;stroke-linecap:square;stroke-linejoin:miter;stroke-width:0.8;\"/>\n   </g>\n   <g id=\"patch_5\">\n    <path d=\"M 58.523438 239.758125 \nL 393.323437 239.758125 \n\" style=\"fill:none;stroke:#000000;stroke-linecap:square;stroke-linejoin:miter;stroke-width:0.8;\"/>\n   </g>\n   <g id=\"patch_6\">\n    <path d=\"M 58.523438 22.318125 \nL 393.323437 22.318125 \n\" style=\"fill:none;stroke:#000000;stroke-linecap:square;stroke-linejoin:miter;stroke-width:0.8;\"/>\n   </g>\n   <g id=\"text_20\">\n    <!-- BNB price prediction -->\n    <g transform=\"translate(164.354062 16.318125)scale(0.12 -0.12)\">\n     <defs>\n      <path d=\"M 1259 2228 \nL 1259 519 \nL 2272 519 \nQ 2781 519 3026 730 \nQ 3272 941 3272 1375 \nQ 3272 1813 3026 2020 \nQ 2781 2228 2272 2228 \nL 1259 2228 \nz\nM 1259 4147 \nL 1259 2741 \nL 2194 2741 \nQ 2656 2741 2882 2914 \nQ 3109 3088 3109 3444 \nQ 3109 3797 2882 3972 \nQ 2656 4147 2194 4147 \nL 1259 4147 \nz\nM 628 4666 \nL 2241 4666 \nQ 2963 4666 3353 4366 \nQ 3744 4066 3744 3513 \nQ 3744 3084 3544 2831 \nQ 3344 2578 2956 2516 \nQ 3422 2416 3680 2098 \nQ 3938 1781 3938 1306 \nQ 3938 681 3513 340 \nQ 3088 0 2303 0 \nL 628 0 \nL 628 4666 \nz\n\" id=\"DejaVuSans-42\" transform=\"scale(0.015625)\"/>\n      <path d=\"M 628 4666 \nL 1478 4666 \nL 3547 763 \nL 3547 4666 \nL 4159 4666 \nL 4159 0 \nL 3309 0 \nL 1241 3903 \nL 1241 0 \nL 628 0 \nL 628 4666 \nz\n\" id=\"DejaVuSans-4e\" transform=\"scale(0.015625)\"/>\n      <path id=\"DejaVuSans-20\" transform=\"scale(0.015625)\"/>\n      <path d=\"M 1159 525 \nL 1159 -1331 \nL 581 -1331 \nL 581 3500 \nL 1159 3500 \nL 1159 2969 \nQ 1341 3281 1617 3432 \nQ 1894 3584 2278 3584 \nQ 2916 3584 3314 3078 \nQ 3713 2572 3713 1747 \nQ 3713 922 3314 415 \nQ 2916 -91 2278 -91 \nQ 1894 -91 1617 61 \nQ 1341 213 1159 525 \nz\nM 3116 1747 \nQ 3116 2381 2855 2742 \nQ 2594 3103 2138 3103 \nQ 1681 3103 1420 2742 \nQ 1159 2381 1159 1747 \nQ 1159 1113 1420 752 \nQ 1681 391 2138 391 \nQ 2594 391 2855 752 \nQ 3116 1113 3116 1747 \nz\n\" id=\"DejaVuSans-70\" transform=\"scale(0.015625)\"/>\n      <path d=\"M 2906 2969 \nL 2906 4863 \nL 3481 4863 \nL 3481 0 \nL 2906 0 \nL 2906 525 \nQ 2725 213 2448 61 \nQ 2172 -91 1784 -91 \nQ 1150 -91 751 415 \nQ 353 922 353 1747 \nQ 353 2572 751 3078 \nQ 1150 3584 1784 3584 \nQ 2172 3584 2448 3432 \nQ 2725 3281 2906 2969 \nz\nM 947 1747 \nQ 947 1113 1208 752 \nQ 1469 391 1925 391 \nQ 2381 391 2643 752 \nQ 2906 1113 2906 1747 \nQ 2906 2381 2643 2742 \nQ 2381 3103 1925 3103 \nQ 1469 3103 1208 2742 \nQ 947 2381 947 1747 \nz\n\" id=\"DejaVuSans-64\" transform=\"scale(0.015625)\"/>\n      <path d=\"M 1172 4494 \nL 1172 3500 \nL 2356 3500 \nL 2356 3053 \nL 1172 3053 \nL 1172 1153 \nQ 1172 725 1289 603 \nQ 1406 481 1766 481 \nL 2356 481 \nL 2356 0 \nL 1766 0 \nQ 1100 0 847 248 \nQ 594 497 594 1153 \nL 594 3053 \nL 172 3053 \nL 172 3500 \nL 594 3500 \nL 594 4494 \nL 1172 4494 \nz\n\" id=\"DejaVuSans-74\" transform=\"scale(0.015625)\"/>\n      <path d=\"M 1959 3097 \nQ 1497 3097 1228 2736 \nQ 959 2375 959 1747 \nQ 959 1119 1226 758 \nQ 1494 397 1959 397 \nQ 2419 397 2687 759 \nQ 2956 1122 2956 1747 \nQ 2956 2369 2687 2733 \nQ 2419 3097 1959 3097 \nz\nM 1959 3584 \nQ 2709 3584 3137 3096 \nQ 3566 2609 3566 1747 \nQ 3566 888 3137 398 \nQ 2709 -91 1959 -91 \nQ 1206 -91 779 398 \nQ 353 888 353 1747 \nQ 353 2609 779 3096 \nQ 1206 3584 1959 3584 \nz\n\" id=\"DejaVuSans-6f\" transform=\"scale(0.015625)\"/>\n      <path d=\"M 3513 2113 \nL 3513 0 \nL 2938 0 \nL 2938 2094 \nQ 2938 2591 2744 2837 \nQ 2550 3084 2163 3084 \nQ 1697 3084 1428 2787 \nQ 1159 2491 1159 1978 \nL 1159 0 \nL 581 0 \nL 581 3500 \nL 1159 3500 \nL 1159 2956 \nQ 1366 3272 1645 3428 \nQ 1925 3584 2291 3584 \nQ 2894 3584 3203 3211 \nQ 3513 2838 3513 2113 \nz\n\" id=\"DejaVuSans-6e\" transform=\"scale(0.015625)\"/>\n     </defs>\n     <use xlink:href=\"#DejaVuSans-42\"/>\n     <use x=\"68.603516\" xlink:href=\"#DejaVuSans-4e\"/>\n     <use x=\"143.408203\" xlink:href=\"#DejaVuSans-42\"/>\n     <use x=\"212.011719\" xlink:href=\"#DejaVuSans-20\"/>\n     <use x=\"243.798828\" xlink:href=\"#DejaVuSans-70\"/>\n     <use x=\"307.275391\" xlink:href=\"#DejaVuSans-72\"/>\n     <use x=\"348.388672\" xlink:href=\"#DejaVuSans-69\"/>\n     <use x=\"376.171875\" xlink:href=\"#DejaVuSans-63\"/>\n     <use x=\"431.152344\" xlink:href=\"#DejaVuSans-65\"/>\n     <use x=\"492.675781\" xlink:href=\"#DejaVuSans-20\"/>\n     <use x=\"524.462891\" xlink:href=\"#DejaVuSans-70\"/>\n     <use x=\"587.939453\" xlink:href=\"#DejaVuSans-72\"/>\n     <use x=\"626.802734\" xlink:href=\"#DejaVuSans-65\"/>\n     <use x=\"688.326172\" xlink:href=\"#DejaVuSans-64\"/>\n     <use x=\"751.802734\" xlink:href=\"#DejaVuSans-69\"/>\n     <use x=\"779.585938\" xlink:href=\"#DejaVuSans-63\"/>\n     <use x=\"834.566406\" xlink:href=\"#DejaVuSans-74\"/>\n     <use x=\"873.775391\" xlink:href=\"#DejaVuSans-69\"/>\n     <use x=\"901.558594\" xlink:href=\"#DejaVuSans-6f\"/>\n     <use x=\"962.740234\" xlink:href=\"#DejaVuSans-6e\"/>\n    </g>\n   </g>\n   <g id=\"legend_1\">\n    <g id=\"patch_7\">\n     <path d=\"M 65.523438 59.674375 \nL 177.246875 59.674375 \nQ 179.246875 59.674375 179.246875 57.674375 \nL 179.246875 29.318125 \nQ 179.246875 27.318125 177.246875 27.318125 \nL 65.523438 27.318125 \nQ 63.523438 27.318125 63.523438 29.318125 \nL 63.523438 57.674375 \nQ 63.523438 59.674375 65.523438 59.674375 \nz\n\" style=\"fill:#ffffff;opacity:0.8;stroke:#cccccc;stroke-linejoin:miter;\"/>\n    </g>\n    <g id=\"line2d_20\">\n     <path d=\"M 67.523438 35.416562 \nL 87.523438 35.416562 \n\" style=\"fill:none;stroke:#000000;stroke-linecap:square;stroke-width:1.5;\"/>\n    </g>\n    <g id=\"line2d_21\"/>\n    <g id=\"text_21\">\n     <!-- Actual Prices -->\n     <g transform=\"translate(95.523438 38.916562)scale(0.1 -0.1)\">\n      <defs>\n       <path d=\"M 2188 4044 \nL 1331 1722 \nL 3047 1722 \nL 2188 4044 \nz\nM 1831 4666 \nL 2547 4666 \nL 4325 0 \nL 3669 0 \nL 3244 1197 \nL 1141 1197 \nL 716 0 \nL 50 0 \nL 1831 4666 \nz\n\" id=\"DejaVuSans-41\" transform=\"scale(0.015625)\"/>\n       <path d=\"M 544 1381 \nL 544 3500 \nL 1119 3500 \nL 1119 1403 \nQ 1119 906 1312 657 \nQ 1506 409 1894 409 \nQ 2359 409 2629 706 \nQ 2900 1003 2900 1516 \nL 2900 3500 \nL 3475 3500 \nL 3475 0 \nL 2900 0 \nL 2900 538 \nQ 2691 219 2414 64 \nQ 2138 -91 1772 -91 \nQ 1169 -91 856 284 \nQ 544 659 544 1381 \nz\nM 1991 3584 \nL 1991 3584 \nz\n\" id=\"DejaVuSans-75\" transform=\"scale(0.015625)\"/>\n       <path d=\"M 2194 1759 \nQ 1497 1759 1228 1600 \nQ 959 1441 959 1056 \nQ 959 750 1161 570 \nQ 1363 391 1709 391 \nQ 2188 391 2477 730 \nQ 2766 1069 2766 1631 \nL 2766 1759 \nL 2194 1759 \nz\nM 3341 1997 \nL 3341 0 \nL 2766 0 \nL 2766 531 \nQ 2569 213 2275 61 \nQ 1981 -91 1556 -91 \nQ 1019 -91 701 211 \nQ 384 513 384 1019 \nQ 384 1609 779 1909 \nQ 1175 2209 1959 2209 \nL 2766 2209 \nL 2766 2266 \nQ 2766 2663 2505 2880 \nQ 2244 3097 1772 3097 \nQ 1472 3097 1187 3025 \nQ 903 2953 641 2809 \nL 641 3341 \nQ 956 3463 1253 3523 \nQ 1550 3584 1831 3584 \nQ 2591 3584 2966 3190 \nQ 3341 2797 3341 1997 \nz\n\" id=\"DejaVuSans-61\" transform=\"scale(0.015625)\"/>\n       <path d=\"M 603 4863 \nL 1178 4863 \nL 1178 0 \nL 603 0 \nL 603 4863 \nz\n\" id=\"DejaVuSans-6c\" transform=\"scale(0.015625)\"/>\n       <path d=\"M 2834 3397 \nL 2834 2853 \nQ 2591 2978 2328 3040 \nQ 2066 3103 1784 3103 \nQ 1356 3103 1142 2972 \nQ 928 2841 928 2578 \nQ 928 2378 1081 2264 \nQ 1234 2150 1697 2047 \nL 1894 2003 \nQ 2506 1872 2764 1633 \nQ 3022 1394 3022 966 \nQ 3022 478 2636 193 \nQ 2250 -91 1575 -91 \nQ 1294 -91 989 -36 \nQ 684 19 347 128 \nL 347 722 \nQ 666 556 975 473 \nQ 1284 391 1588 391 \nQ 1994 391 2212 530 \nQ 2431 669 2431 922 \nQ 2431 1156 2273 1281 \nQ 2116 1406 1581 1522 \nL 1381 1569 \nQ 847 1681 609 1914 \nQ 372 2147 372 2553 \nQ 372 3047 722 3315 \nQ 1072 3584 1716 3584 \nQ 2034 3584 2315 3537 \nQ 2597 3491 2834 3397 \nz\n\" id=\"DejaVuSans-73\" transform=\"scale(0.015625)\"/>\n      </defs>\n      <use xlink:href=\"#DejaVuSans-41\"/>\n      <use x=\"66.658203\" xlink:href=\"#DejaVuSans-63\"/>\n      <use x=\"121.638672\" xlink:href=\"#DejaVuSans-74\"/>\n      <use x=\"160.847656\" xlink:href=\"#DejaVuSans-75\"/>\n      <use x=\"224.226562\" xlink:href=\"#DejaVuSans-61\"/>\n      <use x=\"285.505859\" xlink:href=\"#DejaVuSans-6c\"/>\n      <use x=\"313.289062\" xlink:href=\"#DejaVuSans-20\"/>\n      <use x=\"345.076172\" xlink:href=\"#DejaVuSans-50\"/>\n      <use x=\"403.628906\" xlink:href=\"#DejaVuSans-72\"/>\n      <use x=\"444.742188\" xlink:href=\"#DejaVuSans-69\"/>\n      <use x=\"472.525391\" xlink:href=\"#DejaVuSans-63\"/>\n      <use x=\"527.505859\" xlink:href=\"#DejaVuSans-65\"/>\n      <use x=\"589.029297\" xlink:href=\"#DejaVuSans-73\"/>\n     </g>\n    </g>\n    <g id=\"line2d_22\">\n     <path d=\"M 67.523438 50.094687 \nL 87.523438 50.094687 \n\" style=\"fill:none;stroke:#008000;stroke-linecap:square;stroke-width:1.5;\"/>\n    </g>\n    <g id=\"line2d_23\"/>\n    <g id=\"text_22\">\n     <!-- Predicted Prices -->\n     <g transform=\"translate(95.523438 53.594687)scale(0.1 -0.1)\">\n      <use xlink:href=\"#DejaVuSans-50\"/>\n      <use x=\"58.552734\" xlink:href=\"#DejaVuSans-72\"/>\n      <use x=\"97.416016\" xlink:href=\"#DejaVuSans-65\"/>\n      <use x=\"158.939453\" xlink:href=\"#DejaVuSans-64\"/>\n      <use x=\"222.416016\" xlink:href=\"#DejaVuSans-69\"/>\n      <use x=\"250.199219\" xlink:href=\"#DejaVuSans-63\"/>\n      <use x=\"305.179688\" xlink:href=\"#DejaVuSans-74\"/>\n      <use x=\"344.388672\" xlink:href=\"#DejaVuSans-65\"/>\n      <use x=\"405.912109\" xlink:href=\"#DejaVuSans-64\"/>\n      <use x=\"469.388672\" xlink:href=\"#DejaVuSans-20\"/>\n      <use x=\"501.175781\" xlink:href=\"#DejaVuSans-50\"/>\n      <use x=\"559.728516\" xlink:href=\"#DejaVuSans-72\"/>\n      <use x=\"600.841797\" xlink:href=\"#DejaVuSans-69\"/>\n      <use x=\"628.625\" xlink:href=\"#DejaVuSans-63\"/>\n      <use x=\"683.605469\" xlink:href=\"#DejaVuSans-65\"/>\n      <use x=\"745.128906\" xlink:href=\"#DejaVuSans-73\"/>\n     </g>\n    </g>\n   </g>\n  </g>\n </g>\n <defs>\n  <clipPath id=\"pef7e38a8f9\">\n   <rect height=\"217.44\" width=\"334.8\" x=\"58.523438\" y=\"22.318125\"/>\n  </clipPath>\n </defs>\n</svg>\n",
      "image/png": "[encoded data removed]"
     },
     "metadata": {
      "needs_background": "light"
     }
    }
   ],
   "source": [
    "test_start = dt.datetime(2021,1,1)\n",
    "test_end = dt.datetime.now()\n",
    "\n",
    "test_data = web.DataReader(f'{crypto_currency}-{against_currency}','yahoo', test_start, test_end)\n",
    "actual_prices = difference(np.log10((test_data['Close']))).to_numpy()\n",
    "\n",
    "total_dataset = pd.concat((data['Close'],test_data['Close']),axis=0)\n",
    "model_inputs = total_dataset[len(total_dataset) - len(test_data)-prediction_days:]\n",
    "model_inputs=difference(np.log10((model_inputs))).to_numpy()\n",
    "# model_inputs = model_inputs\n",
    "# model_inputs = scaler.fit_transform(model_inputs)\n",
    "\n",
    "\n",
    "x_test = []\n",
    "for x in range(prediction_days, len(model_inputs)):\n",
    "    x_test.append(model_inputs[x-prediction_days:x])\n",
    "x_test = np.array(x_test)\n",
    "x_test = np.reshape(x_test, (x_test.shape[0], x_test.shape[1],1))\n",
    "\n",
    "prediction_prices = model.predict(x_test)\n",
    "# prediction_prices = scaler.inverse_transform(prediction_prices) \n",
    "plt.plot(actual_prices,color='black', label='Actual Prices')\n",
    "plt.plot(prediction_prices, color='green', label='Predicted Prices')\n",
    "plt.title(f'{crypto_currency} price prediction')\n",
    "plt.xlabel('Time')\n",
    "plt.ylabel('Price')\n",
    "plt.legend(loc='upper left')\n",
    "plt.show()"
   ]
  },
  {
   "cell_type": "code",
   "execution_count": 227,
   "metadata": {},
   "outputs": [],
   "source": [
    "# # Predict Next Day\n",
    "# real_data = [model_inputs[len(model_inputs) +1 - prediction_days: len(model_inputs) + 1,0]]\n",
    "# real_data = np.reshape(real_data,-1)\n",
    "# real_data = np.reshape(real_data, (real_data.shape))\n",
    "# prediction = model.predict(real_data)\n",
    "# prediction = scaler.inverse_transform(prediction)\n",
    "# print()"
   ]
  },
  {
   "cell_type": "code",
   "execution_count": null,
   "metadata": {},
   "outputs": [],
   "source": [
    "model_inputs"
   ]
  },
  {
   "cell_type": "code",
   "execution_count": null,
   "metadata": {},
   "outputs": [],
   "source": [
    "re = data['Close'].to_numpy().reshape(-1,1)\n",
    "data2 = scaler.fit_transform(re)\n",
    "# data2[3:]\n",
    "plt.plot(difference(np.log10((data2))).to_numpy(),color='black', label='Actual Prices')"
   ]
  },
  {
   "cell_type": "code",
   "execution_count": 241,
   "metadata": {},
   "outputs": [
    {
     "output_type": "execute_result",
     "data": {
      "text/plain": [
       "array([[ 3.27785849e-03],\n",
       "       [-2.76170112e-03],\n",
       "       [-8.11782479e-03],\n",
       "       [-1.80638041e-02],\n",
       "       [-3.06853391e-02],\n",
       "       [-4.40604985e-02],\n",
       "       [-5.48172258e-02],\n",
       "       [-6.74937665e-02],\n",
       "       [-7.84602091e-02],\n",
       "       [-8.65835845e-02],\n",
       "       [ 5.88850537e-03],\n",
       "       [ 5.80832735e-03],\n",
       "       [ 5.70417941e-03],\n",
       "       [ 3.16409580e-03],\n",
       "       [ 3.21200164e-03],\n",
       "       [ 2.38834880e-03],\n",
       "       [ 1.90832024e-03],\n",
       "       [ 8.36044317e-04],\n",
       "       [ 1.77731737e-03],\n",
       "       [ 7.09814485e-04],\n",
       "       [ 2.07129191e-03],\n",
       "       [ 5.79786673e-03],\n",
       "       [ 6.31370535e-03],\n",
       "       [ 4.64993529e-03],\n",
       "       [ 3.19825439e-03],\n",
       "       [ 3.82055761e-03],\n",
       "       [ 1.83590024e-03],\n",
       "       [-3.87609936e-04],\n",
       "       [-4.18317039e-04],\n",
       "       [ 1.47106207e-03],\n",
       "       [ 1.68487697e-03],\n",
       "       [ 5.31355105e-03],\n",
       "       [ 3.90450750e-03],\n",
       "       [ 4.54298034e-03],\n",
       "       [ 4.39429330e-03],\n",
       "       [ 5.49801392e-03],\n",
       "       [ 6.64625503e-03],\n",
       "       [ 8.80704075e-03],\n",
       "       [ 9.32116807e-03],\n",
       "       [ 1.10613350e-02],\n",
       "       [ 1.19160414e-02],\n",
       "       [ 1.51873771e-02],\n",
       "       [ 1.31313708e-02],\n",
       "       [ 1.68763958e-02],\n",
       "       [ 1.96642112e-02],\n",
       "       [ 2.08398830e-02],\n",
       "       [ 1.72943026e-02],\n",
       "       [ 1.74339898e-02],\n",
       "       [ 2.18975917e-02],\n",
       "       [ 1.92043874e-02],\n",
       "       [ 1.14350021e-02],\n",
       "       [ 7.59204477e-03],\n",
       "       [ 1.18326899e-02],\n",
       "       [ 1.15921851e-02],\n",
       "       [ 1.53807197e-02],\n",
       "       [ 1.73800066e-02],\n",
       "       [ 2.16179080e-02],\n",
       "       [ 2.35921182e-02],\n",
       "       [ 1.68981701e-02],\n",
       "       [ 1.13630760e-02],\n",
       "       [-7.42178550e-03],\n",
       "       [ 7.24454527e-04],\n",
       "       [-4.59932489e-03],\n",
       "       [-1.89422257e-03],\n",
       "       [ 2.97250063e-03],\n",
       "       [-4.61970223e-04],\n",
       "       [ 2.31695152e-03],\n",
       "       [ 4.27792594e-03],\n",
       "       [ 4.09365352e-03],\n",
       "       [ 7.18883006e-03],\n",
       "       [ 1.13941985e-03],\n",
       "       [ 3.77650140e-03],\n",
       "       [ 4.21169493e-03],\n",
       "       [ 6.51609851e-03],\n",
       "       [ 7.69859552e-03],\n",
       "       [ 8.17518122e-03],\n",
       "       [ 6.53614150e-03],\n",
       "       [ 6.70147641e-03],\n",
       "       [-2.82727065e-04],\n",
       "       [ 1.10153458e-03],\n",
       "       [-4.09206375e-04],\n",
       "       [ 2.66902964e-03],\n",
       "       [ 9.70902620e-04],\n",
       "       [ 2.26767687e-03],\n",
       "       [ 3.43483710e-03],\n",
       "       [ 2.80894875e-03],\n",
       "       [ 1.08113361e-03],\n",
       "       [ 2.02661450e-03],\n",
       "       [ 1.73642999e-03],\n",
       "       [ 1.84983911e-03],\n",
       "       [ 2.21954565e-03],\n",
       "       [ 4.07130457e-03],\n",
       "       [ 5.02191763e-03],\n",
       "       [ 6.87145395e-03],\n",
       "       [ 1.02398861e-02],\n",
       "       [ 8.71012174e-03],\n",
       "       [ 8.13119113e-03],\n",
       "       [ 8.58054403e-03],\n",
       "       [ 1.06479432e-02],\n",
       "       [ 6.94291992e-03],\n",
       "       [ 9.29833390e-03],\n",
       "       [ 7.17580644e-03],\n",
       "       [ 8.40165839e-03],\n",
       "       [ 1.19082015e-02],\n",
       "       [ 1.09082349e-02],\n",
       "       [ 1.10693369e-02],\n",
       "       [ 9.27631557e-03],\n",
       "       [ 1.30271725e-02],\n",
       "       [ 1.01906247e-02],\n",
       "       [ 7.88242463e-03],\n",
       "       [ 6.73202099e-03],\n",
       "       [ 3.20836296e-03],\n",
       "       [-1.49540976e-03],\n",
       "       [ 1.20501535e-03],\n",
       "       [ 1.05265575e-03],\n",
       "       [ 1.32202124e-03],\n",
       "       [ 3.38482670e-03],\n",
       "       [ 2.78957118e-03],\n",
       "       [ 5.73516078e-03],\n",
       "       [ 4.45772428e-03],\n",
       "       [-4.16025519e-04],\n",
       "       [ 2.42647901e-03],\n",
       "       [ 5.71103347e-03],\n",
       "       [ 5.18624764e-03],\n",
       "       [ 8.08046758e-03],\n",
       "       [ 8.39993916e-03],\n",
       "       [ 7.21119205e-03],\n",
       "       [ 5.62784029e-03],\n",
       "       [ 6.39535580e-03],\n",
       "       [ 4.54024225e-03],\n",
       "       [ 3.34157003e-03],\n",
       "       [ 3.75453196e-03],\n",
       "       [ 3.68124084e-03],\n",
       "       [ 6.73522823e-04],\n",
       "       [ 3.89449578e-03],\n",
       "       [ 1.40684308e-03],\n",
       "       [ 1.95832131e-03],\n",
       "       [ 1.90660823e-03],\n",
       "       [ 3.28433234e-05],\n",
       "       [-2.06107483e-03],\n",
       "       [-1.99656421e-03],\n",
       "       [-6.16703415e-03],\n",
       "       [-3.86761781e-03],\n",
       "       [-5.38846524e-03],\n",
       "       [-9.88748297e-03],\n",
       "       [-1.00043453e-02],\n",
       "       [-1.20550841e-02],\n",
       "       [-1.03566423e-02],\n",
       "       [-1.12695638e-02],\n",
       "       [ 2.10121833e-03],\n",
       "       [-3.23397573e-03],\n",
       "       [ 3.12337303e-03],\n",
       "       [ 6.41529122e-03],\n",
       "       [ 1.16247777e-02],\n",
       "       [ 3.01184948e-03],\n",
       "       [ 3.62387020e-03],\n",
       "       [ 6.87552849e-04],\n",
       "       [ 2.24251463e-03],\n",
       "       [ 6.52043056e-03],\n",
       "       [ 9.84172709e-03],\n",
       "       [ 8.09219852e-03],\n",
       "       [ 5.35299117e-03],\n",
       "       [ 4.39932942e-03],\n",
       "       [ 5.25939395e-04],\n",
       "       [-2.29367567e-03],\n",
       "       [ 2.67423573e-04],\n",
       "       [ 7.76264351e-05],\n",
       "       [-4.71353065e-04],\n",
       "       [ 2.74963351e-03],\n",
       "       [ 3.03467340e-03],\n",
       "       [ 8.11869861e-04]], dtype=float32)"
      ]
     },
     "metadata": {},
     "execution_count": 241
    }
   ],
   "source": [
    "prediction_prices"
   ]
  },
  {
   "cell_type": "code",
   "execution_count": 240,
   "metadata": {},
   "outputs": [
    {
     "output_type": "execute_result",
     "data": {
      "text/plain": [
       "array([-4.38548902e-02, -2.94990068e-03,  2.24760619e-02,  1.75772728e-02,\n",
       "       -9.18583934e-03,  2.32756165e-02,  2.45695313e-02, -3.16227350e-03,\n",
       "       -2.53107141e-02, -1.81702641e-03, -4.23771813e-02,  2.41697923e-02,\n",
       "       -4.47639734e-04,  1.11984372e-02, -2.68262373e-03,  7.40519268e-04,\n",
       "       -7.35164711e-03,  1.62013123e-02,  3.04372793e-03,  1.90345636e-02,\n",
       "       -4.84087657e-03,  6.65461616e-02, -4.66425080e-03,  9.97487122e-03,\n",
       "        2.95818689e-02,  8.39145042e-02,  3.02135961e-02, -2.54709518e-02,\n",
       "        6.59104104e-02,  1.30844010e-01,  8.00458268e-02, -1.81243996e-02,\n",
       "        4.16169854e-02, -1.12296382e-02,  9.57147320e-03, -2.24014069e-02,\n",
       "        1.63520875e-03,  1.02482179e-01,  7.54920111e-02,  2.29836399e-01,\n",
       "       -1.13781701e-01,  6.00729626e-02, -4.08947442e-02, -6.37385258e-02,\n",
       "        4.18461678e-02, -3.64431879e-02, -2.32767791e-02,  6.93634578e-03,\n",
       "       -3.13254758e-02,  8.45712129e-02, -2.65630648e-02,  2.83528073e-03,\n",
       "       -2.05575645e-02, -6.80032016e-03,  5.64239040e-04,  2.51474015e-02,\n",
       "        2.52081858e-04,  8.67661859e-02, -2.13925249e-02,  1.59234339e-02,\n",
       "       -4.09978185e-02,  1.99870304e-02, -1.84236555e-02, -1.66880070e-02,\n",
       "        5.82699835e-03,  1.93410969e-02, -1.33185474e-02,  3.88670483e-03,\n",
       "        1.12390314e-03,  2.36981019e-04, -1.49886708e-02, -3.57435051e-04,\n",
       "       -1.00314257e-02, -2.68256603e-02,  3.58621450e-02,  2.31992146e-02,\n",
       "        9.75406610e-03, -9.61052254e-03,  6.32945472e-02, -1.32573688e-02,\n",
       "        4.52225384e-02,  4.88887834e-03, -2.08275854e-02,  3.66969873e-02,\n",
       "        1.95002506e-02,  4.03619721e-02, -3.23052606e-02,  4.75802142e-02,\n",
       "        3.50530981e-02,  1.81879983e-02,  4.60208673e-02,  5.67475611e-02,\n",
       "       -3.71895986e-02,  4.19609616e-06, -5.53482471e-03, -2.67478301e-02,\n",
       "        8.59362926e-03, -3.41752734e-02,  2.11952949e-02,  6.52883545e-02,\n",
       "       -3.14482588e-02, -3.30497070e-02,  1.72905173e-02, -2.56072354e-02,\n",
       "        7.51268432e-03,  2.46531952e-02,  2.66971115e-02, -4.48307980e-03,\n",
       "        2.77139192e-02,  1.73018719e-02, -3.30646018e-03,  1.92670978e-03,\n",
       "        3.58827791e-02, -4.35601167e-02,  2.78393055e-02, -1.24268329e-02,\n",
       "       -6.01958727e-03,  1.47238425e-02,  1.07076186e-02, -2.07363641e-02,\n",
       "        2.73134711e-02, -5.80709464e-02, -1.25476141e-02,  2.34432398e-02,\n",
       "       -2.98691532e-02, -1.63440677e-04, -4.11373591e-02, -3.35696749e-03,\n",
       "       -1.75650441e-01,  6.48368292e-02, -8.14569881e-02, -3.72094269e-02,\n",
       "       -5.65367186e-02,  1.18342654e-01, -1.50637118e-03,  4.29147368e-02,\n",
       "       -1.41756450e-02, -4.70855407e-02, -3.39817751e-02,  2.85556907e-02,\n",
       "        3.64773348e-02,  1.02537485e-02,  4.37675189e-02,  2.78204331e-02,\n",
       "       -3.86331892e-02, -1.07039030e-03,  3.75276818e-03, -4.22525839e-02,\n",
       "       -4.04048081e-03,  2.58763353e-02, -2.81126506e-02, -7.77577803e-03,\n",
       "       -2.76148228e-03,  2.80190818e-02,  2.53192775e-03,  5.58514981e-03,\n",
       "       -3.19961963e-02,  7.08156069e-03, -2.00683143e-02, -1.41664217e-03,\n",
       "       -2.16578085e-02])"
      ]
     },
     "metadata": {},
     "execution_count": 240
    }
   ],
   "source": [
    "y_train"
   ]
  },
  {
   "cell_type": "code",
   "execution_count": null,
   "metadata": {},
   "outputs": [],
   "source": []
  }
 ],
 "metadata": {
  "kernelspec": {
   "name": "python3",
   "display_name": "Python 3.8.5 64-bit"
  },
  "language_info": {
   "codemirror_mode": {
    "name": "ipython",
    "version": 3
   },
   "file_extension": ".py",
   "mimetype": "text/x-python",
   "name": "python",
   "nbconvert_exporter": "python",
   "pygments_lexer": "ipython3",
   "version": "3.8.5"
  },
  "interpreter": {
   "hash": "916dbcbb3f70747c44a77c7bcd40155683ae19c65e1c03b4aa3499c5328201f1"
  }
 },
 "nbformat": 4,
 "nbformat_minor": 5
}