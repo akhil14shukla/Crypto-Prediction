{
 "metadata": {
  "language_info": {
   "codemirror_mode": {
    "name": "ipython",
    "version": 3
   },
   "file_extension": ".py",
   "mimetype": "text/x-python",
   "name": "python",
   "nbconvert_exporter": "python",
   "pygments_lexer": "ipython3",
   "version": "3.8.5"
  },
  "orig_nbformat": 4,
  "kernelspec": {
   "name": "python3",
   "display_name": "Python 3.8.5 64-bit"
  },
  "interpreter": {
   "hash": "916dbcbb3f70747c44a77c7bcd40155683ae19c65e1c03b4aa3499c5328201f1"
  }
 },
 "nbformat": 4,
 "nbformat_minor": 2,
 "cells": [
  {
   "cell_type": "code",
   "execution_count": 21,
   "metadata": {},
   "outputs": [],
   "source": [
    "import tweepy\n",
    "import os\n",
    "from google.cloud import language_v1\n",
    "import csv\n",
    "import pandas as pd"
   ]
  },
  {
   "cell_type": "code",
   "execution_count": 113,
   "metadata": {},
   "outputs": [],
   "source": [
    "consumer_key = ''\n",
    "consumer_secret = ''\n",
    "access_token = '-'\n",
    "access_token_secret = ''\n",
    "\n",
    "tweetsPerQry = 100\n",
    "maxTweets = 100\n",
    "hashtag = \"#Binance\"\n",
    "\n",
    "authentication = tweepy.OAuthHandler(consumer_key, consumer_secret)\n",
    "authentication.set_access_token(access_token, access_token_secret)\n",
    "api = tweepy.API(authentication)"
   ]
  },
  {
   "cell_type": "code",
   "execution_count": 127,
   "metadata": {
    "tags": [
     "outputPrepend"
    ]
   },
   "outputs": [
    {
     "output_type": "stream",
     "name": "stdout",
     "text": [
      "'id': , 'id_str': '', 'indices': [152, 175], 'media_url': 'http://pbs.twimg.com/media/E4JH9E2VUAA3sVq.png', 'media_url_https': 'https://pbs.twimg.com/media/E4JH9E2VUAA3sVq.png', 'url': 'https://t.co/3JScUB69zg', 'display_url': 'pic.twitter.com/3JScUB69zg', 'expanded_url': 'https://twitter.com/coinhippoHQ/status/1405765151475658755/photo/1', 'type': 'photo', 'sizes': {'large': {'w': 400, 'h': 348, 'resize': 'fit'}, 'medium': {'w': 400, 'h': 348, 'resize': 'fit'}, 'small': {'w': 400, 'h': 348, 'resize': 'fit'}, 'thumb': {'w': 150, 'h': 150, 'resize': 'crop'}}}]}, extended_entities={'media': [{'id': 1405765148292239360, 'id_str': '1405765148292239360', 'indices': [152, 175], 'media_url': 'http://pbs.twimg.com/media/E4JH9E2VUAA3sVq.png', 'media_url_https': 'https://pbs.twimg.com/media/E4JH9E2VUAA3sVq.png', 'url': 'https://t.co/3JScUB69zg', 'display_url': 'pic.twitter.com/3JScUB69zg', 'expanded_url': 'https://twitter.com/coinhippoHQ/status/1405765151475658755/photo/1', 'type': 'photo', 'sizes': {'large': {'w': 400, 'h': 348, 'resize': 'fit'}, 'medium': {'w': 400, 'h': 348, 'resize': 'fit'}, 'small': {'w': 400, 'h': 348, 'resize': 'fit'}, 'thumb': {'w': 150, 'h': 150, 'resize': 'crop'}}}]}, metadata={'iso_language_code': 'en', 'result_type': 'recent'}, source='CoinHippo tweets', source_url='https://help.twitter.com/en/using-twitter/how-to-tweet#source-labels', in_reply_to_status_id=None, in_reply_to_status_id_str=None, in_reply_to_user_id=None, in_reply_to_user_id_str=None, in_reply_to_screen_name=None, author=User(_api=<tweepy.api.API object at 0x7fbb5adddd60>, _json={'id': 1364844086352486404, 'id_str': '1364844086352486404', 'name': 'CoinHippo', 'screen_name': 'coinhippoHQ', 'location': '', 'description': 'Crypto updates & analysis\\n#Bitcoin #Altcoins #DeFi #NFT #Blockchain \\n\\nTelegram: https://t.co/D0cDAJLvwv', 'url': 'https://t.co/6DVNmMDodQ', 'entities': {'url': {'urls': [{'url': 'https://t.co/6DVNmMDodQ', 'expanded_url': 'https://coinhippo.io', 'display_url': 'coinhippo.io', 'indices': [0, 23]}]}, 'description': {'urls': [{'url': 'https://t.co/D0cDAJLvwv', 'expanded_url': 'https://t.me/CoinHippoChannel', 'display_url': 't.me/CoinHippoChann…', 'indices': [80, 103]}]}}, 'protected': False, 'followers_count': 752, 'friends_count': 501, 'listed_count': 7, 'created_at': 'Thu Feb 25 07:46:12 +0000 2021', 'favourites_count': 1060, 'utc_offset': None, 'time_zone': None, 'geo_enabled': False, 'verified': False, 'statuses_count': 3230, 'lang': None, 'contributors_enabled': False, 'is_translator': False, 'is_translation_enabled': False, 'profile_background_color': 'F5F8FA', 'profile_background_image_url': None, 'profile_background_image_url_https': None, 'profile_background_tile': False, 'profile_image_url': 'http://pbs.twimg.com/profile_images/1395829742100631553/W8s2nfIe_normal.jpg', 'profile_image_url_https': 'https://pbs.twimg.com/profile_images/1395829742100631553/W8s2nfIe_normal.jpg', 'profile_banner_url': 'https://pbs.twimg.com/profile_banners/1364844086352486404/1614246078', 'profile_link_color': '1DA1F2', 'profile_sidebar_border_color': 'C0DEED', 'profile_sidebar_fill_color': 'DDEEF6', 'profile_text_color': '333333', 'profile_use_background_image': True, 'has_extended_profile': True, 'default_profile': True, 'default_profile_image': False, 'following': False, 'follow_request_sent': False, 'notifications': False, 'translator_type': 'none', 'withheld_in_countries': []}, id=1364844086352486404, id_str='1364844086352486404', name='CoinHippo', screen_name='coinhippoHQ', location='', description='Crypto updates & analysis\\n#Bitcoin #Altcoins #DeFi #NFT #Blockchain \\n\\nTelegram: https://t.co/D0cDAJLvwv', url='https://t.co/6DVNmMDodQ', entities={'url': {'urls': [{'url': 'https://t.co/6DVNmMDodQ', 'expanded_url': 'https://coinhippo.io', 'display_url': 'coinhippo.io', 'indices': [0, 23]}]}, 'description': {'urls': [{'url': 'https://t.co/D0cDAJLvwv', 'expanded_url': 'https://t.me/CoinHippoChannel', 'display_url': 't.me/CoinHippoChann…', 'indices': [80, 103]}]}}, protected=False, followers_count=752, friends_count=501, listed_count=7, created_at=datetime.datetime(2021, 2, 25, 7, 46, 12), favourites_count=1060, utc_offset=None, time_zone=None, geo_enabled=False, verified=False, statuses_count=3230, lang=None, contributors_enabled=False, is_translator=False, is_translation_enabled=False, profile_background_color='F5F8FA', profile_background_image_url=None, profile_background_image_url_https=None, profile_background_tile=False, profile_image_url='http://pbs.twimg.com/profile_images/1395829742100631553/W8s2nfIe_normal.jpg', profile_image_url_https='https://pbs.twimg.com/profile_images/1395829742100631553/W8s2nfIe_normal.jpg', profile_banner_url='https://pbs.twimg.com/profile_banners/1364844086352486404/1614246078', profile_link_color='1DA1F2', profile_sidebar_border_color='C0DEED', profile_sidebar_fill_color='DDEEF6', profile_text_color='333333', profile_use_background_image=True, has_extended_profile=True, default_profile=True, default_profile_image=False, following=False, follow_request_sent=False, notifications=False, translator_type='none', withheld_in_countries=[]), user=User(_api=<tweepy.api.API object at 0x7fbb5adddd60>, _json={'id': 1364844086352486404, 'id_str': '1364844086352486404', 'name': 'CoinHippo', 'screen_name': 'coinhippoHQ', 'location': '', 'description': 'Crypto updates & analysis\\n#Bitcoin #Altcoins #DeFi #NFT #Blockchain \\n\\nTelegram: https://t.co/D0cDAJLvwv', 'url': 'https://t.co/6DVNmMDodQ', 'entities': {'url': {'urls': [{'url': 'https://t.co/6DVNmMDodQ', 'expanded_url': 'https://coinhippo.io', 'display_url': 'coinhippo.io', 'indices': [0, 23]}]}, 'description': {'urls': [{'url': 'https://t.co/D0cDAJLvwv', 'expanded_url': 'https://t.me/CoinHippoChannel', 'display_url': 't.me/CoinHippoChann…', 'indices': [80, 103]}]}}, 'protected': False, 'followers_count': 752, 'friends_count': 501, 'listed_count': 7, 'created_at': 'Thu Feb 25 07:46:12 +0000 2021', 'favourites_count': 1060, 'utc_offset': None, 'time_zone': None, 'geo_enabled': False, 'verified': False, 'statuses_count': 3230, 'lang': None, 'contributors_enabled': False, 'is_translator': False, 'is_translation_enabled': False, 'profile_background_color': 'F5F8FA', 'profile_background_image_url': None, 'profile_background_image_url_https': None, 'profile_background_tile': False, 'profile_image_url': 'http://pbs.twimg.com/profile_images/1395829742100631553/W8s2nfIe_normal.jpg', 'profile_image_url_https': 'https://pbs.twimg.com/profile_images/1395829742100631553/W8s2nfIe_normal.jpg', 'profile_banner_url': 'https://pbs.twimg.com/profile_banners/1364844086352486404/1614246078', 'profile_link_color': '1DA1F2', 'profile_sidebar_border_color': 'C0DEED', 'profile_sidebar_fill_color': 'DDEEF6', 'profile_text_color': '333333', 'profile_use_background_image': True, 'has_extended_profile': True, 'default_profile': True, 'default_profile_image': False, 'following': False, 'follow_request_sent': False, 'notifications': False, 'translator_type': 'none', 'withheld_in_countries': []}, id=1364844086352486404, id_str='1364844086352486404', name='CoinHippo', screen_name='coinhippoHQ', location='', description='Crypto updates & analysis\\n#Bitcoin #Altcoins #DeFi #NFT #Blockchain \\n\\nTelegram: https://t.co/D0cDAJLvwv', url='https://t.co/6DVNmMDodQ', entities={'url': {'urls': [{'url': 'https://t.co/6DVNmMDodQ', 'expanded_url': 'https://coinhippo.io', 'display_url': 'coinhippo.io', 'indices': [0, 23]}]}, 'description': {'urls': [{'url': 'https://t.co/D0cDAJLvwv', 'expanded_url': 'https://t.me/CoinHippoChannel', 'display_url': 't.me/CoinHippoChann…', 'indices': [80, 103]}]}}, protected=False, followers_count=752, friends_count=501, listed_count=7, created_at=datetime.datetime(2021, 2, 25, 7, 46, 12), favourites_count=1060, utc_offset=None, time_zone=None, geo_enabled=False, verified=False, statuses_count=3230, lang=None, contributors_enabled=False, is_translator=False, is_translation_enabled=False, profile_background_color='F5F8FA', profile_background_image_url=None, profile_background_image_url_https=None, profile_background_tile=False, profile_image_url='http://pbs.twimg.com/profile_images/1395829742100631553/W8s2nfIe_normal.jpg', profile_image_url_https='https://pbs.twimg.com/profile_images/1395829742100631553/W8s2nfIe_normal.jpg', profile_banner_url='https://pbs.twimg.com/profile_banners/1364844086352486404/1614246078', profile_link_color='1DA1F2', profile_sidebar_border_color='C0DEED', profile_sidebar_fill_color='DDEEF6', profile_text_color='333333', profile_use_background_image=True, has_extended_profile=True, default_profile=True, default_profile_image=False, following=False, follow_request_sent=False, notifications=False, translator_type='none', withheld_in_countries=[]), geo=None, coordinates=None, place=None, contributors=None, is_quote_status=False, retweet_count=0, favorite_count=0, favorited=False, retweeted=False, possibly_sensitive=False, lang='en')\n",
      "b\"Recent whale's activity you should be notified.\\n-  Transfer: 30,005 $ETH ($70,850,180) Binance  Binance\\nhttps://t.co/K6TnQPE9if\\n\\n#Ethereum #Binance https://t.co/3JScUB69zg\"\n",
      "Status(_api=<tweepy.api.API object at 0x7fbb5adddd60>, _json={'created_at': 'Fri Jun 18 05:51:43 +0000 2021', 'id': 1405765148199899140, 'id_str': '1405765148199899140', 'full_text': '@LavaCakeFinance I have participated in following the guidelines and rules of this airdrop, I hope that many people will be lucky to get a prize from this airdrop.\\n\\n0x65e816347630Db71476E6bE4462d82c1BD933E0F\\n\\n@gustavrahman \\n@Fajar101015 \\n@soumassz\\n\\n@LavaCakeFinance \\n#BTC #Binance #BNB #BSC', 'truncated': False, 'display_text_range': [17, 290], 'entities': {'hashtags': [{'text': 'BTC', 'indices': [267, 271]}, {'text': 'Binance', 'indices': [272, 280]}, {'text': 'BNB', 'indices': [281, 285]}, {'text': 'BSC', 'indices': [286, 290]}], 'symbols': [], 'user_mentions': [{'screen_name': 'LavaCakeFinance', 'name': 'LavaCake Finance', 'id': 1397974458623688704, 'id_str': '1397974458623688704', 'indices': [0, 16]}, {'screen_name': 'gustavrahman', 'name': 'Gusdian Rahman', 'id': 100922036, 'id_str': '100922036', 'indices': [209, 222]}, {'screen_name': 'Fajar101015', 'name': 'Fajar', 'id': 1390732920692776960, 'id_str': '1390732920692776960', 'indices': [224, 236]}, {'screen_name': 'soumassz', 'name': 'Inisial S', 'id': 1326131038104424448, 'id_str': '1326131038104424448', 'indices': [238, 247]}, {'screen_name': 'LavaCakeFinance', 'name': 'LavaCake Finance', 'id': 1397974458623688704, 'id_str': '1397974458623688704', 'indices': [249, 265]}], 'urls': []}, 'metadata': {'iso_language_code': 'en', 'result_type': 'recent'}, 'source': '<a href=\"http://twitter.com/download/android\" rel=\"nofollow\">Twitter for Android</a>', 'in_reply_to_status_id': 1399927332601688071, 'in_reply_to_status_id_str': '1399927332601688071', 'in_reply_to_user_id': 1397974458623688704, 'in_reply_to_user_id_str': '1397974458623688704', 'in_reply_to_screen_name': 'LavaCakeFinance', 'user': {'id': 1193404477417484288, 'id_str': '1193404477417484288', 'name': 'Sutriana', 'screen_name': 'Sutriana33', 'location': '', 'description': '', 'url': None, 'entities': {'description': {'urls': []}}, 'protected': False, 'followers_count': 21, 'friends_count': 308, 'listed_count': 0, 'created_at': 'Sun Nov 10 05:46:23 +0000 2019', 'favourites_count': 399, 'utc_offset': None, 'time_zone': None, 'geo_enabled': False, 'verified': False, 'statuses_count': 807, 'lang': None, 'contributors_enabled': False, 'is_translator': False, 'is_translation_enabled': False, 'profile_background_color': 'F5F8FA', 'profile_background_image_url': None, 'profile_background_image_url_https': None, 'profile_background_tile': False, 'profile_image_url': 'http://abs.twimg.com/sticky/default_profile_images/default_profile_normal.png', 'profile_image_url_https': 'https://abs.twimg.com/sticky/default_profile_images/default_profile_normal.png', 'profile_link_color': '1DA1F2', 'profile_sidebar_border_color': 'C0DEED', 'profile_sidebar_fill_color': 'DDEEF6', 'profile_text_color': '333333', 'profile_use_background_image': True, 'has_extended_profile': False, 'default_profile': True, 'default_profile_image': True, 'following': False, 'follow_request_sent': False, 'notifications': False, 'translator_type': 'none', 'withheld_in_countries': []}, 'geo': None, 'coordinates': None, 'place': None, 'contributors': None, 'is_quote_status': False, 'retweet_count': 0, 'favorite_count': 0, 'favorited': False, 'retweeted': False, 'lang': 'en'}, created_at=datetime.datetime(2021, 6, 18, 5, 51, 43), id=1405765148199899140, id_str='1405765148199899140', full_text='@LavaCakeFinance I have participated in following the guidelines and rules of this airdrop, I hope that many people will be lucky to get a prize from this airdrop.\\n\\n0x65e816347630Db71476E6bE4462d82c1BD933E0F\\n\\n@gustavrahman \\n@Fajar101015 \\n@soumassz\\n\\n@LavaCakeFinance \\n#BTC #Binance #BNB #BSC', truncated=False, display_text_range=[17, 290], entities={'hashtags': [{'text': 'BTC', 'indices': [267, 271]}, {'text': 'Binance', 'indices': [272, 280]}, {'text': 'BNB', 'indices': [281, 285]}, {'text': 'BSC', 'indices': [286, 290]}], 'symbols': [], 'user_mentions': [{'screen_name': 'LavaCakeFinance', 'name': 'LavaCake Finance', 'id': 1397974458623688704, 'id_str': '1397974458623688704', 'indices': [0, 16]}, {'screen_name': 'gustavrahman', 'name': 'Gusdian Rahman', 'id': 100922036, 'id_str': '100922036', 'indices': [209, 222]}, {'screen_name': 'Fajar101015', 'name': 'Fajar', 'id': 1390732920692776960, 'id_str': '1390732920692776960', 'indices': [224, 236]}, {'screen_name': 'soumassz', 'name': 'Inisial S', 'id': 1326131038104424448, 'id_str': '1326131038104424448', 'indices': [238, 247]}, {'screen_name': 'LavaCakeFinance', 'name': 'LavaCake Finance', 'id': 1397974458623688704, 'id_str': '1397974458623688704', 'indices': [249, 265]}], 'urls': []}, metadata={'iso_language_code': 'en', 'result_type': 'recent'}, source='Twitter for Android', source_url='http://twitter.com/download/android', in_reply_to_status_id=1399927332601688071, in_reply_to_status_id_str='1399927332601688071', in_reply_to_user_id=1397974458623688704, in_reply_to_user_id_str='1397974458623688704', in_reply_to_screen_name='LavaCakeFinance', author=User(_api=<tweepy.api.API object at 0x7fbb5adddd60>, _json={'id': 1193404477417484288, 'id_str': '1193404477417484288', 'name': 'Sutriana', 'screen_name': 'Sutriana33', 'location': '', 'description': '', 'url': None, 'entities': {'description': {'urls': []}}, 'protected': False, 'followers_count': 21, 'friends_count': 308, 'listed_count': 0, 'created_at': 'Sun Nov 10 05:46:23 +0000 2019', 'favourites_count': 399, 'utc_offset': None, 'time_zone': None, 'geo_enabled': False, 'verified': False, 'statuses_count': 807, 'lang': None, 'contributors_enabled': False, 'is_translator': False, 'is_translation_enabled': False, 'profile_background_color': 'F5F8FA', 'profile_background_image_url': None, 'profile_background_image_url_https': None, 'profile_background_tile': False, 'profile_image_url': 'http://abs.twimg.com/sticky/default_profile_images/default_profile_normal.png', 'profile_image_url_https': 'https://abs.twimg.com/sticky/default_profile_images/default_profile_normal.png', 'profile_link_color': '1DA1F2', 'profile_sidebar_border_color': 'C0DEED', 'profile_sidebar_fill_color': 'DDEEF6', 'profile_text_color': '333333', 'profile_use_background_image': True, 'has_extended_profile': False, 'default_profile': True, 'default_profile_image': True, 'following': False, 'follow_request_sent': False, 'notifications': False, 'translator_type': 'none', 'withheld_in_countries': []}, id=1193404477417484288, id_str='1193404477417484288', name='Sutriana', screen_name='Sutriana33', location='', description='', url=None, entities={'description': {'urls': []}}, protected=False, followers_count=21, friends_count=308, listed_count=0, created_at=datetime.datetime(2019, 11, 10, 5, 46, 23), favourites_count=399, utc_offset=None, time_zone=None, geo_enabled=False, verified=False, statuses_count=807, lang=None, contributors_enabled=False, is_translator=False, is_translation_enabled=False, profile_background_color='F5F8FA', profile_background_image_url=None, profile_background_image_url_https=None, profile_background_tile=False, profile_image_url='http://abs.twimg.com/sticky/default_profile_images/default_profile_normal.png', profile_image_url_https='https://abs.twimg.com/sticky/default_profile_images/default_profile_normal.png', profile_link_color='1DA1F2', profile_sidebar_border_color='C0DEED', profile_sidebar_fill_color='DDEEF6', profile_text_color='333333', profile_use_background_image=True, has_extended_profile=False, default_profile=True, default_profile_image=True, following=False, follow_request_sent=False, notifications=False, translator_type='none', withheld_in_countries=[]), user=User(_api=<tweepy.api.API object at 0x7fbb5adddd60>, _json={'id': 1193404477417484288, 'id_str': '1193404477417484288', 'name': 'Sutriana', 'screen_name': 'Sutriana33', 'location': '', 'description': '', 'url': None, 'entities': {'description': {'urls': []}}, 'protected': False, 'followers_count': 21, 'friends_count': 308, 'listed_count': 0, 'created_at': 'Sun Nov 10 05:46:23 +0000 2019', 'favourites_count': 399, 'utc_offset': None, 'time_zone': None, 'geo_enabled': False, 'verified': False, 'statuses_count': 807, 'lang': None, 'contributors_enabled': False, 'is_translator': False, 'is_translation_enabled': False, 'profile_background_color': 'F5F8FA', 'profile_background_image_url': None, 'profile_background_image_url_https': None, 'profile_background_tile': False, 'profile_image_url': 'http://abs.twimg.com/sticky/default_profile_images/default_profile_normal.png', 'profile_image_url_https': 'https://abs.twimg.com/sticky/default_profile_images/default_profile_normal.png', 'profile_link_color': '1DA1F2', 'profile_sidebar_border_color': 'C0DEED', 'profile_sidebar_fill_color': 'DDEEF6', 'profile_text_color': '333333', 'profile_use_background_image': True, 'has_extended_profile': False, 'default_profile': True, 'default_profile_image': True, 'following': False, 'follow_request_sent': False, 'notifications': False, 'translator_type': 'none', 'withheld_in_countries': []}, id=1193404477417484288, id_str='1193404477417484288', name='Sutriana', screen_name='Sutriana33', location='', description='', url=None, entities={'description': {'urls': []}}, protected=False, followers_count=21, friends_count=308, listed_count=0, created_at=datetime.datetime(2019, 11, 10, 5, 46, 23), favourites_count=399, utc_offset=None, time_zone=None, geo_enabled=False, verified=False, statuses_count=807, lang=None, contributors_enabled=False, is_translator=False, is_translation_enabled=False, profile_background_color='F5F8FA', profile_background_image_url=None, profile_background_image_url_https=None, profile_background_tile=False, profile_image_url='http://abs.twimg.com/sticky/default_profile_images/default_profile_normal.png', profile_image_url_https='https://abs.twimg.com/sticky/default_profile_images/default_profile_normal.png', profile_link_color='1DA1F2', profile_sidebar_border_color='C0DEED', profile_sidebar_fill_color='DDEEF6', profile_text_color='333333', profile_use_background_image=True, has_extended_profile=False, default_profile=True, default_profile_image=True, following=False, follow_request_sent=False, notifications=False, translator_type='none', withheld_in_countries=[]), geo=None, coordinates=None, place=None, contributors=None, is_quote_status=False, retweet_count=0, favorite_count=0, favorited=False, retweeted=False, lang='en')\n",
      "b'@LavaCakeFinance I have participated in following the guidelines and rules of this airdrop, I hope that many people will be lucky to get a prize from this airdrop.\\n\\n0x65e816347630Db71476E6bE4462d82c1BD933E0F\\n\\n@gustavrahman \\n@Fajar101015 \\n@soumassz\\n\\n@LavaCakeFinance \\n#BTC #Binance #BNB #BSC'\n"
     ]
    }
   ],
   "source": [
    "import unicodedata\n",
    "maxId = -1\n",
    "tweetCount = 0\n",
    "listposts = []\n",
    "while tweetCount < maxTweets:\n",
    "    if(maxId <= 0):\n",
    "        newTweets = api.search(q=hashtag, count=tweetsPerQry, result_type=\"recent\", tweet_mode=\"extended\")\n",
    "    else:\n",
    "        newTweets = api.search(q=hashtag, count=tweetsPerQry, max_id=str(maxId - 1), result_type=\"recent\", tweet_mode=\"extended\")\n",
    "    \n",
    "    # if not newTweets:\n",
    "    #     print(\"Tweet Habis\")\n",
    "    #     break\n",
    "    for tweet in newTweets:\n",
    "        print(tweet)\n",
    "        d={}\n",
    "        d[\"text\"] =unicodedata.normalize('NFKD', tweet.full_text).encode('ascii','ignore')\n",
    "        # d[\"text\"] = tweet.full_text.encode('q')\n",
    "        print (d[\"text\"])\n",
    "        listposts.append(d)\n",
    "        \n",
    "    tweetCount += len(newTweets)    \n",
    "    maxId = newTweets[-1].id\n",
    "# print (listposts)"
   ]
  },
  {
   "cell_type": "code",
   "execution_count": 128,
   "metadata": {},
   "outputs": [],
   "source": [
    "df = pd.DataFrame(listposts)"
   ]
  },
  {
   "cell_type": "code",
   "execution_count": 129,
   "metadata": {},
   "outputs": [
    {
     "output_type": "execute_result",
     "data": {
      "text/plain": [
       "159"
      ]
     },
     "metadata": {},
     "execution_count": 129
    }
   ],
   "source": [
    "len(listposts)"
   ]
  },
  {
   "cell_type": "code",
   "execution_count": 130,
   "metadata": {},
   "outputs": [
    {
     "output_type": "stream",
     "name": "stderr",
     "text": [
      "[nltk_data] Downloading package words to /home/akhil/nltk_data...\n[nltk_data]   Package words is already up-to-date!\n"
     ]
    },
    {
     "output_type": "execute_result",
     "data": {
      "text/plain": [
       "True"
      ]
     },
     "metadata": {},
     "execution_count": 130
    }
   ],
   "source": [
    "import nltk\n",
    "nltk.download('words')"
   ]
  },
  {
   "cell_type": "code",
   "execution_count": 131,
   "metadata": {},
   "outputs": [],
   "source": [
    "import pandas as pd\n",
    "import re\n",
    "import emoji\n",
    "words = set(nltk.corpus.words.words())\n",
    "clean = []\n",
    "for tweet in df.text:\n",
    "    tweet = str(tweet)\n",
    "    tweet = re.sub(\"@[A-Za-z0-9]+\",\"\",tweet) #Remove @ sign\n",
    "    tweet = re.sub(r\"(?:\\@|http?\\://|https?\\://|www)\\S+\", \"\", tweet) #Remove http links\n",
    "    tweet = \" \".join(tweet.split())\n",
    "    tweet = ''.join(c for c in tweet if c not in emoji.UNICODE_EMOJI) #Remove Emojis\n",
    "    tweet = tweet.replace(\"#\", \"\").replace(\"_\", \" \") #Remove hashtag sign but keep the text\n",
    "    tweet = \" \".join(w for w in nltk.wordpunct_tokenize(tweet) \\\n",
    "         if w.lower() in words or not w.isalpha())\n",
    "    clean.append(tweet)\n",
    "df.text = clean\n",
    "# trump_df.to_csv('') #specify location"
   ]
  },
  {
   "cell_type": "code",
   "execution_count": 132,
   "metadata": {},
   "outputs": [],
   "source": [
    "# write the csv\n",
    "with open('tweets.csv', 'w') as f:\n",
    "    writer = csv.writer(f)\n",
    "    writer.writerow([\"id\", \"created_at\", \"text\"])\n",
    "    writer.writerows(listposts)"
   ]
  },
  {
   "cell_type": "code",
   "execution_count": 133,
   "metadata": {},
   "outputs": [],
   "source": [
    "df.to_excel('tweets_2.xlsx', header=True, index=False)"
   ]
  },
  {
   "cell_type": "code",
   "execution_count": null,
   "metadata": {},
   "outputs": [],
   "source": []
  },
  {
   "cell_type": "code",
   "execution_count": 140,
   "metadata": {},
   "outputs": [],
   "source": [
    "# Setting variables to be used in format string command below\n",
    "import  os\n",
    "import pandas as pd\n",
    "tweet_count = 500\n",
    "text_query = [\"Binance high\", \"BNB low\", \"BNB high\", \"Binance low\"]\n",
    "since_date = \"2020-10-01\"\n",
    "until_date = \"2021-05-31\"\n",
    "\n",
    "# Using OS library to call CLI commands in Python\n",
    "os.system('snscrape --jsonl --max-results {} --since {} twitter-search \"{} until:{}\"> text-query-tweets.json'.format(tweet_count, since_date, text_query, until_date))\n",
    "# Reads the json generated from the CLI command above and creates a pandas dataframe\n",
    "tweets_df2 = pd.read_json('text-query-tweets.json', lines=True)\n",
    "\n",
    "# Displays first 5 entries from dataframe\n",
    "tweets_df2.head()\n",
    "# Export dataframe into a CSV\n",
    "tweets_df2.to_csv('text-query-tweets.csv', sep=',', index=False)"
   ]
  },
  {
   "cell_type": "code",
   "execution_count": null,
   "metadata": {},
   "outputs": [],
   "source": []
  }
 ]
}
